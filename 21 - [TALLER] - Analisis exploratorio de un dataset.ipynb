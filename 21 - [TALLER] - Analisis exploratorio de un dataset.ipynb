{
 "cells": [
  {
   "cell_type": "code",
   "execution_count": 9,
   "source": [
    "#!wget --no-cache -O init.py -q https://raw.githubusercontent.com/UDEA-Esp-Analitica-y-Ciencia-de-Datos/EACD-01-FUNDAMENTOS/master/init.py\r\n",
    "#import init; init.init(force_download=False); "
   ],
   "outputs": [
    {
     "output_type": "error",
     "ename": "ModuleNotFoundError",
     "evalue": "No module named 'requests'",
     "traceback": [
      "\u001b[1;31m---------------------------------------------------------------------------\u001b[0m",
      "\u001b[1;31mModuleNotFoundError\u001b[0m                       Traceback (most recent call last)",
      "\u001b[1;32m<ipython-input-9-cb61541933c8>\u001b[0m in \u001b[0;36m<module>\u001b[1;34m\u001b[0m\n\u001b[0;32m      1\u001b[0m \u001b[1;31m#!wget --no-cache -O init.py -q https://raw.githubusercontent.com/UDEA-Esp-Analitica-y-Ciencia-de-Datos/EACD-01-FUNDAMENTOS/master/init.py\u001b[0m\u001b[1;33m\u001b[0m\u001b[1;33m\u001b[0m\u001b[1;33m\u001b[0m\u001b[0m\n\u001b[1;32m----> 2\u001b[1;33m \u001b[1;32mimport\u001b[0m \u001b[0minit\u001b[0m\u001b[1;33m;\u001b[0m \u001b[0minit\u001b[0m\u001b[1;33m.\u001b[0m\u001b[0minit\u001b[0m\u001b[1;33m(\u001b[0m\u001b[0mforce_download\u001b[0m\u001b[1;33m=\u001b[0m\u001b[1;32mFalse\u001b[0m\u001b[1;33m)\u001b[0m\u001b[1;33m;\u001b[0m\u001b[1;33m\u001b[0m\u001b[1;33m\u001b[0m\u001b[0m\n\u001b[0m",
      "\u001b[1;32md:\\Especializacion\\Tarea_Exploratorio\\init.py\u001b[0m in \u001b[0;36m<module>\u001b[1;34m\u001b[0m\n\u001b[0;32m     14\u001b[0m         \u001b[1;32mreturn\u001b[0m \u001b[1;32mNone\u001b[0m\u001b[1;33m\u001b[0m\u001b[1;33m\u001b[0m\u001b[0m\n\u001b[0;32m     15\u001b[0m \u001b[1;33m\u001b[0m\u001b[0m\n\u001b[1;32m---> 16\u001b[1;33m \u001b[1;32mimport\u001b[0m \u001b[0mrequests\u001b[0m\u001b[1;33m,\u001b[0m \u001b[0mzipfile\u001b[0m\u001b[1;33m,\u001b[0m \u001b[0mio\u001b[0m\u001b[1;33m,\u001b[0m \u001b[0mos\u001b[0m\u001b[1;33m,\u001b[0m \u001b[0mshutil\u001b[0m\u001b[1;33m\u001b[0m\u001b[1;33m\u001b[0m\u001b[0m\n\u001b[0m\u001b[0;32m     17\u001b[0m \u001b[1;32mdef\u001b[0m \u001b[0minit\u001b[0m\u001b[1;33m(\u001b[0m\u001b[0mforce_download\u001b[0m\u001b[1;33m=\u001b[0m\u001b[1;32mFalse\u001b[0m\u001b[1;33m)\u001b[0m\u001b[1;33m:\u001b[0m\u001b[1;33m\u001b[0m\u001b[1;33m\u001b[0m\u001b[0m\n\u001b[0;32m     18\u001b[0m     \u001b[1;32mif\u001b[0m \u001b[0mforce_download\u001b[0m \u001b[1;32mor\u001b[0m \u001b[1;32mnot\u001b[0m \u001b[0mos\u001b[0m\u001b[1;33m.\u001b[0m\u001b[0mpath\u001b[0m\u001b[1;33m.\u001b[0m\u001b[0mexists\u001b[0m\u001b[1;33m(\u001b[0m\u001b[1;34m\"local\"\u001b[0m\u001b[1;33m)\u001b[0m\u001b[1;33m:\u001b[0m\u001b[1;33m\u001b[0m\u001b[1;33m\u001b[0m\u001b[0m\n",
      "\u001b[1;31mModuleNotFoundError\u001b[0m: No module named 'requests'"
     ]
    }
   ],
   "metadata": {}
  },
  {
   "cell_type": "markdown",
   "source": [
    "# Precios de Casas\n",
    "\n",
    "El objetivo de este taller es realizar un análisis exploratorio de un dataset. El dataset no llega limpio, el proceso de limpieza se encuentra implementado. Después de este proceso de limpieza se debe llevar a cabo el análisis exploratorio."
   ],
   "metadata": {
    "colab_type": "text",
    "id": "P80RO34bKbXv"
   }
  },
  {
   "cell_type": "code",
   "execution_count": 1,
   "source": [
    "from collections import Counter, defaultdict\r\n",
    "\r\n",
    "import numpy as np\r\n",
    "import pandas as pd\r\n",
    "import matplotlib.pyplot as plt"
   ],
   "outputs": [],
   "metadata": {
    "colab": {
     "base_uri": "https://localhost:8080/",
     "height": 122
    },
    "colab_type": "code",
    "id": "YhtRl2YjNLdO",
    "outputId": "695c89c0-faf1-433d-a15e-e7e2f2460b8a"
   }
  },
  {
   "cell_type": "markdown",
   "source": [
    "## Entendiendo y limpiando el dataset"
   ],
   "metadata": {
    "colab_type": "text",
    "id": "u9IWXk8a9kPm"
   }
  },
  {
   "cell_type": "code",
   "execution_count": null,
   "source": [],
   "outputs": [],
   "metadata": {}
  },
  {
   "cell_type": "markdown",
   "source": [
    "La descripcion de cada variable puede verse ejecutando la siguiente celda"
   ],
   "metadata": {
    "colab_type": "text",
    "id": "fb20wBwEMtyz"
   }
  },
  {
   "cell_type": "code",
   "execution_count": 4,
   "source": [
    "!cat local/data/houseprices_description.txt"
   ],
   "outputs": [
    {
     "output_type": "stream",
     "name": "stdout",
     "text": [
      "MSSubClass: Identifies the type of dwelling involved in the sale.\t\r\n",
      "\r\n",
      "        20\t1-STORY 1946 & NEWER ALL STYLES\r\n",
      "        30\t1-STORY 1945 & OLDER\r\n",
      "        40\t1-STORY W/FINISHED ATTIC ALL AGES\r\n",
      "        45\t1-1/2 STORY - UNFINISHED ALL AGES\r\n",
      "        50\t1-1/2 STORY FINISHED ALL AGES\r\n",
      "        60\t2-STORY 1946 & NEWER\r\n",
      "        70\t2-STORY 1945 & OLDER\r\n",
      "        75\t2-1/2 STORY ALL AGES\r\n",
      "        80\tSPLIT OR MULTI-LEVEL\r\n",
      "        85\tSPLIT FOYER\r\n",
      "        90\tDUPLEX - ALL STYLES AND AGES\r\n",
      "       120\t1-STORY PUD (Planned Unit Development) - 1946 & NEWER\r\n",
      "       150\t1-1/2 STORY PUD - ALL AGES\r\n",
      "       160\t2-STORY PUD - 1946 & NEWER\r\n",
      "       180\tPUD - MULTILEVEL - INCL SPLIT LEV/FOYER\r\n",
      "       190\t2 FAMILY CONVERSION - ALL STYLES AND AGES\r\n",
      "\r\n",
      "MSZoning: Identifies the general zoning classification of the sale.\r\n",
      "\t\t\r\n",
      "       A\tAgriculture\r\n",
      "       C\tCommercial\r\n",
      "       FV\tFloating Village Residential\r\n",
      "       I\tIndustrial\r\n",
      "       RH\tResidential High Density\r\n",
      "       RL\tResidential Low Density\r\n",
      "       RP\tResidential Low Density Park \r\n",
      "       RM\tResidential Medium Density\r\n",
      "\t\r\n",
      "LotFrontage: Linear feet of street connected to property\r\n",
      "\r\n",
      "LotArea: Lot size in square feet\r\n",
      "\r\n",
      "Street: Type of road access to property\r\n",
      "\r\n",
      "       Grvl\tGravel\t\r\n",
      "       Pave\tPaved\r\n",
      "       \t\r\n",
      "Alley: Type of alley access to property\r\n",
      "\r\n",
      "       Grvl\tGravel\r\n",
      "       Pave\tPaved\r\n",
      "       NA \tNo alley access\r\n",
      "\t\t\r\n",
      "LotShape: General shape of property\r\n",
      "\r\n",
      "       Reg\tRegular\t\r\n",
      "       IR1\tSlightly irregular\r\n",
      "       IR2\tModerately Irregular\r\n",
      "       IR3\tIrregular\r\n",
      "       \r\n",
      "LandContour: Flatness of the property\r\n",
      "\r\n",
      "       Lvl\tNear Flat/Level\t\r\n",
      "       Bnk\tBanked - Quick and significant rise from street grade to building\r\n",
      "       HLS\tHillside - Significant slope from side to side\r\n",
      "       Low\tDepression\r\n",
      "\t\t\r\n",
      "Utilities: Type of utilities available\r\n",
      "\t\t\r\n",
      "       AllPub\tAll public Utilities (E,G,W,& S)\t\r\n",
      "       NoSewr\tElectricity, Gas, and Water (Septic Tank)\r\n",
      "       NoSeWa\tElectricity and Gas Only\r\n",
      "       ELO\tElectricity only\t\r\n",
      "\t\r\n",
      "LotConfig: Lot configuration\r\n",
      "\r\n",
      "       Inside\tInside lot\r\n",
      "       Corner\tCorner lot\r\n",
      "       CulDSac\tCul-de-sac\r\n",
      "       FR2\tFrontage on 2 sides of property\r\n",
      "       FR3\tFrontage on 3 sides of property\r\n",
      "\t\r\n",
      "LandSlope: Slope of property\r\n",
      "\t\t\r\n",
      "       Gtl\tGentle slope\r\n",
      "       Mod\tModerate Slope\t\r\n",
      "       Sev\tSevere Slope\r\n",
      "\t\r\n",
      "Neighborhood: Physical locations within Ames city limits\r\n",
      "\r\n",
      "       Blmngtn\tBloomington Heights\r\n",
      "       Blueste\tBluestem\r\n",
      "       BrDale\tBriardale\r\n",
      "       BrkSide\tBrookside\r\n",
      "       ClearCr\tClear Creek\r\n",
      "       CollgCr\tCollege Creek\r\n",
      "       Crawfor\tCrawford\r\n",
      "       Edwards\tEdwards\r\n",
      "       Gilbert\tGilbert\r\n",
      "       IDOTRR\tIowa DOT and Rail Road\r\n",
      "       MeadowV\tMeadow Village\r\n",
      "       Mitchel\tMitchell\r\n",
      "       Names\tNorth Ames\r\n",
      "       NoRidge\tNorthridge\r\n",
      "       NPkVill\tNorthpark Villa\r\n",
      "       NridgHt\tNorthridge Heights\r\n",
      "       NWAmes\tNorthwest Ames\r\n",
      "       OldTown\tOld Town\r\n",
      "       SWISU\tSouth & West of Iowa State University\r\n",
      "       Sawyer\tSawyer\r\n",
      "       SawyerW\tSawyer West\r\n",
      "       Somerst\tSomerset\r\n",
      "       StoneBr\tStone Brook\r\n",
      "       Timber\tTimberland\r\n",
      "       Veenker\tVeenker\r\n",
      "\t\t\t\r\n",
      "\r\n",
      "Condition1: Proximity to various conditions\r\n",
      "\t\r\n",
      "       Artery\tAdjacent to arterial street\r\n",
      "       Feedr\tAdjacent to feeder street\t\r\n",
      "       Norm\tNormal\t\r\n",
      "       RRNn\tWithin 200' of North-South Railroad\r\n",
      "       RRAn\tAdjacent to North-South Railroad\r\n",
      "       PosN\tNear positive off-site feature--park, greenbelt, etc.\r\n",
      "       PosA\tAdjacent to postive off-site feature\r\n",
      "       RRNe\tWithin 200' of East-West Railroad\r\n",
      "       RRAe\tAdjacent to East-West Railroad\r\n",
      "\t\r\n",
      "Condition2: Proximity to various conditions (if more than one is present)\r\n",
      "\t\t\r\n",
      "       Artery\tAdjacent to arterial street\r\n",
      "       Feedr\tAdjacent to feeder street\t\r\n",
      "       Norm\tNormal\t\r\n",
      "       RRNn\tWithin 200' of North-South Railroad\r\n",
      "       RRAn\tAdjacent to North-South Railroad\r\n",
      "       PosN\tNear positive off-site feature--park, greenbelt, etc.\r\n",
      "       PosA\tAdjacent to postive off-site feature\r\n",
      "       RRNe\tWithin 200' of East-West Railroad\r\n",
      "       RRAe\tAdjacent to East-West Railroad\r\n",
      "\t\r\n",
      "BldgType: Type of dwelling\r\n",
      "\t\t\r\n",
      "       1Fam\tSingle-family Detached\t\r\n",
      "       2FmCon\tTwo-family Conversion; originally built as one-family dwelling\r\n",
      "       Duplx\tDuplex\r\n",
      "       TwnhsE\tTownhouse End Unit\r\n",
      "       TwnhsI\tTownhouse Inside Unit\r\n",
      "\t\r\n",
      "HouseStyle: Style of dwelling\r\n",
      "\t\r\n",
      "       1Story\tOne story\r\n",
      "       1.5Fin\tOne and one-half story: 2nd level finished\r\n",
      "       1.5Unf\tOne and one-half story: 2nd level unfinished\r\n",
      "       2Story\tTwo story\r\n",
      "       2.5Fin\tTwo and one-half story: 2nd level finished\r\n",
      "       2.5Unf\tTwo and one-half story: 2nd level unfinished\r\n",
      "       SFoyer\tSplit Foyer\r\n",
      "       SLvl\tSplit Level\r\n",
      "\t\r\n",
      "OverallQual: Rates the overall material and finish of the house\r\n",
      "\r\n",
      "       10\tVery Excellent\r\n",
      "       9\tExcellent\r\n",
      "       8\tVery Good\r\n",
      "       7\tGood\r\n",
      "       6\tAbove Average\r\n",
      "       5\tAverage\r\n",
      "       4\tBelow Average\r\n",
      "       3\tFair\r\n",
      "       2\tPoor\r\n",
      "       1\tVery Poor\r\n",
      "\t\r\n",
      "OverallCond: Rates the overall condition of the house\r\n",
      "\r\n",
      "       10\tVery Excellent\r\n",
      "       9\tExcellent\r\n",
      "       8\tVery Good\r\n",
      "       7\tGood\r\n",
      "       6\tAbove Average\t\r\n",
      "       5\tAverage\r\n",
      "       4\tBelow Average\t\r\n",
      "       3\tFair\r\n",
      "       2\tPoor\r\n",
      "       1\tVery Poor\r\n",
      "\t\t\r\n",
      "YearBuilt: Original construction date\r\n",
      "\r\n",
      "YearRemodAdd: Remodel date (same as construction date if no remodeling or additions)\r\n",
      "\r\n",
      "RoofStyle: Type of roof\r\n",
      "\r\n",
      "       Flat\tFlat\r\n",
      "       Gable\tGable\r\n",
      "       Gambrel\tGabrel (Barn)\r\n",
      "       Hip\tHip\r\n",
      "       Mansard\tMansard\r\n",
      "       Shed\tShed\r\n",
      "\t\t\r\n",
      "RoofMatl: Roof material\r\n",
      "\r\n",
      "       ClyTile\tClay or Tile\r\n",
      "       CompShg\tStandard (Composite) Shingle\r\n",
      "       Membran\tMembrane\r\n",
      "       Metal\tMetal\r\n",
      "       Roll\tRoll\r\n",
      "       Tar&Grv\tGravel & Tar\r\n",
      "       WdShake\tWood Shakes\r\n",
      "       WdShngl\tWood Shingles\r\n",
      "\t\t\r\n",
      "Exterior1st: Exterior covering on house\r\n",
      "\r\n",
      "       AsbShng\tAsbestos Shingles\r\n",
      "       AsphShn\tAsphalt Shingles\r\n",
      "       BrkComm\tBrick Common\r\n",
      "       BrkFace\tBrick Face\r\n",
      "       CBlock\tCinder Block\r\n",
      "       CemntBd\tCement Board\r\n",
      "       HdBoard\tHard Board\r\n",
      "       ImStucc\tImitation Stucco\r\n",
      "       MetalSd\tMetal Siding\r\n",
      "       Other\tOther\r\n",
      "       Plywood\tPlywood\r\n",
      "       PreCast\tPreCast\t\r\n",
      "       Stone\tStone\r\n",
      "       Stucco\tStucco\r\n",
      "       VinylSd\tVinyl Siding\r\n",
      "       Wd Sdng\tWood Siding\r\n",
      "       WdShing\tWood Shingles\r\n",
      "\t\r\n",
      "Exterior2nd: Exterior covering on house (if more than one material)\r\n",
      "\r\n",
      "       AsbShng\tAsbestos Shingles\r\n",
      "       AsphShn\tAsphalt Shingles\r\n",
      "       BrkComm\tBrick Common\r\n",
      "       BrkFace\tBrick Face\r\n",
      "       CBlock\tCinder Block\r\n",
      "       CemntBd\tCement Board\r\n",
      "       HdBoard\tHard Board\r\n",
      "       ImStucc\tImitation Stucco\r\n",
      "       MetalSd\tMetal Siding\r\n",
      "       Other\tOther\r\n",
      "       Plywood\tPlywood\r\n",
      "       PreCast\tPreCast\r\n",
      "       Stone\tStone\r\n",
      "       Stucco\tStucco\r\n",
      "       VinylSd\tVinyl Siding\r\n",
      "       Wd Sdng\tWood Siding\r\n",
      "       WdShing\tWood Shingles\r\n",
      "\t\r\n",
      "MasVnrType: Masonry veneer type\r\n",
      "\r\n",
      "       BrkCmn\tBrick Common\r\n",
      "       BrkFace\tBrick Face\r\n",
      "       CBlock\tCinder Block\r\n",
      "       None\tNone\r\n",
      "       Stone\tStone\r\n",
      "\t\r\n",
      "MasVnrArea: Masonry veneer area in square feet\r\n",
      "\r\n",
      "ExterQual: Evaluates the quality of the material on the exterior \r\n",
      "\t\t\r\n",
      "       Ex\tExcellent\r\n",
      "       Gd\tGood\r\n",
      "       TA\tAverage/Typical\r\n",
      "       Fa\tFair\r\n",
      "       Po\tPoor\r\n",
      "\t\t\r\n",
      "ExterCond: Evaluates the present condition of the material on the exterior\r\n",
      "\t\t\r\n",
      "       Ex\tExcellent\r\n",
      "       Gd\tGood\r\n",
      "       TA\tAverage/Typical\r\n",
      "       Fa\tFair\r\n",
      "       Po\tPoor\r\n",
      "\t\t\r\n",
      "Foundation: Type of foundation\r\n",
      "\t\t\r\n",
      "       BrkTil\tBrick & Tile\r\n",
      "       CBlock\tCinder Block\r\n",
      "       PConc\tPoured Contrete\t\r\n",
      "       Slab\tSlab\r\n",
      "       Stone\tStone\r\n",
      "       Wood\tWood\r\n",
      "\t\t\r\n",
      "BsmtQual: Evaluates the height of the basement\r\n",
      "\r\n",
      "       Ex\tExcellent (100+ inches)\t\r\n",
      "       Gd\tGood (90-99 inches)\r\n",
      "       TA\tTypical (80-89 inches)\r\n",
      "       Fa\tFair (70-79 inches)\r\n",
      "       Po\tPoor (<70 inches\r\n",
      "       NA\tNo Basement\r\n",
      "\t\t\r\n",
      "BsmtCond: Evaluates the general condition of the basement\r\n",
      "\r\n",
      "       Ex\tExcellent\r\n",
      "       Gd\tGood\r\n",
      "       TA\tTypical - slight dampness allowed\r\n",
      "       Fa\tFair - dampness or some cracking or settling\r\n",
      "       Po\tPoor - Severe cracking, settling, or wetness\r\n",
      "       NA\tNo Basement\r\n",
      "\t\r\n",
      "BsmtExposure: Refers to walkout or garden level walls\r\n",
      "\r\n",
      "       Gd\tGood Exposure\r\n",
      "       Av\tAverage Exposure (split levels or foyers typically score average or above)\t\r\n",
      "       Mn\tMimimum Exposure\r\n",
      "       No\tNo Exposure\r\n",
      "       NA\tNo Basement\r\n",
      "\t\r\n",
      "BsmtFinType1: Rating of basement finished area\r\n",
      "\r\n",
      "       GLQ\tGood Living Quarters\r\n",
      "       ALQ\tAverage Living Quarters\r\n",
      "       BLQ\tBelow Average Living Quarters\t\r\n",
      "       Rec\tAverage Rec Room\r\n",
      "       LwQ\tLow Quality\r\n",
      "       Unf\tUnfinshed\r\n",
      "       NA\tNo Basement\r\n",
      "\t\t\r\n",
      "BsmtFinSF1: Type 1 finished square feet\r\n",
      "\r\n",
      "BsmtFinType2: Rating of basement finished area (if multiple types)\r\n",
      "\r\n",
      "       GLQ\tGood Living Quarters\r\n",
      "       ALQ\tAverage Living Quarters\r\n",
      "       BLQ\tBelow Average Living Quarters\t\r\n",
      "       Rec\tAverage Rec Room\r\n",
      "       LwQ\tLow Quality\r\n",
      "       Unf\tUnfinshed\r\n",
      "       NA\tNo Basement\r\n",
      "\r\n",
      "BsmtFinSF2: Type 2 finished square feet\r\n",
      "\r\n",
      "BsmtUnfSF: Unfinished square feet of basement area\r\n",
      "\r\n",
      "TotalBsmtSF: Total square feet of basement area\r\n",
      "\r\n",
      "Heating: Type of heating\r\n",
      "\t\t\r\n",
      "       Floor\tFloor Furnace\r\n",
      "       GasA\tGas forced warm air furnace\r\n",
      "       GasW\tGas hot water or steam heat\r\n",
      "       Grav\tGravity furnace\t\r\n",
      "       OthW\tHot water or steam heat other than gas\r\n",
      "       Wall\tWall furnace\r\n",
      "\t\t\r\n",
      "HeatingQC: Heating quality and condition\r\n",
      "\r\n",
      "       Ex\tExcellent\r\n",
      "       Gd\tGood\r\n",
      "       TA\tAverage/Typical\r\n",
      "       Fa\tFair\r\n",
      "       Po\tPoor\r\n",
      "\t\t\r\n",
      "CentralAir: Central air conditioning\r\n",
      "\r\n",
      "       N\tNo\r\n",
      "       Y\tYes\r\n",
      "\t\t\r\n",
      "Electrical: Electrical system\r\n",
      "\r\n",
      "       SBrkr\tStandard Circuit Breakers & Romex\r\n",
      "       FuseA\tFuse Box over 60 AMP and all Romex wiring (Average)\t\r\n",
      "       FuseF\t60 AMP Fuse Box and mostly Romex wiring (Fair)\r\n",
      "       FuseP\t60 AMP Fuse Box and mostly knob & tube wiring (poor)\r\n",
      "       Mix\tMixed\r\n",
      "\t\t\r\n",
      "1stFlrSF: First Floor square feet\r\n",
      " \r\n",
      "2ndFlrSF: Second floor square feet\r\n",
      "\r\n",
      "LowQualFinSF: Low quality finished square feet (all floors)\r\n",
      "\r\n",
      "GrLivArea: Above grade (ground) living area square feet\r\n",
      "\r\n",
      "BsmtFullBath: Basement full bathrooms\r\n",
      "\r\n",
      "BsmtHalfBath: Basement half bathrooms\r\n",
      "\r\n",
      "FullBath: Full bathrooms above grade\r\n",
      "\r\n",
      "HalfBath: Half baths above grade\r\n",
      "\r\n",
      "Bedroom: Bedrooms above grade (does NOT include basement bedrooms)\r\n",
      "\r\n",
      "Kitchen: Kitchens above grade\r\n",
      "\r\n",
      "KitchenQual: Kitchen quality\r\n",
      "\r\n",
      "       Ex\tExcellent\r\n",
      "       Gd\tGood\r\n",
      "       TA\tTypical/Average\r\n",
      "       Fa\tFair\r\n",
      "       Po\tPoor\r\n",
      "       \t\r\n",
      "TotRmsAbvGrd: Total rooms above grade (does not include bathrooms)\r\n",
      "\r\n",
      "Functional: Home functionality (Assume typical unless deductions are warranted)\r\n",
      "\r\n",
      "       Typ\tTypical Functionality\r\n",
      "       Min1\tMinor Deductions 1\r\n",
      "       Min2\tMinor Deductions 2\r\n",
      "       Mod\tModerate Deductions\r\n",
      "       Maj1\tMajor Deductions 1\r\n",
      "       Maj2\tMajor Deductions 2\r\n",
      "       Sev\tSeverely Damaged\r\n",
      "       Sal\tSalvage only\r\n",
      "\t\t\r\n",
      "Fireplaces: Number of fireplaces\r\n",
      "\r\n",
      "FireplaceQu: Fireplace quality\r\n",
      "\r\n",
      "       Ex\tExcellent - Exceptional Masonry Fireplace\r\n",
      "       Gd\tGood - Masonry Fireplace in main level\r\n",
      "       TA\tAverage - Prefabricated Fireplace in main living area or Masonry Fireplace in basement\r\n",
      "       Fa\tFair - Prefabricated Fireplace in basement\r\n",
      "       Po\tPoor - Ben Franklin Stove\r\n",
      "       NA\tNo Fireplace\r\n",
      "\t\t\r\n",
      "GarageType: Garage location\r\n",
      "\t\t\r\n",
      "       2Types\tMore than one type of garage\r\n",
      "       Attchd\tAttached to home\r\n",
      "       Basment\tBasement Garage\r\n",
      "       BuiltIn\tBuilt-In (Garage part of house - typically has room above garage)\r\n",
      "       CarPort\tCar Port\r\n",
      "       Detchd\tDetached from home\r\n",
      "       NA\tNo Garage\r\n",
      "\t\t\r\n",
      "GarageYrBlt: Year garage was built\r\n",
      "\t\t\r\n",
      "GarageFinish: Interior finish of the garage\r\n",
      "\r\n",
      "       Fin\tFinished\r\n",
      "       RFn\tRough Finished\t\r\n",
      "       Unf\tUnfinished\r\n",
      "       NA\tNo Garage\r\n",
      "\t\t\r\n",
      "GarageCars: Size of garage in car capacity\r\n",
      "\r\n",
      "GarageArea: Size of garage in square feet\r\n",
      "\r\n",
      "GarageQual: Garage quality\r\n",
      "\r\n",
      "       Ex\tExcellent\r\n",
      "       Gd\tGood\r\n",
      "       TA\tTypical/Average\r\n",
      "       Fa\tFair\r\n",
      "       Po\tPoor\r\n",
      "       NA\tNo Garage\r\n",
      "\t\t\r\n",
      "GarageCond: Garage condition\r\n",
      "\r\n",
      "       Ex\tExcellent\r\n",
      "       Gd\tGood\r\n",
      "       TA\tTypical/Average\r\n",
      "       Fa\tFair\r\n",
      "       Po\tPoor\r\n",
      "       NA\tNo Garage\r\n",
      "\t\t\r\n",
      "PavedDrive: Paved driveway\r\n",
      "\r\n",
      "       Y\tPaved \r\n",
      "       P\tPartial Pavement\r\n",
      "       N\tDirt/Gravel\r\n",
      "\t\t\r\n",
      "WoodDeckSF: Wood deck area in square feet\r\n",
      "\r\n",
      "OpenPorchSF: Open porch area in square feet\r\n",
      "\r\n",
      "EnclosedPorch: Enclosed porch area in square feet\r\n",
      "\r\n",
      "3SsnPorch: Three season porch area in square feet\r\n",
      "\r\n",
      "ScreenPorch: Screen porch area in square feet\r\n",
      "\r\n",
      "PoolArea: Pool area in square feet\r\n",
      "\r\n",
      "PoolQC: Pool quality\r\n",
      "\t\t\r\n",
      "       Ex\tExcellent\r\n",
      "       Gd\tGood\r\n",
      "       TA\tAverage/Typical\r\n",
      "       Fa\tFair\r\n",
      "       NA\tNo Pool\r\n",
      "\t\t\r\n",
      "Fence: Fence quality\r\n",
      "\t\t\r\n",
      "       GdPrv\tGood Privacy\r\n",
      "       MnPrv\tMinimum Privacy\r\n",
      "       GdWo\tGood Wood\r\n",
      "       MnWw\tMinimum Wood/Wire\r\n",
      "       NA\tNo Fence\r\n",
      "\t\r\n",
      "MiscFeature: Miscellaneous feature not covered in other categories\r\n",
      "\t\t\r\n",
      "       Elev\tElevator\r\n",
      "       Gar2\t2nd Garage (if not described in garage section)\r\n",
      "       Othr\tOther\r\n",
      "       Shed\tShed (over 100 SF)\r\n",
      "       TenC\tTennis Court\r\n",
      "       NA\tNone\r\n",
      "\t\t\r\n",
      "MiscVal: $Value of miscellaneous feature\r\n",
      "\r\n",
      "MoSold: Month Sold (MM)\r\n",
      "\r\n",
      "YrSold: Year Sold (YYYY)\r\n",
      "\r\n",
      "SaleType: Type of sale\r\n",
      "\t\t\r\n",
      "       WD \tWarranty Deed - Conventional\r\n",
      "       CWD\tWarranty Deed - Cash\r\n",
      "       VWD\tWarranty Deed - VA Loan\r\n",
      "       New\tHome just constructed and sold\r\n",
      "       COD\tCourt Officer Deed/Estate\r\n",
      "       Con\tContract 15% Down payment regular terms\r\n",
      "       ConLw\tContract Low Down payment and low interest\r\n",
      "       ConLI\tContract Low Interest\r\n",
      "       ConLD\tContract Low Down\r\n",
      "       Oth\tOther\r\n",
      "\t\t\r\n",
      "SaleCondition: Condition of sale\r\n",
      "\r\n",
      "       Normal\tNormal Sale\r\n",
      "       Abnorml\tAbnormal Sale -  trade, foreclosure, short sale\r\n",
      "       AdjLand\tAdjoining Land Purchase\r\n",
      "       Alloca\tAllocation - two linked properties with separate deeds, typically condo with a garage unit\t\r\n",
      "       Family\tSale between family members\r\n",
      "       Partial\tHome was not completed when last assessed (associated with New Homes)\r\n"
     ]
    }
   ],
   "metadata": {
    "colab": {
     "base_uri": "https://localhost:8080/",
     "height": 1000
    },
    "colab_type": "code",
    "id": "0kSyRhzkLq9D",
    "outputId": "53714c0b-c56a-439f-d62c-d183f812093c"
   }
  },
  {
   "cell_type": "markdown",
   "source": [
    "Ahora carguemos los datos y hagamos una breve exploración"
   ],
   "metadata": {
    "colab_type": "text",
    "id": "JbDdVYa3Nn04"
   }
  },
  {
   "cell_type": "code",
   "execution_count": 2,
   "source": [
    "df = pd.read_csv(\"local/data/houseprices.csv\")\r\n",
    "df.head()"
   ],
   "outputs": [
    {
     "output_type": "execute_result",
     "data": {
      "text/plain": [
       "   Id  MSSubClass MSZoning  LotFrontage  LotArea Street Alley LotShape  \\\n",
       "0   1          60       RL         65.0     8450   Pave   NaN      Reg   \n",
       "1   2          20       RL         80.0     9600   Pave   NaN      Reg   \n",
       "2   3          60       RL         68.0    11250   Pave   NaN      IR1   \n",
       "3   4          70       RL         60.0     9550   Pave   NaN      IR1   \n",
       "4   5          60       RL         84.0    14260   Pave   NaN      IR1   \n",
       "\n",
       "  LandContour Utilities  ... PoolArea PoolQC Fence MiscFeature MiscVal MoSold  \\\n",
       "0         Lvl    AllPub  ...        0    NaN   NaN         NaN       0      2   \n",
       "1         Lvl    AllPub  ...        0    NaN   NaN         NaN       0      5   \n",
       "2         Lvl    AllPub  ...        0    NaN   NaN         NaN       0      9   \n",
       "3         Lvl    AllPub  ...        0    NaN   NaN         NaN       0      2   \n",
       "4         Lvl    AllPub  ...        0    NaN   NaN         NaN       0     12   \n",
       "\n",
       "  YrSold  SaleType  SaleCondition  SalePrice  \n",
       "0   2008        WD         Normal     208500  \n",
       "1   2007        WD         Normal     181500  \n",
       "2   2008        WD         Normal     223500  \n",
       "3   2006        WD        Abnorml     140000  \n",
       "4   2008        WD         Normal     250000  \n",
       "\n",
       "[5 rows x 81 columns]"
      ],
      "text/html": [
       "<div>\n",
       "<style scoped>\n",
       "    .dataframe tbody tr th:only-of-type {\n",
       "        vertical-align: middle;\n",
       "    }\n",
       "\n",
       "    .dataframe tbody tr th {\n",
       "        vertical-align: top;\n",
       "    }\n",
       "\n",
       "    .dataframe thead th {\n",
       "        text-align: right;\n",
       "    }\n",
       "</style>\n",
       "<table border=\"1\" class=\"dataframe\">\n",
       "  <thead>\n",
       "    <tr style=\"text-align: right;\">\n",
       "      <th></th>\n",
       "      <th>Id</th>\n",
       "      <th>MSSubClass</th>\n",
       "      <th>MSZoning</th>\n",
       "      <th>LotFrontage</th>\n",
       "      <th>LotArea</th>\n",
       "      <th>Street</th>\n",
       "      <th>Alley</th>\n",
       "      <th>LotShape</th>\n",
       "      <th>LandContour</th>\n",
       "      <th>Utilities</th>\n",
       "      <th>...</th>\n",
       "      <th>PoolArea</th>\n",
       "      <th>PoolQC</th>\n",
       "      <th>Fence</th>\n",
       "      <th>MiscFeature</th>\n",
       "      <th>MiscVal</th>\n",
       "      <th>MoSold</th>\n",
       "      <th>YrSold</th>\n",
       "      <th>SaleType</th>\n",
       "      <th>SaleCondition</th>\n",
       "      <th>SalePrice</th>\n",
       "    </tr>\n",
       "  </thead>\n",
       "  <tbody>\n",
       "    <tr>\n",
       "      <th>0</th>\n",
       "      <td>1</td>\n",
       "      <td>60</td>\n",
       "      <td>RL</td>\n",
       "      <td>65.0</td>\n",
       "      <td>8450</td>\n",
       "      <td>Pave</td>\n",
       "      <td>NaN</td>\n",
       "      <td>Reg</td>\n",
       "      <td>Lvl</td>\n",
       "      <td>AllPub</td>\n",
       "      <td>...</td>\n",
       "      <td>0</td>\n",
       "      <td>NaN</td>\n",
       "      <td>NaN</td>\n",
       "      <td>NaN</td>\n",
       "      <td>0</td>\n",
       "      <td>2</td>\n",
       "      <td>2008</td>\n",
       "      <td>WD</td>\n",
       "      <td>Normal</td>\n",
       "      <td>208500</td>\n",
       "    </tr>\n",
       "    <tr>\n",
       "      <th>1</th>\n",
       "      <td>2</td>\n",
       "      <td>20</td>\n",
       "      <td>RL</td>\n",
       "      <td>80.0</td>\n",
       "      <td>9600</td>\n",
       "      <td>Pave</td>\n",
       "      <td>NaN</td>\n",
       "      <td>Reg</td>\n",
       "      <td>Lvl</td>\n",
       "      <td>AllPub</td>\n",
       "      <td>...</td>\n",
       "      <td>0</td>\n",
       "      <td>NaN</td>\n",
       "      <td>NaN</td>\n",
       "      <td>NaN</td>\n",
       "      <td>0</td>\n",
       "      <td>5</td>\n",
       "      <td>2007</td>\n",
       "      <td>WD</td>\n",
       "      <td>Normal</td>\n",
       "      <td>181500</td>\n",
       "    </tr>\n",
       "    <tr>\n",
       "      <th>2</th>\n",
       "      <td>3</td>\n",
       "      <td>60</td>\n",
       "      <td>RL</td>\n",
       "      <td>68.0</td>\n",
       "      <td>11250</td>\n",
       "      <td>Pave</td>\n",
       "      <td>NaN</td>\n",
       "      <td>IR1</td>\n",
       "      <td>Lvl</td>\n",
       "      <td>AllPub</td>\n",
       "      <td>...</td>\n",
       "      <td>0</td>\n",
       "      <td>NaN</td>\n",
       "      <td>NaN</td>\n",
       "      <td>NaN</td>\n",
       "      <td>0</td>\n",
       "      <td>9</td>\n",
       "      <td>2008</td>\n",
       "      <td>WD</td>\n",
       "      <td>Normal</td>\n",
       "      <td>223500</td>\n",
       "    </tr>\n",
       "    <tr>\n",
       "      <th>3</th>\n",
       "      <td>4</td>\n",
       "      <td>70</td>\n",
       "      <td>RL</td>\n",
       "      <td>60.0</td>\n",
       "      <td>9550</td>\n",
       "      <td>Pave</td>\n",
       "      <td>NaN</td>\n",
       "      <td>IR1</td>\n",
       "      <td>Lvl</td>\n",
       "      <td>AllPub</td>\n",
       "      <td>...</td>\n",
       "      <td>0</td>\n",
       "      <td>NaN</td>\n",
       "      <td>NaN</td>\n",
       "      <td>NaN</td>\n",
       "      <td>0</td>\n",
       "      <td>2</td>\n",
       "      <td>2006</td>\n",
       "      <td>WD</td>\n",
       "      <td>Abnorml</td>\n",
       "      <td>140000</td>\n",
       "    </tr>\n",
       "    <tr>\n",
       "      <th>4</th>\n",
       "      <td>5</td>\n",
       "      <td>60</td>\n",
       "      <td>RL</td>\n",
       "      <td>84.0</td>\n",
       "      <td>14260</td>\n",
       "      <td>Pave</td>\n",
       "      <td>NaN</td>\n",
       "      <td>IR1</td>\n",
       "      <td>Lvl</td>\n",
       "      <td>AllPub</td>\n",
       "      <td>...</td>\n",
       "      <td>0</td>\n",
       "      <td>NaN</td>\n",
       "      <td>NaN</td>\n",
       "      <td>NaN</td>\n",
       "      <td>0</td>\n",
       "      <td>12</td>\n",
       "      <td>2008</td>\n",
       "      <td>WD</td>\n",
       "      <td>Normal</td>\n",
       "      <td>250000</td>\n",
       "    </tr>\n",
       "  </tbody>\n",
       "</table>\n",
       "<p>5 rows × 81 columns</p>\n",
       "</div>"
      ]
     },
     "metadata": {},
     "execution_count": 2
    }
   ],
   "metadata": {
    "colab": {
     "base_uri": "https://localhost:8080/",
     "height": 253
    },
    "colab_type": "code",
    "id": "jPj6gcfjMov6",
    "outputId": "1e83e019-c63c-49a0-84ab-f259a2681938"
   }
  },
  {
   "cell_type": "code",
   "execution_count": 3,
   "source": [
    "df.info()"
   ],
   "outputs": [
    {
     "output_type": "stream",
     "name": "stdout",
     "text": [
      "<class 'pandas.core.frame.DataFrame'>\n",
      "RangeIndex: 1460 entries, 0 to 1459\n",
      "Data columns (total 81 columns):\n",
      " #   Column         Non-Null Count  Dtype  \n",
      "---  ------         --------------  -----  \n",
      " 0   Id             1460 non-null   int64  \n",
      " 1   MSSubClass     1460 non-null   int64  \n",
      " 2   MSZoning       1460 non-null   object \n",
      " 3   LotFrontage    1201 non-null   float64\n",
      " 4   LotArea        1460 non-null   int64  \n",
      " 5   Street         1460 non-null   object \n",
      " 6   Alley          91 non-null     object \n",
      " 7   LotShape       1460 non-null   object \n",
      " 8   LandContour    1460 non-null   object \n",
      " 9   Utilities      1460 non-null   object \n",
      " 10  LotConfig      1460 non-null   object \n",
      " 11  LandSlope      1460 non-null   object \n",
      " 12  Neighborhood   1460 non-null   object \n",
      " 13  Condition1     1460 non-null   object \n",
      " 14  Condition2     1460 non-null   object \n",
      " 15  BldgType       1460 non-null   object \n",
      " 16  HouseStyle     1460 non-null   object \n",
      " 17  OverallQual    1460 non-null   int64  \n",
      " 18  OverallCond    1460 non-null   int64  \n",
      " 19  YearBuilt      1460 non-null   int64  \n",
      " 20  YearRemodAdd   1460 non-null   int64  \n",
      " 21  RoofStyle      1460 non-null   object \n",
      " 22  RoofMatl       1460 non-null   object \n",
      " 23  Exterior1st    1460 non-null   object \n",
      " 24  Exterior2nd    1460 non-null   object \n",
      " 25  MasVnrType     1452 non-null   object \n",
      " 26  MasVnrArea     1452 non-null   float64\n",
      " 27  ExterQual      1460 non-null   object \n",
      " 28  ExterCond      1460 non-null   object \n",
      " 29  Foundation     1460 non-null   object \n",
      " 30  BsmtQual       1423 non-null   object \n",
      " 31  BsmtCond       1423 non-null   object \n",
      " 32  BsmtExposure   1422 non-null   object \n",
      " 33  BsmtFinType1   1423 non-null   object \n",
      " 34  BsmtFinSF1     1460 non-null   int64  \n",
      " 35  BsmtFinType2   1422 non-null   object \n",
      " 36  BsmtFinSF2     1460 non-null   int64  \n",
      " 37  BsmtUnfSF      1460 non-null   int64  \n",
      " 38  TotalBsmtSF    1460 non-null   int64  \n",
      " 39  Heating        1460 non-null   object \n",
      " 40  HeatingQC      1460 non-null   object \n",
      " 41  CentralAir     1460 non-null   object \n",
      " 42  Electrical     1459 non-null   object \n",
      " 43  1stFlrSF       1460 non-null   int64  \n",
      " 44  2ndFlrSF       1460 non-null   int64  \n",
      " 45  LowQualFinSF   1460 non-null   int64  \n",
      " 46  GrLivArea      1460 non-null   int64  \n",
      " 47  BsmtFullBath   1460 non-null   int64  \n",
      " 48  BsmtHalfBath   1460 non-null   int64  \n",
      " 49  FullBath       1460 non-null   int64  \n",
      " 50  HalfBath       1460 non-null   int64  \n",
      " 51  BedroomAbvGr   1460 non-null   int64  \n",
      " 52  KitchenAbvGr   1460 non-null   int64  \n",
      " 53  KitchenQual    1460 non-null   object \n",
      " 54  TotRmsAbvGrd   1460 non-null   int64  \n",
      " 55  Functional     1460 non-null   object \n",
      " 56  Fireplaces     1460 non-null   int64  \n",
      " 57  FireplaceQu    770 non-null    object \n",
      " 58  GarageType     1379 non-null   object \n",
      " 59  GarageYrBlt    1379 non-null   float64\n",
      " 60  GarageFinish   1379 non-null   object \n",
      " 61  GarageCars     1460 non-null   int64  \n",
      " 62  GarageArea     1460 non-null   int64  \n",
      " 63  GarageQual     1379 non-null   object \n",
      " 64  GarageCond     1379 non-null   object \n",
      " 65  PavedDrive     1460 non-null   object \n",
      " 66  WoodDeckSF     1460 non-null   int64  \n",
      " 67  OpenPorchSF    1460 non-null   int64  \n",
      " 68  EnclosedPorch  1460 non-null   int64  \n",
      " 69  3SsnPorch      1460 non-null   int64  \n",
      " 70  ScreenPorch    1460 non-null   int64  \n",
      " 71  PoolArea       1460 non-null   int64  \n",
      " 72  PoolQC         7 non-null      object \n",
      " 73  Fence          281 non-null    object \n",
      " 74  MiscFeature    54 non-null     object \n",
      " 75  MiscVal        1460 non-null   int64  \n",
      " 76  MoSold         1460 non-null   int64  \n",
      " 77  YrSold         1460 non-null   int64  \n",
      " 78  SaleType       1460 non-null   object \n",
      " 79  SaleCondition  1460 non-null   object \n",
      " 80  SalePrice      1460 non-null   int64  \n",
      "dtypes: float64(3), int64(35), object(43)\n",
      "memory usage: 924.0+ KB\n"
     ]
    }
   ],
   "metadata": {
    "colab": {
     "base_uri": "https://localhost:8080/",
     "height": 1000
    },
    "colab_type": "code",
    "id": "Xxsjyk4wOCds",
    "outputId": "9013df13-5d25-4318-af34-d4a731464e1d"
   }
  },
  {
   "cell_type": "markdown",
   "source": [
    "Podemos ver que hay una gran cantidad de valores nulos en algunas de las variables. Alguien, algo despistado, podría sugerir simplemente eliminar esas variables; sin embargo, la descripción de las variables que observamos anteriormente, nos permite entender la razón de ser de estos valores nulos y tratarlos de una manera inteligente. Por ejemplo, consideremos la variable `PoolQC` la cual nos muestra únicamente 7 valores no nulos de los 1460 registros que tenemos en total. Su descripción dice:\n",
    "\n",
    "```\n",
    "PoolQC: Pool quality\n",
    "\t\t\n",
    "       Ex\tExcellent\n",
    "       Gd\tGood\n",
    "       TA\tAverage/Typical\n",
    "       Fa\tFair\n",
    "       NA\tNo Pool\n",
    "\n",
    "```\n",
    "\n",
    "Esta variable hace referencia a la calidad de la piscina en la casa y vemos que `NA` significa que no tiene piscina, lo cual posiblemente tiene mucho impacto en el precio de una casa (pregúntese, ¿estaría dispuesto a pagar más por una casa que tenga piscina?). Además, vemos que existe la variable `PoolArea`, la cual almacena el area de la piscina en $ft^2$, la cual no tiene valores nulos. Dado esto, los valores nulos de la variable `PoolQC` deben corresponder a casos en los que la variable `PoolArea` es cero; validemos esto."
   ],
   "metadata": {
    "colab_type": "text",
    "id": "xBR58f26OXL0"
   }
  },
  {
   "cell_type": "code",
   "execution_count": 4,
   "source": [
    "num_total_nulls = df[\"PoolQC\"].isna().sum()\r\n",
    "num_nulls_when_poolarea_is_zero = df[df[\"PoolArea\"] == 0][\"PoolQC\"].isna().sum()\r\n",
    "assert num_nulls_when_poolarea_is_zero == num_total_nulls"
   ],
   "outputs": [],
   "metadata": {
    "colab": {},
    "colab_type": "code",
    "id": "0TngEN0ZOErj"
   }
  },
  {
   "cell_type": "code",
   "execution_count": 5,
   "source": [
    "num_nulls_when_poolarea_is_not_zero = df[df[\"PoolArea\"] != 0][\"PoolQC\"].isna().sum()\r\n",
    "assert num_nulls_when_poolarea_is_not_zero == 0"
   ],
   "outputs": [],
   "metadata": {
    "colab": {},
    "colab_type": "code",
    "id": "DW_2Y5ymUOP5"
   }
  },
  {
   "cell_type": "markdown",
   "source": [
    "Concluimos que se cumple que todos los valores nulos de la variable `PoolQC` corresponden a casos en los que no hay piscina; por lo tanto, vamos a reemplzar los valores nulos por otro valor que podamos usar en nuestros modelos."
   ],
   "metadata": {
    "colab_type": "text",
    "id": "DgkQclATUNAG"
   }
  },
  {
   "cell_type": "code",
   "execution_count": 6,
   "source": [
    "df[\"PoolQC\"] = df[\"PoolQC\"].fillna(\"NP\")"
   ],
   "outputs": [],
   "metadata": {
    "colab": {},
    "colab_type": "code",
    "id": "1TSyn60ZTM36"
   }
  },
  {
   "cell_type": "markdown",
   "source": [
    "Esta misma lógica debemos usarla a la hora de tratar el resto de las variables con valores nulos de este dataset. Escribiremos algún razonamiento addiconal únicamente cuando haga falta"
   ],
   "metadata": {
    "colab_type": "text",
    "id": "5rGVRp33VN9K"
   }
  },
  {
   "cell_type": "code",
   "execution_count": 7,
   "source": [
    "num_total_nulls = df[\"MiscFeature\"].isna().sum()\r\n",
    "num_nulls_when_miscval_is_zero = df[df[\"MiscVal\"] == 0][\"MiscFeature\"].isna().sum()\r\n",
    "num_nulls_when_miscval_is_not_zero = df[df[\"MiscVal\"] != 0][\"MiscFeature\"].isna().sum()\r\n",
    "assert num_nulls_when_miscval_is_zero == num_total_nulls\r\n",
    "assert num_nulls_when_miscval_is_not_zero == 0\r\n",
    "df[\"MiscFeature\"] = df[\"MiscFeature\"].fillna(\"No MF\")"
   ],
   "outputs": [],
   "metadata": {
    "colab": {},
    "colab_type": "code",
    "id": "B8371m6ROtFt"
   }
  },
  {
   "cell_type": "code",
   "execution_count": 8,
   "source": [
    "num_total_nulls = df[\"FireplaceQu\"].isna().sum()\r\n",
    "num_nulls_when_fireplaces_is_zero = df[df[\"Fireplaces\"] == 0][\"FireplaceQu\"].isna().sum()\r\n",
    "num_nulls_when_fireplaces_is_not_zero = df[df[\"Fireplaces\"] != 0][\"FireplaceQu\"].isna().sum()\r\n",
    "assert num_nulls_when_fireplaces_is_zero == num_total_nulls\r\n",
    "assert num_nulls_when_fireplaces_is_not_zero == 0\r\n",
    "df[\"FireplaceQu\"] = df[\"FireplaceQu\"].fillna(\"No FP\")"
   ],
   "outputs": [],
   "metadata": {
    "colab": {},
    "colab_type": "code",
    "id": "Y3y_32mdVFQa"
   }
  },
  {
   "cell_type": "code",
   "execution_count": 10,
   "source": [
    "num_area_zeros = (df[\"GarageArea\"] == 0).sum()\r\n",
    "num_cars_zeros = (df[\"GarageCars\"] == 0).sum()\r\n",
    "num_both_zeros = ((df[\"GarageArea\"] == 0) & (df[\"GarageCars\"] == 0.0)).sum()\r\n",
    "assert num_both_zeros == num_area_zeros == num_cars_zeros\r\n",
    "for colname in [\"GarageType\", \"GarageFinish\", \"GarageQual\", \"GarageCond\"]:\r\n",
    "    num_total_nulls = df[colname].isna().sum()\r\n",
    "    num_nulls_when_area_and_cars_capacity_is_zero = df[(df[\"GarageArea\"] == 0.0) & (df[\"GarageCars\"] == 0.0)][colname].isna().sum()\r\n",
    "    num_nulls_when_area_and_cars_capacity_is_not_zero = df[(df[\"GarageArea\"] != 0.0) & (df[\"GarageCars\"] != 0.0)][colname].isna().sum()\r\n",
    "    assert num_total_nulls == num_nulls_when_area_and_cars_capacity_is_zero\r\n",
    "    assert num_nulls_when_area_and_cars_capacity_is_not_zero == 0\r\n",
    "    df[colname] = df[colname].fillna(\"No Ga\")"
   ],
   "outputs": [],
   "metadata": {
    "colab": {},
    "colab_type": "code",
    "id": "UBdEhbnKg_Hp"
   }
  },
  {
   "cell_type": "markdown",
   "source": [
    "Para la variable `GarageYrBlt` debemos ser más cuidadosos, ya que son números y no strings. Esta variable nos dice el año en que fue construido el garaje y, según lo visto con otras variables relacionadas al garage, los valores nulos corresponden a casos en los que no hay garage. En este caso, vamos a imputar esa variable con un año posterior a la fecha de venta. Esta aproximación podría no funcionar muy bien con modelos lineales, o cuando escalamos los datos, pero no se me ocurre otra!"
   ],
   "metadata": {
    "colab_type": "text",
    "id": "fTKtnYWYobec"
   }
  },
  {
   "cell_type": "code",
   "execution_count": 11,
   "source": [
    "num_total_nulls = df[\"GarageYrBlt\"].isna().sum()\r\n",
    "num_nulls_when_area_and_cars_is_zero = df[(df[\"GarageArea\"] == 0.0) & (df[\"GarageCars\"] == 0.0)][\"GarageYrBlt\"].isna().sum()\r\n",
    "num_nulls_when_area_and_cars_is_not_zero = df[(df[\"GarageArea\"] != 0.0) & (df[\"GarageCars\"] != 0.0)][\"GarageYrBlt\"].isna().sum()\r\n",
    "assert num_nulls_when_area_and_cars_is_zero == num_total_nulls\r\n",
    "assert num_nulls_when_area_and_cars_is_not_zero == 0\r\n",
    "df[\"GarageYrBlt\"].where(~df[\"GarageYrBlt\"].isna(), other=df[\"YrSold\"] + 1, inplace=True)"
   ],
   "outputs": [],
   "metadata": {
    "colab": {},
    "colab_type": "code",
    "id": "3cXIi8swyJP6"
   }
  },
  {
   "cell_type": "markdown",
   "source": [
    "`LotFrontage: Linear feet of street connected to property)`\n",
    "\n",
    "Valores nulos en esta variable podrían ser ocasionados porque sencillamente no hay conexión de la calle a la propiedad, es decir, que esa longitud medida por esta variable es igual a 0. Podemos asumir que este es el caso únicamente si no hay otro 0 en los valores que ha tomado esta variable, de otra manera ¿por qué algunos tendrían 0 y otros nulos?"
   ],
   "metadata": {
    "colab_type": "text",
    "id": "v5DBb0qFkAOG"
   }
  },
  {
   "cell_type": "code",
   "execution_count": 12,
   "source": [
    "assert (df[\"LotFrontage\"] == 0).sum() == 0\r\n",
    "df[\"LotFrontage\"].fillna(0, inplace=True)"
   ],
   "outputs": [],
   "metadata": {
    "colab": {},
    "colab_type": "code",
    "id": "vWAnSTMwjZXj"
   }
  },
  {
   "cell_type": "code",
   "execution_count": 15,
   "source": [
    "df[\"Alley\"].fillna(\"NA\", inplace=True)\r\n",
    "df[\"Fence\"].fillna(\"NF\", inplace=True)"
   ],
   "outputs": [],
   "metadata": {
    "colab": {},
    "colab_type": "code",
    "id": "d692yK8tjekd"
   }
  },
  {
   "cell_type": "markdown",
   "source": [
    "```\r\n",
    "MasVnrType: Masonry veneer type\r\n",
    "\r\n",
    "       BrkCmn\tBrick Common\r\n",
    "       BrkFace\tBrick Face\r\n",
    "       CBlock\tCinder Block\r\n",
    "       None\tNone\r\n",
    "       Stone\tStone\r\n",
    "\t\r\n",
    "MasVnrArea: Masonry veneer area in square feet\r\n",
    "```\r\n",
    "\r\n",
    "Una posibilidad es que los valores nulos de `MasVnrType` y `MasVnrArea` correspondan a casos en los que no hay \"Masonry veneer\" (chapa de albañilería). Esto sería en los casos en que la variable `MasVnrArea` sea 0, esto lo validaremos de la misma manera en que validamos con la variable `LotFrontage`."
   ],
   "metadata": {
    "colab_type": "text",
    "id": "3m4ZgXKhuCMX"
   }
  },
  {
   "cell_type": "code",
   "execution_count": 14,
   "source": [
    "assert (df[\"MasVnrArea\"] == 0).sum() == df[\"MasVnrType\"].isnull().sum()"
   ],
   "outputs": [
    {
     "output_type": "error",
     "ename": "AssertionError",
     "evalue": "",
     "traceback": [
      "\u001b[1;31m---------------------------------------------------------------------------\u001b[0m",
      "\u001b[1;31mAssertionError\u001b[0m                            Traceback (most recent call last)",
      "\u001b[1;32m<ipython-input-14-5626198b0285>\u001b[0m in \u001b[0;36m<module>\u001b[1;34m\u001b[0m\n\u001b[1;32m----> 1\u001b[1;33m \u001b[1;32massert\u001b[0m \u001b[1;33m(\u001b[0m\u001b[0mdf\u001b[0m\u001b[1;33m[\u001b[0m\u001b[1;34m\"MasVnrArea\"\u001b[0m\u001b[1;33m]\u001b[0m \u001b[1;33m==\u001b[0m \u001b[1;36m0\u001b[0m\u001b[1;33m)\u001b[0m\u001b[1;33m.\u001b[0m\u001b[0msum\u001b[0m\u001b[1;33m(\u001b[0m\u001b[1;33m)\u001b[0m \u001b[1;33m==\u001b[0m \u001b[0mdf\u001b[0m\u001b[1;33m[\u001b[0m\u001b[1;34m\"MasVnrType\"\u001b[0m\u001b[1;33m]\u001b[0m\u001b[1;33m.\u001b[0m\u001b[0misnull\u001b[0m\u001b[1;33m(\u001b[0m\u001b[1;33m)\u001b[0m\u001b[1;33m.\u001b[0m\u001b[0msum\u001b[0m\u001b[1;33m(\u001b[0m\u001b[1;33m)\u001b[0m\u001b[1;33m\u001b[0m\u001b[1;33m\u001b[0m\u001b[0m\n\u001b[0m",
      "\u001b[1;31mAssertionError\u001b[0m: "
     ]
    }
   ],
   "metadata": {
    "colab": {
     "base_uri": "https://localhost:8080/",
     "height": 266
    },
    "colab_type": "code",
    "id": "dAkHHEVEvl1w",
    "outputId": "d66fef16-99fa-48e5-b5f7-a50676da927d"
   }
  },
  {
   "cell_type": "markdown",
   "source": [
    "Acá la situación es diferente, el error anterior nos dice que los casos para los cuales no tenemos área son distintos de los que el tipo es nulo, entonces nos toca inspeccionar más en detalle. Sabemos que hay 8 valores nulos en cada una de las dos variables, miremos si corresponden a los mismos registros:"
   ],
   "metadata": {
    "colab_type": "text",
    "id": "151AFd1b1UYQ"
   }
  },
  {
   "cell_type": "code",
   "execution_count": 17,
   "source": [
    "np.logical_and(df[\"MasVnrType\"].isnull().values, df[\"MasVnrArea\"].isnull().values).sum()"
   ],
   "outputs": [
    {
     "output_type": "execute_result",
     "data": {
      "text/plain": [
       "8"
      ]
     },
     "metadata": {},
     "execution_count": 17
    }
   ],
   "metadata": {
    "colab": {},
    "colab_type": "code",
    "id": "DYcCiaSy-ZAU"
   }
  },
  {
   "cell_type": "markdown",
   "source": [
    "En efecto, dado que hay 8 registros para los cuales las dos variables tienen valores nulos, podemos decir que son nulos en ambas partes. A falta de información, vamos a decidir eliminar esos registros por completo, no debe ser muy grave, pues apenas son 8 filas en todo el dataset."
   ],
   "metadata": {
    "colab_type": "text",
    "id": "vqLe_ygqASmg"
   }
  },
  {
   "cell_type": "code",
   "execution_count": 19,
   "source": [
    "df = df.dropna(subset=[\"MasVnrType\", \"MasVnrArea\"])"
   ],
   "outputs": [],
   "metadata": {
    "colab": {},
    "colab_type": "code",
    "id": "wLLRHNKoBN-R"
   }
  },
  {
   "cell_type": "markdown",
   "source": [
    "Ahora miremos los valores de cada una"
   ],
   "metadata": {
    "colab_type": "text",
    "id": "OlJ39UjvBX94"
   }
  },
  {
   "cell_type": "code",
   "execution_count": 20,
   "source": [
    "df[\"MasVnrType\"].value_counts()"
   ],
   "outputs": [
    {
     "output_type": "execute_result",
     "data": {
      "text/plain": [
       "None       864\n",
       "BrkFace    445\n",
       "Stone      128\n",
       "BrkCmn      15\n",
       "Name: MasVnrType, dtype: int64"
      ]
     },
     "metadata": {},
     "execution_count": 20
    }
   ],
   "metadata": {
    "colab": {
     "base_uri": "https://localhost:8080/",
     "height": 102
    },
    "colab_type": "code",
    "id": "7ft1ekaXv2Hi",
    "outputId": "baf52909-82f0-41a5-a251-7f483c6d46b8"
   }
  },
  {
   "cell_type": "code",
   "execution_count": 21,
   "source": [
    "df[\"MasVnrArea\"].value_counts()"
   ],
   "outputs": [
    {
     "output_type": "execute_result",
     "data": {
      "text/plain": [
       "0.0      861\n",
       "72.0       8\n",
       "180.0      8\n",
       "108.0      8\n",
       "120.0      7\n",
       "        ... \n",
       "651.0      1\n",
       "337.0      1\n",
       "415.0      1\n",
       "293.0      1\n",
       "621.0      1\n",
       "Name: MasVnrArea, Length: 327, dtype: int64"
      ]
     },
     "metadata": {},
     "execution_count": 21
    }
   ],
   "metadata": {
    "colab": {
     "base_uri": "https://localhost:8080/",
     "height": 221
    },
    "colab_type": "code",
    "id": "nFgc5hI6s1Xx",
    "outputId": "d4bf9db9-9486-464f-a4d7-026ee44559a4"
   }
  },
  {
   "cell_type": "markdown",
   "source": [
    "Acá podemos observar lo siguiente:\r\n",
    "- Hay 864 registros con `MasVnrType=\"None\"`\r\n",
    "- Hay 861 registros con `MasVnrArea=0`\r\n",
    "\r\n",
    "Eso quiere decir que hay algunos registros que deberían tener un área de 0 y no es así. Vamos a mirar en detalle cuáles son:"
   ],
   "metadata": {
    "colab_type": "text",
    "id": "troBixRt3ZuW"
   }
  },
  {
   "cell_type": "code",
   "execution_count": 22,
   "source": [
    "df[(df[\"MasVnrType\"] == \"None\") & (df[\"MasVnrArea\"] != 0.0)]"
   ],
   "outputs": [
    {
     "output_type": "execute_result",
     "data": {
      "text/plain": [
       "        Id  MSSubClass MSZoning  LotFrontage  LotArea Street Alley LotShape  \\\n",
       "624    625          60       RL         80.0    10400   Pave    NA      Reg   \n",
       "773    774          20       RL         70.0    10150   Pave    NA      Reg   \n",
       "1230  1231          90       RL          0.0    18890   Pave    NA      IR1   \n",
       "1300  1301          60       RL          0.0    10762   Pave    NA      IR1   \n",
       "1334  1335         160       RM         24.0     2368   Pave    NA      Reg   \n",
       "\n",
       "     LandContour Utilities  ... PoolArea PoolQC Fence MiscFeature MiscVal  \\\n",
       "624          Lvl    AllPub  ...        0     NP    NF       No MF       0   \n",
       "773          Lvl    AllPub  ...        0     NP    NF       No MF       0   \n",
       "1230         Lvl    AllPub  ...        0     NP    NF        Gar2    8300   \n",
       "1300         Lvl    AllPub  ...        0     NP    NF       No MF       0   \n",
       "1334         Lvl    AllPub  ...        0     NP    NF       No MF       0   \n",
       "\n",
       "     MoSold YrSold  SaleType  SaleCondition  SalePrice  \n",
       "624      11   2006        WD         Normal     165150  \n",
       "773       7   2007       COD         Normal     114500  \n",
       "1230      8   2007        WD         Normal     190000  \n",
       "1300      5   2009        WD         Normal     225000  \n",
       "1334      5   2009        WD         Normal     125000  \n",
       "\n",
       "[5 rows x 81 columns]"
      ],
      "text/html": [
       "<div>\n",
       "<style scoped>\n",
       "    .dataframe tbody tr th:only-of-type {\n",
       "        vertical-align: middle;\n",
       "    }\n",
       "\n",
       "    .dataframe tbody tr th {\n",
       "        vertical-align: top;\n",
       "    }\n",
       "\n",
       "    .dataframe thead th {\n",
       "        text-align: right;\n",
       "    }\n",
       "</style>\n",
       "<table border=\"1\" class=\"dataframe\">\n",
       "  <thead>\n",
       "    <tr style=\"text-align: right;\">\n",
       "      <th></th>\n",
       "      <th>Id</th>\n",
       "      <th>MSSubClass</th>\n",
       "      <th>MSZoning</th>\n",
       "      <th>LotFrontage</th>\n",
       "      <th>LotArea</th>\n",
       "      <th>Street</th>\n",
       "      <th>Alley</th>\n",
       "      <th>LotShape</th>\n",
       "      <th>LandContour</th>\n",
       "      <th>Utilities</th>\n",
       "      <th>...</th>\n",
       "      <th>PoolArea</th>\n",
       "      <th>PoolQC</th>\n",
       "      <th>Fence</th>\n",
       "      <th>MiscFeature</th>\n",
       "      <th>MiscVal</th>\n",
       "      <th>MoSold</th>\n",
       "      <th>YrSold</th>\n",
       "      <th>SaleType</th>\n",
       "      <th>SaleCondition</th>\n",
       "      <th>SalePrice</th>\n",
       "    </tr>\n",
       "  </thead>\n",
       "  <tbody>\n",
       "    <tr>\n",
       "      <th>624</th>\n",
       "      <td>625</td>\n",
       "      <td>60</td>\n",
       "      <td>RL</td>\n",
       "      <td>80.0</td>\n",
       "      <td>10400</td>\n",
       "      <td>Pave</td>\n",
       "      <td>NA</td>\n",
       "      <td>Reg</td>\n",
       "      <td>Lvl</td>\n",
       "      <td>AllPub</td>\n",
       "      <td>...</td>\n",
       "      <td>0</td>\n",
       "      <td>NP</td>\n",
       "      <td>NF</td>\n",
       "      <td>No MF</td>\n",
       "      <td>0</td>\n",
       "      <td>11</td>\n",
       "      <td>2006</td>\n",
       "      <td>WD</td>\n",
       "      <td>Normal</td>\n",
       "      <td>165150</td>\n",
       "    </tr>\n",
       "    <tr>\n",
       "      <th>773</th>\n",
       "      <td>774</td>\n",
       "      <td>20</td>\n",
       "      <td>RL</td>\n",
       "      <td>70.0</td>\n",
       "      <td>10150</td>\n",
       "      <td>Pave</td>\n",
       "      <td>NA</td>\n",
       "      <td>Reg</td>\n",
       "      <td>Lvl</td>\n",
       "      <td>AllPub</td>\n",
       "      <td>...</td>\n",
       "      <td>0</td>\n",
       "      <td>NP</td>\n",
       "      <td>NF</td>\n",
       "      <td>No MF</td>\n",
       "      <td>0</td>\n",
       "      <td>7</td>\n",
       "      <td>2007</td>\n",
       "      <td>COD</td>\n",
       "      <td>Normal</td>\n",
       "      <td>114500</td>\n",
       "    </tr>\n",
       "    <tr>\n",
       "      <th>1230</th>\n",
       "      <td>1231</td>\n",
       "      <td>90</td>\n",
       "      <td>RL</td>\n",
       "      <td>0.0</td>\n",
       "      <td>18890</td>\n",
       "      <td>Pave</td>\n",
       "      <td>NA</td>\n",
       "      <td>IR1</td>\n",
       "      <td>Lvl</td>\n",
       "      <td>AllPub</td>\n",
       "      <td>...</td>\n",
       "      <td>0</td>\n",
       "      <td>NP</td>\n",
       "      <td>NF</td>\n",
       "      <td>Gar2</td>\n",
       "      <td>8300</td>\n",
       "      <td>8</td>\n",
       "      <td>2007</td>\n",
       "      <td>WD</td>\n",
       "      <td>Normal</td>\n",
       "      <td>190000</td>\n",
       "    </tr>\n",
       "    <tr>\n",
       "      <th>1300</th>\n",
       "      <td>1301</td>\n",
       "      <td>60</td>\n",
       "      <td>RL</td>\n",
       "      <td>0.0</td>\n",
       "      <td>10762</td>\n",
       "      <td>Pave</td>\n",
       "      <td>NA</td>\n",
       "      <td>IR1</td>\n",
       "      <td>Lvl</td>\n",
       "      <td>AllPub</td>\n",
       "      <td>...</td>\n",
       "      <td>0</td>\n",
       "      <td>NP</td>\n",
       "      <td>NF</td>\n",
       "      <td>No MF</td>\n",
       "      <td>0</td>\n",
       "      <td>5</td>\n",
       "      <td>2009</td>\n",
       "      <td>WD</td>\n",
       "      <td>Normal</td>\n",
       "      <td>225000</td>\n",
       "    </tr>\n",
       "    <tr>\n",
       "      <th>1334</th>\n",
       "      <td>1335</td>\n",
       "      <td>160</td>\n",
       "      <td>RM</td>\n",
       "      <td>24.0</td>\n",
       "      <td>2368</td>\n",
       "      <td>Pave</td>\n",
       "      <td>NA</td>\n",
       "      <td>Reg</td>\n",
       "      <td>Lvl</td>\n",
       "      <td>AllPub</td>\n",
       "      <td>...</td>\n",
       "      <td>0</td>\n",
       "      <td>NP</td>\n",
       "      <td>NF</td>\n",
       "      <td>No MF</td>\n",
       "      <td>0</td>\n",
       "      <td>5</td>\n",
       "      <td>2009</td>\n",
       "      <td>WD</td>\n",
       "      <td>Normal</td>\n",
       "      <td>125000</td>\n",
       "    </tr>\n",
       "  </tbody>\n",
       "</table>\n",
       "<p>5 rows × 81 columns</p>\n",
       "</div>"
      ]
     },
     "metadata": {},
     "execution_count": 22
    }
   ],
   "metadata": {
    "colab": {
     "base_uri": "https://localhost:8080/",
     "height": 253
    },
    "colab_type": "code",
    "id": "Jtp9ehDnu6Tk",
    "outputId": "e37ee0d3-811e-4de7-d10f-0ebf62a209fe"
   }
  },
  {
   "cell_type": "markdown",
   "source": [
    "**Francamente** yo no soy un experto en casas, por lo que no tengo forma de deducir a qué se debe esa incoherencia en los datos. Por lo anterior, simplemente voy a eliminar esas filas, ya que tengo dudas de la veracidad de esos datos."
   ],
   "metadata": {
    "colab_type": "text",
    "id": "xrWE4G6UFF-P"
   }
  },
  {
   "cell_type": "code",
   "execution_count": 23,
   "source": [
    "df = df[~((df[\"MasVnrType\"] == \"None\") & (df[\"MasVnrArea\"] != 0.0))]"
   ],
   "outputs": [],
   "metadata": {
    "colab": {},
    "colab_type": "code",
    "id": "c-plwdeO3e01"
   }
  },
  {
   "cell_type": "markdown",
   "source": [
    "La variable `Electrical` tampoco nos ofrece una forma de recuperar esos valores nulos, por lo que también vamos a eliminar ese registro. Nótese que otra opción podría ser reemplazarlo con el valor más común en la misma variable, dado que esta es categórica. "
   ],
   "metadata": {
    "colab_type": "text",
    "id": "xOSpSvge8l3P"
   }
  },
  {
   "cell_type": "code",
   "execution_count": 24,
   "source": [
    "df.dropna(subset=[\"Electrical\"], inplace=True)"
   ],
   "outputs": [],
   "metadata": {
    "colab": {},
    "colab_type": "code",
    "id": "PqA8DbsI9EA-"
   }
  },
  {
   "cell_type": "code",
   "execution_count": 25,
   "source": [
    "df.info()"
   ],
   "outputs": [
    {
     "output_type": "stream",
     "name": "stdout",
     "text": [
      "<class 'pandas.core.frame.DataFrame'>\n",
      "Int64Index: 1446 entries, 0 to 1459\n",
      "Data columns (total 81 columns):\n",
      " #   Column         Non-Null Count  Dtype  \n",
      "---  ------         --------------  -----  \n",
      " 0   Id             1446 non-null   int64  \n",
      " 1   MSSubClass     1446 non-null   int64  \n",
      " 2   MSZoning       1446 non-null   object \n",
      " 3   LotFrontage    1446 non-null   float64\n",
      " 4   LotArea        1446 non-null   int64  \n",
      " 5   Street         1446 non-null   object \n",
      " 6   Alley          1446 non-null   object \n",
      " 7   LotShape       1446 non-null   object \n",
      " 8   LandContour    1446 non-null   object \n",
      " 9   Utilities      1446 non-null   object \n",
      " 10  LotConfig      1446 non-null   object \n",
      " 11  LandSlope      1446 non-null   object \n",
      " 12  Neighborhood   1446 non-null   object \n",
      " 13  Condition1     1446 non-null   object \n",
      " 14  Condition2     1446 non-null   object \n",
      " 15  BldgType       1446 non-null   object \n",
      " 16  HouseStyle     1446 non-null   object \n",
      " 17  OverallQual    1446 non-null   int64  \n",
      " 18  OverallCond    1446 non-null   int64  \n",
      " 19  YearBuilt      1446 non-null   int64  \n",
      " 20  YearRemodAdd   1446 non-null   int64  \n",
      " 21  RoofStyle      1446 non-null   object \n",
      " 22  RoofMatl       1446 non-null   object \n",
      " 23  Exterior1st    1446 non-null   object \n",
      " 24  Exterior2nd    1446 non-null   object \n",
      " 25  MasVnrType     1446 non-null   object \n",
      " 26  MasVnrArea     1446 non-null   float64\n",
      " 27  ExterQual      1446 non-null   object \n",
      " 28  ExterCond      1446 non-null   object \n",
      " 29  Foundation     1446 non-null   object \n",
      " 30  BsmtQual       1409 non-null   object \n",
      " 31  BsmtCond       1409 non-null   object \n",
      " 32  BsmtExposure   1408 non-null   object \n",
      " 33  BsmtFinType1   1409 non-null   object \n",
      " 34  BsmtFinSF1     1446 non-null   int64  \n",
      " 35  BsmtFinType2   1408 non-null   object \n",
      " 36  BsmtFinSF2     1446 non-null   int64  \n",
      " 37  BsmtUnfSF      1446 non-null   int64  \n",
      " 38  TotalBsmtSF    1446 non-null   int64  \n",
      " 39  Heating        1446 non-null   object \n",
      " 40  HeatingQC      1446 non-null   object \n",
      " 41  CentralAir     1446 non-null   object \n",
      " 42  Electrical     1446 non-null   object \n",
      " 43  1stFlrSF       1446 non-null   int64  \n",
      " 44  2ndFlrSF       1446 non-null   int64  \n",
      " 45  LowQualFinSF   1446 non-null   int64  \n",
      " 46  GrLivArea      1446 non-null   int64  \n",
      " 47  BsmtFullBath   1446 non-null   int64  \n",
      " 48  BsmtHalfBath   1446 non-null   int64  \n",
      " 49  FullBath       1446 non-null   int64  \n",
      " 50  HalfBath       1446 non-null   int64  \n",
      " 51  BedroomAbvGr   1446 non-null   int64  \n",
      " 52  KitchenAbvGr   1446 non-null   int64  \n",
      " 53  KitchenQual    1446 non-null   object \n",
      " 54  TotRmsAbvGrd   1446 non-null   int64  \n",
      " 55  Functional     1446 non-null   object \n",
      " 56  Fireplaces     1446 non-null   int64  \n",
      " 57  FireplaceQu    1446 non-null   object \n",
      " 58  GarageType     1446 non-null   object \n",
      " 59  GarageYrBlt    1446 non-null   float64\n",
      " 60  GarageFinish   1446 non-null   object \n",
      " 61  GarageCars     1446 non-null   int64  \n",
      " 62  GarageArea     1446 non-null   int64  \n",
      " 63  GarageQual     1446 non-null   object \n",
      " 64  GarageCond     1446 non-null   object \n",
      " 65  PavedDrive     1446 non-null   object \n",
      " 66  WoodDeckSF     1446 non-null   int64  \n",
      " 67  OpenPorchSF    1446 non-null   int64  \n",
      " 68  EnclosedPorch  1446 non-null   int64  \n",
      " 69  3SsnPorch      1446 non-null   int64  \n",
      " 70  ScreenPorch    1446 non-null   int64  \n",
      " 71  PoolArea       1446 non-null   int64  \n",
      " 72  PoolQC         1446 non-null   object \n",
      " 73  Fence          1446 non-null   object \n",
      " 74  MiscFeature    1446 non-null   object \n",
      " 75  MiscVal        1446 non-null   int64  \n",
      " 76  MoSold         1446 non-null   int64  \n",
      " 77  YrSold         1446 non-null   int64  \n",
      " 78  SaleType       1446 non-null   object \n",
      " 79  SaleCondition  1446 non-null   object \n",
      " 80  SalePrice      1446 non-null   int64  \n",
      "dtypes: float64(3), int64(35), object(43)\n",
      "memory usage: 926.3+ KB\n"
     ]
    }
   ],
   "metadata": {
    "colab": {
     "base_uri": "https://localhost:8080/",
     "height": 1000
    },
    "colab_type": "code",
    "id": "YukLSRVk8EgX",
    "outputId": "cf01ee28-a72f-49d4-b0f2-f68fc7c93637"
   }
  },
  {
   "cell_type": "markdown",
   "source": [
    "Ahora miremos las variables relacionadas con el basement:\n",
    "\n",
    "```\n",
    "\n",
    "BsmtQual: Evaluates the height of the basement\n",
    "\n",
    "       Ex\tExcellent (100+ inches)\t\n",
    "       Gd\tGood (90-99 inches)\n",
    "       TA\tTypical (80-89 inches)\n",
    "       Fa\tFair (70-79 inches)\n",
    "       Po\tPoor (<70 inches\n",
    "       NA\tNo Basement\n",
    "\t\t\n",
    "BsmtCond: Evaluates the general condition of the basement\n",
    "\n",
    "       Ex\tExcellent\n",
    "       Gd\tGood\n",
    "       TA\tTypical - slight dampness allowed\n",
    "       Fa\tFair - dampness or some cracking or settling\n",
    "       Po\tPoor - Severe cracking, settling, or wetness\n",
    "       NA\tNo Basement\n",
    "\t\n",
    "BsmtExposure: Refers to walkout or garden level walls\n",
    "\n",
    "       Gd\tGood Exposure\n",
    "       Av\tAverage Exposure (split levels or foyers typically score average or above)\t\n",
    "       Mn\tMimimum Exposure\n",
    "       No\tNo Exposure\n",
    "       NA\tNo Basement\n",
    "\t\n",
    "BsmtFinType1: Rating of basement finished area\n",
    "\n",
    "       GLQ\tGood Living Quarters\n",
    "       ALQ\tAverage Living Quarters\n",
    "       BLQ\tBelow Average Living Quarters\t\n",
    "       Rec\tAverage Rec Room\n",
    "       LwQ\tLow Quality\n",
    "       Unf\tUnfinshed\n",
    "       NA\tNo Basement\n",
    "\t\t\n",
    "BsmtFinSF1: Type 1 finished square feet\n",
    "\n",
    "BsmtFinType2: Rating of basement finished area (if multiple types)\n",
    "\n",
    "       GLQ\tGood Living Quarters\n",
    "       ALQ\tAverage Living Quarters\n",
    "       BLQ\tBelow Average Living Quarters\t\n",
    "       Rec\tAverage Rec Room\n",
    "       LwQ\tLow Quality\n",
    "       Unf\tUnfinshed\n",
    "       NA\tNo Basement\n",
    "\n",
    "BsmtFinSF2: Type 2 finished square feet\n",
    "\n",
    "BsmtUnfSF: Unfinished square feet of basement area\n",
    "\n",
    "TotalBsmtSF: Total square feet of basement area\n",
    "\n",
    "```"
   ],
   "metadata": {
    "colab_type": "text",
    "id": "hy3VAZ-hSZ3O"
   }
  },
  {
   "cell_type": "markdown",
   "source": [
    "Dado que los valores nulos en varias de estas variables corresponden a `No Basement`, ahora miremos si los registros nulos en algunas corresponden a los registros nulos en todas. Primero, dado que ya hemos eliminado varios registros, vamos a ver cuántos valores nulos hay en esas variables."
   ],
   "metadata": {
    "colab_type": "text",
    "id": "wQ6uSZh5Wnsh"
   }
  },
  {
   "cell_type": "code",
   "execution_count": 25,
   "source": [
    "colnames = [\"BsmtQual\", \"BsmtCond\", \"BsmtExposure\", \"BsmtFinType1\",\r\n",
    "    \"BsmtFinSF1\", \"BsmtFinType2\", \"BsmtFinSF2\", \"BsmtUnfSF\", \"TotalBsmtSF\"]\r\n",
    "for c in colnames:\r\n",
    "    print(f\"{c} has {df[c].isnull().sum()} null values\")"
   ],
   "outputs": [
    {
     "output_type": "stream",
     "name": "stdout",
     "text": [
      "BsmtQual has 37 null values\n",
      "BsmtCond has 37 null values\n",
      "BsmtExposure has 38 null values\n",
      "BsmtFinType1 has 37 null values\n",
      "BsmtFinSF1 has 0 null values\n",
      "BsmtFinType2 has 38 null values\n",
      "BsmtFinSF2 has 0 null values\n",
      "BsmtUnfSF has 0 null values\n",
      "TotalBsmtSF has 0 null values\n"
     ]
    }
   ],
   "metadata": {
    "colab": {
     "base_uri": "https://localhost:8080/",
     "height": 170
    },
    "colab_type": "code",
    "id": "ZvZivJXDZSuS",
    "outputId": "798d96b5-c76f-48d7-a4ab-5550d9ec5a11"
   }
  },
  {
   "cell_type": "code",
   "execution_count": 26,
   "source": [
    "df[\"TotalBsmtSF\"].value_counts()"
   ],
   "outputs": [
    {
     "output_type": "execute_result",
     "data": {
      "text/plain": [
       "0       37\n",
       "864     35\n",
       "672     17\n",
       "1040    14\n",
       "912     14\n",
       "        ..\n",
       "1473     1\n",
       "1463     1\n",
       "1019     1\n",
       "1020     1\n",
       "2046     1\n",
       "Name: TotalBsmtSF, Length: 716, dtype: int64"
      ]
     },
     "metadata": {},
     "execution_count": 26
    }
   ],
   "metadata": {
    "colab": {
     "base_uri": "https://localhost:8080/",
     "height": 221
    },
    "colab_type": "code",
    "id": "Nd-LMvoKj96A",
    "outputId": "c97b9f7d-cfc8-45ab-bb1d-b680c940a5f2"
   }
  },
  {
   "cell_type": "markdown",
   "source": [
    "Acá vemos que algunas tienen más variables nulas que otras, lo cual es confuso porque en cualquier caso los valores nulos deberían significar que no hay basement. En este caso vamos a reemplazar los valores en los que los valores nulos sean en todas las variables no numéricas pero los que sobren los eliminaremos."
   ],
   "metadata": {
    "colab_type": "text",
    "id": "hxS2-G-wJhWB"
   }
  },
  {
   "cell_type": "code",
   "execution_count": 27,
   "source": [
    "colnames = [\"BsmtQual\", \"BsmtCond\", \"BsmtExposure\", \"BsmtFinType1\", \"BsmtFinType2\"]\r\n",
    "cond = ~(df[\"BsmtQual\"].isna() & df[\"BsmtCond\"].isna() & df[\"BsmtExposure\"].isna() & df[\"BsmtFinType1\"].isna() & df[\"BsmtFinType2\"].isna())\r\n",
    "for c in colnames:\r\n",
    "    df[c].where(cond, other=\"NB\", inplace=True)"
   ],
   "outputs": [],
   "metadata": {
    "colab": {},
    "colab_type": "code",
    "id": "RVO6rC99hBqh"
   }
  },
  {
   "cell_type": "code",
   "execution_count": 28,
   "source": [
    "df.dropna(inplace=True)\r\n",
    "print(f\"Number of null values {df.isna().sum().sum()} in a dataframe of shape {df.shape}\")"
   ],
   "outputs": [
    {
     "output_type": "stream",
     "name": "stdout",
     "text": [
      "Number of null values 0 in a dataframe of shape (1444, 81)\n"
     ]
    }
   ],
   "metadata": {
    "colab": {
     "base_uri": "https://localhost:8080/",
     "height": 34
    },
    "colab_type": "code",
    "id": "f2A89kie8s_j",
    "outputId": "4b643d24-d584-47a0-e9fc-e74fc9a8482d"
   }
  },
  {
   "cell_type": "markdown",
   "source": [
    "## Análisis exploratorio de datos\n",
    "\n",
    "En esta sección se dejarán preguntas que deben ser respondidas utilizando los datos.\n",
    "\n",
    "**¿Qué tan viejas son las casas?**"
   ],
   "metadata": {
    "colab_type": "text",
    "id": "Crv4zo8v9sbv"
   }
  },
  {
   "cell_type": "code",
   "execution_count": 27,
   "source": [
    "df[\"HouseAge\"] = df[\"YrSold\"] - df[\"YearBuilt\"]\r\n",
    "df[\"HouseAge\"].hist(bins=20)"
   ],
   "outputs": [
    {
     "output_type": "execute_result",
     "data": {
      "text/plain": [
       "<AxesSubplot:>"
      ]
     },
     "metadata": {},
     "execution_count": 27
    },
    {
     "output_type": "display_data",
     "data": {
      "text/plain": [
       "<Figure size 432x288 with 1 Axes>"
      ],
      "image/svg+xml": "<?xml version=\"1.0\" encoding=\"utf-8\" standalone=\"no\"?>\r\n<!DOCTYPE svg PUBLIC \"-//W3C//DTD SVG 1.1//EN\"\r\n  \"http://www.w3.org/Graphics/SVG/1.1/DTD/svg11.dtd\">\r\n<!-- Created with matplotlib (https://matplotlib.org/) -->\r\n<svg height=\"248.518125pt\" version=\"1.1\" viewBox=\"0 0 378.56494 248.518125\" width=\"378.56494pt\" xmlns=\"http://www.w3.org/2000/svg\" xmlns:xlink=\"http://www.w3.org/1999/xlink\">\r\n <metadata>\r\n  <rdf:RDF xmlns:cc=\"http://creativecommons.org/ns#\" xmlns:dc=\"http://purl.org/dc/elements/1.1/\" xmlns:rdf=\"http://www.w3.org/1999/02/22-rdf-syntax-ns#\">\r\n   <cc:Work>\r\n    <dc:type rdf:resource=\"http://purl.org/dc/dcmitype/StillImage\"/>\r\n    <dc:date>2021-08-30T23:05:46.331984</dc:date>\r\n    <dc:format>image/svg+xml</dc:format>\r\n    <dc:creator>\r\n     <cc:Agent>\r\n      <dc:title>Matplotlib v3.3.4, https://matplotlib.org/</dc:title>\r\n     </cc:Agent>\r\n    </dc:creator>\r\n   </cc:Work>\r\n  </rdf:RDF>\r\n </metadata>\r\n <defs>\r\n  <style type=\"text/css\">*{stroke-linecap:butt;stroke-linejoin:round;}</style>\r\n </defs>\r\n <g id=\"figure_1\">\r\n  <g id=\"patch_1\">\r\n   <path d=\"M 0 248.518125 \r\nL 378.56494 248.518125 \r\nL 378.56494 0 \r\nL 0 0 \r\nz\r\n\" style=\"fill:none;\"/>\r\n  </g>\r\n  <g id=\"axes_1\">\r\n   <g id=\"patch_2\">\r\n    <path d=\"M 33.2875 224.64 \r\nL 368.0875 224.64 \r\nL 368.0875 7.2 \r\nL 33.2875 7.2 \r\nz\r\n\" style=\"fill:#ffffff;\"/>\r\n   </g>\r\n   <g id=\"patch_3\">\r\n    <path clip-path=\"url(#p765b7ccd18)\" d=\"M 48.505682 224.64 \r\nL 63.723864 224.64 \r\nL 63.723864 17.554286 \r\nL 48.505682 17.554286 \r\nz\r\n\" style=\"fill:#1f77b4;\"/>\r\n   </g>\r\n   <g id=\"patch_4\">\r\n    <path clip-path=\"url(#p765b7ccd18)\" d=\"M 63.723864 224.64 \r\nL 78.942045 224.64 \r\nL 78.942045 134.467542 \r\nL 63.723864 134.467542 \r\nz\r\n\" style=\"fill:#1f77b4;\"/>\r\n   </g>\r\n   <g id=\"patch_5\">\r\n    <path clip-path=\"url(#p765b7ccd18)\" d=\"M 78.942045 224.64 \r\nL 94.160227 224.64 \r\nL 94.160227 176.755315 \r\nL 78.942045 176.755315 \r\nz\r\n\" style=\"fill:#1f77b4;\"/>\r\n   </g>\r\n   <g id=\"patch_6\">\r\n    <path clip-path=\"url(#p765b7ccd18)\" d=\"M 94.160227 224.64 \r\nL 109.378409 224.64 \r\nL 109.378409 199.764839 \r\nL 94.160227 199.764839 \r\nz\r\n\" style=\"fill:#1f77b4;\"/>\r\n   </g>\r\n   <g id=\"patch_7\">\r\n    <path clip-path=\"url(#p765b7ccd18)\" d=\"M 109.378409 224.64 \r\nL 124.596591 224.64 \r\nL 124.596591 158.720824 \r\nL 109.378409 158.720824 \r\nz\r\n\" style=\"fill:#1f77b4;\"/>\r\n   </g>\r\n   <g id=\"patch_8\">\r\n    <path clip-path=\"url(#p765b7ccd18)\" d=\"M 124.596591 224.64 \r\nL 139.814773 224.64 \r\nL 139.814773 147.527001 \r\nL 124.596591 147.527001 \r\nz\r\n\" style=\"fill:#1f77b4;\"/>\r\n   </g>\r\n   <g id=\"patch_9\">\r\n    <path clip-path=\"url(#p765b7ccd18)\" d=\"M 139.814773 224.64 \r\nL 155.032955 224.64 \r\nL 155.032955 144.417606 \r\nL 139.814773 144.417606 \r\nz\r\n\" style=\"fill:#1f77b4;\"/>\r\n   </g>\r\n   <g id=\"patch_10\">\r\n    <path clip-path=\"url(#p765b7ccd18)\" d=\"M 155.032955 224.64 \r\nL 170.251136 224.64 \r\nL 170.251136 144.417606 \r\nL 155.032955 144.417606 \r\nz\r\n\" style=\"fill:#1f77b4;\"/>\r\n   </g>\r\n   <g id=\"patch_11\">\r\n    <path clip-path=\"url(#p765b7ccd18)\" d=\"M 170.251136 224.64 \r\nL 185.469318 224.64 \r\nL 185.469318 177.377194 \r\nL 170.251136 177.377194 \r\nz\r\n\" style=\"fill:#1f77b4;\"/>\r\n   </g>\r\n   <g id=\"patch_12\">\r\n    <path clip-path=\"url(#p765b7ccd18)\" d=\"M 185.469318 224.64 \r\nL 200.6875 224.64 \r\nL 200.6875 205.983629 \r\nL 185.469318 205.983629 \r\nz\r\n\" style=\"fill:#1f77b4;\"/>\r\n   </g>\r\n   <g id=\"patch_13\">\r\n    <path clip-path=\"url(#p765b7ccd18)\" d=\"M 200.6875 224.64 \r\nL 215.905682 224.64 \r\nL 215.905682 191.058533 \r\nL 200.6875 191.058533 \r\nz\r\n\" style=\"fill:#1f77b4;\"/>\r\n   </g>\r\n   <g id=\"patch_14\">\r\n    <path clip-path=\"url(#p765b7ccd18)\" d=\"M 215.905682 224.64 \r\nL 231.123864 224.64 \r\nL 231.123864 200.386718 \r\nL 215.905682 200.386718 \r\nz\r\n\" style=\"fill:#1f77b4;\"/>\r\n   </g>\r\n   <g id=\"patch_15\">\r\n    <path clip-path=\"url(#p765b7ccd18)\" d=\"M 231.123864 224.64 \r\nL 246.342045 224.64 \r\nL 246.342045 182.974106 \r\nL 231.123864 182.974106 \r\nz\r\n\" style=\"fill:#1f77b4;\"/>\r\n   </g>\r\n   <g id=\"patch_16\">\r\n    <path clip-path=\"url(#p765b7ccd18)\" d=\"M 246.342045 224.64 \r\nL 261.560227 224.64 \r\nL 261.560227 196.033565 \r\nL 246.342045 196.033565 \r\nz\r\n\" style=\"fill:#1f77b4;\"/>\r\n   </g>\r\n   <g id=\"patch_17\">\r\n    <path clip-path=\"url(#p765b7ccd18)\" d=\"M 261.560227 224.64 \r\nL 276.778409 224.64 \r\nL 276.778409 210.336782 \r\nL 261.560227 210.336782 \r\nz\r\n\" style=\"fill:#1f77b4;\"/>\r\n   </g>\r\n   <g id=\"patch_18\">\r\n    <path clip-path=\"url(#p765b7ccd18)\" d=\"M 276.778409 224.64 \r\nL 291.996591 224.64 \r\nL 291.996591 218.42121 \r\nL 276.778409 218.42121 \r\nz\r\n\" style=\"fill:#1f77b4;\"/>\r\n   </g>\r\n   <g id=\"patch_19\">\r\n    <path clip-path=\"url(#p765b7ccd18)\" d=\"M 291.996591 224.64 \r\nL 307.214773 224.64 \r\nL 307.214773 220.908726 \r\nL 291.996591 220.908726 \r\nz\r\n\" style=\"fill:#1f77b4;\"/>\r\n   </g>\r\n   <g id=\"patch_20\">\r\n    <path clip-path=\"url(#p765b7ccd18)\" d=\"M 307.214773 224.64 \r\nL 322.432955 224.64 \r\nL 322.432955 222.152484 \r\nL 307.214773 222.152484 \r\nz\r\n\" style=\"fill:#1f77b4;\"/>\r\n   </g>\r\n   <g id=\"patch_21\">\r\n    <path clip-path=\"url(#p765b7ccd18)\" d=\"M 322.432955 224.64 \r\nL 337.651136 224.64 \r\nL 337.651136 220.908726 \r\nL 322.432955 220.908726 \r\nz\r\n\" style=\"fill:#1f77b4;\"/>\r\n   </g>\r\n   <g id=\"patch_22\">\r\n    <path clip-path=\"url(#p765b7ccd18)\" d=\"M 337.651136 224.64 \r\nL 352.869318 224.64 \r\nL 352.869318 223.396242 \r\nL 337.651136 223.396242 \r\nz\r\n\" style=\"fill:#1f77b4;\"/>\r\n   </g>\r\n   <g id=\"matplotlib.axis_1\">\r\n    <g id=\"xtick_1\">\r\n     <g id=\"line2d_1\">\r\n      <path clip-path=\"url(#p765b7ccd18)\" d=\"M 48.505682 224.64 \r\nL 48.505682 7.2 \r\n\" style=\"fill:none;stroke:#b0b0b0;stroke-linecap:square;stroke-width:0.8;\"/>\r\n     </g>\r\n     <g id=\"line2d_2\">\r\n      <defs>\r\n       <path d=\"M 0 0 \r\nL 0 3.5 \r\n\" id=\"mfd220e639b\" style=\"stroke:#000000;stroke-width:0.8;\"/>\r\n      </defs>\r\n      <g>\r\n       <use style=\"stroke:#000000;stroke-width:0.8;\" x=\"48.505682\" xlink:href=\"#mfd220e639b\" y=\"224.64\"/>\r\n      </g>\r\n     </g>\r\n     <g id=\"text_1\">\r\n      <!-- 0 -->\r\n      <g transform=\"translate(45.324432 239.238437)scale(0.1 -0.1)\">\r\n       <defs>\r\n        <path d=\"M 31.78125 66.40625 \r\nQ 24.171875 66.40625 20.328125 58.90625 \r\nQ 16.5 51.421875 16.5 36.375 \r\nQ 16.5 21.390625 20.328125 13.890625 \r\nQ 24.171875 6.390625 31.78125 6.390625 \r\nQ 39.453125 6.390625 43.28125 13.890625 \r\nQ 47.125 21.390625 47.125 36.375 \r\nQ 47.125 51.421875 43.28125 58.90625 \r\nQ 39.453125 66.40625 31.78125 66.40625 \r\nz\r\nM 31.78125 74.21875 \r\nQ 44.046875 74.21875 50.515625 64.515625 \r\nQ 56.984375 54.828125 56.984375 36.375 \r\nQ 56.984375 17.96875 50.515625 8.265625 \r\nQ 44.046875 -1.421875 31.78125 -1.421875 \r\nQ 19.53125 -1.421875 13.0625 8.265625 \r\nQ 6.59375 17.96875 6.59375 36.375 \r\nQ 6.59375 54.828125 13.0625 64.515625 \r\nQ 19.53125 74.21875 31.78125 74.21875 \r\nz\r\n\" id=\"DejaVuSans-48\"/>\r\n       </defs>\r\n       <use xlink:href=\"#DejaVuSans-48\"/>\r\n      </g>\r\n     </g>\r\n    </g>\r\n    <g id=\"xtick_2\">\r\n     <g id=\"line2d_3\">\r\n      <path clip-path=\"url(#p765b7ccd18)\" d=\"M 93.26504 224.64 \r\nL 93.26504 7.2 \r\n\" style=\"fill:none;stroke:#b0b0b0;stroke-linecap:square;stroke-width:0.8;\"/>\r\n     </g>\r\n     <g id=\"line2d_4\">\r\n      <g>\r\n       <use style=\"stroke:#000000;stroke-width:0.8;\" x=\"93.26504\" xlink:href=\"#mfd220e639b\" y=\"224.64\"/>\r\n      </g>\r\n     </g>\r\n     <g id=\"text_2\">\r\n      <!-- 20 -->\r\n      <g transform=\"translate(86.90254 239.238437)scale(0.1 -0.1)\">\r\n       <defs>\r\n        <path d=\"M 19.1875 8.296875 \r\nL 53.609375 8.296875 \r\nL 53.609375 0 \r\nL 7.328125 0 \r\nL 7.328125 8.296875 \r\nQ 12.9375 14.109375 22.625 23.890625 \r\nQ 32.328125 33.6875 34.8125 36.53125 \r\nQ 39.546875 41.84375 41.421875 45.53125 \r\nQ 43.3125 49.21875 43.3125 52.78125 \r\nQ 43.3125 58.59375 39.234375 62.25 \r\nQ 35.15625 65.921875 28.609375 65.921875 \r\nQ 23.96875 65.921875 18.8125 64.3125 \r\nQ 13.671875 62.703125 7.8125 59.421875 \r\nL 7.8125 69.390625 \r\nQ 13.765625 71.78125 18.9375 73 \r\nQ 24.125 74.21875 28.421875 74.21875 \r\nQ 39.75 74.21875 46.484375 68.546875 \r\nQ 53.21875 62.890625 53.21875 53.421875 \r\nQ 53.21875 48.921875 51.53125 44.890625 \r\nQ 49.859375 40.875 45.40625 35.40625 \r\nQ 44.1875 33.984375 37.640625 27.21875 \r\nQ 31.109375 20.453125 19.1875 8.296875 \r\nz\r\n\" id=\"DejaVuSans-50\"/>\r\n       </defs>\r\n       <use xlink:href=\"#DejaVuSans-50\"/>\r\n       <use x=\"63.623047\" xlink:href=\"#DejaVuSans-48\"/>\r\n      </g>\r\n     </g>\r\n    </g>\r\n    <g id=\"xtick_3\">\r\n     <g id=\"line2d_5\">\r\n      <path clip-path=\"url(#p765b7ccd18)\" d=\"M 138.024398 224.64 \r\nL 138.024398 7.2 \r\n\" style=\"fill:none;stroke:#b0b0b0;stroke-linecap:square;stroke-width:0.8;\"/>\r\n     </g>\r\n     <g id=\"line2d_6\">\r\n      <g>\r\n       <use style=\"stroke:#000000;stroke-width:0.8;\" x=\"138.024398\" xlink:href=\"#mfd220e639b\" y=\"224.64\"/>\r\n      </g>\r\n     </g>\r\n     <g id=\"text_3\">\r\n      <!-- 40 -->\r\n      <g transform=\"translate(131.661898 239.238437)scale(0.1 -0.1)\">\r\n       <defs>\r\n        <path d=\"M 37.796875 64.3125 \r\nL 12.890625 25.390625 \r\nL 37.796875 25.390625 \r\nz\r\nM 35.203125 72.90625 \r\nL 47.609375 72.90625 \r\nL 47.609375 25.390625 \r\nL 58.015625 25.390625 \r\nL 58.015625 17.1875 \r\nL 47.609375 17.1875 \r\nL 47.609375 0 \r\nL 37.796875 0 \r\nL 37.796875 17.1875 \r\nL 4.890625 17.1875 \r\nL 4.890625 26.703125 \r\nz\r\n\" id=\"DejaVuSans-52\"/>\r\n       </defs>\r\n       <use xlink:href=\"#DejaVuSans-52\"/>\r\n       <use x=\"63.623047\" xlink:href=\"#DejaVuSans-48\"/>\r\n      </g>\r\n     </g>\r\n    </g>\r\n    <g id=\"xtick_4\">\r\n     <g id=\"line2d_7\">\r\n      <path clip-path=\"url(#p765b7ccd18)\" d=\"M 182.783757 224.64 \r\nL 182.783757 7.2 \r\n\" style=\"fill:none;stroke:#b0b0b0;stroke-linecap:square;stroke-width:0.8;\"/>\r\n     </g>\r\n     <g id=\"line2d_8\">\r\n      <g>\r\n       <use style=\"stroke:#000000;stroke-width:0.8;\" x=\"182.783757\" xlink:href=\"#mfd220e639b\" y=\"224.64\"/>\r\n      </g>\r\n     </g>\r\n     <g id=\"text_4\">\r\n      <!-- 60 -->\r\n      <g transform=\"translate(176.421257 239.238437)scale(0.1 -0.1)\">\r\n       <defs>\r\n        <path d=\"M 33.015625 40.375 \r\nQ 26.375 40.375 22.484375 35.828125 \r\nQ 18.609375 31.296875 18.609375 23.390625 \r\nQ 18.609375 15.53125 22.484375 10.953125 \r\nQ 26.375 6.390625 33.015625 6.390625 \r\nQ 39.65625 6.390625 43.53125 10.953125 \r\nQ 47.40625 15.53125 47.40625 23.390625 \r\nQ 47.40625 31.296875 43.53125 35.828125 \r\nQ 39.65625 40.375 33.015625 40.375 \r\nz\r\nM 52.59375 71.296875 \r\nL 52.59375 62.3125 \r\nQ 48.875 64.0625 45.09375 64.984375 \r\nQ 41.3125 65.921875 37.59375 65.921875 \r\nQ 27.828125 65.921875 22.671875 59.328125 \r\nQ 17.53125 52.734375 16.796875 39.40625 \r\nQ 19.671875 43.65625 24.015625 45.921875 \r\nQ 28.375 48.1875 33.59375 48.1875 \r\nQ 44.578125 48.1875 50.953125 41.515625 \r\nQ 57.328125 34.859375 57.328125 23.390625 \r\nQ 57.328125 12.15625 50.6875 5.359375 \r\nQ 44.046875 -1.421875 33.015625 -1.421875 \r\nQ 20.359375 -1.421875 13.671875 8.265625 \r\nQ 6.984375 17.96875 6.984375 36.375 \r\nQ 6.984375 53.65625 15.1875 63.9375 \r\nQ 23.390625 74.21875 37.203125 74.21875 \r\nQ 40.921875 74.21875 44.703125 73.484375 \r\nQ 48.484375 72.75 52.59375 71.296875 \r\nz\r\n\" id=\"DejaVuSans-54\"/>\r\n       </defs>\r\n       <use xlink:href=\"#DejaVuSans-54\"/>\r\n       <use x=\"63.623047\" xlink:href=\"#DejaVuSans-48\"/>\r\n      </g>\r\n     </g>\r\n    </g>\r\n    <g id=\"xtick_5\">\r\n     <g id=\"line2d_9\">\r\n      <path clip-path=\"url(#p765b7ccd18)\" d=\"M 227.543115 224.64 \r\nL 227.543115 7.2 \r\n\" style=\"fill:none;stroke:#b0b0b0;stroke-linecap:square;stroke-width:0.8;\"/>\r\n     </g>\r\n     <g id=\"line2d_10\">\r\n      <g>\r\n       <use style=\"stroke:#000000;stroke-width:0.8;\" x=\"227.543115\" xlink:href=\"#mfd220e639b\" y=\"224.64\"/>\r\n      </g>\r\n     </g>\r\n     <g id=\"text_5\">\r\n      <!-- 80 -->\r\n      <g transform=\"translate(221.180615 239.238437)scale(0.1 -0.1)\">\r\n       <defs>\r\n        <path d=\"M 31.78125 34.625 \r\nQ 24.75 34.625 20.71875 30.859375 \r\nQ 16.703125 27.09375 16.703125 20.515625 \r\nQ 16.703125 13.921875 20.71875 10.15625 \r\nQ 24.75 6.390625 31.78125 6.390625 \r\nQ 38.8125 6.390625 42.859375 10.171875 \r\nQ 46.921875 13.96875 46.921875 20.515625 \r\nQ 46.921875 27.09375 42.890625 30.859375 \r\nQ 38.875 34.625 31.78125 34.625 \r\nz\r\nM 21.921875 38.8125 \r\nQ 15.578125 40.375 12.03125 44.71875 \r\nQ 8.5 49.078125 8.5 55.328125 \r\nQ 8.5 64.0625 14.71875 69.140625 \r\nQ 20.953125 74.21875 31.78125 74.21875 \r\nQ 42.671875 74.21875 48.875 69.140625 \r\nQ 55.078125 64.0625 55.078125 55.328125 \r\nQ 55.078125 49.078125 51.53125 44.71875 \r\nQ 48 40.375 41.703125 38.8125 \r\nQ 48.828125 37.15625 52.796875 32.3125 \r\nQ 56.78125 27.484375 56.78125 20.515625 \r\nQ 56.78125 9.90625 50.3125 4.234375 \r\nQ 43.84375 -1.421875 31.78125 -1.421875 \r\nQ 19.734375 -1.421875 13.25 4.234375 \r\nQ 6.78125 9.90625 6.78125 20.515625 \r\nQ 6.78125 27.484375 10.78125 32.3125 \r\nQ 14.796875 37.15625 21.921875 38.8125 \r\nz\r\nM 18.3125 54.390625 \r\nQ 18.3125 48.734375 21.84375 45.5625 \r\nQ 25.390625 42.390625 31.78125 42.390625 \r\nQ 38.140625 42.390625 41.71875 45.5625 \r\nQ 45.3125 48.734375 45.3125 54.390625 \r\nQ 45.3125 60.0625 41.71875 63.234375 \r\nQ 38.140625 66.40625 31.78125 66.40625 \r\nQ 25.390625 66.40625 21.84375 63.234375 \r\nQ 18.3125 60.0625 18.3125 54.390625 \r\nz\r\n\" id=\"DejaVuSans-56\"/>\r\n       </defs>\r\n       <use xlink:href=\"#DejaVuSans-56\"/>\r\n       <use x=\"63.623047\" xlink:href=\"#DejaVuSans-48\"/>\r\n      </g>\r\n     </g>\r\n    </g>\r\n    <g id=\"xtick_6\">\r\n     <g id=\"line2d_11\">\r\n      <path clip-path=\"url(#p765b7ccd18)\" d=\"M 272.302473 224.64 \r\nL 272.302473 7.2 \r\n\" style=\"fill:none;stroke:#b0b0b0;stroke-linecap:square;stroke-width:0.8;\"/>\r\n     </g>\r\n     <g id=\"line2d_12\">\r\n      <g>\r\n       <use style=\"stroke:#000000;stroke-width:0.8;\" x=\"272.302473\" xlink:href=\"#mfd220e639b\" y=\"224.64\"/>\r\n      </g>\r\n     </g>\r\n     <g id=\"text_6\">\r\n      <!-- 100 -->\r\n      <g transform=\"translate(262.758723 239.238437)scale(0.1 -0.1)\">\r\n       <defs>\r\n        <path d=\"M 12.40625 8.296875 \r\nL 28.515625 8.296875 \r\nL 28.515625 63.921875 \r\nL 10.984375 60.40625 \r\nL 10.984375 69.390625 \r\nL 28.421875 72.90625 \r\nL 38.28125 72.90625 \r\nL 38.28125 8.296875 \r\nL 54.390625 8.296875 \r\nL 54.390625 0 \r\nL 12.40625 0 \r\nz\r\n\" id=\"DejaVuSans-49\"/>\r\n       </defs>\r\n       <use xlink:href=\"#DejaVuSans-49\"/>\r\n       <use x=\"63.623047\" xlink:href=\"#DejaVuSans-48\"/>\r\n       <use x=\"127.246094\" xlink:href=\"#DejaVuSans-48\"/>\r\n      </g>\r\n     </g>\r\n    </g>\r\n    <g id=\"xtick_7\">\r\n     <g id=\"line2d_13\">\r\n      <path clip-path=\"url(#p765b7ccd18)\" d=\"M 317.061832 224.64 \r\nL 317.061832 7.2 \r\n\" style=\"fill:none;stroke:#b0b0b0;stroke-linecap:square;stroke-width:0.8;\"/>\r\n     </g>\r\n     <g id=\"line2d_14\">\r\n      <g>\r\n       <use style=\"stroke:#000000;stroke-width:0.8;\" x=\"317.061832\" xlink:href=\"#mfd220e639b\" y=\"224.64\"/>\r\n      </g>\r\n     </g>\r\n     <g id=\"text_7\">\r\n      <!-- 120 -->\r\n      <g transform=\"translate(307.518082 239.238437)scale(0.1 -0.1)\">\r\n       <use xlink:href=\"#DejaVuSans-49\"/>\r\n       <use x=\"63.623047\" xlink:href=\"#DejaVuSans-50\"/>\r\n       <use x=\"127.246094\" xlink:href=\"#DejaVuSans-48\"/>\r\n      </g>\r\n     </g>\r\n    </g>\r\n    <g id=\"xtick_8\">\r\n     <g id=\"line2d_15\">\r\n      <path clip-path=\"url(#p765b7ccd18)\" d=\"M 361.82119 224.64 \r\nL 361.82119 7.2 \r\n\" style=\"fill:none;stroke:#b0b0b0;stroke-linecap:square;stroke-width:0.8;\"/>\r\n     </g>\r\n     <g id=\"line2d_16\">\r\n      <g>\r\n       <use style=\"stroke:#000000;stroke-width:0.8;\" x=\"361.82119\" xlink:href=\"#mfd220e639b\" y=\"224.64\"/>\r\n      </g>\r\n     </g>\r\n     <g id=\"text_8\">\r\n      <!-- 140 -->\r\n      <g transform=\"translate(352.27744 239.238437)scale(0.1 -0.1)\">\r\n       <use xlink:href=\"#DejaVuSans-49\"/>\r\n       <use x=\"63.623047\" xlink:href=\"#DejaVuSans-52\"/>\r\n       <use x=\"127.246094\" xlink:href=\"#DejaVuSans-48\"/>\r\n      </g>\r\n     </g>\r\n    </g>\r\n   </g>\r\n   <g id=\"matplotlib.axis_2\">\r\n    <g id=\"ytick_1\">\r\n     <g id=\"line2d_17\">\r\n      <path clip-path=\"url(#p765b7ccd18)\" d=\"M 33.2875 224.64 \r\nL 368.0875 224.64 \r\n\" style=\"fill:none;stroke:#b0b0b0;stroke-linecap:square;stroke-width:0.8;\"/>\r\n     </g>\r\n     <g id=\"line2d_18\">\r\n      <defs>\r\n       <path d=\"M 0 0 \r\nL -3.5 0 \r\n\" id=\"mf64293803f\" style=\"stroke:#000000;stroke-width:0.8;\"/>\r\n      </defs>\r\n      <g>\r\n       <use style=\"stroke:#000000;stroke-width:0.8;\" x=\"33.2875\" xlink:href=\"#mf64293803f\" y=\"224.64\"/>\r\n      </g>\r\n     </g>\r\n     <g id=\"text_9\">\r\n      <!-- 0 -->\r\n      <g transform=\"translate(19.925 228.439219)scale(0.1 -0.1)\">\r\n       <use xlink:href=\"#DejaVuSans-48\"/>\r\n      </g>\r\n     </g>\r\n    </g>\r\n    <g id=\"ytick_2\">\r\n     <g id=\"line2d_19\">\r\n      <path clip-path=\"url(#p765b7ccd18)\" d=\"M 33.2875 193.546049 \r\nL 368.0875 193.546049 \r\n\" style=\"fill:none;stroke:#b0b0b0;stroke-linecap:square;stroke-width:0.8;\"/>\r\n     </g>\r\n     <g id=\"line2d_20\">\r\n      <g>\r\n       <use style=\"stroke:#000000;stroke-width:0.8;\" x=\"33.2875\" xlink:href=\"#mf64293803f\" y=\"193.546049\"/>\r\n      </g>\r\n     </g>\r\n     <g id=\"text_10\">\r\n      <!-- 50 -->\r\n      <g transform=\"translate(13.5625 197.345268)scale(0.1 -0.1)\">\r\n       <defs>\r\n        <path d=\"M 10.796875 72.90625 \r\nL 49.515625 72.90625 \r\nL 49.515625 64.59375 \r\nL 19.828125 64.59375 \r\nL 19.828125 46.734375 \r\nQ 21.96875 47.46875 24.109375 47.828125 \r\nQ 26.265625 48.1875 28.421875 48.1875 \r\nQ 40.625 48.1875 47.75 41.5 \r\nQ 54.890625 34.8125 54.890625 23.390625 \r\nQ 54.890625 11.625 47.5625 5.09375 \r\nQ 40.234375 -1.421875 26.90625 -1.421875 \r\nQ 22.3125 -1.421875 17.546875 -0.640625 \r\nQ 12.796875 0.140625 7.71875 1.703125 \r\nL 7.71875 11.625 \r\nQ 12.109375 9.234375 16.796875 8.0625 \r\nQ 21.484375 6.890625 26.703125 6.890625 \r\nQ 35.15625 6.890625 40.078125 11.328125 \r\nQ 45.015625 15.765625 45.015625 23.390625 \r\nQ 45.015625 31 40.078125 35.4375 \r\nQ 35.15625 39.890625 26.703125 39.890625 \r\nQ 22.75 39.890625 18.8125 39.015625 \r\nQ 14.890625 38.140625 10.796875 36.28125 \r\nz\r\n\" id=\"DejaVuSans-53\"/>\r\n       </defs>\r\n       <use xlink:href=\"#DejaVuSans-53\"/>\r\n       <use x=\"63.623047\" xlink:href=\"#DejaVuSans-48\"/>\r\n      </g>\r\n     </g>\r\n    </g>\r\n    <g id=\"ytick_3\">\r\n     <g id=\"line2d_21\">\r\n      <path clip-path=\"url(#p765b7ccd18)\" d=\"M 33.2875 162.452098 \r\nL 368.0875 162.452098 \r\n\" style=\"fill:none;stroke:#b0b0b0;stroke-linecap:square;stroke-width:0.8;\"/>\r\n     </g>\r\n     <g id=\"line2d_22\">\r\n      <g>\r\n       <use style=\"stroke:#000000;stroke-width:0.8;\" x=\"33.2875\" xlink:href=\"#mf64293803f\" y=\"162.452098\"/>\r\n      </g>\r\n     </g>\r\n     <g id=\"text_11\">\r\n      <!-- 100 -->\r\n      <g transform=\"translate(7.2 166.251317)scale(0.1 -0.1)\">\r\n       <use xlink:href=\"#DejaVuSans-49\"/>\r\n       <use x=\"63.623047\" xlink:href=\"#DejaVuSans-48\"/>\r\n       <use x=\"127.246094\" xlink:href=\"#DejaVuSans-48\"/>\r\n      </g>\r\n     </g>\r\n    </g>\r\n    <g id=\"ytick_4\">\r\n     <g id=\"line2d_23\">\r\n      <path clip-path=\"url(#p765b7ccd18)\" d=\"M 33.2875 131.358147 \r\nL 368.0875 131.358147 \r\n\" style=\"fill:none;stroke:#b0b0b0;stroke-linecap:square;stroke-width:0.8;\"/>\r\n     </g>\r\n     <g id=\"line2d_24\">\r\n      <g>\r\n       <use style=\"stroke:#000000;stroke-width:0.8;\" x=\"33.2875\" xlink:href=\"#mf64293803f\" y=\"131.358147\"/>\r\n      </g>\r\n     </g>\r\n     <g id=\"text_12\">\r\n      <!-- 150 -->\r\n      <g transform=\"translate(7.2 135.157365)scale(0.1 -0.1)\">\r\n       <use xlink:href=\"#DejaVuSans-49\"/>\r\n       <use x=\"63.623047\" xlink:href=\"#DejaVuSans-53\"/>\r\n       <use x=\"127.246094\" xlink:href=\"#DejaVuSans-48\"/>\r\n      </g>\r\n     </g>\r\n    </g>\r\n    <g id=\"ytick_5\">\r\n     <g id=\"line2d_25\">\r\n      <path clip-path=\"url(#p765b7ccd18)\" d=\"M 33.2875 100.264196 \r\nL 368.0875 100.264196 \r\n\" style=\"fill:none;stroke:#b0b0b0;stroke-linecap:square;stroke-width:0.8;\"/>\r\n     </g>\r\n     <g id=\"line2d_26\">\r\n      <g>\r\n       <use style=\"stroke:#000000;stroke-width:0.8;\" x=\"33.2875\" xlink:href=\"#mf64293803f\" y=\"100.264196\"/>\r\n      </g>\r\n     </g>\r\n     <g id=\"text_13\">\r\n      <!-- 200 -->\r\n      <g transform=\"translate(7.2 104.063414)scale(0.1 -0.1)\">\r\n       <use xlink:href=\"#DejaVuSans-50\"/>\r\n       <use x=\"63.623047\" xlink:href=\"#DejaVuSans-48\"/>\r\n       <use x=\"127.246094\" xlink:href=\"#DejaVuSans-48\"/>\r\n      </g>\r\n     </g>\r\n    </g>\r\n    <g id=\"ytick_6\">\r\n     <g id=\"line2d_27\">\r\n      <path clip-path=\"url(#p765b7ccd18)\" d=\"M 33.2875 69.170245 \r\nL 368.0875 69.170245 \r\n\" style=\"fill:none;stroke:#b0b0b0;stroke-linecap:square;stroke-width:0.8;\"/>\r\n     </g>\r\n     <g id=\"line2d_28\">\r\n      <g>\r\n       <use style=\"stroke:#000000;stroke-width:0.8;\" x=\"33.2875\" xlink:href=\"#mf64293803f\" y=\"69.170245\"/>\r\n      </g>\r\n     </g>\r\n     <g id=\"text_14\">\r\n      <!-- 250 -->\r\n      <g transform=\"translate(7.2 72.969463)scale(0.1 -0.1)\">\r\n       <use xlink:href=\"#DejaVuSans-50\"/>\r\n       <use x=\"63.623047\" xlink:href=\"#DejaVuSans-53\"/>\r\n       <use x=\"127.246094\" xlink:href=\"#DejaVuSans-48\"/>\r\n      </g>\r\n     </g>\r\n    </g>\r\n    <g id=\"ytick_7\">\r\n     <g id=\"line2d_29\">\r\n      <path clip-path=\"url(#p765b7ccd18)\" d=\"M 33.2875 38.076293 \r\nL 368.0875 38.076293 \r\n\" style=\"fill:none;stroke:#b0b0b0;stroke-linecap:square;stroke-width:0.8;\"/>\r\n     </g>\r\n     <g id=\"line2d_30\">\r\n      <g>\r\n       <use style=\"stroke:#000000;stroke-width:0.8;\" x=\"33.2875\" xlink:href=\"#mf64293803f\" y=\"38.076293\"/>\r\n      </g>\r\n     </g>\r\n     <g id=\"text_15\">\r\n      <!-- 300 -->\r\n      <g transform=\"translate(7.2 41.875512)scale(0.1 -0.1)\">\r\n       <defs>\r\n        <path d=\"M 40.578125 39.3125 \r\nQ 47.65625 37.796875 51.625 33 \r\nQ 55.609375 28.21875 55.609375 21.1875 \r\nQ 55.609375 10.40625 48.1875 4.484375 \r\nQ 40.765625 -1.421875 27.09375 -1.421875 \r\nQ 22.515625 -1.421875 17.65625 -0.515625 \r\nQ 12.796875 0.390625 7.625 2.203125 \r\nL 7.625 11.71875 \r\nQ 11.71875 9.328125 16.59375 8.109375 \r\nQ 21.484375 6.890625 26.8125 6.890625 \r\nQ 36.078125 6.890625 40.9375 10.546875 \r\nQ 45.796875 14.203125 45.796875 21.1875 \r\nQ 45.796875 27.640625 41.28125 31.265625 \r\nQ 36.765625 34.90625 28.71875 34.90625 \r\nL 20.21875 34.90625 \r\nL 20.21875 43.015625 \r\nL 29.109375 43.015625 \r\nQ 36.375 43.015625 40.234375 45.921875 \r\nQ 44.09375 48.828125 44.09375 54.296875 \r\nQ 44.09375 59.90625 40.109375 62.90625 \r\nQ 36.140625 65.921875 28.71875 65.921875 \r\nQ 24.65625 65.921875 20.015625 65.03125 \r\nQ 15.375 64.15625 9.8125 62.3125 \r\nL 9.8125 71.09375 \r\nQ 15.4375 72.65625 20.34375 73.4375 \r\nQ 25.25 74.21875 29.59375 74.21875 \r\nQ 40.828125 74.21875 47.359375 69.109375 \r\nQ 53.90625 64.015625 53.90625 55.328125 \r\nQ 53.90625 49.265625 50.4375 45.09375 \r\nQ 46.96875 40.921875 40.578125 39.3125 \r\nz\r\n\" id=\"DejaVuSans-51\"/>\r\n       </defs>\r\n       <use xlink:href=\"#DejaVuSans-51\"/>\r\n       <use x=\"63.623047\" xlink:href=\"#DejaVuSans-48\"/>\r\n       <use x=\"127.246094\" xlink:href=\"#DejaVuSans-48\"/>\r\n      </g>\r\n     </g>\r\n    </g>\r\n   </g>\r\n   <g id=\"patch_23\">\r\n    <path d=\"M 33.2875 224.64 \r\nL 33.2875 7.2 \r\n\" style=\"fill:none;stroke:#000000;stroke-linecap:square;stroke-linejoin:miter;stroke-width:0.8;\"/>\r\n   </g>\r\n   <g id=\"patch_24\">\r\n    <path d=\"M 368.0875 224.64 \r\nL 368.0875 7.2 \r\n\" style=\"fill:none;stroke:#000000;stroke-linecap:square;stroke-linejoin:miter;stroke-width:0.8;\"/>\r\n   </g>\r\n   <g id=\"patch_25\">\r\n    <path d=\"M 33.2875 224.64 \r\nL 368.0875 224.64 \r\n\" style=\"fill:none;stroke:#000000;stroke-linecap:square;stroke-linejoin:miter;stroke-width:0.8;\"/>\r\n   </g>\r\n   <g id=\"patch_26\">\r\n    <path d=\"M 33.2875 7.2 \r\nL 368.0875 7.2 \r\n\" style=\"fill:none;stroke:#000000;stroke-linecap:square;stroke-linejoin:miter;stroke-width:0.8;\"/>\r\n   </g>\r\n  </g>\r\n </g>\r\n <defs>\r\n  <clipPath id=\"p765b7ccd18\">\r\n   <rect height=\"217.44\" width=\"334.8\" x=\"33.2875\" y=\"7.2\"/>\r\n  </clipPath>\r\n </defs>\r\n</svg>\r\n",
      "image/png": "[encoded data removed]"
     },
     "metadata": {
      "needs_background": "light"
     }
    }
   ],
   "metadata": {
    "colab": {},
    "colab_type": "code",
    "id": "iuIm1tOcHjdq"
   }
  },
  {
   "cell_type": "markdown",
   "source": [
    "**¿Cómo se relaciona el precio con la edad de la casa?**"
   ],
   "metadata": {
    "colab": {},
    "colab_type": "code",
    "id": "MGNl9tS1ns-d"
   }
  },
  {
   "cell_type": "code",
   "execution_count": 32,
   "source": [
    "df[\"SalePrice\"].hist(bins=20)"
   ],
   "outputs": [
    {
     "output_type": "execute_result",
     "data": {
      "text/plain": [
       "<AxesSubplot:>"
      ]
     },
     "metadata": {},
     "execution_count": 32
    },
    {
     "output_type": "display_data",
     "data": {
      "text/plain": [
       "<Figure size 432x288 with 1 Axes>"
      ],
      "image/svg+xml": "<?xml version=\"1.0\" encoding=\"utf-8\" standalone=\"no\"?>\r\n<!DOCTYPE svg PUBLIC \"-//W3C//DTD SVG 1.1//EN\"\r\n  \"http://www.w3.org/Graphics/SVG/1.1/DTD/svg11.dtd\">\r\n<!-- Created with matplotlib (https://matplotlib.org/) -->\r\n<svg height=\"248.518125pt\" version=\"1.1\" viewBox=\"0 0 375.2875 248.518125\" width=\"375.2875pt\" xmlns=\"http://www.w3.org/2000/svg\" xmlns:xlink=\"http://www.w3.org/1999/xlink\">\r\n <metadata>\r\n  <rdf:RDF xmlns:cc=\"http://creativecommons.org/ns#\" xmlns:dc=\"http://purl.org/dc/elements/1.1/\" xmlns:rdf=\"http://www.w3.org/1999/02/22-rdf-syntax-ns#\">\r\n   <cc:Work>\r\n    <dc:type rdf:resource=\"http://purl.org/dc/dcmitype/StillImage\"/>\r\n    <dc:date>2021-08-30T23:11:07.215209</dc:date>\r\n    <dc:format>image/svg+xml</dc:format>\r\n    <dc:creator>\r\n     <cc:Agent>\r\n      <dc:title>Matplotlib v3.3.4, https://matplotlib.org/</dc:title>\r\n     </cc:Agent>\r\n    </dc:creator>\r\n   </cc:Work>\r\n  </rdf:RDF>\r\n </metadata>\r\n <defs>\r\n  <style type=\"text/css\">*{stroke-linecap:butt;stroke-linejoin:round;}</style>\r\n </defs>\r\n <g id=\"figure_1\">\r\n  <g id=\"patch_1\">\r\n   <path d=\"M 0 248.518125 \r\nL 375.2875 248.518125 \r\nL 375.2875 0 \r\nL 0 0 \r\nz\r\n\" style=\"fill:none;\"/>\r\n  </g>\r\n  <g id=\"axes_1\">\r\n   <g id=\"patch_2\">\r\n    <path d=\"M 33.2875 224.64 \r\nL 368.0875 224.64 \r\nL 368.0875 7.2 \r\nL 33.2875 7.2 \r\nz\r\n\" style=\"fill:#ffffff;\"/>\r\n   </g>\r\n   <g id=\"patch_3\">\r\n    <path clip-path=\"url(#pf73bb0cd6f)\" d=\"M 48.505682 224.64 \r\nL 63.723864 224.64 \r\nL 63.723864 212.587392 \r\nL 48.505682 212.587392 \r\nz\r\n\" style=\"fill:#1f77b4;\"/>\r\n   </g>\r\n   <g id=\"patch_4\">\r\n    <path clip-path=\"url(#pf73bb0cd6f)\" d=\"M 63.723864 224.64 \r\nL 78.942045 224.64 \r\nL 78.942045 155.611429 \r\nL 63.723864 155.611429 \r\nz\r\n\" style=\"fill:#1f77b4;\"/>\r\n   </g>\r\n   <g id=\"patch_5\">\r\n    <path clip-path=\"url(#pf73bb0cd6f)\" d=\"M 78.942045 224.64 \r\nL 94.160227 224.64 \r\nL 94.160227 17.554286 \r\nL 78.942045 17.554286 \r\nz\r\n\" style=\"fill:#1f77b4;\"/>\r\n   </g>\r\n   <g id=\"patch_6\">\r\n    <path clip-path=\"url(#pf73bb0cd6f)\" d=\"M 94.160227 224.64 \r\nL 109.378409 224.64 \r\nL 109.378409 37.82458 \r\nL 94.160227 37.82458 \r\nz\r\n\" style=\"fill:#1f77b4;\"/>\r\n   </g>\r\n   <g id=\"patch_7\">\r\n    <path clip-path=\"url(#pf73bb0cd6f)\" d=\"M 109.378409 224.64 \r\nL 124.596591 224.64 \r\nL 124.596591 102.470385 \r\nL 109.378409 102.470385 \r\nz\r\n\" style=\"fill:#1f77b4;\"/>\r\n   </g>\r\n   <g id=\"patch_8\">\r\n    <path clip-path=\"url(#pf73bb0cd6f)\" d=\"M 124.596591 224.64 \r\nL 139.814773 224.64 \r\nL 139.814773 147.393741 \r\nL 124.596591 147.393741 \r\nz\r\n\" style=\"fill:#1f77b4;\"/>\r\n   </g>\r\n   <g id=\"patch_9\">\r\n    <path clip-path=\"url(#pf73bb0cd6f)\" d=\"M 139.814773 224.64 \r\nL 155.032955 224.64 \r\nL 155.032955 177.525261 \r\nL 139.814773 177.525261 \r\nz\r\n\" style=\"fill:#1f77b4;\"/>\r\n   </g>\r\n   <g id=\"patch_10\">\r\n    <path clip-path=\"url(#pf73bb0cd6f)\" d=\"M 155.032955 224.64 \r\nL 170.251136 224.64 \r\nL 170.251136 197.795556 \r\nL 155.032955 197.795556 \r\nz\r\n\" style=\"fill:#1f77b4;\"/>\r\n   </g>\r\n   <g id=\"patch_11\">\r\n    <path clip-path=\"url(#pf73bb0cd6f)\" d=\"M 170.251136 224.64 \r\nL 185.469318 224.64 \r\nL 185.469318 209.300317 \r\nL 170.251136 209.300317 \r\nz\r\n\" style=\"fill:#1f77b4;\"/>\r\n   </g>\r\n   <g id=\"patch_12\">\r\n    <path clip-path=\"url(#pf73bb0cd6f)\" d=\"M 185.469318 224.64 \r\nL 200.6875 224.64 \r\nL 200.6875 212.039546 \r\nL 185.469318 212.039546 \r\nz\r\n\" style=\"fill:#1f77b4;\"/>\r\n   </g>\r\n   <g id=\"patch_13\">\r\n    <path clip-path=\"url(#pf73bb0cd6f)\" d=\"M 200.6875 224.64 \r\nL 215.905682 224.64 \r\nL 215.905682 218.06585 \r\nL 200.6875 218.06585 \r\nz\r\n\" style=\"fill:#1f77b4;\"/>\r\n   </g>\r\n   <g id=\"patch_14\">\r\n    <path clip-path=\"url(#pf73bb0cd6f)\" d=\"M 215.905682 224.64 \r\nL 231.123864 224.64 \r\nL 231.123864 221.352925 \r\nL 215.905682 221.352925 \r\nz\r\n\" style=\"fill:#1f77b4;\"/>\r\n   </g>\r\n   <g id=\"patch_15\">\r\n    <path clip-path=\"url(#pf73bb0cd6f)\" d=\"M 231.123864 224.64 \r\nL 246.342045 224.64 \r\nL 246.342045 222.996463 \r\nL 231.123864 222.996463 \r\nz\r\n\" style=\"fill:#1f77b4;\"/>\r\n   </g>\r\n   <g id=\"patch_16\">\r\n    <path clip-path=\"url(#pf73bb0cd6f)\" d=\"M 246.342045 224.64 \r\nL 261.560227 224.64 \r\nL 261.560227 224.092154 \r\nL 246.342045 224.092154 \r\nz\r\n\" style=\"fill:#1f77b4;\"/>\r\n   </g>\r\n   <g id=\"patch_17\">\r\n    <path clip-path=\"url(#pf73bb0cd6f)\" d=\"M 261.560227 224.64 \r\nL 276.778409 224.64 \r\nL 276.778409 223.544308 \r\nL 261.560227 223.544308 \r\nz\r\n\" style=\"fill:#1f77b4;\"/>\r\n   </g>\r\n   <g id=\"patch_18\">\r\n    <path clip-path=\"url(#pf73bb0cd6f)\" d=\"M 276.778409 224.64 \r\nL 291.996591 224.64 \r\nL 291.996591 224.092154 \r\nL 276.778409 224.092154 \r\nz\r\n\" style=\"fill:#1f77b4;\"/>\r\n   </g>\r\n   <g id=\"patch_19\">\r\n    <path clip-path=\"url(#pf73bb0cd6f)\" d=\"M 291.996591 224.64 \r\nL 307.214773 224.64 \r\nL 307.214773 223.544308 \r\nL 291.996591 223.544308 \r\nz\r\n\" style=\"fill:#1f77b4;\"/>\r\n   </g>\r\n   <g id=\"patch_20\">\r\n    <path clip-path=\"url(#pf73bb0cd6f)\" d=\"M 307.214773 224.64 \r\nL 322.432955 224.64 \r\nL 322.432955 224.64 \r\nL 307.214773 224.64 \r\nz\r\n\" style=\"fill:#1f77b4;\"/>\r\n   </g>\r\n   <g id=\"patch_21\">\r\n    <path clip-path=\"url(#pf73bb0cd6f)\" d=\"M 322.432955 224.64 \r\nL 337.651136 224.64 \r\nL 337.651136 224.64 \r\nL 322.432955 224.64 \r\nz\r\n\" style=\"fill:#1f77b4;\"/>\r\n   </g>\r\n   <g id=\"patch_22\">\r\n    <path clip-path=\"url(#pf73bb0cd6f)\" d=\"M 337.651136 224.64 \r\nL 352.869318 224.64 \r\nL 352.869318 223.544308 \r\nL 337.651136 223.544308 \r\nz\r\n\" style=\"fill:#1f77b4;\"/>\r\n   </g>\r\n   <g id=\"matplotlib.axis_1\">\r\n    <g id=\"xtick_1\">\r\n     <g id=\"line2d_1\">\r\n      <path clip-path=\"url(#pf73bb0cd6f)\" d=\"M 33.754549 224.64 \r\nL 33.754549 7.2 \r\n\" style=\"fill:none;stroke:#b0b0b0;stroke-linecap:square;stroke-width:0.8;\"/>\r\n     </g>\r\n     <g id=\"line2d_2\">\r\n      <defs>\r\n       <path d=\"M 0 0 \r\nL 0 3.5 \r\n\" id=\"mc54c10c93b\" style=\"stroke:#000000;stroke-width:0.8;\"/>\r\n      </defs>\r\n      <g>\r\n       <use style=\"stroke:#000000;stroke-width:0.8;\" x=\"33.754549\" xlink:href=\"#mc54c10c93b\" y=\"224.64\"/>\r\n      </g>\r\n     </g>\r\n     <g id=\"text_1\">\r\n      <!-- 0 -->\r\n      <g transform=\"translate(30.573299 239.238438)scale(0.1 -0.1)\">\r\n       <defs>\r\n        <path d=\"M 31.78125 66.40625 \r\nQ 24.171875 66.40625 20.328125 58.90625 \r\nQ 16.5 51.421875 16.5 36.375 \r\nQ 16.5 21.390625 20.328125 13.890625 \r\nQ 24.171875 6.390625 31.78125 6.390625 \r\nQ 39.453125 6.390625 43.28125 13.890625 \r\nQ 47.125 21.390625 47.125 36.375 \r\nQ 47.125 51.421875 43.28125 58.90625 \r\nQ 39.453125 66.40625 31.78125 66.40625 \r\nz\r\nM 31.78125 74.21875 \r\nQ 44.046875 74.21875 50.515625 64.515625 \r\nQ 56.984375 54.828125 56.984375 36.375 \r\nQ 56.984375 17.96875 50.515625 8.265625 \r\nQ 44.046875 -1.421875 31.78125 -1.421875 \r\nQ 19.53125 -1.421875 13.0625 8.265625 \r\nQ 6.59375 17.96875 6.59375 36.375 \r\nQ 6.59375 54.828125 13.0625 64.515625 \r\nQ 19.53125 74.21875 31.78125 74.21875 \r\nz\r\n\" id=\"DejaVuSans-48\"/>\r\n       </defs>\r\n       <use xlink:href=\"#DejaVuSans-48\"/>\r\n      </g>\r\n     </g>\r\n    </g>\r\n    <g id=\"xtick_2\">\r\n     <g id=\"line2d_3\">\r\n      <path clip-path=\"url(#pf73bb0cd6f)\" d=\"M 76.021406 224.64 \r\nL 76.021406 7.2 \r\n\" style=\"fill:none;stroke:#b0b0b0;stroke-linecap:square;stroke-width:0.8;\"/>\r\n     </g>\r\n     <g id=\"line2d_4\">\r\n      <g>\r\n       <use style=\"stroke:#000000;stroke-width:0.8;\" x=\"76.021406\" xlink:href=\"#mc54c10c93b\" y=\"224.64\"/>\r\n      </g>\r\n     </g>\r\n     <g id=\"text_2\">\r\n      <!-- 100000 -->\r\n      <g transform=\"translate(56.933906 239.238438)scale(0.1 -0.1)\">\r\n       <defs>\r\n        <path d=\"M 12.40625 8.296875 \r\nL 28.515625 8.296875 \r\nL 28.515625 63.921875 \r\nL 10.984375 60.40625 \r\nL 10.984375 69.390625 \r\nL 28.421875 72.90625 \r\nL 38.28125 72.90625 \r\nL 38.28125 8.296875 \r\nL 54.390625 8.296875 \r\nL 54.390625 0 \r\nL 12.40625 0 \r\nz\r\n\" id=\"DejaVuSans-49\"/>\r\n       </defs>\r\n       <use xlink:href=\"#DejaVuSans-49\"/>\r\n       <use x=\"63.623047\" xlink:href=\"#DejaVuSans-48\"/>\r\n       <use x=\"127.246094\" xlink:href=\"#DejaVuSans-48\"/>\r\n       <use x=\"190.869141\" xlink:href=\"#DejaVuSans-48\"/>\r\n       <use x=\"254.492188\" xlink:href=\"#DejaVuSans-48\"/>\r\n       <use x=\"318.115234\" xlink:href=\"#DejaVuSans-48\"/>\r\n      </g>\r\n     </g>\r\n    </g>\r\n    <g id=\"xtick_3\">\r\n     <g id=\"line2d_5\">\r\n      <path clip-path=\"url(#pf73bb0cd6f)\" d=\"M 118.288263 224.64 \r\nL 118.288263 7.2 \r\n\" style=\"fill:none;stroke:#b0b0b0;stroke-linecap:square;stroke-width:0.8;\"/>\r\n     </g>\r\n     <g id=\"line2d_6\">\r\n      <g>\r\n       <use style=\"stroke:#000000;stroke-width:0.8;\" x=\"118.288263\" xlink:href=\"#mc54c10c93b\" y=\"224.64\"/>\r\n      </g>\r\n     </g>\r\n     <g id=\"text_3\">\r\n      <!-- 200000 -->\r\n      <g transform=\"translate(99.200763 239.238438)scale(0.1 -0.1)\">\r\n       <defs>\r\n        <path d=\"M 19.1875 8.296875 \r\nL 53.609375 8.296875 \r\nL 53.609375 0 \r\nL 7.328125 0 \r\nL 7.328125 8.296875 \r\nQ 12.9375 14.109375 22.625 23.890625 \r\nQ 32.328125 33.6875 34.8125 36.53125 \r\nQ 39.546875 41.84375 41.421875 45.53125 \r\nQ 43.3125 49.21875 43.3125 52.78125 \r\nQ 43.3125 58.59375 39.234375 62.25 \r\nQ 35.15625 65.921875 28.609375 65.921875 \r\nQ 23.96875 65.921875 18.8125 64.3125 \r\nQ 13.671875 62.703125 7.8125 59.421875 \r\nL 7.8125 69.390625 \r\nQ 13.765625 71.78125 18.9375 73 \r\nQ 24.125 74.21875 28.421875 74.21875 \r\nQ 39.75 74.21875 46.484375 68.546875 \r\nQ 53.21875 62.890625 53.21875 53.421875 \r\nQ 53.21875 48.921875 51.53125 44.890625 \r\nQ 49.859375 40.875 45.40625 35.40625 \r\nQ 44.1875 33.984375 37.640625 27.21875 \r\nQ 31.109375 20.453125 19.1875 8.296875 \r\nz\r\n\" id=\"DejaVuSans-50\"/>\r\n       </defs>\r\n       <use xlink:href=\"#DejaVuSans-50\"/>\r\n       <use x=\"63.623047\" xlink:href=\"#DejaVuSans-48\"/>\r\n       <use x=\"127.246094\" xlink:href=\"#DejaVuSans-48\"/>\r\n       <use x=\"190.869141\" xlink:href=\"#DejaVuSans-48\"/>\r\n       <use x=\"254.492188\" xlink:href=\"#DejaVuSans-48\"/>\r\n       <use x=\"318.115234\" xlink:href=\"#DejaVuSans-48\"/>\r\n      </g>\r\n     </g>\r\n    </g>\r\n    <g id=\"xtick_4\">\r\n     <g id=\"line2d_7\">\r\n      <path clip-path=\"url(#pf73bb0cd6f)\" d=\"M 160.555119 224.64 \r\nL 160.555119 7.2 \r\n\" style=\"fill:none;stroke:#b0b0b0;stroke-linecap:square;stroke-width:0.8;\"/>\r\n     </g>\r\n     <g id=\"line2d_8\">\r\n      <g>\r\n       <use style=\"stroke:#000000;stroke-width:0.8;\" x=\"160.555119\" xlink:href=\"#mc54c10c93b\" y=\"224.64\"/>\r\n      </g>\r\n     </g>\r\n     <g id=\"text_4\">\r\n      <!-- 300000 -->\r\n      <g transform=\"translate(141.467619 239.238438)scale(0.1 -0.1)\">\r\n       <defs>\r\n        <path d=\"M 40.578125 39.3125 \r\nQ 47.65625 37.796875 51.625 33 \r\nQ 55.609375 28.21875 55.609375 21.1875 \r\nQ 55.609375 10.40625 48.1875 4.484375 \r\nQ 40.765625 -1.421875 27.09375 -1.421875 \r\nQ 22.515625 -1.421875 17.65625 -0.515625 \r\nQ 12.796875 0.390625 7.625 2.203125 \r\nL 7.625 11.71875 \r\nQ 11.71875 9.328125 16.59375 8.109375 \r\nQ 21.484375 6.890625 26.8125 6.890625 \r\nQ 36.078125 6.890625 40.9375 10.546875 \r\nQ 45.796875 14.203125 45.796875 21.1875 \r\nQ 45.796875 27.640625 41.28125 31.265625 \r\nQ 36.765625 34.90625 28.71875 34.90625 \r\nL 20.21875 34.90625 \r\nL 20.21875 43.015625 \r\nL 29.109375 43.015625 \r\nQ 36.375 43.015625 40.234375 45.921875 \r\nQ 44.09375 48.828125 44.09375 54.296875 \r\nQ 44.09375 59.90625 40.109375 62.90625 \r\nQ 36.140625 65.921875 28.71875 65.921875 \r\nQ 24.65625 65.921875 20.015625 65.03125 \r\nQ 15.375 64.15625 9.8125 62.3125 \r\nL 9.8125 71.09375 \r\nQ 15.4375 72.65625 20.34375 73.4375 \r\nQ 25.25 74.21875 29.59375 74.21875 \r\nQ 40.828125 74.21875 47.359375 69.109375 \r\nQ 53.90625 64.015625 53.90625 55.328125 \r\nQ 53.90625 49.265625 50.4375 45.09375 \r\nQ 46.96875 40.921875 40.578125 39.3125 \r\nz\r\n\" id=\"DejaVuSans-51\"/>\r\n       </defs>\r\n       <use xlink:href=\"#DejaVuSans-51\"/>\r\n       <use x=\"63.623047\" xlink:href=\"#DejaVuSans-48\"/>\r\n       <use x=\"127.246094\" xlink:href=\"#DejaVuSans-48\"/>\r\n       <use x=\"190.869141\" xlink:href=\"#DejaVuSans-48\"/>\r\n       <use x=\"254.492188\" xlink:href=\"#DejaVuSans-48\"/>\r\n       <use x=\"318.115234\" xlink:href=\"#DejaVuSans-48\"/>\r\n      </g>\r\n     </g>\r\n    </g>\r\n    <g id=\"xtick_5\">\r\n     <g id=\"line2d_9\">\r\n      <path clip-path=\"url(#pf73bb0cd6f)\" d=\"M 202.821976 224.64 \r\nL 202.821976 7.2 \r\n\" style=\"fill:none;stroke:#b0b0b0;stroke-linecap:square;stroke-width:0.8;\"/>\r\n     </g>\r\n     <g id=\"line2d_10\">\r\n      <g>\r\n       <use style=\"stroke:#000000;stroke-width:0.8;\" x=\"202.821976\" xlink:href=\"#mc54c10c93b\" y=\"224.64\"/>\r\n      </g>\r\n     </g>\r\n     <g id=\"text_5\">\r\n      <!-- 400000 -->\r\n      <g transform=\"translate(183.734476 239.238438)scale(0.1 -0.1)\">\r\n       <defs>\r\n        <path d=\"M 37.796875 64.3125 \r\nL 12.890625 25.390625 \r\nL 37.796875 25.390625 \r\nz\r\nM 35.203125 72.90625 \r\nL 47.609375 72.90625 \r\nL 47.609375 25.390625 \r\nL 58.015625 25.390625 \r\nL 58.015625 17.1875 \r\nL 47.609375 17.1875 \r\nL 47.609375 0 \r\nL 37.796875 0 \r\nL 37.796875 17.1875 \r\nL 4.890625 17.1875 \r\nL 4.890625 26.703125 \r\nz\r\n\" id=\"DejaVuSans-52\"/>\r\n       </defs>\r\n       <use xlink:href=\"#DejaVuSans-52\"/>\r\n       <use x=\"63.623047\" xlink:href=\"#DejaVuSans-48\"/>\r\n       <use x=\"127.246094\" xlink:href=\"#DejaVuSans-48\"/>\r\n       <use x=\"190.869141\" xlink:href=\"#DejaVuSans-48\"/>\r\n       <use x=\"254.492188\" xlink:href=\"#DejaVuSans-48\"/>\r\n       <use x=\"318.115234\" xlink:href=\"#DejaVuSans-48\"/>\r\n      </g>\r\n     </g>\r\n    </g>\r\n    <g id=\"xtick_6\">\r\n     <g id=\"line2d_11\">\r\n      <path clip-path=\"url(#pf73bb0cd6f)\" d=\"M 245.088833 224.64 \r\nL 245.088833 7.2 \r\n\" style=\"fill:none;stroke:#b0b0b0;stroke-linecap:square;stroke-width:0.8;\"/>\r\n     </g>\r\n     <g id=\"line2d_12\">\r\n      <g>\r\n       <use style=\"stroke:#000000;stroke-width:0.8;\" x=\"245.088833\" xlink:href=\"#mc54c10c93b\" y=\"224.64\"/>\r\n      </g>\r\n     </g>\r\n     <g id=\"text_6\">\r\n      <!-- 500000 -->\r\n      <g transform=\"translate(226.001333 239.238438)scale(0.1 -0.1)\">\r\n       <defs>\r\n        <path d=\"M 10.796875 72.90625 \r\nL 49.515625 72.90625 \r\nL 49.515625 64.59375 \r\nL 19.828125 64.59375 \r\nL 19.828125 46.734375 \r\nQ 21.96875 47.46875 24.109375 47.828125 \r\nQ 26.265625 48.1875 28.421875 48.1875 \r\nQ 40.625 48.1875 47.75 41.5 \r\nQ 54.890625 34.8125 54.890625 23.390625 \r\nQ 54.890625 11.625 47.5625 5.09375 \r\nQ 40.234375 -1.421875 26.90625 -1.421875 \r\nQ 22.3125 -1.421875 17.546875 -0.640625 \r\nQ 12.796875 0.140625 7.71875 1.703125 \r\nL 7.71875 11.625 \r\nQ 12.109375 9.234375 16.796875 8.0625 \r\nQ 21.484375 6.890625 26.703125 6.890625 \r\nQ 35.15625 6.890625 40.078125 11.328125 \r\nQ 45.015625 15.765625 45.015625 23.390625 \r\nQ 45.015625 31 40.078125 35.4375 \r\nQ 35.15625 39.890625 26.703125 39.890625 \r\nQ 22.75 39.890625 18.8125 39.015625 \r\nQ 14.890625 38.140625 10.796875 36.28125 \r\nz\r\n\" id=\"DejaVuSans-53\"/>\r\n       </defs>\r\n       <use xlink:href=\"#DejaVuSans-53\"/>\r\n       <use x=\"63.623047\" xlink:href=\"#DejaVuSans-48\"/>\r\n       <use x=\"127.246094\" xlink:href=\"#DejaVuSans-48\"/>\r\n       <use x=\"190.869141\" xlink:href=\"#DejaVuSans-48\"/>\r\n       <use x=\"254.492188\" xlink:href=\"#DejaVuSans-48\"/>\r\n       <use x=\"318.115234\" xlink:href=\"#DejaVuSans-48\"/>\r\n      </g>\r\n     </g>\r\n    </g>\r\n    <g id=\"xtick_7\">\r\n     <g id=\"line2d_13\">\r\n      <path clip-path=\"url(#pf73bb0cd6f)\" d=\"M 287.35569 224.64 \r\nL 287.35569 7.2 \r\n\" style=\"fill:none;stroke:#b0b0b0;stroke-linecap:square;stroke-width:0.8;\"/>\r\n     </g>\r\n     <g id=\"line2d_14\">\r\n      <g>\r\n       <use style=\"stroke:#000000;stroke-width:0.8;\" x=\"287.35569\" xlink:href=\"#mc54c10c93b\" y=\"224.64\"/>\r\n      </g>\r\n     </g>\r\n     <g id=\"text_7\">\r\n      <!-- 600000 -->\r\n      <g transform=\"translate(268.26819 239.238438)scale(0.1 -0.1)\">\r\n       <defs>\r\n        <path d=\"M 33.015625 40.375 \r\nQ 26.375 40.375 22.484375 35.828125 \r\nQ 18.609375 31.296875 18.609375 23.390625 \r\nQ 18.609375 15.53125 22.484375 10.953125 \r\nQ 26.375 6.390625 33.015625 6.390625 \r\nQ 39.65625 6.390625 43.53125 10.953125 \r\nQ 47.40625 15.53125 47.40625 23.390625 \r\nQ 47.40625 31.296875 43.53125 35.828125 \r\nQ 39.65625 40.375 33.015625 40.375 \r\nz\r\nM 52.59375 71.296875 \r\nL 52.59375 62.3125 \r\nQ 48.875 64.0625 45.09375 64.984375 \r\nQ 41.3125 65.921875 37.59375 65.921875 \r\nQ 27.828125 65.921875 22.671875 59.328125 \r\nQ 17.53125 52.734375 16.796875 39.40625 \r\nQ 19.671875 43.65625 24.015625 45.921875 \r\nQ 28.375 48.1875 33.59375 48.1875 \r\nQ 44.578125 48.1875 50.953125 41.515625 \r\nQ 57.328125 34.859375 57.328125 23.390625 \r\nQ 57.328125 12.15625 50.6875 5.359375 \r\nQ 44.046875 -1.421875 33.015625 -1.421875 \r\nQ 20.359375 -1.421875 13.671875 8.265625 \r\nQ 6.984375 17.96875 6.984375 36.375 \r\nQ 6.984375 53.65625 15.1875 63.9375 \r\nQ 23.390625 74.21875 37.203125 74.21875 \r\nQ 40.921875 74.21875 44.703125 73.484375 \r\nQ 48.484375 72.75 52.59375 71.296875 \r\nz\r\n\" id=\"DejaVuSans-54\"/>\r\n       </defs>\r\n       <use xlink:href=\"#DejaVuSans-54\"/>\r\n       <use x=\"63.623047\" xlink:href=\"#DejaVuSans-48\"/>\r\n       <use x=\"127.246094\" xlink:href=\"#DejaVuSans-48\"/>\r\n       <use x=\"190.869141\" xlink:href=\"#DejaVuSans-48\"/>\r\n       <use x=\"254.492188\" xlink:href=\"#DejaVuSans-48\"/>\r\n       <use x=\"318.115234\" xlink:href=\"#DejaVuSans-48\"/>\r\n      </g>\r\n     </g>\r\n    </g>\r\n    <g id=\"xtick_8\">\r\n     <g id=\"line2d_15\">\r\n      <path clip-path=\"url(#pf73bb0cd6f)\" d=\"M 329.622547 224.64 \r\nL 329.622547 7.2 \r\n\" style=\"fill:none;stroke:#b0b0b0;stroke-linecap:square;stroke-width:0.8;\"/>\r\n     </g>\r\n     <g id=\"line2d_16\">\r\n      <g>\r\n       <use style=\"stroke:#000000;stroke-width:0.8;\" x=\"329.622547\" xlink:href=\"#mc54c10c93b\" y=\"224.64\"/>\r\n      </g>\r\n     </g>\r\n     <g id=\"text_8\">\r\n      <!-- 700000 -->\r\n      <g transform=\"translate(310.535047 239.238438)scale(0.1 -0.1)\">\r\n       <defs>\r\n        <path d=\"M 8.203125 72.90625 \r\nL 55.078125 72.90625 \r\nL 55.078125 68.703125 \r\nL 28.609375 0 \r\nL 18.3125 0 \r\nL 43.21875 64.59375 \r\nL 8.203125 64.59375 \r\nz\r\n\" id=\"DejaVuSans-55\"/>\r\n       </defs>\r\n       <use xlink:href=\"#DejaVuSans-55\"/>\r\n       <use x=\"63.623047\" xlink:href=\"#DejaVuSans-48\"/>\r\n       <use x=\"127.246094\" xlink:href=\"#DejaVuSans-48\"/>\r\n       <use x=\"190.869141\" xlink:href=\"#DejaVuSans-48\"/>\r\n       <use x=\"254.492188\" xlink:href=\"#DejaVuSans-48\"/>\r\n       <use x=\"318.115234\" xlink:href=\"#DejaVuSans-48\"/>\r\n      </g>\r\n     </g>\r\n    </g>\r\n   </g>\r\n   <g id=\"matplotlib.axis_2\">\r\n    <g id=\"ytick_1\">\r\n     <g id=\"line2d_17\">\r\n      <path clip-path=\"url(#pf73bb0cd6f)\" d=\"M 33.2875 224.64 \r\nL 368.0875 224.64 \r\n\" style=\"fill:none;stroke:#b0b0b0;stroke-linecap:square;stroke-width:0.8;\"/>\r\n     </g>\r\n     <g id=\"line2d_18\">\r\n      <defs>\r\n       <path d=\"M 0 0 \r\nL -3.5 0 \r\n\" id=\"m41eec5a64a\" style=\"stroke:#000000;stroke-width:0.8;\"/>\r\n      </defs>\r\n      <g>\r\n       <use style=\"stroke:#000000;stroke-width:0.8;\" x=\"33.2875\" xlink:href=\"#m41eec5a64a\" y=\"224.64\"/>\r\n      </g>\r\n     </g>\r\n     <g id=\"text_9\">\r\n      <!-- 0 -->\r\n      <g transform=\"translate(19.925 228.439219)scale(0.1 -0.1)\">\r\n       <use xlink:href=\"#DejaVuSans-48\"/>\r\n      </g>\r\n     </g>\r\n    </g>\r\n    <g id=\"ytick_2\">\r\n     <g id=\"line2d_19\">\r\n      <path clip-path=\"url(#pf73bb0cd6f)\" d=\"M 33.2875 197.24771 \r\nL 368.0875 197.24771 \r\n\" style=\"fill:none;stroke:#b0b0b0;stroke-linecap:square;stroke-width:0.8;\"/>\r\n     </g>\r\n     <g id=\"line2d_20\">\r\n      <g>\r\n       <use style=\"stroke:#000000;stroke-width:0.8;\" x=\"33.2875\" xlink:href=\"#m41eec5a64a\" y=\"197.24771\"/>\r\n      </g>\r\n     </g>\r\n     <g id=\"text_10\">\r\n      <!-- 50 -->\r\n      <g transform=\"translate(13.5625 201.046929)scale(0.1 -0.1)\">\r\n       <use xlink:href=\"#DejaVuSans-53\"/>\r\n       <use x=\"63.623047\" xlink:href=\"#DejaVuSans-48\"/>\r\n      </g>\r\n     </g>\r\n    </g>\r\n    <g id=\"ytick_3\">\r\n     <g id=\"line2d_21\">\r\n      <path clip-path=\"url(#pf73bb0cd6f)\" d=\"M 33.2875 169.85542 \r\nL 368.0875 169.85542 \r\n\" style=\"fill:none;stroke:#b0b0b0;stroke-linecap:square;stroke-width:0.8;\"/>\r\n     </g>\r\n     <g id=\"line2d_22\">\r\n      <g>\r\n       <use style=\"stroke:#000000;stroke-width:0.8;\" x=\"33.2875\" xlink:href=\"#m41eec5a64a\" y=\"169.85542\"/>\r\n      </g>\r\n     </g>\r\n     <g id=\"text_11\">\r\n      <!-- 100 -->\r\n      <g transform=\"translate(7.2 173.654638)scale(0.1 -0.1)\">\r\n       <use xlink:href=\"#DejaVuSans-49\"/>\r\n       <use x=\"63.623047\" xlink:href=\"#DejaVuSans-48\"/>\r\n       <use x=\"127.246094\" xlink:href=\"#DejaVuSans-48\"/>\r\n      </g>\r\n     </g>\r\n    </g>\r\n    <g id=\"ytick_4\">\r\n     <g id=\"line2d_23\">\r\n      <path clip-path=\"url(#pf73bb0cd6f)\" d=\"M 33.2875 142.463129 \r\nL 368.0875 142.463129 \r\n\" style=\"fill:none;stroke:#b0b0b0;stroke-linecap:square;stroke-width:0.8;\"/>\r\n     </g>\r\n     <g id=\"line2d_24\">\r\n      <g>\r\n       <use style=\"stroke:#000000;stroke-width:0.8;\" x=\"33.2875\" xlink:href=\"#m41eec5a64a\" y=\"142.463129\"/>\r\n      </g>\r\n     </g>\r\n     <g id=\"text_12\">\r\n      <!-- 150 -->\r\n      <g transform=\"translate(7.2 146.262348)scale(0.1 -0.1)\">\r\n       <use xlink:href=\"#DejaVuSans-49\"/>\r\n       <use x=\"63.623047\" xlink:href=\"#DejaVuSans-53\"/>\r\n       <use x=\"127.246094\" xlink:href=\"#DejaVuSans-48\"/>\r\n      </g>\r\n     </g>\r\n    </g>\r\n    <g id=\"ytick_5\">\r\n     <g id=\"line2d_25\">\r\n      <path clip-path=\"url(#pf73bb0cd6f)\" d=\"M 33.2875 115.070839 \r\nL 368.0875 115.070839 \r\n\" style=\"fill:none;stroke:#b0b0b0;stroke-linecap:square;stroke-width:0.8;\"/>\r\n     </g>\r\n     <g id=\"line2d_26\">\r\n      <g>\r\n       <use style=\"stroke:#000000;stroke-width:0.8;\" x=\"33.2875\" xlink:href=\"#m41eec5a64a\" y=\"115.070839\"/>\r\n      </g>\r\n     </g>\r\n     <g id=\"text_13\">\r\n      <!-- 200 -->\r\n      <g transform=\"translate(7.2 118.870058)scale(0.1 -0.1)\">\r\n       <use xlink:href=\"#DejaVuSans-50\"/>\r\n       <use x=\"63.623047\" xlink:href=\"#DejaVuSans-48\"/>\r\n       <use x=\"127.246094\" xlink:href=\"#DejaVuSans-48\"/>\r\n      </g>\r\n     </g>\r\n    </g>\r\n    <g id=\"ytick_6\">\r\n     <g id=\"line2d_27\">\r\n      <path clip-path=\"url(#pf73bb0cd6f)\" d=\"M 33.2875 87.678549 \r\nL 368.0875 87.678549 \r\n\" style=\"fill:none;stroke:#b0b0b0;stroke-linecap:square;stroke-width:0.8;\"/>\r\n     </g>\r\n     <g id=\"line2d_28\">\r\n      <g>\r\n       <use style=\"stroke:#000000;stroke-width:0.8;\" x=\"33.2875\" xlink:href=\"#m41eec5a64a\" y=\"87.678549\"/>\r\n      </g>\r\n     </g>\r\n     <g id=\"text_14\">\r\n      <!-- 250 -->\r\n      <g transform=\"translate(7.2 91.477768)scale(0.1 -0.1)\">\r\n       <use xlink:href=\"#DejaVuSans-50\"/>\r\n       <use x=\"63.623047\" xlink:href=\"#DejaVuSans-53\"/>\r\n       <use x=\"127.246094\" xlink:href=\"#DejaVuSans-48\"/>\r\n      </g>\r\n     </g>\r\n    </g>\r\n    <g id=\"ytick_7\">\r\n     <g id=\"line2d_29\">\r\n      <path clip-path=\"url(#pf73bb0cd6f)\" d=\"M 33.2875 60.286259 \r\nL 368.0875 60.286259 \r\n\" style=\"fill:none;stroke:#b0b0b0;stroke-linecap:square;stroke-width:0.8;\"/>\r\n     </g>\r\n     <g id=\"line2d_30\">\r\n      <g>\r\n       <use style=\"stroke:#000000;stroke-width:0.8;\" x=\"33.2875\" xlink:href=\"#m41eec5a64a\" y=\"60.286259\"/>\r\n      </g>\r\n     </g>\r\n     <g id=\"text_15\">\r\n      <!-- 300 -->\r\n      <g transform=\"translate(7.2 64.085477)scale(0.1 -0.1)\">\r\n       <use xlink:href=\"#DejaVuSans-51\"/>\r\n       <use x=\"63.623047\" xlink:href=\"#DejaVuSans-48\"/>\r\n       <use x=\"127.246094\" xlink:href=\"#DejaVuSans-48\"/>\r\n      </g>\r\n     </g>\r\n    </g>\r\n    <g id=\"ytick_8\">\r\n     <g id=\"line2d_31\">\r\n      <path clip-path=\"url(#pf73bb0cd6f)\" d=\"M 33.2875 32.893968 \r\nL 368.0875 32.893968 \r\n\" style=\"fill:none;stroke:#b0b0b0;stroke-linecap:square;stroke-width:0.8;\"/>\r\n     </g>\r\n     <g id=\"line2d_32\">\r\n      <g>\r\n       <use style=\"stroke:#000000;stroke-width:0.8;\" x=\"33.2875\" xlink:href=\"#m41eec5a64a\" y=\"32.893968\"/>\r\n      </g>\r\n     </g>\r\n     <g id=\"text_16\">\r\n      <!-- 350 -->\r\n      <g transform=\"translate(7.2 36.693187)scale(0.1 -0.1)\">\r\n       <use xlink:href=\"#DejaVuSans-51\"/>\r\n       <use x=\"63.623047\" xlink:href=\"#DejaVuSans-53\"/>\r\n       <use x=\"127.246094\" xlink:href=\"#DejaVuSans-48\"/>\r\n      </g>\r\n     </g>\r\n    </g>\r\n   </g>\r\n   <g id=\"patch_23\">\r\n    <path d=\"M 33.2875 224.64 \r\nL 33.2875 7.2 \r\n\" style=\"fill:none;stroke:#000000;stroke-linecap:square;stroke-linejoin:miter;stroke-width:0.8;\"/>\r\n   </g>\r\n   <g id=\"patch_24\">\r\n    <path d=\"M 368.0875 224.64 \r\nL 368.0875 7.2 \r\n\" style=\"fill:none;stroke:#000000;stroke-linecap:square;stroke-linejoin:miter;stroke-width:0.8;\"/>\r\n   </g>\r\n   <g id=\"patch_25\">\r\n    <path d=\"M 33.2875 224.64 \r\nL 368.0875 224.64 \r\n\" style=\"fill:none;stroke:#000000;stroke-linecap:square;stroke-linejoin:miter;stroke-width:0.8;\"/>\r\n   </g>\r\n   <g id=\"patch_26\">\r\n    <path d=\"M 33.2875 7.2 \r\nL 368.0875 7.2 \r\n\" style=\"fill:none;stroke:#000000;stroke-linecap:square;stroke-linejoin:miter;stroke-width:0.8;\"/>\r\n   </g>\r\n  </g>\r\n </g>\r\n <defs>\r\n  <clipPath id=\"pf73bb0cd6f\">\r\n   <rect height=\"217.44\" width=\"334.8\" x=\"33.2875\" y=\"7.2\"/>\r\n  </clipPath>\r\n </defs>\r\n</svg>\r\n",
      "image/png": "[encoded data removed]"
     },
     "metadata": {
      "needs_background": "light"
     }
    }
   ],
   "metadata": {}
  },
  {
   "cell_type": "code",
   "execution_count": 37,
   "source": [
    "plt.figure(figsize=(15,6))\r\n",
    "\r\n",
    "x = df[\"HouseAge\"].values\r\n",
    "y = df[\"SalePrice\"].values\r\n",
    "plt.plot(x,y, 'o', color='blue')"
   ],
   "outputs": [
    {
     "output_type": "execute_result",
     "data": {
      "text/plain": [
       "[<matplotlib.lines.Line2D at 0x1d01ab400b8>]"
      ]
     },
     "metadata": {},
     "execution_count": 37
    },
    {
     "output_type": "display_data",
     "data": {
      "text/plain": [
       "<Figure size 1080x432 with 1 Axes>"
      ],
      "image/svg+xml": "<?xml version=\"1.0\" encoding=\"utf-8\" standalone=\"no\"?>\r\n<!DOCTYPE svg PUBLIC \"-//W3C//DTD SVG 1.1//EN\"\r\n  \"http://www.w3.org/Graphics/SVG/1.1/DTD/svg11.dtd\">\r\n<!-- Created with matplotlib (https://matplotlib.org/) -->\r\n<svg height=\"357.238125pt\" version=\"1.1\" viewBox=\"0 0 896.575 357.238125\" width=\"896.575pt\" xmlns=\"http://www.w3.org/2000/svg\" xmlns:xlink=\"http://www.w3.org/1999/xlink\">\r\n <metadata>\r\n  <rdf:RDF xmlns:cc=\"http://creativecommons.org/ns#\" xmlns:dc=\"http://purl.org/dc/elements/1.1/\" xmlns:rdf=\"http://www.w3.org/1999/02/22-rdf-syntax-ns#\">\r\n   <cc:Work>\r\n    <dc:type rdf:resource=\"http://purl.org/dc/dcmitype/StillImage\"/>\r\n    <dc:date>2021-08-30T23:31:27.511528</dc:date>\r\n    <dc:format>image/svg+xml</dc:format>\r\n    <dc:creator>\r\n     <cc:Agent>\r\n      <dc:title>Matplotlib v3.3.4, https://matplotlib.org/</dc:title>\r\n     </cc:Agent>\r\n    </dc:creator>\r\n   </cc:Work>\r\n  </rdf:RDF>\r\n </metadata>\r\n <defs>\r\n  <style type=\"text/css\">*{stroke-linecap:butt;stroke-linejoin:round;}</style>\r\n </defs>\r\n <g id=\"figure_1\">\r\n  <g id=\"patch_1\">\r\n   <path d=\"M 0 357.238125 \r\nL 896.575 357.238125 \r\nL 896.575 0 \r\nL 0 0 \r\nz\r\n\" style=\"fill:none;\"/>\r\n  </g>\r\n  <g id=\"axes_1\">\r\n   <g id=\"patch_2\">\r\n    <path d=\"M 52.375 333.36 \r\nL 889.375 333.36 \r\nL 889.375 7.2 \r\nL 52.375 7.2 \r\nz\r\n\" style=\"fill:#ffffff;\"/>\r\n   </g>\r\n   <g id=\"matplotlib.axis_1\">\r\n    <g id=\"xtick_1\">\r\n     <g id=\"line2d_1\">\r\n      <defs>\r\n       <path d=\"M 0 0 \r\nL 0 3.5 \r\n\" id=\"mdf51b225e7\" style=\"stroke:#000000;stroke-width:0.8;\"/>\r\n      </defs>\r\n      <g>\r\n       <use style=\"stroke:#000000;stroke-width:0.8;\" x=\"90.420455\" xlink:href=\"#mdf51b225e7\" y=\"333.36\"/>\r\n      </g>\r\n     </g>\r\n     <g id=\"text_1\">\r\n      <!-- 0 -->\r\n      <g transform=\"translate(87.239205 347.958438)scale(0.1 -0.1)\">\r\n       <defs>\r\n        <path d=\"M 31.78125 66.40625 \r\nQ 24.171875 66.40625 20.328125 58.90625 \r\nQ 16.5 51.421875 16.5 36.375 \r\nQ 16.5 21.390625 20.328125 13.890625 \r\nQ 24.171875 6.390625 31.78125 6.390625 \r\nQ 39.453125 6.390625 43.28125 13.890625 \r\nQ 47.125 21.390625 47.125 36.375 \r\nQ 47.125 51.421875 43.28125 58.90625 \r\nQ 39.453125 66.40625 31.78125 66.40625 \r\nz\r\nM 31.78125 74.21875 \r\nQ 44.046875 74.21875 50.515625 64.515625 \r\nQ 56.984375 54.828125 56.984375 36.375 \r\nQ 56.984375 17.96875 50.515625 8.265625 \r\nQ 44.046875 -1.421875 31.78125 -1.421875 \r\nQ 19.53125 -1.421875 13.0625 8.265625 \r\nQ 6.59375 17.96875 6.59375 36.375 \r\nQ 6.59375 54.828125 13.0625 64.515625 \r\nQ 19.53125 74.21875 31.78125 74.21875 \r\nz\r\n\" id=\"DejaVuSans-48\"/>\r\n       </defs>\r\n       <use xlink:href=\"#DejaVuSans-48\"/>\r\n      </g>\r\n     </g>\r\n    </g>\r\n    <g id=\"xtick_2\">\r\n     <g id=\"line2d_2\">\r\n      <g>\r\n       <use style=\"stroke:#000000;stroke-width:0.8;\" x=\"202.31885\" xlink:href=\"#mdf51b225e7\" y=\"333.36\"/>\r\n      </g>\r\n     </g>\r\n     <g id=\"text_2\">\r\n      <!-- 20 -->\r\n      <g transform=\"translate(195.95635 347.958438)scale(0.1 -0.1)\">\r\n       <defs>\r\n        <path d=\"M 19.1875 8.296875 \r\nL 53.609375 8.296875 \r\nL 53.609375 0 \r\nL 7.328125 0 \r\nL 7.328125 8.296875 \r\nQ 12.9375 14.109375 22.625 23.890625 \r\nQ 32.328125 33.6875 34.8125 36.53125 \r\nQ 39.546875 41.84375 41.421875 45.53125 \r\nQ 43.3125 49.21875 43.3125 52.78125 \r\nQ 43.3125 58.59375 39.234375 62.25 \r\nQ 35.15625 65.921875 28.609375 65.921875 \r\nQ 23.96875 65.921875 18.8125 64.3125 \r\nQ 13.671875 62.703125 7.8125 59.421875 \r\nL 7.8125 69.390625 \r\nQ 13.765625 71.78125 18.9375 73 \r\nQ 24.125 74.21875 28.421875 74.21875 \r\nQ 39.75 74.21875 46.484375 68.546875 \r\nQ 53.21875 62.890625 53.21875 53.421875 \r\nQ 53.21875 48.921875 51.53125 44.890625 \r\nQ 49.859375 40.875 45.40625 35.40625 \r\nQ 44.1875 33.984375 37.640625 27.21875 \r\nQ 31.109375 20.453125 19.1875 8.296875 \r\nz\r\n\" id=\"DejaVuSans-50\"/>\r\n       </defs>\r\n       <use xlink:href=\"#DejaVuSans-50\"/>\r\n       <use x=\"63.623047\" xlink:href=\"#DejaVuSans-48\"/>\r\n      </g>\r\n     </g>\r\n    </g>\r\n    <g id=\"xtick_3\">\r\n     <g id=\"line2d_3\">\r\n      <g>\r\n       <use style=\"stroke:#000000;stroke-width:0.8;\" x=\"314.217246\" xlink:href=\"#mdf51b225e7\" y=\"333.36\"/>\r\n      </g>\r\n     </g>\r\n     <g id=\"text_3\">\r\n      <!-- 40 -->\r\n      <g transform=\"translate(307.854746 347.958438)scale(0.1 -0.1)\">\r\n       <defs>\r\n        <path d=\"M 37.796875 64.3125 \r\nL 12.890625 25.390625 \r\nL 37.796875 25.390625 \r\nz\r\nM 35.203125 72.90625 \r\nL 47.609375 72.90625 \r\nL 47.609375 25.390625 \r\nL 58.015625 25.390625 \r\nL 58.015625 17.1875 \r\nL 47.609375 17.1875 \r\nL 47.609375 0 \r\nL 37.796875 0 \r\nL 37.796875 17.1875 \r\nL 4.890625 17.1875 \r\nL 4.890625 26.703125 \r\nz\r\n\" id=\"DejaVuSans-52\"/>\r\n       </defs>\r\n       <use xlink:href=\"#DejaVuSans-52\"/>\r\n       <use x=\"63.623047\" xlink:href=\"#DejaVuSans-48\"/>\r\n      </g>\r\n     </g>\r\n    </g>\r\n    <g id=\"xtick_4\">\r\n     <g id=\"line2d_4\">\r\n      <g>\r\n       <use style=\"stroke:#000000;stroke-width:0.8;\" x=\"426.115642\" xlink:href=\"#mdf51b225e7\" y=\"333.36\"/>\r\n      </g>\r\n     </g>\r\n     <g id=\"text_4\">\r\n      <!-- 60 -->\r\n      <g transform=\"translate(419.753142 347.958438)scale(0.1 -0.1)\">\r\n       <defs>\r\n        <path d=\"M 33.015625 40.375 \r\nQ 26.375 40.375 22.484375 35.828125 \r\nQ 18.609375 31.296875 18.609375 23.390625 \r\nQ 18.609375 15.53125 22.484375 10.953125 \r\nQ 26.375 6.390625 33.015625 6.390625 \r\nQ 39.65625 6.390625 43.53125 10.953125 \r\nQ 47.40625 15.53125 47.40625 23.390625 \r\nQ 47.40625 31.296875 43.53125 35.828125 \r\nQ 39.65625 40.375 33.015625 40.375 \r\nz\r\nM 52.59375 71.296875 \r\nL 52.59375 62.3125 \r\nQ 48.875 64.0625 45.09375 64.984375 \r\nQ 41.3125 65.921875 37.59375 65.921875 \r\nQ 27.828125 65.921875 22.671875 59.328125 \r\nQ 17.53125 52.734375 16.796875 39.40625 \r\nQ 19.671875 43.65625 24.015625 45.921875 \r\nQ 28.375 48.1875 33.59375 48.1875 \r\nQ 44.578125 48.1875 50.953125 41.515625 \r\nQ 57.328125 34.859375 57.328125 23.390625 \r\nQ 57.328125 12.15625 50.6875 5.359375 \r\nQ 44.046875 -1.421875 33.015625 -1.421875 \r\nQ 20.359375 -1.421875 13.671875 8.265625 \r\nQ 6.984375 17.96875 6.984375 36.375 \r\nQ 6.984375 53.65625 15.1875 63.9375 \r\nQ 23.390625 74.21875 37.203125 74.21875 \r\nQ 40.921875 74.21875 44.703125 73.484375 \r\nQ 48.484375 72.75 52.59375 71.296875 \r\nz\r\n\" id=\"DejaVuSans-54\"/>\r\n       </defs>\r\n       <use xlink:href=\"#DejaVuSans-54\"/>\r\n       <use x=\"63.623047\" xlink:href=\"#DejaVuSans-48\"/>\r\n      </g>\r\n     </g>\r\n    </g>\r\n    <g id=\"xtick_5\">\r\n     <g id=\"line2d_5\">\r\n      <g>\r\n       <use style=\"stroke:#000000;stroke-width:0.8;\" x=\"538.014037\" xlink:href=\"#mdf51b225e7\" y=\"333.36\"/>\r\n      </g>\r\n     </g>\r\n     <g id=\"text_5\">\r\n      <!-- 80 -->\r\n      <g transform=\"translate(531.651537 347.958438)scale(0.1 -0.1)\">\r\n       <defs>\r\n        <path d=\"M 31.78125 34.625 \r\nQ 24.75 34.625 20.71875 30.859375 \r\nQ 16.703125 27.09375 16.703125 20.515625 \r\nQ 16.703125 13.921875 20.71875 10.15625 \r\nQ 24.75 6.390625 31.78125 6.390625 \r\nQ 38.8125 6.390625 42.859375 10.171875 \r\nQ 46.921875 13.96875 46.921875 20.515625 \r\nQ 46.921875 27.09375 42.890625 30.859375 \r\nQ 38.875 34.625 31.78125 34.625 \r\nz\r\nM 21.921875 38.8125 \r\nQ 15.578125 40.375 12.03125 44.71875 \r\nQ 8.5 49.078125 8.5 55.328125 \r\nQ 8.5 64.0625 14.71875 69.140625 \r\nQ 20.953125 74.21875 31.78125 74.21875 \r\nQ 42.671875 74.21875 48.875 69.140625 \r\nQ 55.078125 64.0625 55.078125 55.328125 \r\nQ 55.078125 49.078125 51.53125 44.71875 \r\nQ 48 40.375 41.703125 38.8125 \r\nQ 48.828125 37.15625 52.796875 32.3125 \r\nQ 56.78125 27.484375 56.78125 20.515625 \r\nQ 56.78125 9.90625 50.3125 4.234375 \r\nQ 43.84375 -1.421875 31.78125 -1.421875 \r\nQ 19.734375 -1.421875 13.25 4.234375 \r\nQ 6.78125 9.90625 6.78125 20.515625 \r\nQ 6.78125 27.484375 10.78125 32.3125 \r\nQ 14.796875 37.15625 21.921875 38.8125 \r\nz\r\nM 18.3125 54.390625 \r\nQ 18.3125 48.734375 21.84375 45.5625 \r\nQ 25.390625 42.390625 31.78125 42.390625 \r\nQ 38.140625 42.390625 41.71875 45.5625 \r\nQ 45.3125 48.734375 45.3125 54.390625 \r\nQ 45.3125 60.0625 41.71875 63.234375 \r\nQ 38.140625 66.40625 31.78125 66.40625 \r\nQ 25.390625 66.40625 21.84375 63.234375 \r\nQ 18.3125 60.0625 18.3125 54.390625 \r\nz\r\n\" id=\"DejaVuSans-56\"/>\r\n       </defs>\r\n       <use xlink:href=\"#DejaVuSans-56\"/>\r\n       <use x=\"63.623047\" xlink:href=\"#DejaVuSans-48\"/>\r\n      </g>\r\n     </g>\r\n    </g>\r\n    <g id=\"xtick_6\">\r\n     <g id=\"line2d_6\">\r\n      <g>\r\n       <use style=\"stroke:#000000;stroke-width:0.8;\" x=\"649.912433\" xlink:href=\"#mdf51b225e7\" y=\"333.36\"/>\r\n      </g>\r\n     </g>\r\n     <g id=\"text_6\">\r\n      <!-- 100 -->\r\n      <g transform=\"translate(640.368683 347.958438)scale(0.1 -0.1)\">\r\n       <defs>\r\n        <path d=\"M 12.40625 8.296875 \r\nL 28.515625 8.296875 \r\nL 28.515625 63.921875 \r\nL 10.984375 60.40625 \r\nL 10.984375 69.390625 \r\nL 28.421875 72.90625 \r\nL 38.28125 72.90625 \r\nL 38.28125 8.296875 \r\nL 54.390625 8.296875 \r\nL 54.390625 0 \r\nL 12.40625 0 \r\nz\r\n\" id=\"DejaVuSans-49\"/>\r\n       </defs>\r\n       <use xlink:href=\"#DejaVuSans-49\"/>\r\n       <use x=\"63.623047\" xlink:href=\"#DejaVuSans-48\"/>\r\n       <use x=\"127.246094\" xlink:href=\"#DejaVuSans-48\"/>\r\n      </g>\r\n     </g>\r\n    </g>\r\n    <g id=\"xtick_7\">\r\n     <g id=\"line2d_7\">\r\n      <g>\r\n       <use style=\"stroke:#000000;stroke-width:0.8;\" x=\"761.810829\" xlink:href=\"#mdf51b225e7\" y=\"333.36\"/>\r\n      </g>\r\n     </g>\r\n     <g id=\"text_7\">\r\n      <!-- 120 -->\r\n      <g transform=\"translate(752.267079 347.958438)scale(0.1 -0.1)\">\r\n       <use xlink:href=\"#DejaVuSans-49\"/>\r\n       <use x=\"63.623047\" xlink:href=\"#DejaVuSans-50\"/>\r\n       <use x=\"127.246094\" xlink:href=\"#DejaVuSans-48\"/>\r\n      </g>\r\n     </g>\r\n    </g>\r\n    <g id=\"xtick_8\">\r\n     <g id=\"line2d_8\">\r\n      <g>\r\n       <use style=\"stroke:#000000;stroke-width:0.8;\" x=\"873.709225\" xlink:href=\"#mdf51b225e7\" y=\"333.36\"/>\r\n      </g>\r\n     </g>\r\n     <g id=\"text_8\">\r\n      <!-- 140 -->\r\n      <g transform=\"translate(864.165475 347.958438)scale(0.1 -0.1)\">\r\n       <use xlink:href=\"#DejaVuSans-49\"/>\r\n       <use x=\"63.623047\" xlink:href=\"#DejaVuSans-52\"/>\r\n       <use x=\"127.246094\" xlink:href=\"#DejaVuSans-48\"/>\r\n      </g>\r\n     </g>\r\n    </g>\r\n   </g>\r\n   <g id=\"matplotlib.axis_2\">\r\n    <g id=\"ytick_1\">\r\n     <g id=\"line2d_9\">\r\n      <defs>\r\n       <path d=\"M 0 0 \r\nL -3.5 0 \r\n\" id=\"mf8b07c158a\" style=\"stroke:#000000;stroke-width:0.8;\"/>\r\n      </defs>\r\n      <g>\r\n       <use style=\"stroke:#000000;stroke-width:0.8;\" x=\"52.375\" xlink:href=\"#mf8b07c158a\" y=\"332.905004\"/>\r\n      </g>\r\n     </g>\r\n     <g id=\"text_9\">\r\n      <!-- 0 -->\r\n      <g transform=\"translate(39.0125 336.704223)scale(0.1 -0.1)\">\r\n       <use xlink:href=\"#DejaVuSans-48\"/>\r\n      </g>\r\n     </g>\r\n    </g>\r\n    <g id=\"ytick_2\">\r\n     <g id=\"line2d_10\">\r\n      <g>\r\n       <use style=\"stroke:#000000;stroke-width:0.8;\" x=\"52.375\" xlink:href=\"#mf8b07c158a\" y=\"291.728905\"/>\r\n      </g>\r\n     </g>\r\n     <g id=\"text_10\">\r\n      <!-- 100000 -->\r\n      <g transform=\"translate(7.2 295.528124)scale(0.1 -0.1)\">\r\n       <use xlink:href=\"#DejaVuSans-49\"/>\r\n       <use x=\"63.623047\" xlink:href=\"#DejaVuSans-48\"/>\r\n       <use x=\"127.246094\" xlink:href=\"#DejaVuSans-48\"/>\r\n       <use x=\"190.869141\" xlink:href=\"#DejaVuSans-48\"/>\r\n       <use x=\"254.492188\" xlink:href=\"#DejaVuSans-48\"/>\r\n       <use x=\"318.115234\" xlink:href=\"#DejaVuSans-48\"/>\r\n      </g>\r\n     </g>\r\n    </g>\r\n    <g id=\"ytick_3\">\r\n     <g id=\"line2d_11\">\r\n      <g>\r\n       <use style=\"stroke:#000000;stroke-width:0.8;\" x=\"52.375\" xlink:href=\"#mf8b07c158a\" y=\"250.552806\"/>\r\n      </g>\r\n     </g>\r\n     <g id=\"text_11\">\r\n      <!-- 200000 -->\r\n      <g transform=\"translate(7.2 254.352024)scale(0.1 -0.1)\">\r\n       <use xlink:href=\"#DejaVuSans-50\"/>\r\n       <use x=\"63.623047\" xlink:href=\"#DejaVuSans-48\"/>\r\n       <use x=\"127.246094\" xlink:href=\"#DejaVuSans-48\"/>\r\n       <use x=\"190.869141\" xlink:href=\"#DejaVuSans-48\"/>\r\n       <use x=\"254.492188\" xlink:href=\"#DejaVuSans-48\"/>\r\n       <use x=\"318.115234\" xlink:href=\"#DejaVuSans-48\"/>\r\n      </g>\r\n     </g>\r\n    </g>\r\n    <g id=\"ytick_4\">\r\n     <g id=\"line2d_12\">\r\n      <g>\r\n       <use style=\"stroke:#000000;stroke-width:0.8;\" x=\"52.375\" xlink:href=\"#mf8b07c158a\" y=\"209.376706\"/>\r\n      </g>\r\n     </g>\r\n     <g id=\"text_12\">\r\n      <!-- 300000 -->\r\n      <g transform=\"translate(7.2 213.175925)scale(0.1 -0.1)\">\r\n       <defs>\r\n        <path d=\"M 40.578125 39.3125 \r\nQ 47.65625 37.796875 51.625 33 \r\nQ 55.609375 28.21875 55.609375 21.1875 \r\nQ 55.609375 10.40625 48.1875 4.484375 \r\nQ 40.765625 -1.421875 27.09375 -1.421875 \r\nQ 22.515625 -1.421875 17.65625 -0.515625 \r\nQ 12.796875 0.390625 7.625 2.203125 \r\nL 7.625 11.71875 \r\nQ 11.71875 9.328125 16.59375 8.109375 \r\nQ 21.484375 6.890625 26.8125 6.890625 \r\nQ 36.078125 6.890625 40.9375 10.546875 \r\nQ 45.796875 14.203125 45.796875 21.1875 \r\nQ 45.796875 27.640625 41.28125 31.265625 \r\nQ 36.765625 34.90625 28.71875 34.90625 \r\nL 20.21875 34.90625 \r\nL 20.21875 43.015625 \r\nL 29.109375 43.015625 \r\nQ 36.375 43.015625 40.234375 45.921875 \r\nQ 44.09375 48.828125 44.09375 54.296875 \r\nQ 44.09375 59.90625 40.109375 62.90625 \r\nQ 36.140625 65.921875 28.71875 65.921875 \r\nQ 24.65625 65.921875 20.015625 65.03125 \r\nQ 15.375 64.15625 9.8125 62.3125 \r\nL 9.8125 71.09375 \r\nQ 15.4375 72.65625 20.34375 73.4375 \r\nQ 25.25 74.21875 29.59375 74.21875 \r\nQ 40.828125 74.21875 47.359375 69.109375 \r\nQ 53.90625 64.015625 53.90625 55.328125 \r\nQ 53.90625 49.265625 50.4375 45.09375 \r\nQ 46.96875 40.921875 40.578125 39.3125 \r\nz\r\n\" id=\"DejaVuSans-51\"/>\r\n       </defs>\r\n       <use xlink:href=\"#DejaVuSans-51\"/>\r\n       <use x=\"63.623047\" xlink:href=\"#DejaVuSans-48\"/>\r\n       <use x=\"127.246094\" xlink:href=\"#DejaVuSans-48\"/>\r\n       <use x=\"190.869141\" xlink:href=\"#DejaVuSans-48\"/>\r\n       <use x=\"254.492188\" xlink:href=\"#DejaVuSans-48\"/>\r\n       <use x=\"318.115234\" xlink:href=\"#DejaVuSans-48\"/>\r\n      </g>\r\n     </g>\r\n    </g>\r\n    <g id=\"ytick_5\">\r\n     <g id=\"line2d_13\">\r\n      <g>\r\n       <use style=\"stroke:#000000;stroke-width:0.8;\" x=\"52.375\" xlink:href=\"#mf8b07c158a\" y=\"168.200607\"/>\r\n      </g>\r\n     </g>\r\n     <g id=\"text_13\">\r\n      <!-- 400000 -->\r\n      <g transform=\"translate(7.2 171.999826)scale(0.1 -0.1)\">\r\n       <use xlink:href=\"#DejaVuSans-52\"/>\r\n       <use x=\"63.623047\" xlink:href=\"#DejaVuSans-48\"/>\r\n       <use x=\"127.246094\" xlink:href=\"#DejaVuSans-48\"/>\r\n       <use x=\"190.869141\" xlink:href=\"#DejaVuSans-48\"/>\r\n       <use x=\"254.492188\" xlink:href=\"#DejaVuSans-48\"/>\r\n       <use x=\"318.115234\" xlink:href=\"#DejaVuSans-48\"/>\r\n      </g>\r\n     </g>\r\n    </g>\r\n    <g id=\"ytick_6\">\r\n     <g id=\"line2d_14\">\r\n      <g>\r\n       <use style=\"stroke:#000000;stroke-width:0.8;\" x=\"52.375\" xlink:href=\"#mf8b07c158a\" y=\"127.024508\"/>\r\n      </g>\r\n     </g>\r\n     <g id=\"text_14\">\r\n      <!-- 500000 -->\r\n      <g transform=\"translate(7.2 130.823726)scale(0.1 -0.1)\">\r\n       <defs>\r\n        <path d=\"M 10.796875 72.90625 \r\nL 49.515625 72.90625 \r\nL 49.515625 64.59375 \r\nL 19.828125 64.59375 \r\nL 19.828125 46.734375 \r\nQ 21.96875 47.46875 24.109375 47.828125 \r\nQ 26.265625 48.1875 28.421875 48.1875 \r\nQ 40.625 48.1875 47.75 41.5 \r\nQ 54.890625 34.8125 54.890625 23.390625 \r\nQ 54.890625 11.625 47.5625 5.09375 \r\nQ 40.234375 -1.421875 26.90625 -1.421875 \r\nQ 22.3125 -1.421875 17.546875 -0.640625 \r\nQ 12.796875 0.140625 7.71875 1.703125 \r\nL 7.71875 11.625 \r\nQ 12.109375 9.234375 16.796875 8.0625 \r\nQ 21.484375 6.890625 26.703125 6.890625 \r\nQ 35.15625 6.890625 40.078125 11.328125 \r\nQ 45.015625 15.765625 45.015625 23.390625 \r\nQ 45.015625 31 40.078125 35.4375 \r\nQ 35.15625 39.890625 26.703125 39.890625 \r\nQ 22.75 39.890625 18.8125 39.015625 \r\nQ 14.890625 38.140625 10.796875 36.28125 \r\nz\r\n\" id=\"DejaVuSans-53\"/>\r\n       </defs>\r\n       <use xlink:href=\"#DejaVuSans-53\"/>\r\n       <use x=\"63.623047\" xlink:href=\"#DejaVuSans-48\"/>\r\n       <use x=\"127.246094\" xlink:href=\"#DejaVuSans-48\"/>\r\n       <use x=\"190.869141\" xlink:href=\"#DejaVuSans-48\"/>\r\n       <use x=\"254.492188\" xlink:href=\"#DejaVuSans-48\"/>\r\n       <use x=\"318.115234\" xlink:href=\"#DejaVuSans-48\"/>\r\n      </g>\r\n     </g>\r\n    </g>\r\n    <g id=\"ytick_7\">\r\n     <g id=\"line2d_15\">\r\n      <g>\r\n       <use style=\"stroke:#000000;stroke-width:0.8;\" x=\"52.375\" xlink:href=\"#mf8b07c158a\" y=\"85.848408\"/>\r\n      </g>\r\n     </g>\r\n     <g id=\"text_15\">\r\n      <!-- 600000 -->\r\n      <g transform=\"translate(7.2 89.647627)scale(0.1 -0.1)\">\r\n       <use xlink:href=\"#DejaVuSans-54\"/>\r\n       <use x=\"63.623047\" xlink:href=\"#DejaVuSans-48\"/>\r\n       <use x=\"127.246094\" xlink:href=\"#DejaVuSans-48\"/>\r\n       <use x=\"190.869141\" xlink:href=\"#DejaVuSans-48\"/>\r\n       <use x=\"254.492188\" xlink:href=\"#DejaVuSans-48\"/>\r\n       <use x=\"318.115234\" xlink:href=\"#DejaVuSans-48\"/>\r\n      </g>\r\n     </g>\r\n    </g>\r\n    <g id=\"ytick_8\">\r\n     <g id=\"line2d_16\">\r\n      <g>\r\n       <use style=\"stroke:#000000;stroke-width:0.8;\" x=\"52.375\" xlink:href=\"#mf8b07c158a\" y=\"44.672309\"/>\r\n      </g>\r\n     </g>\r\n     <g id=\"text_16\">\r\n      <!-- 700000 -->\r\n      <g transform=\"translate(7.2 48.471528)scale(0.1 -0.1)\">\r\n       <defs>\r\n        <path d=\"M 8.203125 72.90625 \r\nL 55.078125 72.90625 \r\nL 55.078125 68.703125 \r\nL 28.609375 0 \r\nL 18.3125 0 \r\nL 43.21875 64.59375 \r\nL 8.203125 64.59375 \r\nz\r\n\" id=\"DejaVuSans-55\"/>\r\n       </defs>\r\n       <use xlink:href=\"#DejaVuSans-55\"/>\r\n       <use x=\"63.623047\" xlink:href=\"#DejaVuSans-48\"/>\r\n       <use x=\"127.246094\" xlink:href=\"#DejaVuSans-48\"/>\r\n       <use x=\"190.869141\" xlink:href=\"#DejaVuSans-48\"/>\r\n       <use x=\"254.492188\" xlink:href=\"#DejaVuSans-48\"/>\r\n       <use x=\"318.115234\" xlink:href=\"#DejaVuSans-48\"/>\r\n      </g>\r\n     </g>\r\n    </g>\r\n   </g>\r\n   <g id=\"line2d_17\">\r\n    <defs>\r\n     <path d=\"M 0 3 \r\nC 0.795609 3 1.55874 2.683901 2.12132 2.12132 \r\nC 2.683901 1.55874 3 0.795609 3 0 \r\nC 3 -0.795609 2.683901 -1.55874 2.12132 -2.12132 \r\nC 1.55874 -2.683901 0.795609 -3 0 -3 \r\nC -0.795609 -3 -1.55874 -2.683901 -2.12132 -2.12132 \r\nC -2.683901 -1.55874 -3 -0.795609 -3 0 \r\nC -3 0.795609 -2.683901 1.55874 -2.12132 2.12132 \r\nC -1.55874 2.683901 -0.795609 3 0 3 \r\nz\r\n\" id=\"m2fbe127d91\" style=\"stroke:#0000ff;\"/>\r\n    </defs>\r\n    <g clip-path=\"url(#p4dd6e1537b)\">\r\n     <use style=\"fill:#0000ff;stroke:#0000ff;\" x=\"118.395053\" xlink:href=\"#m2fbe127d91\" y=\"247.052837\"/>\r\n     <use style=\"fill:#0000ff;stroke:#0000ff;\" x=\"263.862968\" xlink:href=\"#m2fbe127d91\" y=\"258.170384\"/>\r\n     <use style=\"fill:#0000ff;stroke:#0000ff;\" x=\"129.584893\" xlink:href=\"#m2fbe127d91\" y=\"240.876422\"/>\r\n     <use style=\"fill:#0000ff;stroke:#0000ff;\" x=\"599.558155\" xlink:href=\"#m2fbe127d91\" y=\"275.258465\"/>\r\n     <use style=\"fill:#0000ff;stroke:#0000ff;\" x=\"135.179813\" xlink:href=\"#m2fbe127d91\" y=\"229.964756\"/>\r\n     <use style=\"fill:#0000ff;stroke:#0000ff;\" x=\"179.939171\" xlink:href=\"#m2fbe127d91\" y=\"274.023182\"/>\r\n     <use style=\"fill:#0000ff;stroke:#0000ff;\" x=\"107.205214\" xlink:href=\"#m2fbe127d91\" y=\"206.494379\"/>\r\n     <use style=\"fill:#0000ff;stroke:#0000ff;\" x=\"291.837567\" xlink:href=\"#m2fbe127d91\" y=\"250.552806\"/>\r\n     <use style=\"fill:#0000ff;stroke:#0000ff;\" x=\"521.229278\" xlink:href=\"#m2fbe127d91\" y=\"279.417251\"/>\r\n     <use style=\"fill:#0000ff;stroke:#0000ff;\" x=\"476.46992\" xlink:href=\"#m2fbe127d91\" y=\"284.317207\"/>\r\n     <use style=\"fill:#0000ff;stroke:#0000ff;\" x=\"331.002005\" xlink:href=\"#m2fbe127d91\" y=\"279.581956\"/>\r\n     <use style=\"fill:#0000ff;stroke:#0000ff;\" x=\"96.015374\" xlink:href=\"#m2fbe127d91\" y=\"190.847462\"/>\r\n     <use style=\"fill:#0000ff;stroke:#0000ff;\" x=\"347.786765\" xlink:href=\"#m2fbe127d91\" y=\"273.611421\"/>\r\n     <use style=\"fill:#0000ff;stroke:#0000ff;\" x=\"96.015374\" xlink:href=\"#m2fbe127d91\" y=\"217.817807\"/>\r\n     <use style=\"fill:#0000ff;stroke:#0000ff;\" x=\"358.976604\" xlink:href=\"#m2fbe127d91\" y=\"268.258528\"/>\r\n     <use style=\"fill:#0000ff;stroke:#0000ff;\" x=\"526.824198\" xlink:href=\"#m2fbe127d91\" y=\"278.552553\"/>\r\n     <use style=\"fill:#0000ff;stroke:#0000ff;\" x=\"314.217246\" xlink:href=\"#m2fbe127d91\" y=\"271.552616\"/>\r\n     <use style=\"fill:#0000ff;stroke:#0000ff;\" x=\"308.622326\" xlink:href=\"#m2fbe127d91\" y=\"295.846515\"/>\r\n     <use style=\"fill:#0000ff;stroke:#0000ff;\" x=\"112.800134\" xlink:href=\"#m2fbe127d91\" y=\"267.435006\"/>\r\n     <use style=\"fill:#0000ff;stroke:#0000ff;\" x=\"375.761364\" xlink:href=\"#m2fbe127d91\" y=\"275.670226\"/>\r\n     <use style=\"fill:#0000ff;stroke:#0000ff;\" x=\"96.015374\" xlink:href=\"#m2fbe127d91\" y=\"198.959153\"/>\r\n     <use style=\"fill:#0000ff;stroke:#0000ff;\" x=\"521.229278\" xlink:href=\"#m2fbe127d91\" y=\"275.505522\"/>\r\n     <use style=\"fill:#0000ff;stroke:#0000ff;\" x=\"123.989973\" xlink:href=\"#m2fbe127d91\" y=\"238.199976\"/>\r\n     <use style=\"fill:#0000ff;stroke:#0000ff;\" x=\"263.862968\" xlink:href=\"#m2fbe127d91\" y=\"279.417251\"/>\r\n     <use style=\"fill:#0000ff;stroke:#0000ff;\" x=\"325.407086\" xlink:href=\"#m2fbe127d91\" y=\"269.493811\"/>\r\n     <use style=\"fill:#0000ff;stroke:#0000ff;\" x=\"101.610294\" xlink:href=\"#m2fbe127d91\" y=\"227.370662\"/>\r\n     <use style=\"fill:#0000ff;stroke:#0000ff;\" x=\"420.520722\" xlink:href=\"#m2fbe127d91\" y=\"277.399622\"/>\r\n     <use style=\"fill:#0000ff;stroke:#0000ff;\" x=\"107.205214\" xlink:href=\"#m2fbe127d91\" y=\"206.90614\"/>\r\n     <use style=\"fill:#0000ff;stroke:#0000ff;\" x=\"364.571524\" xlink:href=\"#m2fbe127d91\" y=\"247.464598\"/>\r\n     <use style=\"fill:#0000ff;stroke:#0000ff;\" x=\"543.608957\" xlink:href=\"#m2fbe127d91\" y=\"304.699376\"/>\r\n     <use style=\"fill:#0000ff;stroke:#0000ff;\" x=\"582.773396\" xlink:href=\"#m2fbe127d91\" y=\"316.434564\"/>\r\n     <use style=\"fill:#0000ff;stroke:#0000ff;\" x=\"325.407086\" xlink:href=\"#m2fbe127d91\" y=\"271.4085\"/>\r\n     <use style=\"fill:#0000ff;stroke:#0000ff;\" x=\"96.015374\" xlink:href=\"#m2fbe127d91\" y=\"258.829201\"/>\r\n     <use style=\"fill:#0000ff;stroke:#0000ff;\" x=\"375.761364\" xlink:href=\"#m2fbe127d91\" y=\"264.75856\"/>\r\n     <use style=\"fill:#0000ff;stroke:#0000ff;\" x=\"101.610294\" xlink:href=\"#m2fbe127d91\" y=\"218.641329\"/>\r\n     <use style=\"fill:#0000ff;stroke:#0000ff;\" x=\"101.610294\" xlink:href=\"#m2fbe127d91\" y=\"205.670857\"/>\r\n     <use style=\"fill:#0000ff;stroke:#0000ff;\" x=\"174.344251\" xlink:href=\"#m2fbe127d91\" y=\"273.19966\"/>\r\n     <use style=\"fill:#0000ff;stroke:#0000ff;\" x=\"398.141043\" xlink:href=\"#m2fbe127d91\" y=\"269.905572\"/>\r\n     <use style=\"fill:#0000ff;stroke:#0000ff;\" x=\"409.330882\" xlink:href=\"#m2fbe127d91\" y=\"288.023056\"/>\r\n     <use style=\"fill:#0000ff;stroke:#0000ff;\" x=\"386.951203\" xlink:href=\"#m2fbe127d91\" y=\"299.140603\"/>\r\n     <use style=\"fill:#0000ff;stroke:#0000ff;\" x=\"319.812166\" xlink:href=\"#m2fbe127d91\" y=\"267.023245\"/>\r\n     <use style=\"fill:#0000ff;stroke:#0000ff;\" x=\"358.976604\" xlink:href=\"#m2fbe127d91\" y=\"262.905635\"/>\r\n     <use style=\"fill:#0000ff;stroke:#0000ff;\" x=\"224.698529\" xlink:href=\"#m2fbe127d91\" y=\"273.611421\"/>\r\n     <use style=\"fill:#0000ff;stroke:#0000ff;\" x=\"275.052807\" xlink:href=\"#m2fbe127d91\" y=\"279.273135\"/>\r\n     <use style=\"fill:#0000ff;stroke:#0000ff;\" x=\"353.381684\" xlink:href=\"#m2fbe127d91\" y=\"274.846704\"/>\r\n     <use style=\"fill:#0000ff;stroke:#0000ff;\" x=\"118.395053\" xlink:href=\"#m2fbe127d91\" y=\"201.182663\"/>\r\n     <use style=\"fill:#0000ff;stroke:#0000ff;\" x=\"123.989973\" xlink:href=\"#m2fbe127d91\" y=\"234.211659\"/>\r\n     <use style=\"fill:#0000ff;stroke:#0000ff;\" x=\"96.015374\" xlink:href=\"#m2fbe127d91\" y=\"230.088284\"/>\r\n     <use style=\"fill:#0000ff;stroke:#0000ff;\" x=\"588.368316\" xlink:href=\"#m2fbe127d91\" y=\"286.376012\"/>\r\n     <use style=\"fill:#0000ff;stroke:#0000ff;\" x=\"319.812166\" xlink:href=\"#m2fbe127d91\" y=\"280.611358\"/>\r\n     <use style=\"fill:#0000ff;stroke:#0000ff;\" x=\"146.369652\" xlink:href=\"#m2fbe127d91\" y=\"260.023308\"/>\r\n     <use style=\"fill:#0000ff;stroke:#0000ff;\" x=\"493.254679\" xlink:href=\"#m2fbe127d91\" y=\"285.75837\"/>\r\n     <use style=\"fill:#0000ff;stroke:#0000ff;\" x=\"353.381684\" xlink:href=\"#m2fbe127d91\" y=\"287.611295\"/>\r\n     <use style=\"fill:#0000ff;stroke:#0000ff;\" x=\"230.293449\" xlink:href=\"#m2fbe127d91\" y=\"174.377022\"/>\r\n     <use style=\"fill:#0000ff;stroke:#0000ff;\" x=\"381.356283\" xlink:href=\"#m2fbe127d91\" y=\"279.376075\"/>\r\n     <use style=\"fill:#0000ff;stroke:#0000ff;\" x=\"336.596925\" xlink:href=\"#m2fbe127d91\" y=\"258.582145\"/>\r\n     <use style=\"fill:#0000ff;stroke:#0000ff;\" x=\"146.369652\" xlink:href=\"#m2fbe127d91\" y=\"261.876233\"/>\r\n     <use style=\"fill:#0000ff;stroke:#0000ff;\" x=\"101.610294\" xlink:href=\"#m2fbe127d91\" y=\"251.993969\"/>\r\n     <use style=\"fill:#0000ff;stroke:#0000ff;\" x=\"90.420455\" xlink:href=\"#m2fbe127d91\" y=\"152.232516\"/>\r\n     <use style=\"fill:#0000ff;stroke:#0000ff;\" x=\"291.837567\" xlink:href=\"#m2fbe127d91\" y=\"281.476056\"/>\r\n     <use style=\"fill:#0000ff;stroke:#0000ff;\" x=\"101.610294\" xlink:href=\"#m2fbe127d91\" y=\"267.846767\"/>\r\n     <use style=\"fill:#0000ff;stroke:#0000ff;\" x=\"577.178476\" xlink:href=\"#m2fbe127d91\" y=\"291.317144\"/>\r\n     <use style=\"fill:#0000ff;stroke:#0000ff;\" x=\"96.015374\" xlink:href=\"#m2fbe127d91\" y=\"249.523403\"/>\r\n     <use style=\"fill:#0000ff;stroke:#0000ff;\" x=\"588.368316\" xlink:href=\"#m2fbe127d91\" y=\"275.258465\"/>\r\n     <use style=\"fill:#0000ff;stroke:#0000ff;\" x=\"157.559492\" xlink:href=\"#m2fbe127d91\" y=\"242.523466\"/>\r\n     <use style=\"fill:#0000ff;stroke:#0000ff;\" x=\"107.205214\" xlink:href=\"#m2fbe127d91\" y=\"202.376769\"/>\r\n     <use style=\"fill:#0000ff;stroke:#0000ff;\" x=\"314.217246\" xlink:href=\"#m2fbe127d91\" y=\"258.788025\"/>\r\n     <use style=\"fill:#0000ff;stroke:#0000ff;\" x=\"112.800134\" xlink:href=\"#m2fbe127d91\" y=\"239.84702\"/>\r\n     <use style=\"fill:#0000ff;stroke:#0000ff;\" x=\"454.090241\" xlink:href=\"#m2fbe127d91\" y=\"299.964125\"/>\r\n     <use style=\"fill:#0000ff;stroke:#0000ff;\" x=\"386.951203\" xlink:href=\"#m2fbe127d91\" y=\"240.258781\"/>\r\n     <use style=\"fill:#0000ff;stroke:#0000ff;\" x=\"280.647727\" xlink:href=\"#m2fbe127d91\" y=\"232.435322\"/>\r\n     <use style=\"fill:#0000ff;stroke:#0000ff;\" x=\"230.293449\" xlink:href=\"#m2fbe127d91\" y=\"279.581956\"/>\r\n     <use style=\"fill:#0000ff;stroke:#0000ff;\" x=\"151.964572\" xlink:href=\"#m2fbe127d91\" y=\"256.72922\"/>\r\n     <use style=\"fill:#0000ff;stroke:#0000ff;\" x=\"403.735963\" xlink:href=\"#m2fbe127d91\" y=\"273.240836\"/>\r\n     <use style=\"fill:#0000ff;stroke:#0000ff;\" x=\"621.937834\" xlink:href=\"#m2fbe127d91\" y=\"288.681873\"/>\r\n     <use style=\"fill:#0000ff;stroke:#0000ff;\" x=\"291.837567\" xlink:href=\"#m2fbe127d91\" y=\"295.434754\"/>\r\n     <use style=\"fill:#0000ff;stroke:#0000ff;\" x=\"381.356283\" xlink:href=\"#m2fbe127d91\" y=\"277.008449\"/>\r\n     <use style=\"fill:#0000ff;stroke:#0000ff;\" x=\"426.115642\" xlink:href=\"#m2fbe127d91\" y=\"280.611358\"/>\r\n     <use style=\"fill:#0000ff;stroke:#0000ff;\" x=\"325.407086\" xlink:href=\"#m2fbe127d91\" y=\"276.699629\"/>\r\n     <use style=\"fill:#0000ff;stroke:#0000ff;\" x=\"644.317513\" xlink:href=\"#m2fbe127d91\" y=\"287.611295\"/>\r\n     <use style=\"fill:#0000ff;stroke:#0000ff;\" x=\"319.812166\" xlink:href=\"#m2fbe127d91\" y=\"253.229252\"/>\r\n     <use style=\"fill:#0000ff;stroke:#0000ff;\" x=\"135.179813\" xlink:href=\"#m2fbe127d91\" y=\"269.699692\"/>\r\n     <use style=\"fill:#0000ff;stroke:#0000ff;\" x=\"96.015374\" xlink:href=\"#m2fbe127d91\" y=\"232.023561\"/>\r\n     <use style=\"fill:#0000ff;stroke:#0000ff;\" x=\"353.381684\" xlink:href=\"#m2fbe127d91\" y=\"280.817239\"/>\r\n     <use style=\"fill:#0000ff;stroke:#0000ff;\" x=\"168.749332\" xlink:href=\"#m2fbe127d91\" y=\"263.523277\"/>\r\n     <use style=\"fill:#0000ff;stroke:#0000ff;\" x=\"174.344251\" xlink:href=\"#m2fbe127d91\" y=\"225.847146\"/>\r\n     <use style=\"fill:#0000ff;stroke:#0000ff;\" x=\"112.800134\" xlink:href=\"#m2fbe127d91\" y=\"261.258591\"/>\r\n     <use style=\"fill:#0000ff;stroke:#0000ff;\" x=\"90.420455\" xlink:href=\"#m2fbe127d91\" y=\"265.170321\"/>\r\n     <use style=\"fill:#0000ff;stroke:#0000ff;\" x=\"616.342914\" xlink:href=\"#m2fbe127d91\" y=\"297.90532\"/>\r\n     <use style=\"fill:#0000ff;stroke:#0000ff;\" x=\"163.154412\" xlink:href=\"#m2fbe127d91\" y=\"282.011345\"/>\r\n     <use style=\"fill:#0000ff;stroke:#0000ff;\" x=\"403.735963\" xlink:href=\"#m2fbe127d91\" y=\"287.652471\"/>\r\n     <use style=\"fill:#0000ff;stroke:#0000ff;\" x=\"342.191845\" xlink:href=\"#m2fbe127d91\" y=\"292.30537\"/>\r\n     <use style=\"fill:#0000ff;stroke:#0000ff;\" x=\"582.773396\" xlink:href=\"#m2fbe127d91\" y=\"265.582082\"/>\r\n     <use style=\"fill:#0000ff;stroke:#0000ff;\" x=\"633.127674\" xlink:href=\"#m2fbe127d91\" y=\"277.770207\"/>\r\n     <use style=\"fill:#0000ff;stroke:#0000ff;\" x=\"146.369652\" xlink:href=\"#m2fbe127d91\" y=\"248.596941\"/>\r\n     <use style=\"fill:#0000ff;stroke:#0000ff;\" x=\"179.939171\" xlink:href=\"#m2fbe127d91\" y=\"256.72922\"/>\r\n     <use style=\"fill:#0000ff;stroke:#0000ff;\" x=\"129.584893\" xlink:href=\"#m2fbe127d91\" y=\"244.788152\"/>\r\n     <use style=\"fill:#0000ff;stroke:#0000ff;\" x=\"325.407086\" xlink:href=\"#m2fbe127d91\" y=\"293.89065\"/>\r\n     <use style=\"fill:#0000ff;stroke:#0000ff;\" x=\"593.963235\" xlink:href=\"#m2fbe127d91\" y=\"298.728842\"/>\r\n     <use style=\"fill:#0000ff;stroke:#0000ff;\" x=\"375.761364\" xlink:href=\"#m2fbe127d91\" y=\"279.808424\"/>\r\n     <use style=\"fill:#0000ff;stroke:#0000ff;\" x=\"275.052807\" xlink:href=\"#m2fbe127d91\" y=\"248.494001\"/>\r\n     <use style=\"fill:#0000ff;stroke:#0000ff;\" x=\"230.293449\" xlink:href=\"#m2fbe127d91\" y=\"259.611547\"/>\r\n     <use style=\"fill:#0000ff;stroke:#0000ff;\" x=\"258.268048\" xlink:href=\"#m2fbe127d91\" y=\"283.920269\"/>\r\n     <use style=\"fill:#0000ff;stroke:#0000ff;\" x=\"96.015374\" xlink:href=\"#m2fbe127d91\" y=\"251.005743\"/>\r\n     <use style=\"fill:#0000ff;stroke:#0000ff;\" x=\"515.634358\" xlink:href=\"#m2fbe127d91\" y=\"263.111516\"/>\r\n     <use style=\"fill:#0000ff;stroke:#0000ff;\" x=\"118.395053\" xlink:href=\"#m2fbe127d91\" y=\"229.964756\"/>\r\n     <use style=\"fill:#0000ff;stroke:#0000ff;\" x=\"773.000668\" xlink:href=\"#m2fbe127d91\" y=\"291.728905\"/>\r\n     <use style=\"fill:#0000ff;stroke:#0000ff;\" x=\"426.115642\" xlink:href=\"#m2fbe127d91\" y=\"285.55249\"/>\r\n     <use style=\"fill:#0000ff;stroke:#0000ff;\" x=\"582.773396\" xlink:href=\"#m2fbe127d91\" y=\"285.55249\"/>\r\n     <use style=\"fill:#0000ff;stroke:#0000ff;\" x=\"275.052807\" xlink:href=\"#m2fbe127d91\" y=\"254.670415\"/>\r\n     <use style=\"fill:#0000ff;stroke:#0000ff;\" x=\"381.356283\" xlink:href=\"#m2fbe127d91\" y=\"276.534924\"/>\r\n     <use style=\"fill:#0000ff;stroke:#0000ff;\" x=\"146.369652\" xlink:href=\"#m2fbe127d91\" y=\"258.788025\"/>\r\n     <use style=\"fill:#0000ff;stroke:#0000ff;\" x=\"90.420455\" xlink:href=\"#m2fbe127d91\" y=\"174.801136\"/>\r\n     <use style=\"fill:#0000ff;stroke:#0000ff;\" x=\"392.546123\" xlink:href=\"#m2fbe127d91\" y=\"243.552869\"/>\r\n     <use style=\"fill:#0000ff;stroke:#0000ff;\" x=\"437.305481\" xlink:href=\"#m2fbe127d91\" y=\"226.053026\"/>\r\n     <use style=\"fill:#0000ff;stroke:#0000ff;\" x=\"135.179813\" xlink:href=\"#m2fbe127d91\" y=\"260.435069\"/>\r\n     <use style=\"fill:#0000ff;stroke:#0000ff;\" x=\"353.381684\" xlink:href=\"#m2fbe127d91\" y=\"275.670226\"/>\r\n     <use style=\"fill:#0000ff;stroke:#0000ff;\" x=\"96.015374\" xlink:href=\"#m2fbe127d91\" y=\"269.08205\"/>\r\n     <use style=\"fill:#0000ff;stroke:#0000ff;\" x=\"202.31885\" xlink:href=\"#m2fbe127d91\" y=\"201.141486\"/>\r\n     <use style=\"fill:#0000ff;stroke:#0000ff;\" x=\"96.015374\" xlink:href=\"#m2fbe127d91\" y=\"265.380319\"/>\r\n     <use style=\"fill:#0000ff;stroke:#0000ff;\" x=\"297.432487\" xlink:href=\"#m2fbe127d91\" y=\"258.788025\"/>\r\n     <use style=\"fill:#0000ff;stroke:#0000ff;\" x=\"470.875\" xlink:href=\"#m2fbe127d91\" y=\"291.728905\"/>\r\n     <use style=\"fill:#0000ff;stroke:#0000ff;\" x=\"370.166444\" xlink:href=\"#m2fbe127d91\" y=\"276.905509\"/>\r\n     <use style=\"fill:#0000ff;stroke:#0000ff;\" x=\"174.344251\" xlink:href=\"#m2fbe127d91\" y=\"269.534987\"/>\r\n     <use style=\"fill:#0000ff;stroke:#0000ff;\" x=\"258.268048\" xlink:href=\"#m2fbe127d91\" y=\"258.376264\"/>\r\n     <use style=\"fill:#0000ff;stroke:#0000ff;\" x=\"487.659759\" xlink:href=\"#m2fbe127d91\" y=\"298.1112\"/>\r\n     <use style=\"fill:#0000ff;stroke:#0000ff;\" x=\"263.862968\" xlink:href=\"#m2fbe127d91\" y=\"280.199597\"/>\r\n     <use style=\"fill:#0000ff;stroke:#0000ff;\" x=\"521.229278\" xlink:href=\"#m2fbe127d91\" y=\"297.081798\"/>\r\n     <use style=\"fill:#0000ff;stroke:#0000ff;\" x=\"314.217246\" xlink:href=\"#m2fbe127d91\" y=\"269.08205\"/>\r\n     <use style=\"fill:#0000ff;stroke:#0000ff;\" x=\"358.976604\" xlink:href=\"#m2fbe127d91\" y=\"271.140855\"/>\r\n     <use style=\"fill:#0000ff;stroke:#0000ff;\" x=\"314.217246\" xlink:href=\"#m2fbe127d91\" y=\"239.84702\"/>\r\n     <use style=\"fill:#0000ff;stroke:#0000ff;\" x=\"140.774733\" xlink:href=\"#m2fbe127d91\" y=\"232.435322\"/>\r\n     <use style=\"fill:#0000ff;stroke:#0000ff;\" x=\"358.976604\" xlink:href=\"#m2fbe127d91\" y=\"270.832034\"/>\r\n     <use style=\"fill:#0000ff;stroke:#0000ff;\" x=\"135.179813\" xlink:href=\"#m2fbe127d91\" y=\"242.317586\"/>\r\n     <use style=\"fill:#0000ff;stroke:#0000ff;\" x=\"303.027406\" xlink:href=\"#m2fbe127d91\" y=\"258.788025\"/>\r\n     <use style=\"fill:#0000ff;stroke:#0000ff;\" x=\"303.027406\" xlink:href=\"#m2fbe127d91\" y=\"261.258591\"/>\r\n     <use style=\"fill:#0000ff;stroke:#0000ff;\" x=\"314.217246\" xlink:href=\"#m2fbe127d91\" y=\"274.023182\"/>\r\n     <use style=\"fill:#0000ff;stroke:#0000ff;\" x=\"191.129011\" xlink:href=\"#m2fbe127d91\" y=\"262.493874\"/>\r\n     <use style=\"fill:#0000ff;stroke:#0000ff;\" x=\"140.774733\" xlink:href=\"#m2fbe127d91\" y=\"238.199976\"/>\r\n     <use style=\"fill:#0000ff;stroke:#0000ff;\" x=\"157.559492\" xlink:href=\"#m2fbe127d91\" y=\"237.582334\"/>\r\n     <use style=\"fill:#0000ff;stroke:#0000ff;\" x=\"308.622326\" xlink:href=\"#m2fbe127d91\" y=\"285.55249\"/>\r\n     <use style=\"fill:#0000ff;stroke:#0000ff;\" x=\"96.015374\" xlink:href=\"#m2fbe127d91\" y=\"225.847146\"/>\r\n     <use style=\"fill:#0000ff;stroke:#0000ff;\" x=\"414.925802\" xlink:href=\"#m2fbe127d91\" y=\"264.552679\"/>\r\n     <use style=\"fill:#0000ff;stroke:#0000ff;\" x=\"146.369652\" xlink:href=\"#m2fbe127d91\" y=\"248.905762\"/>\r\n     <use style=\"fill:#0000ff;stroke:#0000ff;\" x=\"331.002005\" xlink:href=\"#m2fbe127d91\" y=\"281.43488\"/>\r\n     <use style=\"fill:#0000ff;stroke:#0000ff;\" x=\"101.610294\" xlink:href=\"#m2fbe127d91\" y=\"279.376075\"/>\r\n     <use style=\"fill:#0000ff;stroke:#0000ff;\" x=\"526.824198\" xlink:href=\"#m2fbe127d91\" y=\"289.6701\"/>\r\n     <use style=\"fill:#0000ff;stroke:#0000ff;\" x=\"140.774733\" xlink:href=\"#m2fbe127d91\" y=\"241.288183\"/>\r\n     <use style=\"fill:#0000ff;stroke:#0000ff;\" x=\"112.800134\" xlink:href=\"#m2fbe127d91\" y=\"274.846704\"/>\r\n     <use style=\"fill:#0000ff;stroke:#0000ff;\" x=\"482.06484\" xlink:href=\"#m2fbe127d91\" y=\"285.55249\"/>\r\n     <use style=\"fill:#0000ff;stroke:#0000ff;\" x=\"269.457888\" xlink:href=\"#m2fbe127d91\" y=\"282.670163\"/>\r\n     <use style=\"fill:#0000ff;stroke:#0000ff;\" x=\"96.015374\" xlink:href=\"#m2fbe127d91\" y=\"179.564387\"/>\r\n     <use style=\"fill:#0000ff;stroke:#0000ff;\" x=\"286.242647\" xlink:href=\"#m2fbe127d91\" y=\"254.670415\"/>\r\n     <use style=\"fill:#0000ff;stroke:#0000ff;\" x=\"358.976604\" xlink:href=\"#m2fbe127d91\" y=\"236.141171\"/>\r\n     <use style=\"fill:#0000ff;stroke:#0000ff;\" x=\"554.798797\" xlink:href=\"#m2fbe127d91\" y=\"281.43488\"/>\r\n     <use style=\"fill:#0000ff;stroke:#0000ff;\" x=\"560.393717\" xlink:href=\"#m2fbe127d91\" y=\"300.375886\"/>\r\n     <use style=\"fill:#0000ff;stroke:#0000ff;\" x=\"403.735963\" xlink:href=\"#m2fbe127d91\" y=\"287.817175\"/>\r\n     <use style=\"fill:#0000ff;stroke:#0000ff;\" x=\"96.015374\" xlink:href=\"#m2fbe127d91\" y=\"221.935417\"/>\r\n     <use style=\"fill:#0000ff;stroke:#0000ff;\" x=\"123.989973\" xlink:href=\"#m2fbe127d91\" y=\"227.947127\"/>\r\n     <use style=\"fill:#0000ff;stroke:#0000ff;\" x=\"96.015374\" xlink:href=\"#m2fbe127d91\" y=\"201.141486\"/>\r\n     <use style=\"fill:#0000ff;stroke:#0000ff;\" x=\"224.698529\" xlink:href=\"#m2fbe127d91\" y=\"265.993843\"/>\r\n     <use style=\"fill:#0000ff;stroke:#0000ff;\" x=\"118.395053\" xlink:href=\"#m2fbe127d91\" y=\"163.053595\"/>\r\n     <use style=\"fill:#0000ff;stroke:#0000ff;\" x=\"118.395053\" xlink:href=\"#m2fbe127d91\" y=\"242.317586\"/>\r\n     <use style=\"fill:#0000ff;stroke:#0000ff;\" x=\"375.761364\" xlink:href=\"#m2fbe127d91\" y=\"290.41127\"/>\r\n     <use style=\"fill:#0000ff;stroke:#0000ff;\" x=\"543.608957\" xlink:href=\"#m2fbe127d91\" y=\"270.317333\"/>\r\n     <use style=\"fill:#0000ff;stroke:#0000ff;\" x=\"470.875\" xlink:href=\"#m2fbe127d91\" y=\"280.405478\"/>\r\n     <use style=\"fill:#0000ff;stroke:#0000ff;\" x=\"392.546123\" xlink:href=\"#m2fbe127d91\" y=\"254.670415\"/>\r\n     <use style=\"fill:#0000ff;stroke:#0000ff;\" x=\"90.420455\" xlink:href=\"#m2fbe127d91\" y=\"198.825743\"/>\r\n     <use style=\"fill:#0000ff;stroke:#0000ff;\" x=\"107.205214\" xlink:href=\"#m2fbe127d91\" y=\"257.346862\"/>\r\n     <use style=\"fill:#0000ff;stroke:#0000ff;\" x=\"230.293449\" xlink:href=\"#m2fbe127d91\" y=\"239.023498\"/>\r\n     <use style=\"fill:#0000ff;stroke:#0000ff;\" x=\"459.68516\" xlink:href=\"#m2fbe127d91\" y=\"279.993717\"/>\r\n     <use style=\"fill:#0000ff;stroke:#0000ff;\" x=\"370.166444\" xlink:href=\"#m2fbe127d91\" y=\"244.376391\"/>\r\n     <use style=\"fill:#0000ff;stroke:#0000ff;\" x=\"196.72393\" xlink:href=\"#m2fbe127d91\" y=\"234.494127\"/>\r\n     <use style=\"fill:#0000ff;stroke:#0000ff;\" x=\"353.381684\" xlink:href=\"#m2fbe127d91\" y=\"265.787962\"/>\r\n     <use style=\"fill:#0000ff;stroke:#0000ff;\" x=\"213.50869\" xlink:href=\"#m2fbe127d91\" y=\"257.140981\"/>\r\n     <use style=\"fill:#0000ff;stroke:#0000ff;\" x=\"409.330882\" xlink:href=\"#m2fbe127d91\" y=\"232.847083\"/>\r\n     <use style=\"fill:#0000ff;stroke:#0000ff;\" x=\"196.72393\" xlink:href=\"#m2fbe127d91\" y=\"246.023435\"/>\r\n     <use style=\"fill:#0000ff;stroke:#0000ff;\" x=\"358.976604\" xlink:href=\"#m2fbe127d91\" y=\"261.876233\"/>\r\n     <use style=\"fill:#0000ff;stroke:#0000ff;\" x=\"96.015374\" xlink:href=\"#m2fbe127d91\" y=\"126.268103\"/>\r\n     <use style=\"fill:#0000ff;stroke:#0000ff;\" x=\"560.393717\" xlink:href=\"#m2fbe127d91\" y=\"291.728905\"/>\r\n     <use style=\"fill:#0000ff;stroke:#0000ff;\" x=\"129.584893\" xlink:href=\"#m2fbe127d91\" y=\"260.023308\"/>\r\n     <use style=\"fill:#0000ff;stroke:#0000ff;\" x=\"571.583556\" xlink:href=\"#m2fbe127d91\" y=\"250.511629\"/>\r\n     <use style=\"fill:#0000ff;stroke:#0000ff;\" x=\"370.166444\" xlink:href=\"#m2fbe127d91\" y=\"283.493685\"/>\r\n     <use style=\"fill:#0000ff;stroke:#0000ff;\" x=\"118.395053\" xlink:href=\"#m2fbe127d91\" y=\"250.552806\"/>\r\n     <use style=\"fill:#0000ff;stroke:#0000ff;\" x=\"638.722594\" xlink:href=\"#m2fbe127d91\" y=\"280.611358\"/>\r\n     <use style=\"fill:#0000ff;stroke:#0000ff;\" x=\"728.24131\" xlink:href=\"#m2fbe127d91\" y=\"137.318533\"/>\r\n     <use style=\"fill:#0000ff;stroke:#0000ff;\" x=\"196.72393\" xlink:href=\"#m2fbe127d91\" y=\"261.670352\"/>\r\n     <use style=\"fill:#0000ff;stroke:#0000ff;\" x=\"610.747995\" xlink:href=\"#m2fbe127d91\" y=\"277.31727\"/>\r\n     <use style=\"fill:#0000ff;stroke:#0000ff;\" x=\"258.268048\" xlink:href=\"#m2fbe127d91\" y=\"269.766809\"/>\r\n     <use style=\"fill:#0000ff;stroke:#0000ff;\" x=\"129.584893\" xlink:href=\"#m2fbe127d91\" y=\"215.14136\"/>\r\n     <use style=\"fill:#0000ff;stroke:#0000ff;\" x=\"510.039439\" xlink:href=\"#m2fbe127d91\" y=\"203.200291\"/>\r\n     <use style=\"fill:#0000ff;stroke:#0000ff;\" x=\"286.242647\" xlink:href=\"#m2fbe127d91\" y=\"257.140981\"/>\r\n     <use style=\"fill:#0000ff;stroke:#0000ff;\" x=\"146.369652\" xlink:href=\"#m2fbe127d91\" y=\"253.846893\"/>\r\n     <use style=\"fill:#0000ff;stroke:#0000ff;\" x=\"101.610294\" xlink:href=\"#m2fbe127d91\" y=\"279.376075\"/>\r\n     <use style=\"fill:#0000ff;stroke:#0000ff;\" x=\"291.837567\" xlink:href=\"#m2fbe127d91\" y=\"280.611358\"/>\r\n     <use style=\"fill:#0000ff;stroke:#0000ff;\" x=\"275.052807\" xlink:href=\"#m2fbe127d91\" y=\"271.758497\"/>\r\n     <use style=\"fill:#0000ff;stroke:#0000ff;\" x=\"90.420455\" xlink:href=\"#m2fbe127d91\" y=\"204.48828\"/>\r\n     <use style=\"fill:#0000ff;stroke:#0000ff;\" x=\"582.773396\" xlink:href=\"#m2fbe127d91\" y=\"236.141171\"/>\r\n     <use style=\"fill:#0000ff;stroke:#0000ff;\" x=\"633.127674\" xlink:href=\"#m2fbe127d91\" y=\"290.081861\"/>\r\n     <use style=\"fill:#0000ff;stroke:#0000ff;\" x=\"118.395053\" xlink:href=\"#m2fbe127d91\" y=\"219.711907\"/>\r\n     <use style=\"fill:#0000ff;stroke:#0000ff;\" x=\"129.584893\" xlink:href=\"#m2fbe127d91\" y=\"275.258465\"/>\r\n     <use style=\"fill:#0000ff;stroke:#0000ff;\" x=\"263.862968\" xlink:href=\"#m2fbe127d91\" y=\"262.287994\"/>\r\n     <use style=\"fill:#0000ff;stroke:#0000ff;\" x=\"549.203877\" xlink:href=\"#m2fbe127d91\" y=\"286.787773\"/>\r\n     <use style=\"fill:#0000ff;stroke:#0000ff;\" x=\"112.800134\" xlink:href=\"#m2fbe127d91\" y=\"271.552616\"/>\r\n     <use style=\"fill:#0000ff;stroke:#0000ff;\" x=\"437.305481\" xlink:href=\"#m2fbe127d91\" y=\"287.611295\"/>\r\n     <use style=\"fill:#0000ff;stroke:#0000ff;\" x=\"196.72393\" xlink:href=\"#m2fbe127d91\" y=\"258.582145\"/>\r\n     <use style=\"fill:#0000ff;stroke:#0000ff;\" x=\"342.191845\" xlink:href=\"#m2fbe127d91\" y=\"273.652597\"/>\r\n     <use style=\"fill:#0000ff;stroke:#0000ff;\" x=\"358.976604\" xlink:href=\"#m2fbe127d91\" y=\"274.846704\"/>\r\n     <use style=\"fill:#0000ff;stroke:#0000ff;\" x=\"196.72393\" xlink:href=\"#m2fbe127d91\" y=\"218.847209\"/>\r\n     <use style=\"fill:#0000ff;stroke:#0000ff;\" x=\"336.596925\" xlink:href=\"#m2fbe127d91\" y=\"273.19966\"/>\r\n     <use style=\"fill:#0000ff;stroke:#0000ff;\" x=\"554.798797\" xlink:href=\"#m2fbe127d91\" y=\"292.552427\"/>\r\n     <use style=\"fill:#0000ff;stroke:#0000ff;\" x=\"96.015374\" xlink:href=\"#m2fbe127d91\" y=\"256.317459\"/>\r\n     <use style=\"fill:#0000ff;stroke:#0000ff;\" x=\"90.420455\" xlink:href=\"#m2fbe127d91\" y=\"228.86206\"/>\r\n     <use style=\"fill:#0000ff;stroke:#0000ff;\" x=\"151.964572\" xlink:href=\"#m2fbe127d91\" y=\"268.670289\"/>\r\n     <use style=\"fill:#0000ff;stroke:#0000ff;\" x=\"275.052807\" xlink:href=\"#m2fbe127d91\" y=\"266.302664\"/>\r\n     <use style=\"fill:#0000ff;stroke:#0000ff;\" x=\"364.571524\" xlink:href=\"#m2fbe127d91\" y=\"277.543739\"/>\r\n     <use style=\"fill:#0000ff;stroke:#0000ff;\" x=\"112.800134\" xlink:href=\"#m2fbe127d91\" y=\"246.435196\"/>\r\n     <use style=\"fill:#0000ff;stroke:#0000ff;\" x=\"543.608957\" xlink:href=\"#m2fbe127d91\" y=\"288.846578\"/>\r\n     <use style=\"fill:#0000ff;stroke:#0000ff;\" x=\"476.46992\" xlink:href=\"#m2fbe127d91\" y=\"204.641455\"/>\r\n     <use style=\"fill:#0000ff;stroke:#0000ff;\" x=\"96.015374\" xlink:href=\"#m2fbe127d91\" y=\"264.042096\"/>\r\n     <use style=\"fill:#0000ff;stroke:#0000ff;\" x=\"90.420455\" xlink:href=\"#m2fbe127d91\" y=\"248.535177\"/>\r\n     <use style=\"fill:#0000ff;stroke:#0000ff;\" x=\"129.584893\" xlink:href=\"#m2fbe127d91\" y=\"250.552806\"/>\r\n     <use style=\"fill:#0000ff;stroke:#0000ff;\" x=\"263.862968\" xlink:href=\"#m2fbe127d91\" y=\"258.829201\"/>\r\n     <use style=\"fill:#0000ff;stroke:#0000ff;\" x=\"303.027406\" xlink:href=\"#m2fbe127d91\" y=\"292.964188\"/>\r\n     <use style=\"fill:#0000ff;stroke:#0000ff;\" x=\"123.989973\" xlink:href=\"#m2fbe127d91\" y=\"173.862321\"/>\r\n     <use style=\"fill:#0000ff;stroke:#0000ff;\" x=\"303.027406\" xlink:href=\"#m2fbe127d91\" y=\"286.787773\"/>\r\n     <use style=\"fill:#0000ff;stroke:#0000ff;\" x=\"157.559492\" xlink:href=\"#m2fbe127d91\" y=\"213.494316\"/>\r\n     <use style=\"fill:#0000ff;stroke:#0000ff;\" x=\"303.027406\" xlink:href=\"#m2fbe127d91\" y=\"289.258339\"/>\r\n     <use style=\"fill:#0000ff;stroke:#0000ff;\" x=\"331.002005\" xlink:href=\"#m2fbe127d91\" y=\"281.43488\"/>\r\n     <use style=\"fill:#0000ff;stroke:#0000ff;\" x=\"112.800134\" xlink:href=\"#m2fbe127d91\" y=\"253.641013\"/>\r\n     <use style=\"fill:#0000ff;stroke:#0000ff;\" x=\"375.761364\" xlink:href=\"#m2fbe127d91\" y=\"271.964377\"/>\r\n     <use style=\"fill:#0000ff;stroke:#0000ff;\" x=\"168.749332\" xlink:href=\"#m2fbe127d91\" y=\"166.965324\"/>\r\n     <use style=\"fill:#0000ff;stroke:#0000ff;\" x=\"280.647727\" xlink:href=\"#m2fbe127d91\" y=\"293.99359\"/>\r\n     <use style=\"fill:#0000ff;stroke:#0000ff;\" x=\"280.647727\" xlink:href=\"#m2fbe127d91\" y=\"280.117245\"/>\r\n     <use style=\"fill:#0000ff;stroke:#0000ff;\" x=\"297.432487\" xlink:href=\"#m2fbe127d91\" y=\"296.052395\"/>\r\n     <use style=\"fill:#0000ff;stroke:#0000ff;\" x=\"123.989973\" xlink:href=\"#m2fbe127d91\" y=\"256.52334\"/>\r\n     <use style=\"fill:#0000ff;stroke:#0000ff;\" x=\"185.534091\" xlink:href=\"#m2fbe127d91\" y=\"252.817491\"/>\r\n     <use style=\"fill:#0000ff;stroke:#0000ff;\" x=\"90.420455\" xlink:href=\"#m2fbe127d91\" y=\"201.965008\"/>\r\n     <use style=\"fill:#0000ff;stroke:#0000ff;\" x=\"454.090241\" xlink:href=\"#m2fbe127d91\" y=\"286.376012\"/>\r\n     <use style=\"fill:#0000ff;stroke:#0000ff;\" x=\"101.610294\" xlink:href=\"#m2fbe127d91\" y=\"224.817743\"/>\r\n     <use style=\"fill:#0000ff;stroke:#0000ff;\" x=\"437.305481\" xlink:href=\"#m2fbe127d91\" y=\"287.405414\"/>\r\n     <use style=\"fill:#0000ff;stroke:#0000ff;\" x=\"683.481952\" xlink:href=\"#m2fbe127d91\" y=\"300.375886\"/>\r\n     <use style=\"fill:#0000ff;stroke:#0000ff;\" x=\"252.673128\" xlink:href=\"#m2fbe127d91\" y=\"283.493685\"/>\r\n     <use style=\"fill:#0000ff;stroke:#0000ff;\" x=\"179.939171\" xlink:href=\"#m2fbe127d91\" y=\"248.494001\"/>\r\n     <use style=\"fill:#0000ff;stroke:#0000ff;\" x=\"191.129011\" xlink:href=\"#m2fbe127d91\" y=\"233.464724\"/>\r\n     <use style=\"fill:#0000ff;stroke:#0000ff;\" x=\"627.532754\" xlink:href=\"#m2fbe127d91\" y=\"276.493748\"/>\r\n     <use style=\"fill:#0000ff;stroke:#0000ff;\" x=\"381.356283\" xlink:href=\"#m2fbe127d91\" y=\"275.258465\"/>\r\n     <use style=\"fill:#0000ff;stroke:#0000ff;\" x=\"112.800134\" xlink:href=\"#m2fbe127d91\" y=\"258.788025\"/>\r\n     <use style=\"fill:#0000ff;stroke:#0000ff;\" x=\"364.571524\" xlink:href=\"#m2fbe127d91\" y=\"218.847209\"/>\r\n     <use style=\"fill:#0000ff;stroke:#0000ff;\" x=\"482.06484\" xlink:href=\"#m2fbe127d91\" y=\"301.405288\"/>\r\n     <use style=\"fill:#0000ff;stroke:#0000ff;\" x=\"96.015374\" xlink:href=\"#m2fbe127d91\" y=\"236.141171\"/>\r\n     <use style=\"fill:#0000ff;stroke:#0000ff;\" x=\"112.800134\" xlink:href=\"#m2fbe127d91\" y=\"261.670352\"/>\r\n     <use style=\"fill:#0000ff;stroke:#0000ff;\" x=\"331.002005\" xlink:href=\"#m2fbe127d91\" y=\"267.846767\"/>\r\n     <use style=\"fill:#0000ff;stroke:#0000ff;\" x=\"386.951203\" xlink:href=\"#m2fbe127d91\" y=\"273.19966\"/>\r\n     <use style=\"fill:#0000ff;stroke:#0000ff;\" x=\"129.584893\" xlink:href=\"#m2fbe127d91\" y=\"238.199976\"/>\r\n     <use style=\"fill:#0000ff;stroke:#0000ff;\" x=\"118.395053\" xlink:href=\"#m2fbe127d91\" y=\"247.464598\"/>\r\n     <use style=\"fill:#0000ff;stroke:#0000ff;\" x=\"107.205214\" xlink:href=\"#m2fbe127d91\" y=\"242.317586\"/>\r\n     <use style=\"fill:#0000ff;stroke:#0000ff;\" x=\"129.584893\" xlink:href=\"#m2fbe127d91\" y=\"237.582334\"/>\r\n     <use style=\"fill:#0000ff;stroke:#0000ff;\" x=\"381.356283\" xlink:href=\"#m2fbe127d91\" y=\"292.964188\"/>\r\n     <use style=\"fill:#0000ff;stroke:#0000ff;\" x=\"353.381684\" xlink:href=\"#m2fbe127d91\" y=\"260.435069\"/>\r\n     <use style=\"fill:#0000ff;stroke:#0000ff;\" x=\"90.420455\" xlink:href=\"#m2fbe127d91\" y=\"219.25897\"/>\r\n     <use style=\"fill:#0000ff;stroke:#0000ff;\" x=\"252.673128\" xlink:href=\"#m2fbe127d91\" y=\"270.729094\"/>\r\n     <use style=\"fill:#0000ff;stroke:#0000ff;\" x=\"543.608957\" xlink:href=\"#m2fbe127d91\" y=\"279.376075\"/>\r\n     <use style=\"fill:#0000ff;stroke:#0000ff;\" x=\"554.798797\" xlink:href=\"#m2fbe127d91\" y=\"302.846452\"/>\r\n     <use style=\"fill:#0000ff;stroke:#0000ff;\" x=\"241.483289\" xlink:href=\"#m2fbe127d91\" y=\"260.64095\"/>\r\n     <use style=\"fill:#0000ff;stroke:#0000ff;\" x=\"140.774733\" xlink:href=\"#m2fbe127d91\" y=\"256.72922\"/>\r\n     <use style=\"fill:#0000ff;stroke:#0000ff;\" x=\"476.46992\" xlink:href=\"#m2fbe127d91\" y=\"258.993906\"/>\r\n     <use style=\"fill:#0000ff;stroke:#0000ff;\" x=\"470.875\" xlink:href=\"#m2fbe127d91\" y=\"283.287804\"/>\r\n     <use style=\"fill:#0000ff;stroke:#0000ff;\" x=\"263.862968\" xlink:href=\"#m2fbe127d91\" y=\"271.964377\"/>\r\n     <use style=\"fill:#0000ff;stroke:#0000ff;\" x=\"90.420455\" xlink:href=\"#m2fbe127d91\" y=\"223.37658\"/>\r\n     <use style=\"fill:#0000ff;stroke:#0000ff;\" x=\"392.546123\" xlink:href=\"#m2fbe127d91\" y=\"233.464724\"/>\r\n     <use style=\"fill:#0000ff;stroke:#0000ff;\" x=\"151.964572\" xlink:href=\"#m2fbe127d91\" y=\"213.494316\"/>\r\n     <use style=\"fill:#0000ff;stroke:#0000ff;\" x=\"375.761364\" xlink:href=\"#m2fbe127d91\" y=\"275.670226\"/>\r\n     <use style=\"fill:#0000ff;stroke:#0000ff;\" x=\"230.293449\" xlink:href=\"#m2fbe127d91\" y=\"281.640761\"/>\r\n     <use style=\"fill:#0000ff;stroke:#0000ff;\" x=\"560.393717\" xlink:href=\"#m2fbe127d91\" y=\"248.494001\"/>\r\n     <use style=\"fill:#0000ff;stroke:#0000ff;\" x=\"129.584893\" xlink:href=\"#m2fbe127d91\" y=\"250.141045\"/>\r\n     <use style=\"fill:#0000ff;stroke:#0000ff;\" x=\"420.520722\" xlink:href=\"#m2fbe127d91\" y=\"274.846704\"/>\r\n     <use style=\"fill:#0000ff;stroke:#0000ff;\" x=\"96.015374\" xlink:href=\"#m2fbe127d91\" y=\"161.901487\"/>\r\n     <use style=\"fill:#0000ff;stroke:#0000ff;\" x=\"263.862968\" xlink:href=\"#m2fbe127d91\" y=\"253.846893\"/>\r\n     <use style=\"fill:#0000ff;stroke:#0000ff;\" x=\"191.129011\" xlink:href=\"#m2fbe127d91\" y=\"238.817617\"/>\r\n     <use style=\"fill:#0000ff;stroke:#0000ff;\" x=\"90.420455\" xlink:href=\"#m2fbe127d91\" y=\"256.72922\"/>\r\n     <use style=\"fill:#0000ff;stroke:#0000ff;\" x=\"101.610294\" xlink:href=\"#m2fbe127d91\" y=\"247.464598\"/>\r\n     <use style=\"fill:#0000ff;stroke:#0000ff;\" x=\"96.015374\" xlink:href=\"#m2fbe127d91\" y=\"232.188265\"/>\r\n     <use style=\"fill:#0000ff;stroke:#0000ff;\" x=\"174.344251\" xlink:href=\"#m2fbe127d91\" y=\"259.117434\"/>\r\n     <use style=\"fill:#0000ff;stroke:#0000ff;\" x=\"96.015374\" xlink:href=\"#m2fbe127d91\" y=\"265.087969\"/>\r\n     <use style=\"fill:#0000ff;stroke:#0000ff;\" x=\"336.596925\" xlink:href=\"#m2fbe127d91\" y=\"267.435006\"/>\r\n     <use style=\"fill:#0000ff;stroke:#0000ff;\" x=\"286.242647\" xlink:href=\"#m2fbe127d91\" y=\"296.670037\"/>\r\n     <use style=\"fill:#0000ff;stroke:#0000ff;\" x=\"331.002005\" xlink:href=\"#m2fbe127d91\" y=\"282.670163\"/>\r\n     <use style=\"fill:#0000ff;stroke:#0000ff;\" x=\"605.153075\" xlink:href=\"#m2fbe127d91\" y=\"269.66881\"/>\r\n     <use style=\"fill:#0000ff;stroke:#0000ff;\" x=\"90.420455\" xlink:href=\"#m2fbe127d91\" y=\"236.869988\"/>\r\n     <use style=\"fill:#0000ff;stroke:#0000ff;\" x=\"627.532754\" xlink:href=\"#m2fbe127d91\" y=\"276.946685\"/>\r\n     <use style=\"fill:#0000ff;stroke:#0000ff;\" x=\"426.115642\" xlink:href=\"#m2fbe127d91\" y=\"278.964314\"/>\r\n     <use style=\"fill:#0000ff;stroke:#0000ff;\" x=\"252.673128\" xlink:href=\"#m2fbe127d91\" y=\"236.141171\"/>\r\n     <use style=\"fill:#0000ff;stroke:#0000ff;\" x=\"403.735963\" xlink:href=\"#m2fbe127d91\" y=\"264.140918\"/>\r\n     <use style=\"fill:#0000ff;stroke:#0000ff;\" x=\"213.50869\" xlink:href=\"#m2fbe127d91\" y=\"274.229063\"/>\r\n     <use style=\"fill:#0000ff;stroke:#0000ff;\" x=\"409.330882\" xlink:href=\"#m2fbe127d91\" y=\"270.317333\"/>\r\n     <use style=\"fill:#0000ff;stroke:#0000ff;\" x=\"146.369652\" xlink:href=\"#m2fbe127d91\" y=\"234.494127\"/>\r\n     <use style=\"fill:#0000ff;stroke:#0000ff;\" x=\"308.622326\" xlink:href=\"#m2fbe127d91\" y=\"260.84683\"/>\r\n     <use style=\"fill:#0000ff;stroke:#0000ff;\" x=\"420.520722\" xlink:href=\"#m2fbe127d91\" y=\"267.640887\"/>\r\n     <use style=\"fill:#0000ff;stroke:#0000ff;\" x=\"386.951203\" xlink:href=\"#m2fbe127d91\" y=\"268.258528\"/>\r\n     <use style=\"fill:#0000ff;stroke:#0000ff;\" x=\"140.774733\" xlink:href=\"#m2fbe127d91\" y=\"222.964819\"/>\r\n     <use style=\"fill:#0000ff;stroke:#0000ff;\" x=\"118.395053\" xlink:href=\"#m2fbe127d91\" y=\"248.494001\"/>\r\n     <use style=\"fill:#0000ff;stroke:#0000ff;\" x=\"280.647727\" xlink:href=\"#m2fbe127d91\" y=\"271.182031\"/>\r\n     <use style=\"fill:#0000ff;stroke:#0000ff;\" x=\"806.570187\" xlink:href=\"#m2fbe127d91\" y=\"211.435511\"/>\r\n     <use style=\"fill:#0000ff;stroke:#0000ff;\" x=\"107.205214\" xlink:href=\"#m2fbe127d91\" y=\"206.947316\"/>\r\n     <use style=\"fill:#0000ff;stroke:#0000ff;\" x=\"185.534091\" xlink:href=\"#m2fbe127d91\" y=\"240.258781\"/>\r\n     <use style=\"fill:#0000ff;stroke:#0000ff;\" x=\"582.773396\" xlink:href=\"#m2fbe127d91\" y=\"296.052395\"/>\r\n     <use style=\"fill:#0000ff;stroke:#0000ff;\" x=\"476.46992\" xlink:href=\"#m2fbe127d91\" y=\"298.934722\"/>\r\n     <use style=\"fill:#0000ff;stroke:#0000ff;\" x=\"107.205214\" xlink:href=\"#m2fbe127d91\" y=\"184.671047\"/>\r\n     <use style=\"fill:#0000ff;stroke:#0000ff;\" x=\"163.154412\" xlink:href=\"#m2fbe127d91\" y=\"264.717384\"/>\r\n     <use style=\"fill:#0000ff;stroke:#0000ff;\" x=\"431.710561\" xlink:href=\"#m2fbe127d91\" y=\"278.552553\"/>\r\n     <use style=\"fill:#0000ff;stroke:#0000ff;\" x=\"465.28008\" xlink:href=\"#m2fbe127d91\" y=\"283.534861\"/>\r\n     <use style=\"fill:#0000ff;stroke:#0000ff;\" x=\"336.596925\" xlink:href=\"#m2fbe127d91\" y=\"178.494632\"/>\r\n     <use style=\"fill:#0000ff;stroke:#0000ff;\" x=\"543.608957\" xlink:href=\"#m2fbe127d91\" y=\"259.611547\"/>\r\n     <use style=\"fill:#0000ff;stroke:#0000ff;\" x=\"118.395053\" xlink:href=\"#m2fbe127d91\" y=\"255.288057\"/>\r\n     <use style=\"fill:#0000ff;stroke:#0000ff;\" x=\"252.673128\" xlink:href=\"#m2fbe127d91\" y=\"225.847146\"/>\r\n     <use style=\"fill:#0000ff;stroke:#0000ff;\" x=\"96.015374\" xlink:href=\"#m2fbe127d91\" y=\"221.729536\"/>\r\n     <use style=\"fill:#0000ff;stroke:#0000ff;\" x=\"179.939171\" xlink:href=\"#m2fbe127d91\" y=\"225.847146\"/>\r\n     <use style=\"fill:#0000ff;stroke:#0000ff;\" x=\"252.673128\" xlink:href=\"#m2fbe127d91\" y=\"255.699818\"/>\r\n     <use style=\"fill:#0000ff;stroke:#0000ff;\" x=\"90.420455\" xlink:href=\"#m2fbe127d91\" y=\"191.817982\"/>\r\n     <use style=\"fill:#0000ff;stroke:#0000ff;\" x=\"107.205214\" xlink:href=\"#m2fbe127d91\" y=\"187.141613\"/>\r\n     <use style=\"fill:#0000ff;stroke:#0000ff;\" x=\"207.91377\" xlink:href=\"#m2fbe127d91\" y=\"208.964945\"/>\r\n     <use style=\"fill:#0000ff;stroke:#0000ff;\" x=\"375.761364\" xlink:href=\"#m2fbe127d91\" y=\"280.951061\"/>\r\n     <use style=\"fill:#0000ff;stroke:#0000ff;\" x=\"331.002005\" xlink:href=\"#m2fbe127d91\" y=\"233.258844\"/>\r\n     <use style=\"fill:#0000ff;stroke:#0000ff;\" x=\"459.68516\" xlink:href=\"#m2fbe127d91\" y=\"297.081798\"/>\r\n     <use style=\"fill:#0000ff;stroke:#0000ff;\" x=\"174.344251\" xlink:href=\"#m2fbe127d91\" y=\"199.494442\"/>\r\n     <use style=\"fill:#0000ff;stroke:#0000ff;\" x=\"347.786765\" xlink:href=\"#m2fbe127d91\" y=\"273.09672\"/>\r\n     <use style=\"fill:#0000ff;stroke:#0000ff;\" x=\"610.747995\" xlink:href=\"#m2fbe127d91\" y=\"244.582271\"/>\r\n     <use style=\"fill:#0000ff;stroke:#0000ff;\" x=\"588.368316\" xlink:href=\"#m2fbe127d91\" y=\"300.787647\"/>\r\n     <use style=\"fill:#0000ff;stroke:#0000ff;\" x=\"331.002005\" xlink:href=\"#m2fbe127d91\" y=\"283.905446\"/>\r\n     <use style=\"fill:#0000ff;stroke:#0000ff;\" x=\"364.571524\" xlink:href=\"#m2fbe127d91\" y=\"275.670226\"/>\r\n     <use style=\"fill:#0000ff;stroke:#0000ff;\" x=\"123.989973\" xlink:href=\"#m2fbe127d91\" y=\"215.964882\"/>\r\n     <use style=\"fill:#0000ff;stroke:#0000ff;\" x=\"112.800134\" xlink:href=\"#m2fbe127d91\" y=\"247.670479\"/>\r\n     <use style=\"fill:#0000ff;stroke:#0000ff;\" x=\"146.369652\" xlink:href=\"#m2fbe127d91\" y=\"253.846893\"/>\r\n     <use style=\"fill:#0000ff;stroke:#0000ff;\" x=\"331.002005\" xlink:href=\"#m2fbe127d91\" y=\"238.632325\"/>\r\n     <use style=\"fill:#0000ff;stroke:#0000ff;\" x=\"101.610294\" xlink:href=\"#m2fbe127d91\" y=\"177.4957\"/>\r\n     <use style=\"fill:#0000ff;stroke:#0000ff;\" x=\"123.989973\" xlink:href=\"#m2fbe127d91\" y=\"244.788152\"/>\r\n     <use style=\"fill:#0000ff;stroke:#0000ff;\" x=\"213.50869\" xlink:href=\"#m2fbe127d91\" y=\"249.523403\"/>\r\n     <use style=\"fill:#0000ff;stroke:#0000ff;\" x=\"375.761364\" xlink:href=\"#m2fbe127d91\" y=\"269.08205\"/>\r\n     <use style=\"fill:#0000ff;stroke:#0000ff;\" x=\"135.179813\" xlink:href=\"#m2fbe127d91\" y=\"249.358699\"/>\r\n     <use style=\"fill:#0000ff;stroke:#0000ff;\" x=\"420.520722\" xlink:href=\"#m2fbe127d91\" y=\"299.140603\"/>\r\n     <use style=\"fill:#0000ff;stroke:#0000ff;\" x=\"409.330882\" xlink:href=\"#m2fbe127d91\" y=\"296.875917\"/>\r\n     <use style=\"fill:#0000ff;stroke:#0000ff;\" x=\"107.205214\" xlink:href=\"#m2fbe127d91\" y=\"223.37658\"/>\r\n     <use style=\"fill:#0000ff;stroke:#0000ff;\" x=\"280.647727\" xlink:href=\"#m2fbe127d91\" y=\"297.90532\"/>\r\n     <use style=\"fill:#0000ff;stroke:#0000ff;\" x=\"465.28008\" xlink:href=\"#m2fbe127d91\" y=\"275.176113\"/>\r\n     <use style=\"fill:#0000ff;stroke:#0000ff;\" x=\"353.381684\" xlink:href=\"#m2fbe127d91\" y=\"270.523214\"/>\r\n     <use style=\"fill:#0000ff;stroke:#0000ff;\" x=\"364.571524\" xlink:href=\"#m2fbe127d91\" y=\"268.052648\"/>\r\n     <use style=\"fill:#0000ff;stroke:#0000ff;\" x=\"118.395053\" xlink:href=\"#m2fbe127d91\" y=\"269.493811\"/>\r\n     <use style=\"fill:#0000ff;stroke:#0000ff;\" x=\"96.015374\" xlink:href=\"#m2fbe127d91\" y=\"152.902039\"/>\r\n     <use style=\"fill:#0000ff;stroke:#0000ff;\" x=\"90.420455\" xlink:href=\"#m2fbe127d91\" y=\"201.939891\"/>\r\n     <use style=\"fill:#0000ff;stroke:#0000ff;\" x=\"202.31885\" xlink:href=\"#m2fbe127d91\" y=\"254.670415\"/>\r\n     <use style=\"fill:#0000ff;stroke:#0000ff;\" x=\"465.28008\" xlink:href=\"#m2fbe127d91\" y=\"293.78771\"/>\r\n     <use style=\"fill:#0000ff;stroke:#0000ff;\" x=\"549.203877\" xlink:href=\"#m2fbe127d91\" y=\"289.299515\"/>\r\n     <use style=\"fill:#0000ff;stroke:#0000ff;\" x=\"459.68516\" xlink:href=\"#m2fbe127d91\" y=\"275.258465\"/>\r\n     <use style=\"fill:#0000ff;stroke:#0000ff;\" x=\"157.559492\" xlink:href=\"#m2fbe127d91\" y=\"259.817428\"/>\r\n     <use style=\"fill:#0000ff;stroke:#0000ff;\" x=\"185.534091\" xlink:href=\"#m2fbe127d91\" y=\"261.670352\"/>\r\n     <use style=\"fill:#0000ff;stroke:#0000ff;\" x=\"263.862968\" xlink:href=\"#m2fbe127d91\" y=\"277.729031\"/>\r\n     <use style=\"fill:#0000ff;stroke:#0000ff;\" x=\"358.976604\" xlink:href=\"#m2fbe127d91\" y=\"279.376075\"/>\r\n     <use style=\"fill:#0000ff;stroke:#0000ff;\" x=\"135.179813\" xlink:href=\"#m2fbe127d91\" y=\"217.611926\"/>\r\n     <use style=\"fill:#0000ff;stroke:#0000ff;\" x=\"252.673128\" xlink:href=\"#m2fbe127d91\" y=\"268.670289\"/>\r\n     <use style=\"fill:#0000ff;stroke:#0000ff;\" x=\"470.875\" xlink:href=\"#m2fbe127d91\" y=\"273.19966\"/>\r\n     <use style=\"fill:#0000ff;stroke:#0000ff;\" x=\"123.989973\" xlink:href=\"#m2fbe127d91\" y=\"251.170447\"/>\r\n     <use style=\"fill:#0000ff;stroke:#0000ff;\" x=\"297.432487\" xlink:href=\"#m2fbe127d91\" y=\"284.317207\"/>\r\n     <use style=\"fill:#0000ff;stroke:#0000ff;\" x=\"258.268048\" xlink:href=\"#m2fbe127d91\" y=\"254.670415\"/>\r\n     <use style=\"fill:#0000ff;stroke:#0000ff;\" x=\"588.368316\" xlink:href=\"#m2fbe127d91\" y=\"272.376138\"/>\r\n     <use style=\"fill:#0000ff;stroke:#0000ff;\" x=\"347.786765\" xlink:href=\"#m2fbe127d91\" y=\"267.435006\"/>\r\n     <use style=\"fill:#0000ff;stroke:#0000ff;\" x=\"347.786765\" xlink:href=\"#m2fbe127d91\" y=\"264.96444\"/>\r\n     <use style=\"fill:#0000ff;stroke:#0000ff;\" x=\"403.735963\" xlink:href=\"#m2fbe127d91\" y=\"278.552553\"/>\r\n     <use style=\"fill:#0000ff;stroke:#0000ff;\" x=\"375.761364\" xlink:href=\"#m2fbe127d91\" y=\"266.199723\"/>\r\n     <use style=\"fill:#0000ff;stroke:#0000ff;\" x=\"123.989973\" xlink:href=\"#m2fbe127d91\" y=\"261.917409\"/>\r\n     <use style=\"fill:#0000ff;stroke:#0000ff;\" x=\"364.571524\" xlink:href=\"#m2fbe127d91\" y=\"277.55115\"/>\r\n     <use style=\"fill:#0000ff;stroke:#0000ff;\" x=\"235.888369\" xlink:href=\"#m2fbe127d91\" y=\"281.43488\"/>\r\n     <use style=\"fill:#0000ff;stroke:#0000ff;\" x=\"403.735963\" xlink:href=\"#m2fbe127d91\" y=\"282.258402\"/>\r\n     <use style=\"fill:#0000ff;stroke:#0000ff;\" x=\"112.800134\" xlink:href=\"#m2fbe127d91\" y=\"242.523466\"/>\r\n     <use style=\"fill:#0000ff;stroke:#0000ff;\" x=\"577.178476\" xlink:href=\"#m2fbe127d91\" y=\"307.787584\"/>\r\n     <use style=\"fill:#0000ff;stroke:#0000ff;\" x=\"146.369652\" xlink:href=\"#m2fbe127d91\" y=\"271.964377\"/>\r\n     <use style=\"fill:#0000ff;stroke:#0000ff;\" x=\"107.205214\" xlink:href=\"#m2fbe127d91\" y=\"192.906267\"/>\r\n     <use style=\"fill:#0000ff;stroke:#0000ff;\" x=\"90.420455\" xlink:href=\"#m2fbe127d91\" y=\"170.493292\"/>\r\n     <use style=\"fill:#0000ff;stroke:#0000ff;\" x=\"140.774733\" xlink:href=\"#m2fbe127d91\" y=\"259.199786\"/>\r\n     <use style=\"fill:#0000ff;stroke:#0000ff;\" x=\"571.583556\" xlink:href=\"#m2fbe127d91\" y=\"280.611358\"/>\r\n     <use style=\"fill:#0000ff;stroke:#0000ff;\" x=\"90.420455\" xlink:href=\"#m2fbe127d91\" y=\"255.596878\"/>\r\n     <use style=\"fill:#0000ff;stroke:#0000ff;\" x=\"96.015374\" xlink:href=\"#m2fbe127d91\" y=\"244.994032\"/>\r\n     <use style=\"fill:#0000ff;stroke:#0000ff;\" x=\"543.608957\" xlink:href=\"#m2fbe127d91\" y=\"301.611169\"/>\r\n     <use style=\"fill:#0000ff;stroke:#0000ff;\" x=\"174.344251\" xlink:href=\"#m2fbe127d91\" y=\"234.082366\"/>\r\n     <use style=\"fill:#0000ff;stroke:#0000ff;\" x=\"123.989973\" xlink:href=\"#m2fbe127d91\" y=\"253.846893\"/>\r\n     <use style=\"fill:#0000ff;stroke:#0000ff;\" x=\"627.532754\" xlink:href=\"#m2fbe127d91\" y=\"299.552364\"/>\r\n     <use style=\"fill:#0000ff;stroke:#0000ff;\" x=\"275.052807\" xlink:href=\"#m2fbe127d91\" y=\"281.43488\"/>\r\n     <use style=\"fill:#0000ff;stroke:#0000ff;\" x=\"140.774733\" xlink:href=\"#m2fbe127d91\" y=\"254.258654\"/>\r\n     <use style=\"fill:#0000ff;stroke:#0000ff;\" x=\"96.015374\" xlink:href=\"#m2fbe127d91\" y=\"157.494821\"/>\r\n     <use style=\"fill:#0000ff;stroke:#0000ff;\" x=\"694.671791\" xlink:href=\"#m2fbe127d91\" y=\"283.905446\"/>\r\n     <use style=\"fill:#0000ff;stroke:#0000ff;\" x=\"135.179813\" xlink:href=\"#m2fbe127d91\" y=\"244.376391\"/>\r\n     <use style=\"fill:#0000ff;stroke:#0000ff;\" x=\"358.976604\" xlink:href=\"#m2fbe127d91\" y=\"289.052458\"/>\r\n     <use style=\"fill:#0000ff;stroke:#0000ff;\" x=\"454.090241\" xlink:href=\"#m2fbe127d91\" y=\"291.728905\"/>\r\n     <use style=\"fill:#0000ff;stroke:#0000ff;\" x=\"465.28008\" xlink:href=\"#m2fbe127d91\" y=\"288.023056\"/>\r\n     <use style=\"fill:#0000ff;stroke:#0000ff;\" x=\"392.546123\" xlink:href=\"#m2fbe127d91\" y=\"279.787836\"/>\r\n     <use style=\"fill:#0000ff;stroke:#0000ff;\" x=\"297.432487\" xlink:href=\"#m2fbe127d91\" y=\"282.258402\"/>\r\n     <use style=\"fill:#0000ff;stroke:#0000ff;\" x=\"342.191845\" xlink:href=\"#m2fbe127d91\" y=\"263.111516\"/>\r\n     <use style=\"fill:#0000ff;stroke:#0000ff;\" x=\"577.178476\" xlink:href=\"#m2fbe127d91\" y=\"305.317018\"/>\r\n     <use style=\"fill:#0000ff;stroke:#0000ff;\" x=\"107.205214\" xlink:href=\"#m2fbe127d91\" y=\"233.670605\"/>\r\n     <use style=\"fill:#0000ff;stroke:#0000ff;\" x=\"157.559492\" xlink:href=\"#m2fbe127d91\" y=\"231.81768\"/>\r\n     <use style=\"fill:#0000ff;stroke:#0000ff;\" x=\"96.015374\" xlink:href=\"#m2fbe127d91\" y=\"264.968558\"/>\r\n     <use style=\"fill:#0000ff;stroke:#0000ff;\" x=\"470.875\" xlink:href=\"#m2fbe127d91\" y=\"288.434817\"/>\r\n     <use style=\"fill:#0000ff;stroke:#0000ff;\" x=\"135.179813\" xlink:href=\"#m2fbe127d91\" y=\"226.670668\"/>\r\n     <use style=\"fill:#0000ff;stroke:#0000ff;\" x=\"157.559492\" xlink:href=\"#m2fbe127d91\" y=\"263.729157\"/>\r\n     <use style=\"fill:#0000ff;stroke:#0000ff;\" x=\"275.052807\" xlink:href=\"#m2fbe127d91\" y=\"271.140855\"/>\r\n     <use style=\"fill:#0000ff;stroke:#0000ff;\" x=\"493.254679\" xlink:href=\"#m2fbe127d91\" y=\"285.55249\"/>\r\n     <use style=\"fill:#0000ff;stroke:#0000ff;\" x=\"610.747995\" xlink:href=\"#m2fbe127d91\" y=\"260.023308\"/>\r\n     <use style=\"fill:#0000ff;stroke:#0000ff;\" x=\"96.015374\" xlink:href=\"#m2fbe127d91\" y=\"217.611926\"/>\r\n     <use style=\"fill:#0000ff;stroke:#0000ff;\" x=\"96.015374\" xlink:href=\"#m2fbe127d91\" y=\"193.009207\"/>\r\n     <use style=\"fill:#0000ff;stroke:#0000ff;\" x=\"375.761364\" xlink:href=\"#m2fbe127d91\" y=\"308.199345\"/>\r\n     <use style=\"fill:#0000ff;stroke:#0000ff;\" x=\"375.761364\" xlink:href=\"#m2fbe127d91\" y=\"273.19966\"/>\r\n     <use style=\"fill:#0000ff;stroke:#0000ff;\" x=\"96.015374\" xlink:href=\"#m2fbe127d91\" y=\"241.494064\"/>\r\n     <use style=\"fill:#0000ff;stroke:#0000ff;\" x=\"554.798797\" xlink:href=\"#m2fbe127d91\" y=\"285.55249\"/>\r\n     <use style=\"fill:#0000ff;stroke:#0000ff;\" x=\"174.344251\" xlink:href=\"#m2fbe127d91\" y=\"239.023498\"/>\r\n     <use style=\"fill:#0000ff;stroke:#0000ff;\" x=\"90.420455\" xlink:href=\"#m2fbe127d91\" y=\"258.321088\"/>\r\n     <use style=\"fill:#0000ff;stroke:#0000ff;\" x=\"247.078209\" xlink:href=\"#m2fbe127d91\" y=\"271.346736\"/>\r\n     <use style=\"fill:#0000ff;stroke:#0000ff;\" x=\"588.368316\" xlink:href=\"#m2fbe127d91\" y=\"234.494127\"/>\r\n     <use style=\"fill:#0000ff;stroke:#0000ff;\" x=\"465.28008\" xlink:href=\"#m2fbe127d91\" y=\"281.023119\"/>\r\n     <use style=\"fill:#0000ff;stroke:#0000ff;\" x=\"325.407086\" xlink:href=\"#m2fbe127d91\" y=\"274.434943\"/>\r\n     <use style=\"fill:#0000ff;stroke:#0000ff;\" x=\"151.964572\" xlink:href=\"#m2fbe127d91\" y=\"247.958711\"/>\r\n     <use style=\"fill:#0000ff;stroke:#0000ff;\" x=\"269.457888\" xlink:href=\"#m2fbe127d91\" y=\"244.376391\"/>\r\n     <use style=\"fill:#0000ff;stroke:#0000ff;\" x=\"392.546123\" xlink:href=\"#m2fbe127d91\" y=\"286.376012\"/>\r\n     <use style=\"fill:#0000ff;stroke:#0000ff;\" x=\"146.369652\" xlink:href=\"#m2fbe127d91\" y=\"203.200291\"/>\r\n     <use style=\"fill:#0000ff;stroke:#0000ff;\" x=\"381.356283\" xlink:href=\"#m2fbe127d91\" y=\"275.670226\"/>\r\n     <use style=\"fill:#0000ff;stroke:#0000ff;\" x=\"442.900401\" xlink:href=\"#m2fbe127d91\" y=\"277.31727\"/>\r\n     <use style=\"fill:#0000ff;stroke:#0000ff;\" x=\"202.31885\" xlink:href=\"#m2fbe127d91\" y=\"219.670731\"/>\r\n     <use style=\"fill:#0000ff;stroke:#0000ff;\" x=\"375.761364\" xlink:href=\"#m2fbe127d91\" y=\"288.019762\"/>\r\n     <use style=\"fill:#0000ff;stroke:#0000ff;\" x=\"90.420455\" xlink:href=\"#m2fbe127d91\" y=\"252.446906\"/>\r\n     <use style=\"fill:#0000ff;stroke:#0000ff;\" x=\"207.91377\" xlink:href=\"#m2fbe127d91\" y=\"260.84683\"/>\r\n     <use style=\"fill:#0000ff;stroke:#0000ff;\" x=\"297.432487\" xlink:href=\"#m2fbe127d91\" y=\"297.740615\"/>\r\n     <use style=\"fill:#0000ff;stroke:#0000ff;\" x=\"582.773396\" xlink:href=\"#m2fbe127d91\" y=\"300.005301\"/>\r\n     <use style=\"fill:#0000ff;stroke:#0000ff;\" x=\"291.837567\" xlink:href=\"#m2fbe127d91\" y=\"282.464282\"/>\r\n     <use style=\"fill:#0000ff;stroke:#0000ff;\" x=\"151.964572\" xlink:href=\"#m2fbe127d91\" y=\"258.376264\"/>\r\n     <use style=\"fill:#0000ff;stroke:#0000ff;\" x=\"291.837567\" xlink:href=\"#m2fbe127d91\" y=\"299.552364\"/>\r\n     <use style=\"fill:#0000ff;stroke:#0000ff;\" x=\"163.154412\" xlink:href=\"#m2fbe127d91\" y=\"245.611674\"/>\r\n     <use style=\"fill:#0000ff;stroke:#0000ff;\" x=\"571.583556\" xlink:href=\"#m2fbe127d91\" y=\"285.140729\"/>\r\n     <use style=\"fill:#0000ff;stroke:#0000ff;\" x=\"554.798797\" xlink:href=\"#m2fbe127d91\" y=\"283.905446\"/>\r\n     <use style=\"fill:#0000ff;stroke:#0000ff;\" x=\"616.342914\" xlink:href=\"#m2fbe127d91\" y=\"295.702398\"/>\r\n     <use style=\"fill:#0000ff;stroke:#0000ff;\" x=\"588.368316\" xlink:href=\"#m2fbe127d91\" y=\"287.611295\"/>\r\n     <use style=\"fill:#0000ff;stroke:#0000ff;\" x=\"96.015374\" xlink:href=\"#m2fbe127d91\" y=\"104.377653\"/>\r\n     <use style=\"fill:#0000ff;stroke:#0000ff;\" x=\"386.951203\" xlink:href=\"#m2fbe127d91\" y=\"284.317207\"/>\r\n     <use style=\"fill:#0000ff;stroke:#0000ff;\" x=\"526.824198\" xlink:href=\"#m2fbe127d91\" y=\"265.829138\"/>\r\n     <use style=\"fill:#0000ff;stroke:#0000ff;\" x=\"96.015374\" xlink:href=\"#m2fbe127d91\" y=\"261.876233\"/>\r\n     <use style=\"fill:#0000ff;stroke:#0000ff;\" x=\"168.749332\" xlink:href=\"#m2fbe127d91\" y=\"246.435196\"/>\r\n     <use style=\"fill:#0000ff;stroke:#0000ff;\" x=\"386.951203\" xlink:href=\"#m2fbe127d91\" y=\"280.405478\"/>\r\n     <use style=\"fill:#0000ff;stroke:#0000ff;\" x=\"336.596925\" xlink:href=\"#m2fbe127d91\" y=\"254.670415\"/>\r\n     <use style=\"fill:#0000ff;stroke:#0000ff;\" x=\"135.179813\" xlink:href=\"#m2fbe127d91\" y=\"250.593982\"/>\r\n     <use style=\"fill:#0000ff;stroke:#0000ff;\" x=\"476.46992\" xlink:href=\"#m2fbe127d91\" y=\"283.699565\"/>\r\n     <use style=\"fill:#0000ff;stroke:#0000ff;\" x=\"420.520722\" xlink:href=\"#m2fbe127d91\" y=\"283.493685\"/>\r\n     <use style=\"fill:#0000ff;stroke:#0000ff;\" x=\"515.634358\" xlink:href=\"#m2fbe127d91\" y=\"287.611295\"/>\r\n     <use style=\"fill:#0000ff;stroke:#0000ff;\" x=\"263.862968\" xlink:href=\"#m2fbe127d91\" y=\"217.611926\"/>\r\n     <use style=\"fill:#0000ff;stroke:#0000ff;\" x=\"151.964572\" xlink:href=\"#m2fbe127d91\" y=\"248.905762\"/>\r\n     <use style=\"fill:#0000ff;stroke:#0000ff;\" x=\"96.015374\" xlink:href=\"#m2fbe127d91\" y=\"246.435196\"/>\r\n     <use style=\"fill:#0000ff;stroke:#0000ff;\" x=\"258.268048\" xlink:href=\"#m2fbe127d91\" y=\"255.493937\"/>\r\n     <use style=\"fill:#0000ff;stroke:#0000ff;\" x=\"280.647727\" xlink:href=\"#m2fbe127d91\" y=\"260.64095\"/>\r\n     <use style=\"fill:#0000ff;stroke:#0000ff;\" x=\"605.153075\" xlink:href=\"#m2fbe127d91\" y=\"292.552427\"/>\r\n     <use style=\"fill:#0000ff;stroke:#0000ff;\" x=\"392.546123\" xlink:href=\"#m2fbe127d91\" y=\"227.49419\"/>\r\n     <use style=\"fill:#0000ff;stroke:#0000ff;\" x=\"554.798797\" xlink:href=\"#m2fbe127d91\" y=\"266.611484\"/>\r\n     <use style=\"fill:#0000ff;stroke:#0000ff;\" x=\"420.520722\" xlink:href=\"#m2fbe127d91\" y=\"287.611295\"/>\r\n     <use style=\"fill:#0000ff;stroke:#0000ff;\" x=\"90.420455\" xlink:href=\"#m2fbe127d91\" y=\"224.432747\"/>\r\n     <use style=\"fill:#0000ff;stroke:#0000ff;\" x=\"498.849599\" xlink:href=\"#m2fbe127d91\" y=\"269.08205\"/>\r\n     <use style=\"fill:#0000ff;stroke:#0000ff;\" x=\"336.596925\" xlink:href=\"#m2fbe127d91\" y=\"307.218118\"/>\r\n     <use style=\"fill:#0000ff;stroke:#0000ff;\" x=\"504.444519\" xlink:href=\"#m2fbe127d91\" y=\"255.205705\"/>\r\n     <use style=\"fill:#0000ff;stroke:#0000ff;\" x=\"263.862968\" xlink:href=\"#m2fbe127d91\" y=\"281.846641\"/>\r\n     <use style=\"fill:#0000ff;stroke:#0000ff;\" x=\"101.610294\" xlink:href=\"#m2fbe127d91\" y=\"259.306844\"/>\r\n     <use style=\"fill:#0000ff;stroke:#0000ff;\" x=\"297.432487\" xlink:href=\"#m2fbe127d91\" y=\"264.140918\"/>\r\n     <use style=\"fill:#0000ff;stroke:#0000ff;\" x=\"454.090241\" xlink:href=\"#m2fbe127d91\" y=\"272.582019\"/>\r\n     <use style=\"fill:#0000ff;stroke:#0000ff;\" x=\"96.015374\" xlink:href=\"#m2fbe127d91\" y=\"229.964756\"/>\r\n     <use style=\"fill:#0000ff;stroke:#0000ff;\" x=\"174.344251\" xlink:href=\"#m2fbe127d91\" y=\"255.905698\"/>\r\n     <use style=\"fill:#0000ff;stroke:#0000ff;\" x=\"230.293449\" xlink:href=\"#m2fbe127d91\" y=\"245.611674\"/>\r\n     <use style=\"fill:#0000ff;stroke:#0000ff;\" x=\"258.268048\" xlink:href=\"#m2fbe127d91\" y=\"254.670415\"/>\r\n     <use style=\"fill:#0000ff;stroke:#0000ff;\" x=\"107.205214\" xlink:href=\"#m2fbe127d91\" y=\"271.964377\"/>\r\n     <use style=\"fill:#0000ff;stroke:#0000ff;\" x=\"96.015374\" xlink:href=\"#m2fbe127d91\" y=\"151.730167\"/>\r\n     <use style=\"fill:#0000ff;stroke:#0000ff;\" x=\"129.584893\" xlink:href=\"#m2fbe127d91\" y=\"229.552995\"/>\r\n     <use style=\"fill:#0000ff;stroke:#0000ff;\" x=\"336.596925\" xlink:href=\"#m2fbe127d91\" y=\"278.346673\"/>\r\n     <use style=\"fill:#0000ff;stroke:#0000ff;\" x=\"151.964572\" xlink:href=\"#m2fbe127d91\" y=\"246.888133\"/>\r\n     <use style=\"fill:#0000ff;stroke:#0000ff;\" x=\"96.015374\" xlink:href=\"#m2fbe127d91\" y=\"176.435827\"/>\r\n     <use style=\"fill:#0000ff;stroke:#0000ff;\" x=\"101.610294\" xlink:href=\"#m2fbe127d91\" y=\"210.611989\"/>\r\n     <use style=\"fill:#0000ff;stroke:#0000ff;\" x=\"482.06484\" xlink:href=\"#m2fbe127d91\" y=\"296.064336\"/>\r\n     <use style=\"fill:#0000ff;stroke:#0000ff;\" x=\"101.610294\" xlink:href=\"#m2fbe127d91\" y=\"198.67092\"/>\r\n     <use style=\"fill:#0000ff;stroke:#0000ff;\" x=\"107.205214\" xlink:href=\"#m2fbe127d91\" y=\"178.906393\"/>\r\n     <use style=\"fill:#0000ff;stroke:#0000ff;\" x=\"616.342914\" xlink:href=\"#m2fbe127d91\" y=\"269.08205\"/>\r\n     <use style=\"fill:#0000ff;stroke:#0000ff;\" x=\"135.179813\" xlink:href=\"#m2fbe127d91\" y=\"265.376201\"/>\r\n     <use style=\"fill:#0000ff;stroke:#0000ff;\" x=\"342.191845\" xlink:href=\"#m2fbe127d91\" y=\"278.346673\"/>\r\n     <use style=\"fill:#0000ff;stroke:#0000ff;\" x=\"420.520722\" xlink:href=\"#m2fbe127d91\" y=\"272.376138\"/>\r\n     <use style=\"fill:#0000ff;stroke:#0000ff;\" x=\"325.407086\" xlink:href=\"#m2fbe127d91\" y=\"268.670289\"/>\r\n     <use style=\"fill:#0000ff;stroke:#0000ff;\" x=\"291.837567\" xlink:href=\"#m2fbe127d91\" y=\"260.84683\"/>\r\n     <use style=\"fill:#0000ff;stroke:#0000ff;\" x=\"683.481952\" xlink:href=\"#m2fbe127d91\" y=\"267.023245\"/>\r\n     <use style=\"fill:#0000ff;stroke:#0000ff;\" x=\"308.622326\" xlink:href=\"#m2fbe127d91\" y=\"297.493559\"/>\r\n     <use style=\"fill:#0000ff;stroke:#0000ff;\" x=\"269.457888\" xlink:href=\"#m2fbe127d91\" y=\"285.55249\"/>\r\n     <use style=\"fill:#0000ff;stroke:#0000ff;\" x=\"454.090241\" xlink:href=\"#m2fbe127d91\" y=\"278.140792\"/>\r\n     <use style=\"fill:#0000ff;stroke:#0000ff;\" x=\"90.420455\" xlink:href=\"#m2fbe127d91\" y=\"261.758881\"/>\r\n     <use style=\"fill:#0000ff;stroke:#0000ff;\" x=\"358.976604\" xlink:href=\"#m2fbe127d91\" y=\"269.08205\"/>\r\n     <use style=\"fill:#0000ff;stroke:#0000ff;\" x=\"487.659759\" xlink:href=\"#m2fbe127d91\" y=\"295.311225\"/>\r\n     <use style=\"fill:#0000ff;stroke:#0000ff;\" x=\"588.368316\" xlink:href=\"#m2fbe127d91\" y=\"318.534545\"/>\r\n     <use style=\"fill:#0000ff;stroke:#0000ff;\" x=\"174.344251\" xlink:href=\"#m2fbe127d91\" y=\"155.847777\"/>\r\n     <use style=\"fill:#0000ff;stroke:#0000ff;\" x=\"554.798797\" xlink:href=\"#m2fbe127d91\" y=\"257.140981\"/>\r\n     <use style=\"fill:#0000ff;stroke:#0000ff;\" x=\"325.407086\" xlink:href=\"#m2fbe127d91\" y=\"279.376075\"/>\r\n     <use style=\"fill:#0000ff;stroke:#0000ff;\" x=\"364.571524\" xlink:href=\"#m2fbe127d91\" y=\"283.493685\"/>\r\n     <use style=\"fill:#0000ff;stroke:#0000ff;\" x=\"280.647727\" xlink:href=\"#m2fbe127d91\" y=\"286.376012\"/>\r\n     <use style=\"fill:#0000ff;stroke:#0000ff;\" x=\"107.205214\" xlink:href=\"#m2fbe127d91\" y=\"239.558787\"/>\r\n     <use style=\"fill:#0000ff;stroke:#0000ff;\" x=\"325.407086\" xlink:href=\"#m2fbe127d91\" y=\"275.258465\"/>\r\n     <use style=\"fill:#0000ff;stroke:#0000ff;\" x=\"375.761364\" xlink:href=\"#m2fbe127d91\" y=\"213.906077\"/>\r\n     <use style=\"fill:#0000ff;stroke:#0000ff;\" x=\"286.242647\" xlink:href=\"#m2fbe127d91\" y=\"272.376138\"/>\r\n     <use style=\"fill:#0000ff;stroke:#0000ff;\" x=\"409.330882\" xlink:href=\"#m2fbe127d91\" y=\"281.640761\"/>\r\n     <use style=\"fill:#0000ff;stroke:#0000ff;\" x=\"163.154412\" xlink:href=\"#m2fbe127d91\" y=\"244.376391\"/>\r\n     <use style=\"fill:#0000ff;stroke:#0000ff;\" x=\"90.420455\" xlink:href=\"#m2fbe127d91\" y=\"247.135189\"/>\r\n     <use style=\"fill:#0000ff;stroke:#0000ff;\" x=\"538.014037\" xlink:href=\"#m2fbe127d91\" y=\"266.611484\"/>\r\n     <use style=\"fill:#0000ff;stroke:#0000ff;\" x=\"370.166444\" xlink:href=\"#m2fbe127d91\" y=\"281.640761\"/>\r\n     <use style=\"fill:#0000ff;stroke:#0000ff;\" x=\"414.925802\" xlink:href=\"#m2fbe127d91\" y=\"265.005616\"/>\r\n     <use style=\"fill:#0000ff;stroke:#0000ff;\" x=\"96.015374\" xlink:href=\"#m2fbe127d91\" y=\"249.455462\"/>\r\n     <use style=\"fill:#0000ff;stroke:#0000ff;\" x=\"358.976604\" xlink:href=\"#m2fbe127d91\" y=\"279.417251\"/>\r\n     <use style=\"fill:#0000ff;stroke:#0000ff;\" x=\"224.698529\" xlink:href=\"#m2fbe127d91\" y=\"277.729031\"/>\r\n     <use style=\"fill:#0000ff;stroke:#0000ff;\" x=\"543.608957\" xlink:href=\"#m2fbe127d91\" y=\"293.170068\"/>\r\n     <use style=\"fill:#0000ff;stroke:#0000ff;\" x=\"90.420455\" xlink:href=\"#m2fbe127d91\" y=\"167.022559\"/>\r\n     <use style=\"fill:#0000ff;stroke:#0000ff;\" x=\"297.432487\" xlink:href=\"#m2fbe127d91\" y=\"267.846767\"/>\r\n     <use style=\"fill:#0000ff;stroke:#0000ff;\" x=\"163.154412\" xlink:href=\"#m2fbe127d91\" y=\"223.788341\"/>\r\n     <use style=\"fill:#0000ff;stroke:#0000ff;\" x=\"140.774733\" xlink:href=\"#m2fbe127d91\" y=\"246.023435\"/>\r\n     <use style=\"fill:#0000ff;stroke:#0000ff;\" x=\"554.798797\" xlink:href=\"#m2fbe127d91\" y=\"236.552932\"/>\r\n     <use style=\"fill:#0000ff;stroke:#0000ff;\" x=\"694.671791\" xlink:href=\"#m2fbe127d91\" y=\"289.155399\"/>\r\n     <use style=\"fill:#0000ff;stroke:#0000ff;\" x=\"370.166444\" xlink:href=\"#m2fbe127d91\" y=\"271.140855\"/>\r\n     <use style=\"fill:#0000ff;stroke:#0000ff;\" x=\"420.520722\" xlink:href=\"#m2fbe127d91\" y=\"267.435006\"/>\r\n     <use style=\"fill:#0000ff;stroke:#0000ff;\" x=\"90.420455\" xlink:href=\"#m2fbe127d91\" y=\"256.832161\"/>\r\n     <use style=\"fill:#0000ff;stroke:#0000ff;\" x=\"151.964572\" xlink:href=\"#m2fbe127d91\" y=\"202.891471\"/>\r\n     <use style=\"fill:#0000ff;stroke:#0000ff;\" x=\"96.015374\" xlink:href=\"#m2fbe127d91\" y=\"260.435069\"/>\r\n     <use style=\"fill:#0000ff;stroke:#0000ff;\" x=\"375.761364\" xlink:href=\"#m2fbe127d91\" y=\"278.552553\"/>\r\n     <use style=\"fill:#0000ff;stroke:#0000ff;\" x=\"90.420455\" xlink:href=\"#m2fbe127d91\" y=\"149.152132\"/>\r\n     <use style=\"fill:#0000ff;stroke:#0000ff;\" x=\"577.178476\" xlink:href=\"#m2fbe127d91\" y=\"297.493559\"/>\r\n     <use style=\"fill:#0000ff;stroke:#0000ff;\" x=\"202.31885\" xlink:href=\"#m2fbe127d91\" y=\"260.84683\"/>\r\n     <use style=\"fill:#0000ff;stroke:#0000ff;\" x=\"582.773396\" xlink:href=\"#m2fbe127d91\" y=\"280.199597\"/>\r\n     <use style=\"fill:#0000ff;stroke:#0000ff;\" x=\"398.141043\" xlink:href=\"#m2fbe127d91\" y=\"288.640697\"/>\r\n     <use style=\"fill:#0000ff;stroke:#0000ff;\" x=\"431.710561\" xlink:href=\"#m2fbe127d91\" y=\"316.722797\"/>\r\n     <use style=\"fill:#0000ff;stroke:#0000ff;\" x=\"101.610294\" xlink:href=\"#m2fbe127d91\" y=\"259.611547\"/>\r\n     <use style=\"fill:#0000ff;stroke:#0000ff;\" x=\"638.722594\" xlink:href=\"#m2fbe127d91\" y=\"288.640697\"/>\r\n     <use style=\"fill:#0000ff;stroke:#0000ff;\" x=\"146.369652\" xlink:href=\"#m2fbe127d91\" y=\"255.493937\"/>\r\n     <use style=\"fill:#0000ff;stroke:#0000ff;\" x=\"291.837567\" xlink:href=\"#m2fbe127d91\" y=\"287.096594\"/>\r\n     <use style=\"fill:#0000ff;stroke:#0000ff;\" x=\"303.027406\" xlink:href=\"#m2fbe127d91\" y=\"267.846767\"/>\r\n     <use style=\"fill:#0000ff;stroke:#0000ff;\" x=\"140.774733\" xlink:href=\"#m2fbe127d91\" y=\"220.906014\"/>\r\n     <use style=\"fill:#0000ff;stroke:#0000ff;\" x=\"107.205214\" xlink:href=\"#m2fbe127d91\" y=\"203.200291\"/>\r\n     <use style=\"fill:#0000ff;stroke:#0000ff;\" x=\"129.584893\" xlink:href=\"#m2fbe127d91\" y=\"230.788278\"/>\r\n     <use style=\"fill:#0000ff;stroke:#0000ff;\" x=\"151.964572\" xlink:href=\"#m2fbe127d91\" y=\"245.096972\"/>\r\n     <use style=\"fill:#0000ff;stroke:#0000ff;\" x=\"140.774733\" xlink:href=\"#m2fbe127d91\" y=\"278.140792\"/>\r\n     <use style=\"fill:#0000ff;stroke:#0000ff;\" x=\"90.420455\" xlink:href=\"#m2fbe127d91\" y=\"258.925965\"/>\r\n     <use style=\"fill:#0000ff;stroke:#0000ff;\" x=\"191.129011\" xlink:href=\"#m2fbe127d91\" y=\"238.611737\"/>\r\n     <use style=\"fill:#0000ff;stroke:#0000ff;\" x=\"560.393717\" xlink:href=\"#m2fbe127d91\" y=\"246.435196\"/>\r\n     <use style=\"fill:#0000ff;stroke:#0000ff;\" x=\"297.432487\" xlink:href=\"#m2fbe127d91\" y=\"279.581956\"/>\r\n     <use style=\"fill:#0000ff;stroke:#0000ff;\" x=\"386.951203\" xlink:href=\"#m2fbe127d91\" y=\"281.43488\"/>\r\n     <use style=\"fill:#0000ff;stroke:#0000ff;\" x=\"123.989973\" xlink:href=\"#m2fbe127d91\" y=\"224.611863\"/>\r\n     <use style=\"fill:#0000ff;stroke:#0000ff;\" x=\"263.862968\" xlink:href=\"#m2fbe127d91\" y=\"275.258465\"/>\r\n     <use style=\"fill:#0000ff;stroke:#0000ff;\" x=\"375.761364\" xlink:href=\"#m2fbe127d91\" y=\"286.581892\"/>\r\n     <use style=\"fill:#0000ff;stroke:#0000ff;\" x=\"107.205214\" xlink:href=\"#m2fbe127d91\" y=\"227.70007\"/>\r\n     <use style=\"fill:#0000ff;stroke:#0000ff;\" x=\"426.115642\" xlink:href=\"#m2fbe127d91\" y=\"288.434817\"/>\r\n     <use style=\"fill:#0000ff;stroke:#0000ff;\" x=\"118.395053\" xlink:href=\"#m2fbe127d91\" y=\"215.964882\"/>\r\n     <use style=\"fill:#0000ff;stroke:#0000ff;\" x=\"560.393717\" xlink:href=\"#m2fbe127d91\" y=\"286.376012\"/>\r\n     <use style=\"fill:#0000ff;stroke:#0000ff;\" x=\"364.571524\" xlink:href=\"#m2fbe127d91\" y=\"274.846704\"/>\r\n     <use style=\"fill:#0000ff;stroke:#0000ff;\" x=\"571.583556\" xlink:href=\"#m2fbe127d91\" y=\"288.434817\"/>\r\n     <use style=\"fill:#0000ff;stroke:#0000ff;\" x=\"157.559492\" xlink:href=\"#m2fbe127d91\" y=\"260.84683\"/>\r\n     <use style=\"fill:#0000ff;stroke:#0000ff;\" x=\"107.205214\" xlink:href=\"#m2fbe127d91\" y=\"236.552932\"/>\r\n     <use style=\"fill:#0000ff;stroke:#0000ff;\" x=\"386.951203\" xlink:href=\"#m2fbe127d91\" y=\"282.876043\"/>\r\n     <use style=\"fill:#0000ff;stroke:#0000ff;\" x=\"269.457888\" xlink:href=\"#m2fbe127d91\" y=\"262.905635\"/>\r\n     <use style=\"fill:#0000ff;stroke:#0000ff;\" x=\"470.875\" xlink:href=\"#m2fbe127d91\" y=\"288.434817\"/>\r\n     <use style=\"fill:#0000ff;stroke:#0000ff;\" x=\"593.963235\" xlink:href=\"#m2fbe127d91\" y=\"256.72922\"/>\r\n     <use style=\"fill:#0000ff;stroke:#0000ff;\" x=\"168.749332\" xlink:href=\"#m2fbe127d91\" y=\"222.553058\"/>\r\n     <use style=\"fill:#0000ff;stroke:#0000ff;\" x=\"621.937834\" xlink:href=\"#m2fbe127d91\" y=\"280.199597\"/>\r\n     <use style=\"fill:#0000ff;stroke:#0000ff;\" x=\"107.205214\" xlink:href=\"#m2fbe127d91\" y=\"199.082681\"/>\r\n     <use style=\"fill:#0000ff;stroke:#0000ff;\" x=\"123.989973\" xlink:href=\"#m2fbe127d91\" y=\"244.788152\"/>\r\n     <use style=\"fill:#0000ff;stroke:#0000ff;\" x=\"235.888369\" xlink:href=\"#m2fbe127d91\" y=\"202.541474\"/>\r\n     <use style=\"fill:#0000ff;stroke:#0000ff;\" x=\"241.483289\" xlink:href=\"#m2fbe127d91\" y=\"276.92198\"/>\r\n     <use style=\"fill:#0000ff;stroke:#0000ff;\" x=\"331.002005\" xlink:href=\"#m2fbe127d91\" y=\"274.187887\"/>\r\n     <use style=\"fill:#0000ff;stroke:#0000ff;\" x=\"353.381684\" xlink:href=\"#m2fbe127d91\" y=\"283.493685\"/>\r\n     <use style=\"fill:#0000ff;stroke:#0000ff;\" x=\"90.420455\" xlink:href=\"#m2fbe127d91\" y=\"240.464661\"/>\r\n     <use style=\"fill:#0000ff;stroke:#0000ff;\" x=\"129.584893\" xlink:href=\"#m2fbe127d91\" y=\"262.905635\"/>\r\n     <use style=\"fill:#0000ff;stroke:#0000ff;\" x=\"291.837567\" xlink:href=\"#m2fbe127d91\" y=\"275.670226\"/>\r\n     <use style=\"fill:#0000ff;stroke:#0000ff;\" x=\"431.710561\" xlink:href=\"#m2fbe127d91\" y=\"284.111326\"/>\r\n     <use style=\"fill:#0000ff;stroke:#0000ff;\" x=\"543.608957\" xlink:href=\"#m2fbe127d91\" y=\"273.19966\"/>\r\n     <use style=\"fill:#0000ff;stroke:#0000ff;\" x=\"314.217246\" xlink:href=\"#m2fbe127d91\" y=\"265.170321\"/>\r\n     <use style=\"fill:#0000ff;stroke:#0000ff;\" x=\"96.015374\" xlink:href=\"#m2fbe127d91\" y=\"272.787899\"/>\r\n     <use style=\"fill:#0000ff;stroke:#0000ff;\" x=\"392.546123\" xlink:href=\"#m2fbe127d91\" y=\"278.758434\"/>\r\n     <use style=\"fill:#0000ff;stroke:#0000ff;\" x=\"353.381684\" xlink:href=\"#m2fbe127d91\" y=\"258.00568\"/>\r\n     <use style=\"fill:#0000ff;stroke:#0000ff;\" x=\"96.015374\" xlink:href=\"#m2fbe127d91\" y=\"228.608827\"/>\r\n     <use style=\"fill:#0000ff;stroke:#0000ff;\" x=\"185.534091\" xlink:href=\"#m2fbe127d91\" y=\"284.111326\"/>\r\n     <use style=\"fill:#0000ff;stroke:#0000ff;\" x=\"733.83623\" xlink:href=\"#m2fbe127d91\" y=\"199.082681\"/>\r\n     <use style=\"fill:#0000ff;stroke:#0000ff;\" x=\"504.444519\" xlink:href=\"#m2fbe127d91\" y=\"278.140792\"/>\r\n     <use style=\"fill:#0000ff;stroke:#0000ff;\" x=\"96.015374\" xlink:href=\"#m2fbe127d91\" y=\"180.594613\"/>\r\n     <use style=\"fill:#0000ff;stroke:#0000ff;\" x=\"593.963235\" xlink:href=\"#m2fbe127d91\" y=\"279.376075\"/>\r\n     <use style=\"fill:#0000ff;stroke:#0000ff;\" x=\"241.483289\" xlink:href=\"#m2fbe127d91\" y=\"276.493748\"/>\r\n     <use style=\"fill:#0000ff;stroke:#0000ff;\" x=\"319.812166\" xlink:href=\"#m2fbe127d91\" y=\"274.023182\"/>\r\n     <use style=\"fill:#0000ff;stroke:#0000ff;\" x=\"526.824198\" xlink:href=\"#m2fbe127d91\" y=\"300.170005\"/>\r\n     <use style=\"fill:#0000ff;stroke:#0000ff;\" x=\"112.800134\" xlink:href=\"#m2fbe127d91\" y=\"256.358636\"/>\r\n     <use style=\"fill:#0000ff;stroke:#0000ff;\" x=\"96.015374\" xlink:href=\"#m2fbe127d91\" y=\"146.809623\"/>\r\n     <use style=\"fill:#0000ff;stroke:#0000ff;\" x=\"235.888369\" xlink:href=\"#m2fbe127d91\" y=\"276.081987\"/>\r\n     <use style=\"fill:#0000ff;stroke:#0000ff;\" x=\"123.989973\" xlink:href=\"#m2fbe127d91\" y=\"275.258465\"/>\r\n     <use style=\"fill:#0000ff;stroke:#0000ff;\" x=\"275.052807\" xlink:href=\"#m2fbe127d91\" y=\"287.611295\"/>\r\n     <use style=\"fill:#0000ff;stroke:#0000ff;\" x=\"96.015374\" xlink:href=\"#m2fbe127d91\" y=\"201.553247\"/>\r\n     <use style=\"fill:#0000ff;stroke:#0000ff;\" x=\"627.532754\" xlink:href=\"#m2fbe127d91\" y=\"285.756723\"/>\r\n     <use style=\"fill:#0000ff;stroke:#0000ff;\" x=\"96.015374\" xlink:href=\"#m2fbe127d91\" y=\"252.940608\"/>\r\n     <use style=\"fill:#0000ff;stroke:#0000ff;\" x=\"252.673128\" xlink:href=\"#m2fbe127d91\" y=\"243.346988\"/>\r\n     <use style=\"fill:#0000ff;stroke:#0000ff;\" x=\"247.078209\" xlink:href=\"#m2fbe127d91\" y=\"270.729094\"/>\r\n     <use style=\"fill:#0000ff;stroke:#0000ff;\" x=\"96.015374\" xlink:href=\"#m2fbe127d91\" y=\"219.670731\"/>\r\n     <use style=\"fill:#0000ff;stroke:#0000ff;\" x=\"482.06484\" xlink:href=\"#m2fbe127d91\" y=\"274.846704\"/>\r\n     <use style=\"fill:#0000ff;stroke:#0000ff;\" x=\"168.749332\" xlink:href=\"#m2fbe127d91\" y=\"242.317586\"/>\r\n     <use style=\"fill:#0000ff;stroke:#0000ff;\" x=\"123.989973\" xlink:href=\"#m2fbe127d91\" y=\"270.729094\"/>\r\n     <use style=\"fill:#0000ff;stroke:#0000ff;\" x=\"123.989973\" xlink:href=\"#m2fbe127d91\" y=\"241.905825\"/>\r\n     <use style=\"fill:#0000ff;stroke:#0000ff;\" x=\"336.596925\" xlink:href=\"#m2fbe127d91\" y=\"248.494001\"/>\r\n     <use style=\"fill:#0000ff;stroke:#0000ff;\" x=\"163.154412\" xlink:href=\"#m2fbe127d91\" y=\"270.317333\"/>\r\n     <use style=\"fill:#0000ff;stroke:#0000ff;\" x=\"414.925802\" xlink:href=\"#m2fbe127d91\" y=\"240.258781\"/>\r\n     <use style=\"fill:#0000ff;stroke:#0000ff;\" x=\"498.849599\" xlink:href=\"#m2fbe127d91\" y=\"185.041632\"/>\r\n     <use style=\"fill:#0000ff;stroke:#0000ff;\" x=\"347.786765\" xlink:href=\"#m2fbe127d91\" y=\"284.111326\"/>\r\n     <use style=\"fill:#0000ff;stroke:#0000ff;\" x=\"140.774733\" xlink:href=\"#m2fbe127d91\" y=\"204.023813\"/>\r\n     <use style=\"fill:#0000ff;stroke:#0000ff;\" x=\"252.673128\" xlink:href=\"#m2fbe127d91\" y=\"271.964377\"/>\r\n     <use style=\"fill:#0000ff;stroke:#0000ff;\" x=\"135.179813\" xlink:href=\"#m2fbe127d91\" y=\"225.229504\"/>\r\n     <use style=\"fill:#0000ff;stroke:#0000ff;\" x=\"90.420455\" xlink:href=\"#m2fbe127d91\" y=\"272.376138\"/>\r\n     <use style=\"fill:#0000ff;stroke:#0000ff;\" x=\"303.027406\" xlink:href=\"#m2fbe127d91\" y=\"301.817049\"/>\r\n     <use style=\"fill:#0000ff;stroke:#0000ff;\" x=\"353.381684\" xlink:href=\"#m2fbe127d91\" y=\"276.287868\"/>\r\n     <use style=\"fill:#0000ff;stroke:#0000ff;\" x=\"112.800134\" xlink:href=\"#m2fbe127d91\" y=\"257.47039\"/>\r\n     <use style=\"fill:#0000ff;stroke:#0000ff;\" x=\"392.546123\" xlink:href=\"#m2fbe127d91\" y=\"289.464219\"/>\r\n     <use style=\"fill:#0000ff;stroke:#0000ff;\" x=\"90.420455\" xlink:href=\"#m2fbe127d91\" y=\"203.277291\"/>\r\n     <use style=\"fill:#0000ff;stroke:#0000ff;\" x=\"118.395053\" xlink:href=\"#m2fbe127d91\" y=\"207.317901\"/>\r\n     <use style=\"fill:#0000ff;stroke:#0000ff;\" x=\"616.342914\" xlink:href=\"#m2fbe127d91\" y=\"305.317018\"/>\r\n     <use style=\"fill:#0000ff;stroke:#0000ff;\" x=\"280.647727\" xlink:href=\"#m2fbe127d91\" y=\"234.082366\"/>\r\n     <use style=\"fill:#0000ff;stroke:#0000ff;\" x=\"269.457888\" xlink:href=\"#m2fbe127d91\" y=\"277.31727\"/>\r\n     <use style=\"fill:#0000ff;stroke:#0000ff;\" x=\"129.584893\" xlink:href=\"#m2fbe127d91\" y=\"263.523277\"/>\r\n     <use style=\"fill:#0000ff;stroke:#0000ff;\" x=\"358.976604\" xlink:href=\"#m2fbe127d91\" y=\"267.023245\"/>\r\n     <use style=\"fill:#0000ff;stroke:#0000ff;\" x=\"353.381684\" xlink:href=\"#m2fbe127d91\" y=\"275.299641\"/>\r\n     <use style=\"fill:#0000ff;stroke:#0000ff;\" x=\"398.141043\" xlink:href=\"#m2fbe127d91\" y=\"269.905572\"/>\r\n     <use style=\"fill:#0000ff;stroke:#0000ff;\" x=\"303.027406\" xlink:href=\"#m2fbe127d91\" y=\"277.31727\"/>\r\n     <use style=\"fill:#0000ff;stroke:#0000ff;\" x=\"336.596925\" xlink:href=\"#m2fbe127d91\" y=\"263.523277\"/>\r\n     <use style=\"fill:#0000ff;stroke:#0000ff;\" x=\"795.380348\" xlink:href=\"#m2fbe127d91\" y=\"281.846641\"/>\r\n     <use style=\"fill:#0000ff;stroke:#0000ff;\" x=\"96.015374\" xlink:href=\"#m2fbe127d91\" y=\"246.641076\"/>\r\n     <use style=\"fill:#0000ff;stroke:#0000ff;\" x=\"269.457888\" xlink:href=\"#m2fbe127d91\" y=\"298.934722\"/>\r\n     <use style=\"fill:#0000ff;stroke:#0000ff;\" x=\"386.951203\" xlink:href=\"#m2fbe127d91\" y=\"275.505522\"/>\r\n     <use style=\"fill:#0000ff;stroke:#0000ff;\" x=\"258.268048\" xlink:href=\"#m2fbe127d91\" y=\"273.611421\"/>\r\n     <use style=\"fill:#0000ff;stroke:#0000ff;\" x=\"610.747995\" xlink:href=\"#m2fbe127d91\" y=\"250.552806\"/>\r\n     <use style=\"fill:#0000ff;stroke:#0000ff;\" x=\"498.849599\" xlink:href=\"#m2fbe127d91\" y=\"308.199345\"/>\r\n     <use style=\"fill:#0000ff;stroke:#0000ff;\" x=\"398.141043\" xlink:href=\"#m2fbe127d91\" y=\"294.611232\"/>\r\n     <use style=\"fill:#0000ff;stroke:#0000ff;\" x=\"638.722594\" xlink:href=\"#m2fbe127d91\" y=\"297.90532\"/>\r\n     <use style=\"fill:#0000ff;stroke:#0000ff;\" x=\"90.420455\" xlink:href=\"#m2fbe127d91\" y=\"223.969104\"/>\r\n     <use style=\"fill:#0000ff;stroke:#0000ff;\" x=\"118.395053\" xlink:href=\"#m2fbe127d91\" y=\"220.082492\"/>\r\n     <use style=\"fill:#0000ff;stroke:#0000ff;\" x=\"123.989973\" xlink:href=\"#m2fbe127d91\" y=\"239.84702\"/>\r\n     <use style=\"fill:#0000ff;stroke:#0000ff;\" x=\"297.432487\" xlink:href=\"#m2fbe127d91\" y=\"190.847462\"/>\r\n     <use style=\"fill:#0000ff;stroke:#0000ff;\" x=\"303.027406\" xlink:href=\"#m2fbe127d91\" y=\"270.317333\"/>\r\n     <use style=\"fill:#0000ff;stroke:#0000ff;\" x=\"90.420455\" xlink:href=\"#m2fbe127d91\" y=\"180.191911\"/>\r\n     <use style=\"fill:#0000ff;stroke:#0000ff;\" x=\"291.837567\" xlink:href=\"#m2fbe127d91\" y=\"273.920242\"/>\r\n     <use style=\"fill:#0000ff;stroke:#0000ff;\" x=\"414.925802\" xlink:href=\"#m2fbe127d91\" y=\"292.428899\"/>\r\n     <use style=\"fill:#0000ff;stroke:#0000ff;\" x=\"398.141043\" xlink:href=\"#m2fbe127d91\" y=\"269.08205\"/>\r\n     <use style=\"fill:#0000ff;stroke:#0000ff;\" x=\"336.596925\" xlink:href=\"#m2fbe127d91\" y=\"269.08205\"/>\r\n     <use style=\"fill:#0000ff;stroke:#0000ff;\" x=\"297.432487\" xlink:href=\"#m2fbe127d91\" y=\"298.1112\"/>\r\n     <use style=\"fill:#0000ff;stroke:#0000ff;\" x=\"476.46992\" xlink:href=\"#m2fbe127d91\" y=\"288.434817\"/>\r\n     <use style=\"fill:#0000ff;stroke:#0000ff;\" x=\"163.154412\" xlink:href=\"#m2fbe127d91\" y=\"254.258654\"/>\r\n     <use style=\"fill:#0000ff;stroke:#0000ff;\" x=\"661.102273\" xlink:href=\"#m2fbe127d91\" y=\"277.31727\"/>\r\n     <use style=\"fill:#0000ff;stroke:#0000ff;\" x=\"163.154412\" xlink:href=\"#m2fbe127d91\" y=\"188.788657\"/>\r\n     <use style=\"fill:#0000ff;stroke:#0000ff;\" x=\"308.622326\" xlink:href=\"#m2fbe127d91\" y=\"296.670037\"/>\r\n     <use style=\"fill:#0000ff;stroke:#0000ff;\" x=\"364.571524\" xlink:href=\"#m2fbe127d91\" y=\"272.99378\"/>\r\n     <use style=\"fill:#0000ff;stroke:#0000ff;\" x=\"521.229278\" xlink:href=\"#m2fbe127d91\" y=\"271.552616\"/>\r\n     <use style=\"fill:#0000ff;stroke:#0000ff;\" x=\"437.305481\" xlink:href=\"#m2fbe127d91\" y=\"292.758307\"/>\r\n     <use style=\"fill:#0000ff;stroke:#0000ff;\" x=\"342.191845\" xlink:href=\"#m2fbe127d91\" y=\"264.140918\"/>\r\n     <use style=\"fill:#0000ff;stroke:#0000ff;\" x=\"263.862968\" xlink:href=\"#m2fbe127d91\" y=\"251.417504\"/>\r\n     <use style=\"fill:#0000ff;stroke:#0000ff;\" x=\"174.344251\" xlink:href=\"#m2fbe127d91\" y=\"167.377085\"/>\r\n     <use style=\"fill:#0000ff;stroke:#0000ff;\" x=\"319.812166\" xlink:href=\"#m2fbe127d91\" y=\"287.611295\"/>\r\n     <use style=\"fill:#0000ff;stroke:#0000ff;\" x=\"291.837567\" xlink:href=\"#m2fbe127d91\" y=\"276.287868\"/>\r\n     <use style=\"fill:#0000ff;stroke:#0000ff;\" x=\"96.015374\" xlink:href=\"#m2fbe127d91\" y=\"158.730104\"/>\r\n     <use style=\"fill:#0000ff;stroke:#0000ff;\" x=\"123.989973\" xlink:href=\"#m2fbe127d91\" y=\"237.994095\"/>\r\n     <use style=\"fill:#0000ff;stroke:#0000ff;\" x=\"325.407086\" xlink:href=\"#m2fbe127d91\" y=\"279.787836\"/>\r\n     <use style=\"fill:#0000ff;stroke:#0000ff;\" x=\"168.749332\" xlink:href=\"#m2fbe127d91\" y=\"253.229252\"/>\r\n     <use style=\"fill:#0000ff;stroke:#0000ff;\" x=\"370.166444\" xlink:href=\"#m2fbe127d91\" y=\"263.729157\"/>\r\n     <use style=\"fill:#0000ff;stroke:#0000ff;\" x=\"560.393717\" xlink:href=\"#m2fbe127d91\" y=\"276.287868\"/>\r\n     <use style=\"fill:#0000ff;stroke:#0000ff;\" x=\"112.800134\" xlink:href=\"#m2fbe127d91\" y=\"261.464472\"/>\r\n     <use style=\"fill:#0000ff;stroke:#0000ff;\" x=\"560.393717\" xlink:href=\"#m2fbe127d91\" y=\"290.246565\"/>\r\n     <use style=\"fill:#0000ff;stroke:#0000ff;\" x=\"252.673128\" xlink:href=\"#m2fbe127d91\" y=\"264.96444\"/>\r\n     <use style=\"fill:#0000ff;stroke:#0000ff;\" x=\"370.166444\" xlink:href=\"#m2fbe127d91\" y=\"226.876548\"/>\r\n     <use style=\"fill:#0000ff;stroke:#0000ff;\" x=\"331.002005\" xlink:href=\"#m2fbe127d91\" y=\"275.258465\"/>\r\n     <use style=\"fill:#0000ff;stroke:#0000ff;\" x=\"263.862968\" xlink:href=\"#m2fbe127d91\" y=\"271.758497\"/>\r\n     <use style=\"fill:#0000ff;stroke:#0000ff;\" x=\"683.481952\" xlink:href=\"#m2fbe127d91\" y=\"297.081798\"/>\r\n     <use style=\"fill:#0000ff;stroke:#0000ff;\" x=\"565.988636\" xlink:href=\"#m2fbe127d91\" y=\"287.817175\"/>\r\n     <use style=\"fill:#0000ff;stroke:#0000ff;\" x=\"96.015374\" xlink:href=\"#m2fbe127d91\" y=\"179.524034\"/>\r\n     <use style=\"fill:#0000ff;stroke:#0000ff;\" x=\"347.786765\" xlink:href=\"#m2fbe127d91\" y=\"279.993717\"/>\r\n     <use style=\"fill:#0000ff;stroke:#0000ff;\" x=\"258.268048\" xlink:href=\"#m2fbe127d91\" y=\"274.023182\"/>\r\n     <use style=\"fill:#0000ff;stroke:#0000ff;\" x=\"521.229278\" xlink:href=\"#m2fbe127d91\" y=\"267.256302\"/>\r\n     <use style=\"fill:#0000ff;stroke:#0000ff;\" x=\"157.559492\" xlink:href=\"#m2fbe127d91\" y=\"261.670352\"/>\r\n     <use style=\"fill:#0000ff;stroke:#0000ff;\" x=\"118.395053\" xlink:href=\"#m2fbe127d91\" y=\"215.553121\"/>\r\n     <use style=\"fill:#0000ff;stroke:#0000ff;\" x=\"157.559492\" xlink:href=\"#m2fbe127d91\" y=\"241.905825\"/>\r\n     <use style=\"fill:#0000ff;stroke:#0000ff;\" x=\"219.10361\" xlink:href=\"#m2fbe127d91\" y=\"247.464598\"/>\r\n     <use style=\"fill:#0000ff;stroke:#0000ff;\" x=\"90.420455\" xlink:href=\"#m2fbe127d91\" y=\"239.074968\"/>\r\n     <use style=\"fill:#0000ff;stroke:#0000ff;\" x=\"107.205214\" xlink:href=\"#m2fbe127d91\" y=\"271.634968\"/>\r\n     <use style=\"fill:#0000ff;stroke:#0000ff;\" x=\"90.420455\" xlink:href=\"#m2fbe127d91\" y=\"171.494695\"/>\r\n     <use style=\"fill:#0000ff;stroke:#0000ff;\" x=\"101.610294\" xlink:href=\"#m2fbe127d91\" y=\"252.735139\"/>\r\n     <use style=\"fill:#0000ff;stroke:#0000ff;\" x=\"112.800134\" xlink:href=\"#m2fbe127d91\" y=\"274.846704\"/>\r\n     <use style=\"fill:#0000ff;stroke:#0000ff;\" x=\"163.154412\" xlink:href=\"#m2fbe127d91\" y=\"22.025455\"/>\r\n     <use style=\"fill:#0000ff;stroke:#0000ff;\" x=\"185.534091\" xlink:href=\"#m2fbe127d91\" y=\"194.965072\"/>\r\n     <use style=\"fill:#0000ff;stroke:#0000ff;\" x=\"565.988636\" xlink:href=\"#m2fbe127d91\" y=\"288.237172\"/>\r\n     <use style=\"fill:#0000ff;stroke:#0000ff;\" x=\"498.849599\" xlink:href=\"#m2fbe127d91\" y=\"274.640824\"/>\r\n     <use style=\"fill:#0000ff;stroke:#0000ff;\" x=\"196.72393\" xlink:href=\"#m2fbe127d91\" y=\"260.435069\"/>\r\n     <use style=\"fill:#0000ff;stroke:#0000ff;\" x=\"565.988636\" xlink:href=\"#m2fbe127d91\" y=\"296.258276\"/>\r\n     <use style=\"fill:#0000ff;stroke:#0000ff;\" x=\"392.546123\" xlink:href=\"#m2fbe127d91\" y=\"282.052521\"/>\r\n     <use style=\"fill:#0000ff;stroke:#0000ff;\" x=\"342.191845\" xlink:href=\"#m2fbe127d91\" y=\"275.876107\"/>\r\n     <use style=\"fill:#0000ff;stroke:#0000ff;\" x=\"112.800134\" xlink:href=\"#m2fbe127d91\" y=\"252.19985\"/>\r\n     <use style=\"fill:#0000ff;stroke:#0000ff;\" x=\"112.800134\" xlink:href=\"#m2fbe127d91\" y=\"204.229694\"/>\r\n     <use style=\"fill:#0000ff;stroke:#0000ff;\" x=\"297.432487\" xlink:href=\"#m2fbe127d91\" y=\"275.258465\"/>\r\n     <use style=\"fill:#0000ff;stroke:#0000ff;\" x=\"90.420455\" xlink:href=\"#m2fbe127d91\" y=\"183.880877\"/>\r\n     <use style=\"fill:#0000ff;stroke:#0000ff;\" x=\"705.861631\" xlink:href=\"#m2fbe127d91\" y=\"275.258465\"/>\r\n     <use style=\"fill:#0000ff;stroke:#0000ff;\" x=\"123.989973\" xlink:href=\"#m2fbe127d91\" y=\"245.199913\"/>\r\n     <use style=\"fill:#0000ff;stroke:#0000ff;\" x=\"538.014037\" xlink:href=\"#m2fbe127d91\" y=\"310.258149\"/>\r\n     <use style=\"fill:#0000ff;stroke:#0000ff;\" x=\"291.837567\" xlink:href=\"#m2fbe127d91\" y=\"208.553184\"/>\r\n     <use style=\"fill:#0000ff;stroke:#0000ff;\" x=\"107.205214\" xlink:href=\"#m2fbe127d91\" y=\"228.317712\"/>\r\n     <use style=\"fill:#0000ff;stroke:#0000ff;\" x=\"90.420455\" xlink:href=\"#m2fbe127d91\" y=\"258.977435\"/>\r\n     <use style=\"fill:#0000ff;stroke:#0000ff;\" x=\"325.407086\" xlink:href=\"#m2fbe127d91\" y=\"287.652471\"/>\r\n     <use style=\"fill:#0000ff;stroke:#0000ff;\" x=\"498.849599\" xlink:href=\"#m2fbe127d91\" y=\"311.493432\"/>\r\n     <use style=\"fill:#0000ff;stroke:#0000ff;\" x=\"705.861631\" xlink:href=\"#m2fbe127d91\" y=\"290.585856\"/>\r\n     <use style=\"fill:#0000ff;stroke:#0000ff;\" x=\"202.31885\" xlink:href=\"#m2fbe127d91\" y=\"255.082176\"/>\r\n     <use style=\"fill:#0000ff;stroke:#0000ff;\" x=\"291.837567\" xlink:href=\"#m2fbe127d91\" y=\"279.787836\"/>\r\n     <use style=\"fill:#0000ff;stroke:#0000ff;\" x=\"280.647727\" xlink:href=\"#m2fbe127d91\" y=\"279.170195\"/>\r\n     <use style=\"fill:#0000ff;stroke:#0000ff;\" x=\"286.242647\" xlink:href=\"#m2fbe127d91\" y=\"264.96444\"/>\r\n     <use style=\"fill:#0000ff;stroke:#0000ff;\" x=\"745.02607\" xlink:href=\"#m2fbe127d91\" y=\"267.229126\"/>\r\n     <use style=\"fill:#0000ff;stroke:#0000ff;\" x=\"286.242647\" xlink:href=\"#m2fbe127d91\" y=\"268.258528\"/>\r\n     <use style=\"fill:#0000ff;stroke:#0000ff;\" x=\"174.344251\" xlink:href=\"#m2fbe127d91\" y=\"192.494506\"/>\r\n     <use style=\"fill:#0000ff;stroke:#0000ff;\" x=\"297.432487\" xlink:href=\"#m2fbe127d91\" y=\"279.993717\"/>\r\n     <use style=\"fill:#0000ff;stroke:#0000ff;\" x=\"207.91377\" xlink:href=\"#m2fbe127d91\" y=\"219.670731\"/>\r\n     <use style=\"fill:#0000ff;stroke:#0000ff;\" x=\"123.989973\" xlink:href=\"#m2fbe127d91\" y=\"274.023182\"/>\r\n     <use style=\"fill:#0000ff;stroke:#0000ff;\" x=\"308.622326\" xlink:href=\"#m2fbe127d91\" y=\"281.640761\"/>\r\n     <use style=\"fill:#0000ff;stroke:#0000ff;\" x=\"392.546123\" xlink:href=\"#m2fbe127d91\" y=\"277.31727\"/>\r\n     <use style=\"fill:#0000ff;stroke:#0000ff;\" x=\"101.610294\" xlink:href=\"#m2fbe127d91\" y=\"201.141486\"/>\r\n     <use style=\"fill:#0000ff;stroke:#0000ff;\" x=\"308.622326\" xlink:href=\"#m2fbe127d91\" y=\"283.287804\"/>\r\n     <use style=\"fill:#0000ff;stroke:#0000ff;\" x=\"207.91377\" xlink:href=\"#m2fbe127d91\" y=\"241.494064\"/>\r\n     <use style=\"fill:#0000ff;stroke:#0000ff;\" x=\"101.610294\" xlink:href=\"#m2fbe127d91\" y=\"252.817491\"/>\r\n     <use style=\"fill:#0000ff;stroke:#0000ff;\" x=\"375.761364\" xlink:href=\"#m2fbe127d91\" y=\"287.611295\"/>\r\n     <use style=\"fill:#0000ff;stroke:#0000ff;\" x=\"560.393717\" xlink:href=\"#m2fbe127d91\" y=\"290.493622\"/>\r\n     <use style=\"fill:#0000ff;stroke:#0000ff;\" x=\"174.344251\" xlink:href=\"#m2fbe127d91\" y=\"235.523529\"/>\r\n     <use style=\"fill:#0000ff;stroke:#0000ff;\" x=\"112.800134\" xlink:href=\"#m2fbe127d91\" y=\"255.699818\"/>\r\n     <use style=\"fill:#0000ff;stroke:#0000ff;\" x=\"146.369652\" xlink:href=\"#m2fbe127d91\" y=\"241.288183\"/>\r\n     <use style=\"fill:#0000ff;stroke:#0000ff;\" x=\"358.976604\" xlink:href=\"#m2fbe127d91\" y=\"278.79961\"/>\r\n     <use style=\"fill:#0000ff;stroke:#0000ff;\" x=\"308.622326\" xlink:href=\"#m2fbe127d91\" y=\"288.434817\"/>\r\n     <use style=\"fill:#0000ff;stroke:#0000ff;\" x=\"605.153075\" xlink:href=\"#m2fbe127d91\" y=\"265.787962\"/>\r\n     <use style=\"fill:#0000ff;stroke:#0000ff;\" x=\"403.735963\" xlink:href=\"#m2fbe127d91\" y=\"294.405351\"/>\r\n     <use style=\"fill:#0000ff;stroke:#0000ff;\" x=\"96.015374\" xlink:href=\"#m2fbe127d91\" y=\"234.123542\"/>\r\n     <use style=\"fill:#0000ff;stroke:#0000ff;\" x=\"213.50869\" xlink:href=\"#m2fbe127d91\" y=\"259.199786\"/>\r\n     <use style=\"fill:#0000ff;stroke:#0000ff;\" x=\"118.395053\" xlink:href=\"#m2fbe127d91\" y=\"254.670415\"/>\r\n     <use style=\"fill:#0000ff;stroke:#0000ff;\" x=\"633.127674\" xlink:href=\"#m2fbe127d91\" y=\"278.552553\"/>\r\n     <use style=\"fill:#0000ff;stroke:#0000ff;\" x=\"353.381684\" xlink:href=\"#m2fbe127d91\" y=\"274.434943\"/>\r\n     <use style=\"fill:#0000ff;stroke:#0000ff;\" x=\"129.584893\" xlink:href=\"#m2fbe127d91\" y=\"259.199786\"/>\r\n     <use style=\"fill:#0000ff;stroke:#0000ff;\" x=\"347.786765\" xlink:href=\"#m2fbe127d91\" y=\"260.84683\"/>\r\n     <use style=\"fill:#0000ff;stroke:#0000ff;\" x=\"174.344251\" xlink:href=\"#m2fbe127d91\" y=\"258.788025\"/>\r\n     <use style=\"fill:#0000ff;stroke:#0000ff;\" x=\"269.457888\" xlink:href=\"#m2fbe127d91\" y=\"209.459058\"/>\r\n     <use style=\"fill:#0000ff;stroke:#0000ff;\" x=\"140.774733\" xlink:href=\"#m2fbe127d91\" y=\"235.72941\"/>\r\n     <use style=\"fill:#0000ff;stroke:#0000ff;\" x=\"812.165107\" xlink:href=\"#m2fbe127d91\" y=\"223.385227\"/>\r\n     <use style=\"fill:#0000ff;stroke:#0000ff;\" x=\"168.749332\" xlink:href=\"#m2fbe127d91\" y=\"225.682442\"/>\r\n     <use style=\"fill:#0000ff;stroke:#0000ff;\" x=\"448.495321\" xlink:href=\"#m2fbe127d91\" y=\"292.552427\"/>\r\n     <use style=\"fill:#0000ff;stroke:#0000ff;\" x=\"649.912433\" xlink:href=\"#m2fbe127d91\" y=\"293.170068\"/>\r\n     <use style=\"fill:#0000ff;stroke:#0000ff;\" x=\"112.800134\" xlink:href=\"#m2fbe127d91\" y=\"266.199723\"/>\r\n     <use style=\"fill:#0000ff;stroke:#0000ff;\" x=\"140.774733\" xlink:href=\"#m2fbe127d91\" y=\"243.552869\"/>\r\n     <use style=\"fill:#0000ff;stroke:#0000ff;\" x=\"96.015374\" xlink:href=\"#m2fbe127d91\" y=\"219.464851\"/>\r\n     <use style=\"fill:#0000ff;stroke:#0000ff;\" x=\"314.217246\" xlink:href=\"#m2fbe127d91\" y=\"268.670289\"/>\r\n     <use style=\"fill:#0000ff;stroke:#0000ff;\" x=\"146.369652\" xlink:href=\"#m2fbe127d91\" y=\"261.876233\"/>\r\n     <use style=\"fill:#0000ff;stroke:#0000ff;\" x=\"101.610294\" xlink:href=\"#m2fbe127d91\" y=\"245.611674\"/>\r\n     <use style=\"fill:#0000ff;stroke:#0000ff;\" x=\"269.457888\" xlink:href=\"#m2fbe127d91\" y=\"267.476182\"/>\r\n     <use style=\"fill:#0000ff;stroke:#0000ff;\" x=\"140.774733\" xlink:href=\"#m2fbe127d91\" y=\"259.035082\"/>\r\n     <use style=\"fill:#0000ff;stroke:#0000ff;\" x=\"157.559492\" xlink:href=\"#m2fbe127d91\" y=\"213.494316\"/>\r\n     <use style=\"fill:#0000ff;stroke:#0000ff;\" x=\"370.166444\" xlink:href=\"#m2fbe127d91\" y=\"280.405478\"/>\r\n     <use style=\"fill:#0000ff;stroke:#0000ff;\" x=\"565.988636\" xlink:href=\"#m2fbe127d91\" y=\"291.728905\"/>\r\n     <use style=\"fill:#0000ff;stroke:#0000ff;\" x=\"96.015374\" xlink:href=\"#m2fbe127d91\" y=\"244.294038\"/>\r\n     <use style=\"fill:#0000ff;stroke:#0000ff;\" x=\"146.369652\" xlink:href=\"#m2fbe127d91\" y=\"194.14155\"/>\r\n     <use style=\"fill:#0000ff;stroke:#0000ff;\" x=\"151.964572\" xlink:href=\"#m2fbe127d91\" y=\"221.729536\"/>\r\n     <use style=\"fill:#0000ff;stroke:#0000ff;\" x=\"90.420455\" xlink:href=\"#m2fbe127d91\" y=\"224.14575\"/>\r\n     <use style=\"fill:#0000ff;stroke:#0000ff;\" x=\"213.50869\" xlink:href=\"#m2fbe127d91\" y=\"251.993969\"/>\r\n     <use style=\"fill:#0000ff;stroke:#0000ff;\" x=\"470.875\" xlink:href=\"#m2fbe127d91\" y=\"267.023245\"/>\r\n     <use style=\"fill:#0000ff;stroke:#0000ff;\" x=\"101.610294\" xlink:href=\"#m2fbe127d91\" y=\"243.619986\"/>\r\n     <use style=\"fill:#0000ff;stroke:#0000ff;\" x=\"129.584893\" xlink:href=\"#m2fbe127d91\" y=\"111.37759\"/>\r\n     <use style=\"fill:#0000ff;stroke:#0000ff;\" x=\"241.483289\" xlink:href=\"#m2fbe127d91\" y=\"277.358446\"/>\r\n     <use style=\"fill:#0000ff;stroke:#0000ff;\" x=\"398.141043\" xlink:href=\"#m2fbe127d91\" y=\"290.905383\"/>\r\n     <use style=\"fill:#0000ff;stroke:#0000ff;\" x=\"280.647727\" xlink:href=\"#m2fbe127d91\" y=\"288.846578\"/>\r\n     <use style=\"fill:#0000ff;stroke:#0000ff;\" x=\"96.015374\" xlink:href=\"#m2fbe127d91\" y=\"170.259412\"/>\r\n     <use style=\"fill:#0000ff;stroke:#0000ff;\" x=\"151.964572\" xlink:href=\"#m2fbe127d91\" y=\"266.199723\"/>\r\n     <use style=\"fill:#0000ff;stroke:#0000ff;\" x=\"96.015374\" xlink:href=\"#m2fbe127d91\" y=\"241.699944\"/>\r\n     <use style=\"fill:#0000ff;stroke:#0000ff;\" x=\"269.457888\" xlink:href=\"#m2fbe127d91\" y=\"274.229063\"/>\r\n     <use style=\"fill:#0000ff;stroke:#0000ff;\" x=\"258.268048\" xlink:href=\"#m2fbe127d91\" y=\"273.611421\"/>\r\n     <use style=\"fill:#0000ff;stroke:#0000ff;\" x=\"252.673128\" xlink:href=\"#m2fbe127d91\" y=\"277.31727\"/>\r\n     <use style=\"fill:#0000ff;stroke:#0000ff;\" x=\"157.559492\" xlink:href=\"#m2fbe127d91\" y=\"260.435069\"/>\r\n     <use style=\"fill:#0000ff;stroke:#0000ff;\" x=\"168.749332\" xlink:href=\"#m2fbe127d91\" y=\"260.476245\"/>\r\n     <use style=\"fill:#0000ff;stroke:#0000ff;\" x=\"135.179813\" xlink:href=\"#m2fbe127d91\" y=\"255.864522\"/>\r\n     <use style=\"fill:#0000ff;stroke:#0000ff;\" x=\"263.862968\" xlink:href=\"#m2fbe127d91\" y=\"264.75856\"/>\r\n     <use style=\"fill:#0000ff;stroke:#0000ff;\" x=\"616.342914\" xlink:href=\"#m2fbe127d91\" y=\"280.199597\"/>\r\n     <use style=\"fill:#0000ff;stroke:#0000ff;\" x=\"325.407086\" xlink:href=\"#m2fbe127d91\" y=\"266.405604\"/>\r\n     <use style=\"fill:#0000ff;stroke:#0000ff;\" x=\"621.937834\" xlink:href=\"#m2fbe127d91\" y=\"275.670226\"/>\r\n     <use style=\"fill:#0000ff;stroke:#0000ff;\" x=\"123.989973\" xlink:href=\"#m2fbe127d91\" y=\"236.964693\"/>\r\n     <use style=\"fill:#0000ff;stroke:#0000ff;\" x=\"392.546123\" xlink:href=\"#m2fbe127d91\" y=\"288.475993\"/>\r\n     <use style=\"fill:#0000ff;stroke:#0000ff;\" x=\"319.812166\" xlink:href=\"#m2fbe127d91\" y=\"255.699818\"/>\r\n     <use style=\"fill:#0000ff;stroke:#0000ff;\" x=\"112.800134\" xlink:href=\"#m2fbe127d91\" y=\"266.940893\"/>\r\n     <use style=\"fill:#0000ff;stroke:#0000ff;\" x=\"263.862968\" xlink:href=\"#m2fbe127d91\" y=\"272.45849\"/>\r\n     <use style=\"fill:#0000ff;stroke:#0000ff;\" x=\"151.964572\" xlink:href=\"#m2fbe127d91\" y=\"221.816006\"/>\r\n     <use style=\"fill:#0000ff;stroke:#0000ff;\" x=\"90.420455\" xlink:href=\"#m2fbe127d91\" y=\"240.258781\"/>\r\n     <use style=\"fill:#0000ff;stroke:#0000ff;\" x=\"168.749332\" xlink:href=\"#m2fbe127d91\" y=\"252.817491\"/>\r\n     <use style=\"fill:#0000ff;stroke:#0000ff;\" x=\"258.268048\" xlink:href=\"#m2fbe127d91\" y=\"262.493874\"/>\r\n     <use style=\"fill:#0000ff;stroke:#0000ff;\" x=\"258.268048\" xlink:href=\"#m2fbe127d91\" y=\"273.817302\"/>\r\n     <use style=\"fill:#0000ff;stroke:#0000ff;\" x=\"398.141043\" xlink:href=\"#m2fbe127d91\" y=\"287.611295\"/>\r\n     <use style=\"fill:#0000ff;stroke:#0000ff;\" x=\"96.015374\" xlink:href=\"#m2fbe127d91\" y=\"133.200923\"/>\r\n     <use style=\"fill:#0000ff;stroke:#0000ff;\" x=\"482.06484\" xlink:href=\"#m2fbe127d91\" y=\"260.84683\"/>\r\n     <use style=\"fill:#0000ff;stroke:#0000ff;\" x=\"151.964572\" xlink:href=\"#m2fbe127d91\" y=\"250.552806\"/>\r\n     <use style=\"fill:#0000ff;stroke:#0000ff;\" x=\"599.558155\" xlink:href=\"#m2fbe127d91\" y=\"287.652471\"/>\r\n     <use style=\"fill:#0000ff;stroke:#0000ff;\" x=\"107.205214\" xlink:href=\"#m2fbe127d91\" y=\"255.082176\"/>\r\n     <use style=\"fill:#0000ff;stroke:#0000ff;\" x=\"96.015374\" xlink:href=\"#m2fbe127d91\" y=\"92.875933\"/>\r\n     <use style=\"fill:#0000ff;stroke:#0000ff;\" x=\"381.356283\" xlink:href=\"#m2fbe127d91\" y=\"284.317207\"/>\r\n     <use style=\"fill:#0000ff;stroke:#0000ff;\" x=\"90.420455\" xlink:href=\"#m2fbe127d91\" y=\"239.155261\"/>\r\n     <use style=\"fill:#0000ff;stroke:#0000ff;\" x=\"308.622326\" xlink:href=\"#m2fbe127d91\" y=\"277.11139\"/>\r\n     <use style=\"fill:#0000ff;stroke:#0000ff;\" x=\"571.583556\" xlink:href=\"#m2fbe127d91\" y=\"240.876422\"/>\r\n     <use style=\"fill:#0000ff;stroke:#0000ff;\" x=\"314.217246\" xlink:href=\"#m2fbe127d91\" y=\"267.043833\"/>\r\n     <use style=\"fill:#0000ff;stroke:#0000ff;\" x=\"711.456551\" xlink:href=\"#m2fbe127d91\" y=\"289.258339\"/>\r\n     <use style=\"fill:#0000ff;stroke:#0000ff;\" x=\"269.457888\" xlink:href=\"#m2fbe127d91\" y=\"258.376264\"/>\r\n     <use style=\"fill:#0000ff;stroke:#0000ff;\" x=\"112.800134\" xlink:href=\"#m2fbe127d91\" y=\"273.405541\"/>\r\n     <use style=\"fill:#0000ff;stroke:#0000ff;\" x=\"414.925802\" xlink:href=\"#m2fbe127d91\" y=\"309.849271\"/>\r\n     <use style=\"fill:#0000ff;stroke:#0000ff;\" x=\"364.571524\" xlink:href=\"#m2fbe127d91\" y=\"267.887943\"/>\r\n     <use style=\"fill:#0000ff;stroke:#0000ff;\" x=\"582.773396\" xlink:href=\"#m2fbe127d91\" y=\"285.140729\"/>\r\n     <use style=\"fill:#0000ff;stroke:#0000ff;\" x=\"157.559492\" xlink:href=\"#m2fbe127d91\" y=\"240.299957\"/>\r\n     <use style=\"fill:#0000ff;stroke:#0000ff;\" x=\"381.356283\" xlink:href=\"#m2fbe127d91\" y=\"276.493748\"/>\r\n     <use style=\"fill:#0000ff;stroke:#0000ff;\" x=\"123.989973\" xlink:href=\"#m2fbe127d91\" y=\"221.317775\"/>\r\n     <use style=\"fill:#0000ff;stroke:#0000ff;\" x=\"308.622326\" xlink:href=\"#m2fbe127d91\" y=\"269.08205\"/>\r\n     <use style=\"fill:#0000ff;stroke:#0000ff;\" x=\"96.015374\" xlink:href=\"#m2fbe127d91\" y=\"240.670542\"/>\r\n     <use style=\"fill:#0000ff;stroke:#0000ff;\" x=\"118.395053\" xlink:href=\"#m2fbe127d91\" y=\"257.552742\"/>\r\n     <use style=\"fill:#0000ff;stroke:#0000ff;\" x=\"403.735963\" xlink:href=\"#m2fbe127d91\" y=\"294.611232\"/>\r\n     <use style=\"fill:#0000ff;stroke:#0000ff;\" x=\"112.800134\" xlink:href=\"#m2fbe127d91\" y=\"240.258781\"/>\r\n     <use style=\"fill:#0000ff;stroke:#0000ff;\" x=\"476.46992\" xlink:href=\"#m2fbe127d91\" y=\"275.464346\"/>\r\n     <use style=\"fill:#0000ff;stroke:#0000ff;\" x=\"90.420455\" xlink:href=\"#m2fbe127d91\" y=\"237.129397\"/>\r\n     <use style=\"fill:#0000ff;stroke:#0000ff;\" x=\"96.015374\" xlink:href=\"#m2fbe127d91\" y=\"174.377022\"/>\r\n     <use style=\"fill:#0000ff;stroke:#0000ff;\" x=\"560.393717\" xlink:href=\"#m2fbe127d91\" y=\"287.817175\"/>\r\n     <use style=\"fill:#0000ff;stroke:#0000ff;\" x=\"135.179813\" xlink:href=\"#m2fbe127d91\" y=\"255.082176\"/>\r\n     <use style=\"fill:#0000ff;stroke:#0000ff;\" x=\"325.407086\" xlink:href=\"#m2fbe127d91\" y=\"256.72922\"/>\r\n     <use style=\"fill:#0000ff;stroke:#0000ff;\" x=\"96.015374\" xlink:href=\"#m2fbe127d91\" y=\"272.211434\"/>\r\n     <use style=\"fill:#0000ff;stroke:#0000ff;\" x=\"375.761364\" xlink:href=\"#m2fbe127d91\" y=\"264.552679\"/>\r\n     <use style=\"fill:#0000ff;stroke:#0000ff;\" x=\"96.015374\" xlink:href=\"#m2fbe127d91\" y=\"270.729094\"/>\r\n     <use style=\"fill:#0000ff;stroke:#0000ff;\" x=\"129.584893\" xlink:href=\"#m2fbe127d91\" y=\"235.317649\"/>\r\n     <use style=\"fill:#0000ff;stroke:#0000ff;\" x=\"342.191845\" xlink:href=\"#m2fbe127d91\" y=\"264.140918\"/>\r\n     <use style=\"fill:#0000ff;stroke:#0000ff;\" x=\"353.381684\" xlink:href=\"#m2fbe127d91\" y=\"275.279053\"/>\r\n     <use style=\"fill:#0000ff;stroke:#0000ff;\" x=\"426.115642\" xlink:href=\"#m2fbe127d91\" y=\"280.199597\"/>\r\n     <use style=\"fill:#0000ff;stroke:#0000ff;\" x=\"420.520722\" xlink:href=\"#m2fbe127d91\" y=\"269.699692\"/>\r\n     <use style=\"fill:#0000ff;stroke:#0000ff;\" x=\"286.242647\" xlink:href=\"#m2fbe127d91\" y=\"291.728905\"/>\r\n     <use style=\"fill:#0000ff;stroke:#0000ff;\" x=\"163.154412\" xlink:href=\"#m2fbe127d91\" y=\"273.611421\"/>\r\n     <use style=\"fill:#0000ff;stroke:#0000ff;\" x=\"437.305481\" xlink:href=\"#m2fbe127d91\" y=\"279.170195\"/>\r\n     <use style=\"fill:#0000ff;stroke:#0000ff;\" x=\"554.798797\" xlink:href=\"#m2fbe127d91\" y=\"275.258465\"/>\r\n     <use style=\"fill:#0000ff;stroke:#0000ff;\" x=\"672.292112\" xlink:href=\"#m2fbe127d91\" y=\"268.052648\"/>\r\n     <use style=\"fill:#0000ff;stroke:#0000ff;\" x=\"325.407086\" xlink:href=\"#m2fbe127d91\" y=\"260.888006\"/>\r\n     <use style=\"fill:#0000ff;stroke:#0000ff;\" x=\"347.786765\" xlink:href=\"#m2fbe127d91\" y=\"274.846704\"/>\r\n     <use style=\"fill:#0000ff;stroke:#0000ff;\" x=\"610.747995\" xlink:href=\"#m2fbe127d91\" y=\"269.534987\"/>\r\n     <use style=\"fill:#0000ff;stroke:#0000ff;\" x=\"269.457888\" xlink:href=\"#m2fbe127d91\" y=\"262.493874\"/>\r\n     <use style=\"fill:#0000ff;stroke:#0000ff;\" x=\"179.939171\" xlink:href=\"#m2fbe127d91\" y=\"245.199913\"/>\r\n     <use style=\"fill:#0000ff;stroke:#0000ff;\" x=\"297.432487\" xlink:href=\"#m2fbe127d91\" y=\"277.934912\"/>\r\n     <use style=\"fill:#0000ff;stroke:#0000ff;\" x=\"649.912433\" xlink:href=\"#m2fbe127d91\" y=\"234.082366\"/>\r\n     <use style=\"fill:#0000ff;stroke:#0000ff;\" x=\"263.862968\" xlink:href=\"#m2fbe127d91\" y=\"255.905698\"/>\r\n     <use style=\"fill:#0000ff;stroke:#0000ff;\" x=\"112.800134\" xlink:href=\"#m2fbe127d91\" y=\"278.758434\"/>\r\n     <use style=\"fill:#0000ff;stroke:#0000ff;\" x=\"107.205214\" xlink:href=\"#m2fbe127d91\" y=\"244.376391\"/>\r\n     <use style=\"fill:#0000ff;stroke:#0000ff;\" x=\"459.68516\" xlink:href=\"#m2fbe127d91\" y=\"265.376201\"/>\r\n     <use style=\"fill:#0000ff;stroke:#0000ff;\" x=\"342.191845\" xlink:href=\"#m2fbe127d91\" y=\"267.846767\"/>\r\n     <use style=\"fill:#0000ff;stroke:#0000ff;\" x=\"375.761364\" xlink:href=\"#m2fbe127d91\" y=\"262.905635\"/>\r\n     <use style=\"fill:#0000ff;stroke:#0000ff;\" x=\"358.976604\" xlink:href=\"#m2fbe127d91\" y=\"280.611358\"/>\r\n     <use style=\"fill:#0000ff;stroke:#0000ff;\" x=\"258.268048\" xlink:href=\"#m2fbe127d91\" y=\"272.376138\"/>\r\n     <use style=\"fill:#0000ff;stroke:#0000ff;\" x=\"174.344251\" xlink:href=\"#m2fbe127d91\" y=\"261.258591\"/>\r\n     <use style=\"fill:#0000ff;stroke:#0000ff;\" x=\"275.052807\" xlink:href=\"#m2fbe127d91\" y=\"270.317333\"/>\r\n     <use style=\"fill:#0000ff;stroke:#0000ff;\" x=\"303.027406\" xlink:href=\"#m2fbe127d91\" y=\"229.964756\"/>\r\n     <use style=\"fill:#0000ff;stroke:#0000ff;\" x=\"588.368316\" xlink:href=\"#m2fbe127d91\" y=\"254.691004\"/>\r\n     <use style=\"fill:#0000ff;stroke:#0000ff;\" x=\"342.191845\" xlink:href=\"#m2fbe127d91\" y=\"278.758434\"/>\r\n     <use style=\"fill:#0000ff;stroke:#0000ff;\" x=\"235.888369\" xlink:href=\"#m2fbe127d91\" y=\"270.317333\"/>\r\n     <use style=\"fill:#0000ff;stroke:#0000ff;\" x=\"370.166444\" xlink:href=\"#m2fbe127d91\" y=\"278.346673\"/>\r\n     <use style=\"fill:#0000ff;stroke:#0000ff;\" x=\"96.015374\" xlink:href=\"#m2fbe127d91\" y=\"229.725935\"/>\r\n     <use style=\"fill:#0000ff;stroke:#0000ff;\" x=\"308.622326\" xlink:href=\"#m2fbe127d91\" y=\"271.758497\"/>\r\n     <use style=\"fill:#0000ff;stroke:#0000ff;\" x=\"96.015374\" xlink:href=\"#m2fbe127d91\" y=\"230.417693\"/>\r\n     <use style=\"fill:#0000ff;stroke:#0000ff;\" x=\"347.786765\" xlink:href=\"#m2fbe127d91\" y=\"279.787836\"/>\r\n     <use style=\"fill:#0000ff;stroke:#0000ff;\" x=\"414.925802\" xlink:href=\"#m2fbe127d91\" y=\"263.317396\"/>\r\n     <use style=\"fill:#0000ff;stroke:#0000ff;\" x=\"185.534091\" xlink:href=\"#m2fbe127d91\" y=\"235.72941\"/>\r\n     <use style=\"fill:#0000ff;stroke:#0000ff;\" x=\"353.381684\" xlink:href=\"#m2fbe127d91\" y=\"287.817175\"/>\r\n     <use style=\"fill:#0000ff;stroke:#0000ff;\" x=\"157.559492\" xlink:href=\"#m2fbe127d91\" y=\"250.346925\"/>\r\n     <use style=\"fill:#0000ff;stroke:#0000ff;\" x=\"398.141043\" xlink:href=\"#m2fbe127d91\" y=\"285.140729\"/>\r\n     <use style=\"fill:#0000ff;stroke:#0000ff;\" x=\"426.115642\" xlink:href=\"#m2fbe127d91\" y=\"278.140792\"/>\r\n     <use style=\"fill:#0000ff;stroke:#0000ff;\" x=\"470.875\" xlink:href=\"#m2fbe127d91\" y=\"305.522898\"/>\r\n     <use style=\"fill:#0000ff;stroke:#0000ff;\" x=\"90.420455\" xlink:href=\"#m2fbe127d91\" y=\"207.945013\"/>\r\n     <use style=\"fill:#0000ff;stroke:#0000ff;\" x=\"336.596925\" xlink:href=\"#m2fbe127d91\" y=\"278.449613\"/>\r\n     <use style=\"fill:#0000ff;stroke:#0000ff;\" x=\"118.395053\" xlink:href=\"#m2fbe127d91\" y=\"188.788657\"/>\r\n     <use style=\"fill:#0000ff;stroke:#0000ff;\" x=\"364.571524\" xlink:href=\"#m2fbe127d91\" y=\"271.964377\"/>\r\n     <use style=\"fill:#0000ff;stroke:#0000ff;\" x=\"263.862968\" xlink:href=\"#m2fbe127d91\" y=\"276.699629\"/>\r\n     <use style=\"fill:#0000ff;stroke:#0000ff;\" x=\"101.610294\" xlink:href=\"#m2fbe127d91\" y=\"268.258528\"/>\r\n     <use style=\"fill:#0000ff;stroke:#0000ff;\" x=\"185.534091\" xlink:href=\"#m2fbe127d91\" y=\"255.699818\"/>\r\n     <use style=\"fill:#0000ff;stroke:#0000ff;\" x=\"185.534091\" xlink:href=\"#m2fbe127d91\" y=\"259.611547\"/>\r\n     <use style=\"fill:#0000ff;stroke:#0000ff;\" x=\"616.342914\" xlink:href=\"#m2fbe127d91\" y=\"284.111326\"/>\r\n     <use style=\"fill:#0000ff;stroke:#0000ff;\" x=\"325.407086\" xlink:href=\"#m2fbe127d91\" y=\"291.728905\"/>\r\n     <use style=\"fill:#0000ff;stroke:#0000ff;\" x=\"140.774733\" xlink:href=\"#m2fbe127d91\" y=\"197.476814\"/>\r\n     <use style=\"fill:#0000ff;stroke:#0000ff;\" x=\"353.381684\" xlink:href=\"#m2fbe127d91\" y=\"273.19966\"/>\r\n     <use style=\"fill:#0000ff;stroke:#0000ff;\" x=\"386.951203\" xlink:href=\"#m2fbe127d91\" y=\"277.11139\"/>\r\n     <use style=\"fill:#0000ff;stroke:#0000ff;\" x=\"297.432487\" xlink:href=\"#m2fbe127d91\" y=\"222.553058\"/>\r\n     <use style=\"fill:#0000ff;stroke:#0000ff;\" x=\"403.735963\" xlink:href=\"#m2fbe127d91\" y=\"271.346736\"/>\r\n     <use style=\"fill:#0000ff;stroke:#0000ff;\" x=\"414.925802\" xlink:href=\"#m2fbe127d91\" y=\"282.299578\"/>\r\n     <use style=\"fill:#0000ff;stroke:#0000ff;\" x=\"263.862968\" xlink:href=\"#m2fbe127d91\" y=\"261.876233\"/>\r\n     <use style=\"fill:#0000ff;stroke:#0000ff;\" x=\"331.002005\" xlink:href=\"#m2fbe127d91\" y=\"269.287931\"/>\r\n     <use style=\"fill:#0000ff;stroke:#0000ff;\" x=\"392.546123\" xlink:href=\"#m2fbe127d91\" y=\"264.96444\"/>\r\n     <use style=\"fill:#0000ff;stroke:#0000ff;\" x=\"258.268048\" xlink:href=\"#m2fbe127d91\" y=\"283.963916\"/>\r\n     <use style=\"fill:#0000ff;stroke:#0000ff;\" x=\"342.191845\" xlink:href=\"#m2fbe127d91\" y=\"275.258465\"/>\r\n     <use style=\"fill:#0000ff;stroke:#0000ff;\" x=\"482.06484\" xlink:href=\"#m2fbe127d91\" y=\"289.052458\"/>\r\n     <use style=\"fill:#0000ff;stroke:#0000ff;\" x=\"258.268048\" xlink:href=\"#m2fbe127d91\" y=\"274.042535\"/>\r\n     <use style=\"fill:#0000ff;stroke:#0000ff;\" x=\"96.015374\" xlink:href=\"#m2fbe127d91\" y=\"81.048511\"/>\r\n     <use style=\"fill:#0000ff;stroke:#0000ff;\" x=\"342.191845\" xlink:href=\"#m2fbe127d91\" y=\"277.31727\"/>\r\n     <use style=\"fill:#0000ff;stroke:#0000ff;\" x=\"291.837567\" xlink:href=\"#m2fbe127d91\" y=\"287.611295\"/>\r\n     <use style=\"fill:#0000ff;stroke:#0000ff;\" x=\"381.356283\" xlink:href=\"#m2fbe127d91\" y=\"269.905572\"/>\r\n     <use style=\"fill:#0000ff;stroke:#0000ff;\" x=\"107.205214\" xlink:href=\"#m2fbe127d91\" y=\"258.788025\"/>\r\n     <use style=\"fill:#0000ff;stroke:#0000ff;\" x=\"90.420455\" xlink:href=\"#m2fbe127d91\" y=\"234.082366\"/>\r\n     <use style=\"fill:#0000ff;stroke:#0000ff;\" x=\"314.217246\" xlink:href=\"#m2fbe127d91\" y=\"281.229\"/>\r\n     <use style=\"fill:#0000ff;stroke:#0000ff;\" x=\"403.735963\" xlink:href=\"#m2fbe127d91\" y=\"280.199597\"/>\r\n     <use style=\"fill:#0000ff;stroke:#0000ff;\" x=\"96.015374\" xlink:href=\"#m2fbe127d91\" y=\"227.905951\"/>\r\n     <use style=\"fill:#0000ff;stroke:#0000ff;\" x=\"482.06484\" xlink:href=\"#m2fbe127d91\" y=\"229.964756\"/>\r\n     <use style=\"fill:#0000ff;stroke:#0000ff;\" x=\"219.10361\" xlink:href=\"#m2fbe127d91\" y=\"278.964314\"/>\r\n     <use style=\"fill:#0000ff;stroke:#0000ff;\" x=\"112.800134\" xlink:href=\"#m2fbe127d91\" y=\"261.258591\"/>\r\n     <use style=\"fill:#0000ff;stroke:#0000ff;\" x=\"370.166444\" xlink:href=\"#m2fbe127d91\" y=\"269.370283\"/>\r\n     <use style=\"fill:#0000ff;stroke:#0000ff;\" x=\"269.457888\" xlink:href=\"#m2fbe127d91\" y=\"273.817302\"/>\r\n     <use style=\"fill:#0000ff;stroke:#0000ff;\" x=\"543.608957\" xlink:href=\"#m2fbe127d91\" y=\"296.670037\"/>\r\n     <use style=\"fill:#0000ff;stroke:#0000ff;\" x=\"414.925802\" xlink:href=\"#m2fbe127d91\" y=\"273.19966\"/>\r\n     <use style=\"fill:#0000ff;stroke:#0000ff;\" x=\"90.420455\" xlink:href=\"#m2fbe127d91\" y=\"261.368532\"/>\r\n     <use style=\"fill:#0000ff;stroke:#0000ff;\" x=\"297.432487\" xlink:href=\"#m2fbe127d91\" y=\"302.02293\"/>\r\n     <use style=\"fill:#0000ff;stroke:#0000ff;\" x=\"409.330882\" xlink:href=\"#m2fbe127d91\" y=\"318.365312\"/>\r\n     <use style=\"fill:#0000ff;stroke:#0000ff;\" x=\"386.951203\" xlink:href=\"#m2fbe127d91\" y=\"277.31727\"/>\r\n     <use style=\"fill:#0000ff;stroke:#0000ff;\" x=\"179.939171\" xlink:href=\"#m2fbe127d91\" y=\"234.905888\"/>\r\n     <use style=\"fill:#0000ff;stroke:#0000ff;\" x=\"370.166444\" xlink:href=\"#m2fbe127d91\" y=\"260.229189\"/>\r\n     <use style=\"fill:#0000ff;stroke:#0000ff;\" x=\"163.154412\" xlink:href=\"#m2fbe127d91\" y=\"250.141045\"/>\r\n     <use style=\"fill:#0000ff;stroke:#0000ff;\" x=\"694.671791\" xlink:href=\"#m2fbe127d91\" y=\"272.829075\"/>\r\n     <use style=\"fill:#0000ff;stroke:#0000ff;\" x=\"96.015374\" xlink:href=\"#m2fbe127d91\" y=\"262.909753\"/>\r\n     <use style=\"fill:#0000ff;stroke:#0000ff;\" x=\"174.344251\" xlink:href=\"#m2fbe127d91\" y=\"253.435132\"/>\r\n     <use style=\"fill:#0000ff;stroke:#0000ff;\" x=\"235.888369\" xlink:href=\"#m2fbe127d91\" y=\"247.464598\"/>\r\n     <use style=\"fill:#0000ff;stroke:#0000ff;\" x=\"263.862968\" xlink:href=\"#m2fbe127d91\" y=\"260.84683\"/>\r\n     <use style=\"fill:#0000ff;stroke:#0000ff;\" x=\"112.800134\" xlink:href=\"#m2fbe127d91\" y=\"215.553121\"/>\r\n     <use style=\"fill:#0000ff;stroke:#0000ff;\" x=\"314.217246\" xlink:href=\"#m2fbe127d91\" y=\"260.435069\"/>\r\n     <use style=\"fill:#0000ff;stroke:#0000ff;\" x=\"135.179813\" xlink:href=\"#m2fbe127d91\" y=\"235.523529\"/>\r\n     <use style=\"fill:#0000ff;stroke:#0000ff;\" x=\"140.774733\" xlink:href=\"#m2fbe127d91\" y=\"241.494064\"/>\r\n     <use style=\"fill:#0000ff;stroke:#0000ff;\" x=\"101.610294\" xlink:href=\"#m2fbe127d91\" y=\"250.141045\"/>\r\n     <use style=\"fill:#0000ff;stroke:#0000ff;\" x=\"336.596925\" xlink:href=\"#m2fbe127d91\" y=\"284.523087\"/>\r\n     <use style=\"fill:#0000ff;stroke:#0000ff;\" x=\"96.015374\" xlink:href=\"#m2fbe127d91\" y=\"201.141486\"/>\r\n     <use style=\"fill:#0000ff;stroke:#0000ff;\" x=\"118.395053\" xlink:href=\"#m2fbe127d91\" y=\"254.670415\"/>\r\n     <use style=\"fill:#0000ff;stroke:#0000ff;\" x=\"358.976604\" xlink:href=\"#m2fbe127d91\" y=\"233.258844\"/>\r\n     <use style=\"fill:#0000ff;stroke:#0000ff;\" x=\"538.014037\" xlink:href=\"#m2fbe127d91\" y=\"300.005301\"/>\r\n     <use style=\"fill:#0000ff;stroke:#0000ff;\" x=\"112.800134\" xlink:href=\"#m2fbe127d91\" y=\"228.729473\"/>\r\n     <use style=\"fill:#0000ff;stroke:#0000ff;\" x=\"90.420455\" xlink:href=\"#m2fbe127d91\" y=\"234.16513\"/>\r\n     <use style=\"fill:#0000ff;stroke:#0000ff;\" x=\"482.06484\" xlink:href=\"#m2fbe127d91\" y=\"232.270617\"/>\r\n     <use style=\"fill:#0000ff;stroke:#0000ff;\" x=\"258.268048\" xlink:href=\"#m2fbe127d91\" y=\"270.77027\"/>\r\n     <use style=\"fill:#0000ff;stroke:#0000ff;\" x=\"146.369652\" xlink:href=\"#m2fbe127d91\" y=\"244.788152\"/>\r\n     <use style=\"fill:#0000ff;stroke:#0000ff;\" x=\"258.268048\" xlink:href=\"#m2fbe127d91\" y=\"271.140855\"/>\r\n     <use style=\"fill:#0000ff;stroke:#0000ff;\" x=\"314.217246\" xlink:href=\"#m2fbe127d91\" y=\"274.023182\"/>\r\n     <use style=\"fill:#0000ff;stroke:#0000ff;\" x=\"375.761364\" xlink:href=\"#m2fbe127d91\" y=\"276.287868\"/>\r\n     <use style=\"fill:#0000ff;stroke:#0000ff;\" x=\"756.215909\" xlink:href=\"#m2fbe127d91\" y=\"281.476056\"/>\r\n     <use style=\"fill:#0000ff;stroke:#0000ff;\" x=\"353.381684\" xlink:href=\"#m2fbe127d91\" y=\"274.023182\"/>\r\n     <use style=\"fill:#0000ff;stroke:#0000ff;\" x=\"118.395053\" xlink:href=\"#m2fbe127d91\" y=\"221.729536\"/>\r\n     <use style=\"fill:#0000ff;stroke:#0000ff;\" x=\"112.800134\" xlink:href=\"#m2fbe127d91\" y=\"253.641013\"/>\r\n     <use style=\"fill:#0000ff;stroke:#0000ff;\" x=\"303.027406\" xlink:href=\"#m2fbe127d91\" y=\"251.582208\"/>\r\n     <use style=\"fill:#0000ff;stroke:#0000ff;\" x=\"409.330882\" xlink:href=\"#m2fbe127d91\" y=\"279.787836\"/>\r\n     <use style=\"fill:#0000ff;stroke:#0000ff;\" x=\"319.812166\" xlink:href=\"#m2fbe127d91\" y=\"283.534861\"/>\r\n     <use style=\"fill:#0000ff;stroke:#0000ff;\" x=\"297.432487\" xlink:href=\"#m2fbe127d91\" y=\"277.770207\"/>\r\n     <use style=\"fill:#0000ff;stroke:#0000ff;\" x=\"308.622326\" xlink:href=\"#m2fbe127d91\" y=\"262.082113\"/>\r\n     <use style=\"fill:#0000ff;stroke:#0000ff;\" x=\"263.862968\" xlink:href=\"#m2fbe127d91\" y=\"280.405478\"/>\r\n     <use style=\"fill:#0000ff;stroke:#0000ff;\" x=\"431.710561\" xlink:href=\"#m2fbe127d91\" y=\"273.19966\"/>\r\n     <use style=\"fill:#0000ff;stroke:#0000ff;\" x=\"252.673128\" xlink:href=\"#m2fbe127d91\" y=\"281.846641\"/>\r\n     <use style=\"fill:#0000ff;stroke:#0000ff;\" x=\"342.191845\" xlink:href=\"#m2fbe127d91\" y=\"278.552553\"/>\r\n     <use style=\"fill:#0000ff;stroke:#0000ff;\" x=\"112.800134\" xlink:href=\"#m2fbe127d91\" y=\"256.72922\"/>\r\n     <use style=\"fill:#0000ff;stroke:#0000ff;\" x=\"151.964572\" xlink:href=\"#m2fbe127d91\" y=\"269.08205\"/>\r\n     <use style=\"fill:#0000ff;stroke:#0000ff;\" x=\"381.356283\" xlink:href=\"#m2fbe127d91\" y=\"284.934848\"/>\r\n     <use style=\"fill:#0000ff;stroke:#0000ff;\" x=\"263.862968\" xlink:href=\"#m2fbe127d91\" y=\"220.906014\"/>\r\n     <use style=\"fill:#0000ff;stroke:#0000ff;\" x=\"263.862968\" xlink:href=\"#m2fbe127d91\" y=\"269.08205\"/>\r\n     <use style=\"fill:#0000ff;stroke:#0000ff;\" x=\"101.610294\" xlink:href=\"#m2fbe127d91\" y=\"234.494127\"/>\r\n     <use style=\"fill:#0000ff;stroke:#0000ff;\" x=\"135.179813\" xlink:href=\"#m2fbe127d91\" y=\"244.417567\"/>\r\n     <use style=\"fill:#0000ff;stroke:#0000ff;\" x=\"101.610294\" xlink:href=\"#m2fbe127d91\" y=\"259.240962\"/>\r\n     <use style=\"fill:#0000ff;stroke:#0000ff;\" x=\"476.46992\" xlink:href=\"#m2fbe127d91\" y=\"267.023245\"/>\r\n     <use style=\"fill:#0000ff;stroke:#0000ff;\" x=\"386.951203\" xlink:href=\"#m2fbe127d91\" y=\"277.31727\"/>\r\n     <use style=\"fill:#0000ff;stroke:#0000ff;\" x=\"644.317513\" xlink:href=\"#m2fbe127d91\" y=\"317.299262\"/>\r\n     <use style=\"fill:#0000ff;stroke:#0000ff;\" x=\"358.976604\" xlink:href=\"#m2fbe127d91\" y=\"275.258465\"/>\r\n     <use style=\"fill:#0000ff;stroke:#0000ff;\" x=\"409.330882\" xlink:href=\"#m2fbe127d91\" y=\"277.31727\"/>\r\n     <use style=\"fill:#0000ff;stroke:#0000ff;\" x=\"123.989973\" xlink:href=\"#m2fbe127d91\" y=\"261.670352\"/>\r\n     <use style=\"fill:#0000ff;stroke:#0000ff;\" x=\"263.862968\" xlink:href=\"#m2fbe127d91\" y=\"291.934785\"/>\r\n     <use style=\"fill:#0000ff;stroke:#0000ff;\" x=\"644.317513\" xlink:href=\"#m2fbe127d91\" y=\"263.935038\"/>\r\n     <use style=\"fill:#0000ff;stroke:#0000ff;\" x=\"123.989973\" xlink:href=\"#m2fbe127d91\" y=\"264.96444\"/>\r\n     <use style=\"fill:#0000ff;stroke:#0000ff;\" x=\"554.798797\" xlink:href=\"#m2fbe127d91\" y=\"297.699439\"/>\r\n     <use style=\"fill:#0000ff;stroke:#0000ff;\" x=\"386.951203\" xlink:href=\"#m2fbe127d91\" y=\"287.611295\"/>\r\n     <use style=\"fill:#0000ff;stroke:#0000ff;\" x=\"347.786765\" xlink:href=\"#m2fbe127d91\" y=\"275.670226\"/>\r\n     <use style=\"fill:#0000ff;stroke:#0000ff;\" x=\"353.381684\" xlink:href=\"#m2fbe127d91\" y=\"259.446843\"/>\r\n     <use style=\"fill:#0000ff;stroke:#0000ff;\" x=\"151.964572\" xlink:href=\"#m2fbe127d91\" y=\"194.553311\"/>\r\n     <use style=\"fill:#0000ff;stroke:#0000ff;\" x=\"96.015374\" xlink:href=\"#m2fbe127d91\" y=\"267.06648\"/>\r\n     <use style=\"fill:#0000ff;stroke:#0000ff;\" x=\"123.989973\" xlink:href=\"#m2fbe127d91\" y=\"227.535366\"/>\r\n     <use style=\"fill:#0000ff;stroke:#0000ff;\" x=\"269.457888\" xlink:href=\"#m2fbe127d91\" y=\"281.023119\"/>\r\n     <use style=\"fill:#0000ff;stroke:#0000ff;\" x=\"414.925802\" xlink:href=\"#m2fbe127d91\" y=\"281.43488\"/>\r\n     <use style=\"fill:#0000ff;stroke:#0000ff;\" x=\"627.532754\" xlink:href=\"#m2fbe127d91\" y=\"284.728968\"/>\r\n     <use style=\"fill:#0000ff;stroke:#0000ff;\" x=\"96.015374\" xlink:href=\"#m2fbe127d91\" y=\"170.180354\"/>\r\n     <use style=\"fill:#0000ff;stroke:#0000ff;\" x=\"263.862968\" xlink:href=\"#m2fbe127d91\" y=\"252.611611\"/>\r\n     <use style=\"fill:#0000ff;stroke:#0000ff;\" x=\"90.420455\" xlink:href=\"#m2fbe127d91\" y=\"251.788089\"/>\r\n     <use style=\"fill:#0000ff;stroke:#0000ff;\" x=\"140.774733\" xlink:href=\"#m2fbe127d91\" y=\"189.612179\"/>\r\n     <use style=\"fill:#0000ff;stroke:#0000ff;\" x=\"800.975267\" xlink:href=\"#m2fbe127d91\" y=\"263.729157\"/>\r\n     <use style=\"fill:#0000ff;stroke:#0000ff;\" x=\"331.002005\" xlink:href=\"#m2fbe127d91\" y=\"255.905698\"/>\r\n     <use style=\"fill:#0000ff;stroke:#0000ff;\" x=\"96.015374\" xlink:href=\"#m2fbe127d91\" y=\"261.299767\"/>\r\n     <use style=\"fill:#0000ff;stroke:#0000ff;\" x=\"107.205214\" xlink:href=\"#m2fbe127d91\" y=\"193.935669\"/>\r\n     <use style=\"fill:#0000ff;stroke:#0000ff;\" x=\"426.115642\" xlink:href=\"#m2fbe127d91\" y=\"282.834867\"/>\r\n     <use style=\"fill:#0000ff;stroke:#0000ff;\" x=\"342.191845\" xlink:href=\"#m2fbe127d91\" y=\"276.699629\"/>\r\n     <use style=\"fill:#0000ff;stroke:#0000ff;\" x=\"308.622326\" xlink:href=\"#m2fbe127d91\" y=\"256.72922\"/>\r\n     <use style=\"fill:#0000ff;stroke:#0000ff;\" x=\"560.393717\" xlink:href=\"#m2fbe127d91\" y=\"295.434754\"/>\r\n     <use style=\"fill:#0000ff;stroke:#0000ff;\" x=\"112.800134\" xlink:href=\"#m2fbe127d91\" y=\"248.08224\"/>\r\n     <use style=\"fill:#0000ff;stroke:#0000ff;\" x=\"409.330882\" xlink:href=\"#m2fbe127d91\" y=\"299.140603\"/>\r\n     <use style=\"fill:#0000ff;stroke:#0000ff;\" x=\"577.178476\" xlink:href=\"#m2fbe127d91\" y=\"297.493559\"/>\r\n     <use style=\"fill:#0000ff;stroke:#0000ff;\" x=\"101.610294\" xlink:href=\"#m2fbe127d91\" y=\"237.376454\"/>\r\n     <use style=\"fill:#0000ff;stroke:#0000ff;\" x=\"263.862968\" xlink:href=\"#m2fbe127d91\" y=\"276.532865\"/>\r\n     <use style=\"fill:#0000ff;stroke:#0000ff;\" x=\"112.800134\" xlink:href=\"#m2fbe127d91\" y=\"258.376264\"/>\r\n     <use style=\"fill:#0000ff;stroke:#0000ff;\" x=\"263.862968\" xlink:href=\"#m2fbe127d91\" y=\"271.182031\"/>\r\n     <use style=\"fill:#0000ff;stroke:#0000ff;\" x=\"297.432487\" xlink:href=\"#m2fbe127d91\" y=\"265.582082\"/>\r\n     <use style=\"fill:#0000ff;stroke:#0000ff;\" x=\"308.622326\" xlink:href=\"#m2fbe127d91\" y=\"296.670037\"/>\r\n     <use style=\"fill:#0000ff;stroke:#0000ff;\" x=\"118.395053\" xlink:href=\"#m2fbe127d91\" y=\"234.082366\"/>\r\n     <use style=\"fill:#0000ff;stroke:#0000ff;\" x=\"538.014037\" xlink:href=\"#m2fbe127d91\" y=\"290.905383\"/>\r\n     <use style=\"fill:#0000ff;stroke:#0000ff;\" x=\"426.115642\" xlink:href=\"#m2fbe127d91\" y=\"277.31727\"/>\r\n     <use style=\"fill:#0000ff;stroke:#0000ff;\" x=\"342.191845\" xlink:href=\"#m2fbe127d91\" y=\"291.728905\"/>\r\n     <use style=\"fill:#0000ff;stroke:#0000ff;\" x=\"560.393717\" xlink:href=\"#m2fbe127d91\" y=\"264.96444\"/>\r\n     <use style=\"fill:#0000ff;stroke:#0000ff;\" x=\"644.317513\" xlink:href=\"#m2fbe127d91\" y=\"297.90532\"/>\r\n     <use style=\"fill:#0000ff;stroke:#0000ff;\" x=\"420.520722\" xlink:href=\"#m2fbe127d91\" y=\"283.823094\"/>\r\n     <use style=\"fill:#0000ff;stroke:#0000ff;\" x=\"135.179813\" xlink:href=\"#m2fbe127d91\" y=\"239.435259\"/>\r\n     <use style=\"fill:#0000ff;stroke:#0000ff;\" x=\"163.154412\" xlink:href=\"#m2fbe127d91\" y=\"249.317523\"/>\r\n     <use style=\"fill:#0000ff;stroke:#0000ff;\" x=\"230.293449\" xlink:href=\"#m2fbe127d91\" y=\"255.699818\"/>\r\n     <use style=\"fill:#0000ff;stroke:#0000ff;\" x=\"179.939171\" xlink:href=\"#m2fbe127d91\" y=\"267.023245\"/>\r\n     <use style=\"fill:#0000ff;stroke:#0000ff;\" x=\"96.015374\" xlink:href=\"#m2fbe127d91\" y=\"244.99815\"/>\r\n     <use style=\"fill:#0000ff;stroke:#0000ff;\" x=\"107.205214\" xlink:href=\"#m2fbe127d91\" y=\"260.435069\"/>\r\n     <use style=\"fill:#0000ff;stroke:#0000ff;\" x=\"90.420455\" xlink:href=\"#m2fbe127d91\" y=\"253.023372\"/>\r\n     <use style=\"fill:#0000ff;stroke:#0000ff;\" x=\"521.229278\" xlink:href=\"#m2fbe127d91\" y=\"297.081798\"/>\r\n     <use style=\"fill:#0000ff;stroke:#0000ff;\" x=\"107.205214\" xlink:href=\"#m2fbe127d91\" y=\"254.258654\"/>\r\n     <use style=\"fill:#0000ff;stroke:#0000ff;\" x=\"269.457888\" xlink:href=\"#m2fbe127d91\" y=\"214.729599\"/>\r\n     <use style=\"fill:#0000ff;stroke:#0000ff;\" x=\"286.242647\" xlink:href=\"#m2fbe127d91\" y=\"286.581892\"/>\r\n     <use style=\"fill:#0000ff;stroke:#0000ff;\" x=\"370.166444\" xlink:href=\"#m2fbe127d91\" y=\"263.935038\"/>\r\n     <use style=\"fill:#0000ff;stroke:#0000ff;\" x=\"96.015374\" xlink:href=\"#m2fbe127d91\" y=\"212.227328\"/>\r\n     <use style=\"fill:#0000ff;stroke:#0000ff;\" x=\"459.68516\" xlink:href=\"#m2fbe127d91\" y=\"289.6701\"/>\r\n     <use style=\"fill:#0000ff;stroke:#0000ff;\" x=\"280.647727\" xlink:href=\"#m2fbe127d91\" y=\"284.317207\"/>\r\n     <use style=\"fill:#0000ff;stroke:#0000ff;\" x=\"593.963235\" xlink:href=\"#m2fbe127d91\" y=\"267.023245\"/>\r\n     <use style=\"fill:#0000ff;stroke:#0000ff;\" x=\"588.368316\" xlink:href=\"#m2fbe127d91\" y=\"251.788089\"/>\r\n     <use style=\"fill:#0000ff;stroke:#0000ff;\" x=\"163.154412\" xlink:href=\"#m2fbe127d91\" y=\"205.259096\"/>\r\n     <use style=\"fill:#0000ff;stroke:#0000ff;\" x=\"112.800134\" xlink:href=\"#m2fbe127d91\" y=\"238.199976\"/>\r\n     <use style=\"fill:#0000ff;stroke:#0000ff;\" x=\"476.46992\" xlink:href=\"#m2fbe127d91\" y=\"283.596625\"/>\r\n     <use style=\"fill:#0000ff;stroke:#0000ff;\" x=\"381.356283\" xlink:href=\"#m2fbe127d91\" y=\"298.317081\"/>\r\n     <use style=\"fill:#0000ff;stroke:#0000ff;\" x=\"101.610294\" xlink:href=\"#m2fbe127d91\" y=\"202.994411\"/>\r\n     <use style=\"fill:#0000ff;stroke:#0000ff;\" x=\"129.584893\" xlink:href=\"#m2fbe127d91\" y=\"214.729599\"/>\r\n     <use style=\"fill:#0000ff;stroke:#0000ff;\" x=\"308.622326\" xlink:href=\"#m2fbe127d91\" y=\"292.964188\"/>\r\n     <use style=\"fill:#0000ff;stroke:#0000ff;\" x=\"308.622326\" xlink:href=\"#m2fbe127d91\" y=\"299.964125\"/>\r\n     <use style=\"fill:#0000ff;stroke:#0000ff;\" x=\"364.571524\" xlink:href=\"#m2fbe127d91\" y=\"269.08205\"/>\r\n     <use style=\"fill:#0000ff;stroke:#0000ff;\" x=\"325.407086\" xlink:href=\"#m2fbe127d91\" y=\"261.670352\"/>\r\n     <use style=\"fill:#0000ff;stroke:#0000ff;\" x=\"112.800134\" xlink:href=\"#m2fbe127d91\" y=\"252.19985\"/>\r\n     <use style=\"fill:#0000ff;stroke:#0000ff;\" x=\"191.129011\" xlink:href=\"#m2fbe127d91\" y=\"224.908331\"/>\r\n     <use style=\"fill:#0000ff;stroke:#0000ff;\" x=\"247.078209\" xlink:href=\"#m2fbe127d91\" y=\"218.435448\"/>\r\n     <use style=\"fill:#0000ff;stroke:#0000ff;\" x=\"392.546123\" xlink:href=\"#m2fbe127d91\" y=\"275.42317\"/>\r\n     <use style=\"fill:#0000ff;stroke:#0000ff;\" x=\"96.015374\" xlink:href=\"#m2fbe127d91\" y=\"103.726659\"/>\r\n     <use style=\"fill:#0000ff;stroke:#0000ff;\" x=\"168.749332\" xlink:href=\"#m2fbe127d91\" y=\"273.19966\"/>\r\n     <use style=\"fill:#0000ff;stroke:#0000ff;\" x=\"364.571524\" xlink:href=\"#m2fbe127d91\" y=\"285.55249\"/>\r\n     <use style=\"fill:#0000ff;stroke:#0000ff;\" x=\"448.495321\" xlink:href=\"#m2fbe127d91\" y=\"297.946496\"/>\r\n     <use style=\"fill:#0000ff;stroke:#0000ff;\" x=\"90.420455\" xlink:href=\"#m2fbe127d91\" y=\"260.235365\"/>\r\n     <use style=\"fill:#0000ff;stroke:#0000ff;\" x=\"90.420455\" xlink:href=\"#m2fbe127d91\" y=\"250.494747\"/>\r\n     <use style=\"fill:#0000ff;stroke:#0000ff;\" x=\"331.002005\" xlink:href=\"#m2fbe127d91\" y=\"264.96444\"/>\r\n     <use style=\"fill:#0000ff;stroke:#0000ff;\" x=\"386.951203\" xlink:href=\"#m2fbe127d91\" y=\"273.405541\"/>\r\n     <use style=\"fill:#0000ff;stroke:#0000ff;\" x=\"112.800134\" xlink:href=\"#m2fbe127d91\" y=\"227.905951\"/>\r\n     <use style=\"fill:#0000ff;stroke:#0000ff;\" x=\"269.457888\" xlink:href=\"#m2fbe127d91\" y=\"258.788025\"/>\r\n     <use style=\"fill:#0000ff;stroke:#0000ff;\" x=\"96.015374\" xlink:href=\"#m2fbe127d91\" y=\"256.379224\"/>\r\n     <use style=\"fill:#0000ff;stroke:#0000ff;\" x=\"174.344251\" xlink:href=\"#m2fbe127d91\" y=\"230.788278\"/>\r\n     <use style=\"fill:#0000ff;stroke:#0000ff;\" x=\"96.015374\" xlink:href=\"#m2fbe127d91\" y=\"194.965072\"/>\r\n     <use style=\"fill:#0000ff;stroke:#0000ff;\" x=\"510.039439\" xlink:href=\"#m2fbe127d91\" y=\"242.317586\"/>\r\n     <use style=\"fill:#0000ff;stroke:#0000ff;\" x=\"140.774733\" xlink:href=\"#m2fbe127d91\" y=\"244.994032\"/>\r\n     <use style=\"fill:#0000ff;stroke:#0000ff;\" x=\"498.849599\" xlink:href=\"#m2fbe127d91\" y=\"299.552364\"/>\r\n     <use style=\"fill:#0000ff;stroke:#0000ff;\" x=\"689.076872\" xlink:href=\"#m2fbe127d91\" y=\"295.846515\"/>\r\n     <use style=\"fill:#0000ff;stroke:#0000ff;\" x=\"543.608957\" xlink:href=\"#m2fbe127d91\" y=\"287.405414\"/>\r\n     <use style=\"fill:#0000ff;stroke:#0000ff;\" x=\"331.002005\" xlink:href=\"#m2fbe127d91\" y=\"269.493811\"/>\r\n     <use style=\"fill:#0000ff;stroke:#0000ff;\" x=\"168.749332\" xlink:href=\"#m2fbe127d91\" y=\"197.847398\"/>\r\n     <use style=\"fill:#0000ff;stroke:#0000ff;\" x=\"179.939171\" xlink:href=\"#m2fbe127d91\" y=\"259.611547\"/>\r\n     <use style=\"fill:#0000ff;stroke:#0000ff;\" x=\"336.596925\" xlink:href=\"#m2fbe127d91\" y=\"263.770333\"/>\r\n     <use style=\"fill:#0000ff;stroke:#0000ff;\" x=\"275.052807\" xlink:href=\"#m2fbe127d91\" y=\"270.56439\"/>\r\n     <use style=\"fill:#0000ff;stroke:#0000ff;\" x=\"414.925802\" xlink:href=\"#m2fbe127d91\" y=\"277.31727\"/>\r\n     <use style=\"fill:#0000ff;stroke:#0000ff;\" x=\"375.761364\" xlink:href=\"#m2fbe127d91\" y=\"277.31727\"/>\r\n     <use style=\"fill:#0000ff;stroke:#0000ff;\" x=\"319.812166\" xlink:href=\"#m2fbe127d91\" y=\"269.493811\"/>\r\n     <use style=\"fill:#0000ff;stroke:#0000ff;\" x=\"414.925802\" xlink:href=\"#m2fbe127d91\" y=\"295.228873\"/>\r\n     <use style=\"fill:#0000ff;stroke:#0000ff;\" x=\"269.457888\" xlink:href=\"#m2fbe127d91\" y=\"267.229126\"/>\r\n     <use style=\"fill:#0000ff;stroke:#0000ff;\" x=\"96.015374\" xlink:href=\"#m2fbe127d91\" y=\"253.023372\"/>\r\n     <use style=\"fill:#0000ff;stroke:#0000ff;\" x=\"465.28008\" xlink:href=\"#m2fbe127d91\" y=\"242.523466\"/>\r\n     <use style=\"fill:#0000ff;stroke:#0000ff;\" x=\"482.06484\" xlink:href=\"#m2fbe127d91\" y=\"262.905635\"/>\r\n     <use style=\"fill:#0000ff;stroke:#0000ff;\" x=\"297.432487\" xlink:href=\"#m2fbe127d91\" y=\"275.752578\"/>\r\n     <use style=\"fill:#0000ff;stroke:#0000ff;\" x=\"101.610294\" xlink:href=\"#m2fbe127d91\" y=\"268.711465\"/>\r\n     <use style=\"fill:#0000ff;stroke:#0000ff;\" x=\"163.154412\" xlink:href=\"#m2fbe127d91\" y=\"281.023119\"/>\r\n     <use style=\"fill:#0000ff;stroke:#0000ff;\" x=\"297.432487\" xlink:href=\"#m2fbe127d91\" y=\"273.19966\"/>\r\n     <use style=\"fill:#0000ff;stroke:#0000ff;\" x=\"353.381684\" xlink:href=\"#m2fbe127d91\" y=\"278.140792\"/>\r\n     <use style=\"fill:#0000ff;stroke:#0000ff;\" x=\"118.395053\" xlink:href=\"#m2fbe127d91\" y=\"253.846893\"/>\r\n     <use style=\"fill:#0000ff;stroke:#0000ff;\" x=\"325.407086\" xlink:href=\"#m2fbe127d91\" y=\"267.023245\"/>\r\n     <use style=\"fill:#0000ff;stroke:#0000ff;\" x=\"151.964572\" xlink:href=\"#m2fbe127d91\" y=\"255.699818\"/>\r\n     <use style=\"fill:#0000ff;stroke:#0000ff;\" x=\"191.129011\" xlink:href=\"#m2fbe127d91\" y=\"272.376138\"/>\r\n     <use style=\"fill:#0000ff;stroke:#0000ff;\" x=\"297.432487\" xlink:href=\"#m2fbe127d91\" y=\"298.522961\"/>\r\n     <use style=\"fill:#0000ff;stroke:#0000ff;\" x=\"112.800134\" xlink:href=\"#m2fbe127d91\" y=\"229.141234\"/>\r\n     <use style=\"fill:#0000ff;stroke:#0000ff;\" x=\"101.610294\" xlink:href=\"#m2fbe127d91\" y=\"276.287868\"/>\r\n     <use style=\"fill:#0000ff;stroke:#0000ff;\" x=\"96.015374\" xlink:href=\"#m2fbe127d91\" y=\"251.788089\"/>\r\n     <use style=\"fill:#0000ff;stroke:#0000ff;\" x=\"420.520722\" xlink:href=\"#m2fbe127d91\" y=\"294.652408\"/>\r\n     <use style=\"fill:#0000ff;stroke:#0000ff;\" x=\"140.774733\" xlink:href=\"#m2fbe127d91\" y=\"267.023245\"/>\r\n     <use style=\"fill:#0000ff;stroke:#0000ff;\" x=\"554.798797\" xlink:href=\"#m2fbe127d91\" y=\"276.699629\"/>\r\n     <use style=\"fill:#0000ff;stroke:#0000ff;\" x=\"319.812166\" xlink:href=\"#m2fbe127d91\" y=\"272.787899\"/>\r\n     <use style=\"fill:#0000ff;stroke:#0000ff;\" x=\"392.546123\" xlink:href=\"#m2fbe127d91\" y=\"279.787836\"/>\r\n     <use style=\"fill:#0000ff;stroke:#0000ff;\" x=\"96.015374\" xlink:href=\"#m2fbe127d91\" y=\"260.257189\"/>\r\n     <use style=\"fill:#0000ff;stroke:#0000ff;\" x=\"610.747995\" xlink:href=\"#m2fbe127d91\" y=\"280.611358\"/>\r\n     <use style=\"fill:#0000ff;stroke:#0000ff;\" x=\"207.91377\" xlink:href=\"#m2fbe127d91\" y=\"262.905635\"/>\r\n     <use style=\"fill:#0000ff;stroke:#0000ff;\" x=\"498.849599\" xlink:href=\"#m2fbe127d91\" y=\"280.199597\"/>\r\n     <use style=\"fill:#0000ff;stroke:#0000ff;\" x=\"263.862968\" xlink:href=\"#m2fbe127d91\" y=\"268.258528\"/>\r\n     <use style=\"fill:#0000ff;stroke:#0000ff;\" x=\"588.368316\" xlink:href=\"#m2fbe127d91\" y=\"308.199345\"/>\r\n     <use style=\"fill:#0000ff;stroke:#0000ff;\" x=\"291.837567\" xlink:href=\"#m2fbe127d91\" y=\"283.699565\"/>\r\n     <use style=\"fill:#0000ff;stroke:#0000ff;\" x=\"353.381684\" xlink:href=\"#m2fbe127d91\" y=\"277.31727\"/>\r\n     <use style=\"fill:#0000ff;stroke:#0000ff;\" x=\"353.381684\" xlink:href=\"#m2fbe127d91\" y=\"267.229126\"/>\r\n     <use style=\"fill:#0000ff;stroke:#0000ff;\" x=\"297.432487\" xlink:href=\"#m2fbe127d91\" y=\"289.258339\"/>\r\n     <use style=\"fill:#0000ff;stroke:#0000ff;\" x=\"179.939171\" xlink:href=\"#m2fbe127d91\" y=\"199.082681\"/>\r\n     <use style=\"fill:#0000ff;stroke:#0000ff;\" x=\"185.534091\" xlink:href=\"#m2fbe127d91\" y=\"258.829201\"/>\r\n     <use style=\"fill:#0000ff;stroke:#0000ff;\" x=\"90.420455\" xlink:href=\"#m2fbe127d91\" y=\"219.783965\"/>\r\n     <use style=\"fill:#0000ff;stroke:#0000ff;\" x=\"129.584893\" xlink:href=\"#m2fbe127d91\" y=\"258.376264\"/>\r\n     <use style=\"fill:#0000ff;stroke:#0000ff;\" x=\"118.395053\" xlink:href=\"#m2fbe127d91\" y=\"217.611926\"/>\r\n     <use style=\"fill:#0000ff;stroke:#0000ff;\" x=\"163.154412\" xlink:href=\"#m2fbe127d91\" y=\"255.493937\"/>\r\n     <use style=\"fill:#0000ff;stroke:#0000ff;\" x=\"269.457888\" xlink:href=\"#m2fbe127d91\" y=\"248.494001\"/>\r\n     <use style=\"fill:#0000ff;stroke:#0000ff;\" x=\"364.571524\" xlink:href=\"#m2fbe127d91\" y=\"279.417251\"/>\r\n     <use style=\"fill:#0000ff;stroke:#0000ff;\" x=\"392.546123\" xlink:href=\"#m2fbe127d91\" y=\"277.523151\"/>\r\n     <use style=\"fill:#0000ff;stroke:#0000ff;\" x=\"381.356283\" xlink:href=\"#m2fbe127d91\" y=\"284.728968\"/>\r\n     <use style=\"fill:#0000ff;stroke:#0000ff;\" x=\"90.420455\" xlink:href=\"#m2fbe127d91\" y=\"201.965008\"/>\r\n     <use style=\"fill:#0000ff;stroke:#0000ff;\" x=\"129.584893\" xlink:href=\"#m2fbe127d91\" y=\"257.099805\"/>\r\n     <use style=\"fill:#0000ff;stroke:#0000ff;\" x=\"319.812166\" xlink:href=\"#m2fbe127d91\" y=\"279.376075\"/>\r\n     <use style=\"fill:#0000ff;stroke:#0000ff;\" x=\"370.166444\" xlink:href=\"#m2fbe127d91\" y=\"275.258465\"/>\r\n     <use style=\"fill:#0000ff;stroke:#0000ff;\" x=\"353.381684\" xlink:href=\"#m2fbe127d91\" y=\"277.852559\"/>\r\n     <use style=\"fill:#0000ff;stroke:#0000ff;\" x=\"577.178476\" xlink:href=\"#m2fbe127d91\" y=\"284.152503\"/>\r\n     <use style=\"fill:#0000ff;stroke:#0000ff;\" x=\"96.015374\" xlink:href=\"#m2fbe127d91\" y=\"245.241089\"/>\r\n     <use style=\"fill:#0000ff;stroke:#0000ff;\" x=\"386.951203\" xlink:href=\"#m2fbe127d91\" y=\"286.787773\"/>\r\n     <use style=\"fill:#0000ff;stroke:#0000ff;\" x=\"437.305481\" xlink:href=\"#m2fbe127d91\" y=\"284.317207\"/>\r\n     <use style=\"fill:#0000ff;stroke:#0000ff;\" x=\"174.344251\" xlink:href=\"#m2fbe127d91\" y=\"265.417377\"/>\r\n     <use style=\"fill:#0000ff;stroke:#0000ff;\" x=\"392.546123\" xlink:href=\"#m2fbe127d91\" y=\"285.55249\"/>\r\n     <use style=\"fill:#0000ff;stroke:#0000ff;\" x=\"101.610294\" xlink:href=\"#m2fbe127d91\" y=\"261.258591\"/>\r\n     <use style=\"fill:#0000ff;stroke:#0000ff;\" x=\"107.205214\" xlink:href=\"#m2fbe127d91\" y=\"226.258907\"/>\r\n     <use style=\"fill:#0000ff;stroke:#0000ff;\" x=\"107.205214\" xlink:href=\"#m2fbe127d91\" y=\"244.376391\"/>\r\n     <use style=\"fill:#0000ff;stroke:#0000ff;\" x=\"241.483289\" xlink:href=\"#m2fbe127d91\" y=\"275.258465\"/>\r\n     <use style=\"fill:#0000ff;stroke:#0000ff;\" x=\"543.608957\" xlink:href=\"#m2fbe127d91\" y=\"277.31727\"/>\r\n     <use style=\"fill:#0000ff;stroke:#0000ff;\" x=\"179.939171\" xlink:href=\"#m2fbe127d91\" y=\"294.405351\"/>\r\n     <use style=\"fill:#0000ff;stroke:#0000ff;\" x=\"800.975267\" xlink:href=\"#m2fbe127d91\" y=\"284.523087\"/>\r\n     <use style=\"fill:#0000ff;stroke:#0000ff;\" x=\"168.749332\" xlink:href=\"#m2fbe127d91\" y=\"234.288246\"/>\r\n     <use style=\"fill:#0000ff;stroke:#0000ff;\" x=\"146.369652\" xlink:href=\"#m2fbe127d91\" y=\"263.317396\"/>\r\n     <use style=\"fill:#0000ff;stroke:#0000ff;\" x=\"543.608957\" xlink:href=\"#m2fbe127d91\" y=\"290.905383\"/>\r\n     <use style=\"fill:#0000ff;stroke:#0000ff;\" x=\"414.925802\" xlink:href=\"#m2fbe127d91\" y=\"283.905446\"/>\r\n     <use style=\"fill:#0000ff;stroke:#0000ff;\" x=\"845.734626\" xlink:href=\"#m2fbe127d91\" y=\"294.199471\"/>\r\n     <use style=\"fill:#0000ff;stroke:#0000ff;\" x=\"269.457888\" xlink:href=\"#m2fbe127d91\" y=\"252.19985\"/>\r\n     <use style=\"fill:#0000ff;stroke:#0000ff;\" x=\"577.178476\" xlink:href=\"#m2fbe127d91\" y=\"273.611421\"/>\r\n     <use style=\"fill:#0000ff;stroke:#0000ff;\" x=\"409.330882\" xlink:href=\"#m2fbe127d91\" y=\"275.670226\"/>\r\n     <use style=\"fill:#0000ff;stroke:#0000ff;\" x=\"275.052807\" xlink:href=\"#m2fbe127d91\" y=\"251.582208\"/>\r\n     <use style=\"fill:#0000ff;stroke:#0000ff;\" x=\"96.015374\" xlink:href=\"#m2fbe127d91\" y=\"157.960111\"/>\r\n     <use style=\"fill:#0000ff;stroke:#0000ff;\" x=\"364.571524\" xlink:href=\"#m2fbe127d91\" y=\"299.964125\"/>\r\n     <use style=\"fill:#0000ff;stroke:#0000ff;\" x=\"476.46992\" xlink:href=\"#m2fbe127d91\" y=\"299.964125\"/>\r\n     <use style=\"fill:#0000ff;stroke:#0000ff;\" x=\"526.824198\" xlink:href=\"#m2fbe127d91\" y=\"271.552616\"/>\r\n     <use style=\"fill:#0000ff;stroke:#0000ff;\" x=\"207.91377\" xlink:href=\"#m2fbe127d91\" y=\"258.788025\"/>\r\n     <use style=\"fill:#0000ff;stroke:#0000ff;\" x=\"470.875\" xlink:href=\"#m2fbe127d91\" y=\"261.052711\"/>\r\n     <use style=\"fill:#0000ff;stroke:#0000ff;\" x=\"549.203877\" xlink:href=\"#m2fbe127d91\" y=\"284.770144\"/>\r\n     <use style=\"fill:#0000ff;stroke:#0000ff;\" x=\"588.368316\" xlink:href=\"#m2fbe127d91\" y=\"274.023182\"/>\r\n     <use style=\"fill:#0000ff;stroke:#0000ff;\" x=\"409.330882\" xlink:href=\"#m2fbe127d91\" y=\"281.846641\"/>\r\n     <use style=\"fill:#0000ff;stroke:#0000ff;\" x=\"353.381684\" xlink:href=\"#m2fbe127d91\" y=\"271.182031\"/>\r\n     <use style=\"fill:#0000ff;stroke:#0000ff;\" x=\"370.166444\" xlink:href=\"#m2fbe127d91\" y=\"238.199976\"/>\r\n     <use style=\"fill:#0000ff;stroke:#0000ff;\" x=\"526.824198\" xlink:href=\"#m2fbe127d91\" y=\"283.287804\"/>\r\n     <use style=\"fill:#0000ff;stroke:#0000ff;\" x=\"331.002005\" xlink:href=\"#m2fbe127d91\" y=\"249.811636\"/>\r\n     <use style=\"fill:#0000ff;stroke:#0000ff;\" x=\"263.862968\" xlink:href=\"#m2fbe127d91\" y=\"243.141108\"/>\r\n     <use style=\"fill:#0000ff;stroke:#0000ff;\" x=\"331.002005\" xlink:href=\"#m2fbe127d91\" y=\"258.829201\"/>\r\n     <use style=\"fill:#0000ff;stroke:#0000ff;\" x=\"101.610294\" xlink:href=\"#m2fbe127d91\" y=\"238.199976\"/>\r\n     <use style=\"fill:#0000ff;stroke:#0000ff;\" x=\"96.015374\" xlink:href=\"#m2fbe127d91\" y=\"236.088465\"/>\r\n     <use style=\"fill:#0000ff;stroke:#0000ff;\" x=\"280.647727\" xlink:href=\"#m2fbe127d91\" y=\"256.72922\"/>\r\n     <use style=\"fill:#0000ff;stroke:#0000ff;\" x=\"269.457888\" xlink:href=\"#m2fbe127d91\" y=\"272.787899\"/>\r\n     <use style=\"fill:#0000ff;stroke:#0000ff;\" x=\"392.546123\" xlink:href=\"#m2fbe127d91\" y=\"240.670542\"/>\r\n     <use style=\"fill:#0000ff;stroke:#0000ff;\" x=\"308.622326\" xlink:href=\"#m2fbe127d91\" y=\"279.787836\"/>\r\n     <use style=\"fill:#0000ff;stroke:#0000ff;\" x=\"308.622326\" xlink:href=\"#m2fbe127d91\" y=\"288.039938\"/>\r\n     <use style=\"fill:#0000ff;stroke:#0000ff;\" x=\"252.673128\" xlink:href=\"#m2fbe127d91\" y=\"253.023372\"/>\r\n     <use style=\"fill:#0000ff;stroke:#0000ff;\" x=\"90.420455\" xlink:href=\"#m2fbe127d91\" y=\"236.894693\"/>\r\n     <use style=\"fill:#0000ff;stroke:#0000ff;\" x=\"101.610294\" xlink:href=\"#m2fbe127d91\" y=\"231.879445\"/>\r\n     <use style=\"fill:#0000ff;stroke:#0000ff;\" x=\"123.989973\" xlink:href=\"#m2fbe127d91\" y=\"261.670352\"/>\r\n     <use style=\"fill:#0000ff;stroke:#0000ff;\" x=\"498.849599\" xlink:href=\"#m2fbe127d91\" y=\"236.141171\"/>\r\n     <use style=\"fill:#0000ff;stroke:#0000ff;\" x=\"151.964572\" xlink:href=\"#m2fbe127d91\" y=\"75.554384\"/>\r\n     <use style=\"fill:#0000ff;stroke:#0000ff;\" x=\"263.862968\" xlink:href=\"#m2fbe127d91\" y=\"262.493874\"/>\r\n     <use style=\"fill:#0000ff;stroke:#0000ff;\" x=\"370.166444\" xlink:href=\"#m2fbe127d91\" y=\"265.787962\"/>\r\n     <use style=\"fill:#0000ff;stroke:#0000ff;\" x=\"101.610294\" xlink:href=\"#m2fbe127d91\" y=\"262.123289\"/>\r\n     <use style=\"fill:#0000ff;stroke:#0000ff;\" x=\"431.710561\" xlink:href=\"#m2fbe127d91\" y=\"250.346925\"/>\r\n     <use style=\"fill:#0000ff;stroke:#0000ff;\" x=\"504.444519\" xlink:href=\"#m2fbe127d91\" y=\"234.494127\"/>\r\n     <use style=\"fill:#0000ff;stroke:#0000ff;\" x=\"174.344251\" xlink:href=\"#m2fbe127d91\" y=\"215.553121\"/>\r\n     <use style=\"fill:#0000ff;stroke:#0000ff;\" x=\"224.698529\" xlink:href=\"#m2fbe127d91\" y=\"283.699565\"/>\r\n     <use style=\"fill:#0000ff;stroke:#0000ff;\" x=\"554.798797\" xlink:href=\"#m2fbe127d91\" y=\"285.55249\"/>\r\n     <use style=\"fill:#0000ff;stroke:#0000ff;\" x=\"582.773396\" xlink:href=\"#m2fbe127d91\" y=\"269.123226\"/>\r\n     <use style=\"fill:#0000ff;stroke:#0000ff;\" x=\"381.356283\" xlink:href=\"#m2fbe127d91\" y=\"294.611232\"/>\r\n     <use style=\"fill:#0000ff;stroke:#0000ff;\" x=\"179.939171\" xlink:href=\"#m2fbe127d91\" y=\"229.964756\"/>\r\n     <use style=\"fill:#0000ff;stroke:#0000ff;\" x=\"90.420455\" xlink:href=\"#m2fbe127d91\" y=\"171.288814\"/>\r\n     <use style=\"fill:#0000ff;stroke:#0000ff;\" x=\"151.964572\" xlink:href=\"#m2fbe127d91\" y=\"26.143064\"/>\r\n     <use style=\"fill:#0000ff;stroke:#0000ff;\" x=\"571.583556\" xlink:href=\"#m2fbe127d91\" y=\"283.493685\"/>\r\n     <use style=\"fill:#0000ff;stroke:#0000ff;\" x=\"336.596925\" xlink:href=\"#m2fbe127d91\" y=\"256.029227\"/>\r\n     <use style=\"fill:#0000ff;stroke:#0000ff;\" x=\"549.203877\" xlink:href=\"#m2fbe127d91\" y=\"289.711276\"/>\r\n     <use style=\"fill:#0000ff;stroke:#0000ff;\" x=\"700.266711\" xlink:href=\"#m2fbe127d91\" y=\"293.78771\"/>\r\n     <use style=\"fill:#0000ff;stroke:#0000ff;\" x=\"157.559492\" xlink:href=\"#m2fbe127d91\" y=\"225.023624\"/>\r\n     <use style=\"fill:#0000ff;stroke:#0000ff;\" x=\"129.584893\" xlink:href=\"#m2fbe127d91\" y=\"252.611611\"/>\r\n     <use style=\"fill:#0000ff;stroke:#0000ff;\" x=\"151.964572\" xlink:href=\"#m2fbe127d91\" y=\"255.082176\"/>\r\n     <use style=\"fill:#0000ff;stroke:#0000ff;\" x=\"347.786765\" xlink:href=\"#m2fbe127d91\" y=\"263.729157\"/>\r\n     <use style=\"fill:#0000ff;stroke:#0000ff;\" x=\"135.179813\" xlink:href=\"#m2fbe127d91\" y=\"261.258591\"/>\r\n     <use style=\"fill:#0000ff;stroke:#0000ff;\" x=\"549.203877\" xlink:href=\"#m2fbe127d91\" y=\"281.43488\"/>\r\n     <use style=\"fill:#0000ff;stroke:#0000ff;\" x=\"146.369652\" xlink:href=\"#m2fbe127d91\" y=\"264.96444\"/>\r\n     <use style=\"fill:#0000ff;stroke:#0000ff;\" x=\"319.812166\" xlink:href=\"#m2fbe127d91\" y=\"267.846767\"/>\r\n     <use style=\"fill:#0000ff;stroke:#0000ff;\" x=\"107.205214\" xlink:href=\"#m2fbe127d91\" y=\"260.435069\"/>\r\n     <use style=\"fill:#0000ff;stroke:#0000ff;\" x=\"90.420455\" xlink:href=\"#m2fbe127d91\" y=\"242.642877\"/>\r\n     <use style=\"fill:#0000ff;stroke:#0000ff;\" x=\"593.963235\" xlink:href=\"#m2fbe127d91\" y=\"273.611421\"/>\r\n     <use style=\"fill:#0000ff;stroke:#0000ff;\" x=\"135.179813\" xlink:href=\"#m2fbe127d91\" y=\"259.611547\"/>\r\n     <use style=\"fill:#0000ff;stroke:#0000ff;\" x=\"331.002005\" xlink:href=\"#m2fbe127d91\" y=\"271.964377\"/>\r\n     <use style=\"fill:#0000ff;stroke:#0000ff;\" x=\"291.837567\" xlink:href=\"#m2fbe127d91\" y=\"285.120141\"/>\r\n     <use style=\"fill:#0000ff;stroke:#0000ff;\" x=\"151.964572\" xlink:href=\"#m2fbe127d91\" y=\"251.417504\"/>\r\n     <use style=\"fill:#0000ff;stroke:#0000ff;\" x=\"560.393717\" xlink:href=\"#m2fbe127d91\" y=\"284.728968\"/>\r\n     <use style=\"fill:#0000ff;stroke:#0000ff;\" x=\"140.774733\" xlink:href=\"#m2fbe127d91\" y=\"245.199913\"/>\r\n     <use style=\"fill:#0000ff;stroke:#0000ff;\" x=\"263.862968\" xlink:href=\"#m2fbe127d91\" y=\"269.699692\"/>\r\n     <use style=\"fill:#0000ff;stroke:#0000ff;\" x=\"196.72393\" xlink:href=\"#m2fbe127d91\" y=\"220.94719\"/>\r\n     <use style=\"fill:#0000ff;stroke:#0000ff;\" x=\"314.217246\" xlink:href=\"#m2fbe127d91\" y=\"288.846578\"/>\r\n     <use style=\"fill:#0000ff;stroke:#0000ff;\" x=\"107.205214\" xlink:href=\"#m2fbe127d91\" y=\"250.552806\"/>\r\n     <use style=\"fill:#0000ff;stroke:#0000ff;\" x=\"347.786765\" xlink:href=\"#m2fbe127d91\" y=\"275.258465\"/>\r\n     <use style=\"fill:#0000ff;stroke:#0000ff;\" x=\"90.420455\" xlink:href=\"#m2fbe127d91\" y=\"213.494316\"/>\r\n     <use style=\"fill:#0000ff;stroke:#0000ff;\" x=\"191.129011\" xlink:href=\"#m2fbe127d91\" y=\"255.082176\"/>\r\n     <use style=\"fill:#0000ff;stroke:#0000ff;\" x=\"213.50869\" xlink:href=\"#m2fbe127d91\" y=\"265.376201\"/>\r\n     <use style=\"fill:#0000ff;stroke:#0000ff;\" x=\"470.875\" xlink:href=\"#m2fbe127d91\" y=\"286.376012\"/>\r\n     <use style=\"fill:#0000ff;stroke:#0000ff;\" x=\"319.812166\" xlink:href=\"#m2fbe127d91\" y=\"273.19966\"/>\r\n     <use style=\"fill:#0000ff;stroke:#0000ff;\" x=\"336.596925\" xlink:href=\"#m2fbe127d91\" y=\"277.523151\"/>\r\n     <use style=\"fill:#0000ff;stroke:#0000ff;\" x=\"319.812166\" xlink:href=\"#m2fbe127d91\" y=\"281.43488\"/>\r\n     <use style=\"fill:#0000ff;stroke:#0000ff;\" x=\"269.457888\" xlink:href=\"#m2fbe127d91\" y=\"286.787773\"/>\r\n     <use style=\"fill:#0000ff;stroke:#0000ff;\" x=\"90.420455\" xlink:href=\"#m2fbe127d91\" y=\"238.423974\"/>\r\n     <use style=\"fill:#0000ff;stroke:#0000ff;\" x=\"420.520722\" xlink:href=\"#m2fbe127d91\" y=\"299.758244\"/>\r\n     <use style=\"fill:#0000ff;stroke:#0000ff;\" x=\"286.242647\" xlink:href=\"#m2fbe127d91\" y=\"295.228873\"/>\r\n     <use style=\"fill:#0000ff;stroke:#0000ff;\" x=\"325.407086\" xlink:href=\"#m2fbe127d91\" y=\"285.55249\"/>\r\n     <use style=\"fill:#0000ff;stroke:#0000ff;\" x=\"314.217246\" xlink:href=\"#m2fbe127d91\" y=\"277.729031\"/>\r\n     <use style=\"fill:#0000ff;stroke:#0000ff;\" x=\"414.925802\" xlink:href=\"#m2fbe127d91\" y=\"274.023182\"/>\r\n     <use style=\"fill:#0000ff;stroke:#0000ff;\" x=\"398.141043\" xlink:href=\"#m2fbe127d91\" y=\"276.123163\"/>\r\n     <use style=\"fill:#0000ff;stroke:#0000ff;\" x=\"112.800134\" xlink:href=\"#m2fbe127d91\" y=\"257.140981\"/>\r\n     <use style=\"fill:#0000ff;stroke:#0000ff;\" x=\"364.571524\" xlink:href=\"#m2fbe127d91\" y=\"273.19966\"/>\r\n     <use style=\"fill:#0000ff;stroke:#0000ff;\" x=\"96.015374\" xlink:href=\"#m2fbe127d91\" y=\"244.788152\"/>\r\n     <use style=\"fill:#0000ff;stroke:#0000ff;\" x=\"331.002005\" xlink:href=\"#m2fbe127d91\" y=\"272.376138\"/>\r\n     <use style=\"fill:#0000ff;stroke:#0000ff;\" x=\"90.420455\" xlink:href=\"#m2fbe127d91\" y=\"181.667662\"/>\r\n     <use style=\"fill:#0000ff;stroke:#0000ff;\" x=\"358.976604\" xlink:href=\"#m2fbe127d91\" y=\"280.611358\"/>\r\n     <use style=\"fill:#0000ff;stroke:#0000ff;\" x=\"336.596925\" xlink:href=\"#m2fbe127d91\" y=\"278.346673\"/>\r\n     <use style=\"fill:#0000ff;stroke:#0000ff;\" x=\"342.191845\" xlink:href=\"#m2fbe127d91\" y=\"290.987735\"/>\r\n     <use style=\"fill:#0000ff;stroke:#0000ff;\" x=\"375.761364\" xlink:href=\"#m2fbe127d91\" y=\"274.434943\"/>\r\n     <use style=\"fill:#0000ff;stroke:#0000ff;\" x=\"633.127674\" xlink:href=\"#m2fbe127d91\" y=\"279.376075\"/>\r\n     <use style=\"fill:#0000ff;stroke:#0000ff;\" x=\"605.153075\" xlink:href=\"#m2fbe127d91\" y=\"275.716755\"/>\r\n     <use style=\"fill:#0000ff;stroke:#0000ff;\" x=\"129.584893\" xlink:href=\"#m2fbe127d91\" y=\"260.64095\"/>\r\n     <use style=\"fill:#0000ff;stroke:#0000ff;\" x=\"101.610294\" xlink:href=\"#m2fbe127d91\" y=\"252.611611\"/>\r\n     <use style=\"fill:#0000ff;stroke:#0000ff;\" x=\"96.015374\" xlink:href=\"#m2fbe127d91\" y=\"274.229063\"/>\r\n     <use style=\"fill:#0000ff;stroke:#0000ff;\" x=\"96.015374\" xlink:href=\"#m2fbe127d91\" y=\"223.417756\"/>\r\n     <use style=\"fill:#0000ff;stroke:#0000ff;\" x=\"118.395053\" xlink:href=\"#m2fbe127d91\" y=\"240.299957\"/>\r\n     <use style=\"fill:#0000ff;stroke:#0000ff;\" x=\"90.420455\" xlink:href=\"#m2fbe127d91\" y=\"230.65322\"/>\r\n     <use style=\"fill:#0000ff;stroke:#0000ff;\" x=\"291.837567\" xlink:href=\"#m2fbe127d91\" y=\"262.905635\"/>\r\n     <use style=\"fill:#0000ff;stroke:#0000ff;\" x=\"521.229278\" xlink:href=\"#m2fbe127d91\" y=\"238.199976\"/>\r\n     <use style=\"fill:#0000ff;stroke:#0000ff;\" x=\"219.10361\" xlink:href=\"#m2fbe127d91\" y=\"259.611547\"/>\r\n     <use style=\"fill:#0000ff;stroke:#0000ff;\" x=\"96.015374\" xlink:href=\"#m2fbe127d91\" y=\"256.111579\"/>\r\n     <use style=\"fill:#0000ff;stroke:#0000ff;\" x=\"280.647727\" xlink:href=\"#m2fbe127d91\" y=\"262.946811\"/>\r\n     <use style=\"fill:#0000ff;stroke:#0000ff;\" x=\"599.558155\" xlink:href=\"#m2fbe127d91\" y=\"279.581956\"/>\r\n     <use style=\"fill:#0000ff;stroke:#0000ff;\" x=\"409.330882\" xlink:href=\"#m2fbe127d91\" y=\"283.905446\"/>\r\n     <use style=\"fill:#0000ff;stroke:#0000ff;\" x=\"325.407086\" xlink:href=\"#m2fbe127d91\" y=\"232.435322\"/>\r\n     <use style=\"fill:#0000ff;stroke:#0000ff;\" x=\"107.205214\" xlink:href=\"#m2fbe127d91\" y=\"262.185054\"/>\r\n     <use style=\"fill:#0000ff;stroke:#0000ff;\" x=\"319.812166\" xlink:href=\"#m2fbe127d91\" y=\"279.376075\"/>\r\n     <use style=\"fill:#0000ff;stroke:#0000ff;\" x=\"275.052807\" xlink:href=\"#m2fbe127d91\" y=\"211.847272\"/>\r\n     <use style=\"fill:#0000ff;stroke:#0000ff;\" x=\"118.395053\" xlink:href=\"#m2fbe127d91\" y=\"264.799736\"/>\r\n     <use style=\"fill:#0000ff;stroke:#0000ff;\" x=\"515.634358\" xlink:href=\"#m2fbe127d91\" y=\"280.405478\"/>\r\n     <use style=\"fill:#0000ff;stroke:#0000ff;\" x=\"168.749332\" xlink:href=\"#m2fbe127d91\" y=\"208.759065\"/>\r\n     <use style=\"fill:#0000ff;stroke:#0000ff;\" x=\"577.178476\" xlink:href=\"#m2fbe127d91\" y=\"291.770081\"/>\r\n     <use style=\"fill:#0000ff;stroke:#0000ff;\" x=\"107.205214\" xlink:href=\"#m2fbe127d91\" y=\"254.670415\"/>\r\n     <use style=\"fill:#0000ff;stroke:#0000ff;\" x=\"308.622326\" xlink:href=\"#m2fbe127d91\" y=\"270.729094\"/>\r\n     <use style=\"fill:#0000ff;stroke:#0000ff;\" x=\"146.369652\" xlink:href=\"#m2fbe127d91\" y=\"258.376264\"/>\r\n     <use style=\"fill:#0000ff;stroke:#0000ff;\" x=\"386.951203\" xlink:href=\"#m2fbe127d91\" y=\"279.829012\"/>\r\n     <use style=\"fill:#0000ff;stroke:#0000ff;\" x=\"381.356283\" xlink:href=\"#m2fbe127d91\" y=\"266.405604\"/>\r\n     <use style=\"fill:#0000ff;stroke:#0000ff;\" x=\"582.773396\" xlink:href=\"#m2fbe127d91\" y=\"258.582145\"/>\r\n     <use style=\"fill:#0000ff;stroke:#0000ff;\" x=\"146.369652\" xlink:href=\"#m2fbe127d91\" y=\"258.376264\"/>\r\n     <use style=\"fill:#0000ff;stroke:#0000ff;\" x=\"129.584893\" xlink:href=\"#m2fbe127d91\" y=\"257.182158\"/>\r\n     <use style=\"fill:#0000ff;stroke:#0000ff;\" x=\"633.127674\" xlink:href=\"#m2fbe127d91\" y=\"282.670163\"/>\r\n     <use style=\"fill:#0000ff;stroke:#0000ff;\" x=\"101.610294\" xlink:href=\"#m2fbe127d91\" y=\"177.053468\"/>\r\n     <use style=\"fill:#0000ff;stroke:#0000ff;\" x=\"498.849599\" xlink:href=\"#m2fbe127d91\" y=\"176.024066\"/>\r\n     <use style=\"fill:#0000ff;stroke:#0000ff;\" x=\"364.571524\" xlink:href=\"#m2fbe127d91\" y=\"273.611421\"/>\r\n     <use style=\"fill:#0000ff;stroke:#0000ff;\" x=\"263.862968\" xlink:href=\"#m2fbe127d91\" y=\"225.847146\"/>\r\n     <use style=\"fill:#0000ff;stroke:#0000ff;\" x=\"319.812166\" xlink:href=\"#m2fbe127d91\" y=\"256.4204\"/>\r\n     <use style=\"fill:#0000ff;stroke:#0000ff;\" x=\"319.812166\" xlink:href=\"#m2fbe127d91\" y=\"276.493748\"/>\r\n     <use style=\"fill:#0000ff;stroke:#0000ff;\" x=\"364.571524\" xlink:href=\"#m2fbe127d91\" y=\"260.023308\"/>\r\n     <use style=\"fill:#0000ff;stroke:#0000ff;\" x=\"633.127674\" xlink:href=\"#m2fbe127d91\" y=\"275.670226\"/>\r\n     <use style=\"fill:#0000ff;stroke:#0000ff;\" x=\"420.520722\" xlink:href=\"#m2fbe127d91\" y=\"276.493748\"/>\r\n     <use style=\"fill:#0000ff;stroke:#0000ff;\" x=\"297.432487\" xlink:href=\"#m2fbe127d91\" y=\"266.199723\"/>\r\n     <use style=\"fill:#0000ff;stroke:#0000ff;\" x=\"325.407086\" xlink:href=\"#m2fbe127d91\" y=\"251.417504\"/>\r\n     <use style=\"fill:#0000ff;stroke:#0000ff;\" x=\"593.963235\" xlink:href=\"#m2fbe127d91\" y=\"304.740552\"/>\r\n     <use style=\"fill:#0000ff;stroke:#0000ff;\" x=\"129.584893\" xlink:href=\"#m2fbe127d91\" y=\"239.435259\"/>\r\n     <use style=\"fill:#0000ff;stroke:#0000ff;\" x=\"179.939171\" xlink:href=\"#m2fbe127d91\" y=\"258.788025\"/>\r\n     <use style=\"fill:#0000ff;stroke:#0000ff;\" x=\"269.457888\" xlink:href=\"#m2fbe127d91\" y=\"270.934975\"/>\r\n     <use style=\"fill:#0000ff;stroke:#0000ff;\" x=\"308.622326\" xlink:href=\"#m2fbe127d91\" y=\"275.670226\"/>\r\n     <use style=\"fill:#0000ff;stroke:#0000ff;\" x=\"599.558155\" xlink:href=\"#m2fbe127d91\" y=\"263.317396\"/>\r\n     <use style=\"fill:#0000ff;stroke:#0000ff;\" x=\"482.06484\" xlink:href=\"#m2fbe127d91\" y=\"278.346673\"/>\r\n     <use style=\"fill:#0000ff;stroke:#0000ff;\" x=\"353.381684\" xlink:href=\"#m2fbe127d91\" y=\"274.023182\"/>\r\n     <use style=\"fill:#0000ff;stroke:#0000ff;\" x=\"325.407086\" xlink:href=\"#m2fbe127d91\" y=\"254.670415\"/>\r\n     <use style=\"fill:#0000ff;stroke:#0000ff;\" x=\"140.774733\" xlink:href=\"#m2fbe127d91\" y=\"218.435448\"/>\r\n     <use style=\"fill:#0000ff;stroke:#0000ff;\" x=\"90.420455\" xlink:href=\"#m2fbe127d91\" y=\"217.200165\"/>\r\n     <use style=\"fill:#0000ff;stroke:#0000ff;\" x=\"347.786765\" xlink:href=\"#m2fbe127d91\" y=\"258.582145\"/>\r\n     <use style=\"fill:#0000ff;stroke:#0000ff;\" x=\"297.432487\" xlink:href=\"#m2fbe127d91\" y=\"283.699565\"/>\r\n     <use style=\"fill:#0000ff;stroke:#0000ff;\" x=\"745.02607\" xlink:href=\"#m2fbe127d91\" y=\"288.640697\"/>\r\n     <use style=\"fill:#0000ff;stroke:#0000ff;\" x=\"258.268048\" xlink:href=\"#m2fbe127d91\" y=\"265.829138\"/>\r\n     <use style=\"fill:#0000ff;stroke:#0000ff;\" x=\"375.761364\" xlink:href=\"#m2fbe127d91\" y=\"285.55249\"/>\r\n     <use style=\"fill:#0000ff;stroke:#0000ff;\" x=\"303.027406\" xlink:href=\"#m2fbe127d91\" y=\"275.876107\"/>\r\n     <use style=\"fill:#0000ff;stroke:#0000ff;\" x=\"342.191845\" xlink:href=\"#m2fbe127d91\" y=\"269.08205\"/>\r\n     <use style=\"fill:#0000ff;stroke:#0000ff;\" x=\"96.015374\" xlink:href=\"#m2fbe127d91\" y=\"275.258465\"/>\r\n     <use style=\"fill:#0000ff;stroke:#0000ff;\" x=\"90.420455\" xlink:href=\"#m2fbe127d91\" y=\"267.023245\"/>\r\n     <use style=\"fill:#0000ff;stroke:#0000ff;\" x=\"375.761364\" xlink:href=\"#m2fbe127d91\" y=\"269.493811\"/>\r\n     <use style=\"fill:#0000ff;stroke:#0000ff;\" x=\"465.28008\" xlink:href=\"#m2fbe127d91\" y=\"259.817428\"/>\r\n     <use style=\"fill:#0000ff;stroke:#0000ff;\" x=\"157.559492\" xlink:href=\"#m2fbe127d91\" y=\"213.494316\"/>\r\n     <use style=\"fill:#0000ff;stroke:#0000ff;\" x=\"96.015374\" xlink:href=\"#m2fbe127d91\" y=\"237.376454\"/>\r\n     <use style=\"fill:#0000ff;stroke:#0000ff;\" x=\"101.610294\" xlink:href=\"#m2fbe127d91\" y=\"279.376075\"/>\r\n     <use style=\"fill:#0000ff;stroke:#0000ff;\" x=\"107.205214\" xlink:href=\"#m2fbe127d91\" y=\"199.082681\"/>\r\n     <use style=\"fill:#0000ff;stroke:#0000ff;\" x=\"96.015374\" xlink:href=\"#m2fbe127d91\" y=\"249.523403\"/>\r\n     <use style=\"fill:#0000ff;stroke:#0000ff;\" x=\"174.344251\" xlink:href=\"#m2fbe127d91\" y=\"276.081987\"/>\r\n     <use style=\"fill:#0000ff;stroke:#0000ff;\" x=\"426.115642\" xlink:href=\"#m2fbe127d91\" y=\"272.376138\"/>\r\n     <use style=\"fill:#0000ff;stroke:#0000ff;\" x=\"185.534091\" xlink:href=\"#m2fbe127d91\" y=\"259.117434\"/>\r\n     <use style=\"fill:#0000ff;stroke:#0000ff;\" x=\"375.761364\" xlink:href=\"#m2fbe127d91\" y=\"194.965072\"/>\r\n     <use style=\"fill:#0000ff;stroke:#0000ff;\" x=\"101.610294\" xlink:href=\"#m2fbe127d91\" y=\"249.317523\"/>\r\n     <use style=\"fill:#0000ff;stroke:#0000ff;\" x=\"185.534091\" xlink:href=\"#m2fbe127d91\" y=\"208.553184\"/>\r\n     <use style=\"fill:#0000ff;stroke:#0000ff;\" x=\"151.964572\" xlink:href=\"#m2fbe127d91\" y=\"195.719418\"/>\r\n     <use style=\"fill:#0000ff;stroke:#0000ff;\" x=\"386.951203\" xlink:href=\"#m2fbe127d91\" y=\"283.905446\"/>\r\n     <use style=\"fill:#0000ff;stroke:#0000ff;\" x=\"308.622326\" xlink:href=\"#m2fbe127d91\" y=\"247.711655\"/>\r\n     <use style=\"fill:#0000ff;stroke:#0000ff;\" x=\"96.015374\" xlink:href=\"#m2fbe127d91\" y=\"211.232513\"/>\r\n     <use style=\"fill:#0000ff;stroke:#0000ff;\" x=\"96.015374\" xlink:href=\"#m2fbe127d91\" y=\"246.888133\"/>\r\n     <use style=\"fill:#0000ff;stroke:#0000ff;\" x=\"118.395053\" xlink:href=\"#m2fbe127d91\" y=\"219.670731\"/>\r\n     <use style=\"fill:#0000ff;stroke:#0000ff;\" x=\"386.951203\" xlink:href=\"#m2fbe127d91\" y=\"287.199534\"/>\r\n     <use style=\"fill:#0000ff;stroke:#0000ff;\" x=\"381.356283\" xlink:href=\"#m2fbe127d91\" y=\"268.464409\"/>\r\n     <use style=\"fill:#0000ff;stroke:#0000ff;\" x=\"420.520722\" xlink:href=\"#m2fbe127d91\" y=\"303.052332\"/>\r\n     <use style=\"fill:#0000ff;stroke:#0000ff;\" x=\"191.129011\" xlink:href=\"#m2fbe127d91\" y=\"254.670415\"/>\r\n     <use style=\"fill:#0000ff;stroke:#0000ff;\" x=\"476.46992\" xlink:href=\"#m2fbe127d91\" y=\"298.934722\"/>\r\n     <use style=\"fill:#0000ff;stroke:#0000ff;\" x=\"96.015374\" xlink:href=\"#m2fbe127d91\" y=\"272.376138\"/>\r\n     <use style=\"fill:#0000ff;stroke:#0000ff;\" x=\"571.583556\" xlink:href=\"#m2fbe127d91\" y=\"310.258149\"/>\r\n     <use style=\"fill:#0000ff;stroke:#0000ff;\" x=\"515.634358\" xlink:href=\"#m2fbe127d91\" y=\"300.375886\"/>\r\n     <use style=\"fill:#0000ff;stroke:#0000ff;\" x=\"235.888369\" xlink:href=\"#m2fbe127d91\" y=\"279.170195\"/>\r\n     <use style=\"fill:#0000ff;stroke:#0000ff;\" x=\"582.773396\" xlink:href=\"#m2fbe127d91\" y=\"227.49419\"/>\r\n     <use style=\"fill:#0000ff;stroke:#0000ff;\" x=\"135.179813\" xlink:href=\"#m2fbe127d91\" y=\"260.229189\"/>\r\n     <use style=\"fill:#0000ff;stroke:#0000ff;\" x=\"96.015374\" xlink:href=\"#m2fbe127d91\" y=\"239.435259\"/>\r\n     <use style=\"fill:#0000ff;stroke:#0000ff;\" x=\"258.268048\" xlink:href=\"#m2fbe127d91\" y=\"278.346673\"/>\r\n     <use style=\"fill:#0000ff;stroke:#0000ff;\" x=\"487.659759\" xlink:href=\"#m2fbe127d91\" y=\"291.728905\"/>\r\n     <use style=\"fill:#0000ff;stroke:#0000ff;\" x=\"470.875\" xlink:href=\"#m2fbe127d91\" y=\"281.229\"/>\r\n     <use style=\"fill:#0000ff;stroke:#0000ff;\" x=\"269.457888\" xlink:href=\"#m2fbe127d91\" y=\"263.770333\"/>\r\n     <use style=\"fill:#0000ff;stroke:#0000ff;\" x=\"286.242647\" xlink:href=\"#m2fbe127d91\" y=\"277.31727\"/>\r\n     <use style=\"fill:#0000ff;stroke:#0000ff;\" x=\"454.090241\" xlink:href=\"#m2fbe127d91\" y=\"311.287552\"/>\r\n     <use style=\"fill:#0000ff;stroke:#0000ff;\" x=\"112.800134\" xlink:href=\"#m2fbe127d91\" y=\"250.552806\"/>\r\n     <use style=\"fill:#0000ff;stroke:#0000ff;\" x=\"280.647727\" xlink:href=\"#m2fbe127d91\" y=\"279.993717\"/>\r\n     <use style=\"fill:#0000ff;stroke:#0000ff;\" x=\"291.837567\" xlink:href=\"#m2fbe127d91\" y=\"282.258402\"/>\r\n     <use style=\"fill:#0000ff;stroke:#0000ff;\" x=\"118.395053\" xlink:href=\"#m2fbe127d91\" y=\"269.08205\"/>\r\n     <use style=\"fill:#0000ff;stroke:#0000ff;\" x=\"118.395053\" xlink:href=\"#m2fbe127d91\" y=\"238.817617\"/>\r\n     <use style=\"fill:#0000ff;stroke:#0000ff;\" x=\"543.608957\" xlink:href=\"#m2fbe127d91\" y=\"260.023308\"/>\r\n     <use style=\"fill:#0000ff;stroke:#0000ff;\" x=\"96.015374\" xlink:href=\"#m2fbe127d91\" y=\"268.73823\"/>\r\n     <use style=\"fill:#0000ff;stroke:#0000ff;\" x=\"577.178476\" xlink:href=\"#m2fbe127d91\" y=\"288.228936\"/>\r\n     <use style=\"fill:#0000ff;stroke:#0000ff;\" x=\"303.027406\" xlink:href=\"#m2fbe127d91\" y=\"224.817743\"/>\r\n     <use style=\"fill:#0000ff;stroke:#0000ff;\" x=\"96.015374\" xlink:href=\"#m2fbe127d91\" y=\"216.185998\"/>\r\n     <use style=\"fill:#0000ff;stroke:#0000ff;\" x=\"140.774733\" xlink:href=\"#m2fbe127d91\" y=\"244.376391\"/>\r\n     <use style=\"fill:#0000ff;stroke:#0000ff;\" x=\"851.329545\" xlink:href=\"#m2fbe127d91\" y=\"282.670163\"/>\r\n     <use style=\"fill:#0000ff;stroke:#0000ff;\" x=\"314.217246\" xlink:href=\"#m2fbe127d91\" y=\"250.552806\"/>\r\n     <use style=\"fill:#0000ff;stroke:#0000ff;\" x=\"347.786765\" xlink:href=\"#m2fbe127d91\" y=\"262.493874\"/>\r\n     <use style=\"fill:#0000ff;stroke:#0000ff;\" x=\"493.254679\" xlink:href=\"#m2fbe127d91\" y=\"277.358446\"/>\r\n     <use style=\"fill:#0000ff;stroke:#0000ff;\" x=\"174.344251\" xlink:href=\"#m2fbe127d91\" y=\"164.082997\"/>\r\n     <use style=\"fill:#0000ff;stroke:#0000ff;\" x=\"135.179813\" xlink:href=\"#m2fbe127d91\" y=\"236.141171\"/>\r\n     <use style=\"fill:#0000ff;stroke:#0000ff;\" x=\"303.027406\" xlink:href=\"#m2fbe127d91\" y=\"262.905635\"/>\r\n     <use style=\"fill:#0000ff;stroke:#0000ff;\" x=\"325.407086\" xlink:href=\"#m2fbe127d91\" y=\"287.611295\"/>\r\n     <use style=\"fill:#0000ff;stroke:#0000ff;\" x=\"308.622326\" xlink:href=\"#m2fbe127d91\" y=\"271.182031\"/>\r\n     <use style=\"fill:#0000ff;stroke:#0000ff;\" x=\"146.369652\" xlink:href=\"#m2fbe127d91\" y=\"259.817428\"/>\r\n     <use style=\"fill:#0000ff;stroke:#0000ff;\" x=\"101.610294\" xlink:href=\"#m2fbe127d91\" y=\"203.200291\"/>\r\n     <use style=\"fill:#0000ff;stroke:#0000ff;\" x=\"577.178476\" xlink:href=\"#m2fbe127d91\" y=\"255.082176\"/>\r\n     <use style=\"fill:#0000ff;stroke:#0000ff;\" x=\"112.800134\" xlink:href=\"#m2fbe127d91\" y=\"225.847146\"/>\r\n     <use style=\"fill:#0000ff;stroke:#0000ff;\" x=\"588.368316\" xlink:href=\"#m2fbe127d91\" y=\"289.711276\"/>\r\n     <use style=\"fill:#0000ff;stroke:#0000ff;\" x=\"96.015374\" xlink:href=\"#m2fbe127d91\" y=\"268.286528\"/>\r\n     <use style=\"fill:#0000ff;stroke:#0000ff;\" x=\"96.015374\" xlink:href=\"#m2fbe127d91\" y=\"273.548833\"/>\r\n     <use style=\"fill:#0000ff;stroke:#0000ff;\" x=\"146.369652\" xlink:href=\"#m2fbe127d91\" y=\"243.96463\"/>\r\n     <use style=\"fill:#0000ff;stroke:#0000ff;\" x=\"140.774733\" xlink:href=\"#m2fbe127d91\" y=\"253.435132\"/>\r\n     <use style=\"fill:#0000ff;stroke:#0000ff;\" x=\"252.673128\" xlink:href=\"#m2fbe127d91\" y=\"280.611358\"/>\r\n     <use style=\"fill:#0000ff;stroke:#0000ff;\" x=\"123.989973\" xlink:href=\"#m2fbe127d91\" y=\"273.611421\"/>\r\n     <use style=\"fill:#0000ff;stroke:#0000ff;\" x=\"129.584893\" xlink:href=\"#m2fbe127d91\" y=\"237.376454\"/>\r\n     <use style=\"fill:#0000ff;stroke:#0000ff;\" x=\"588.368316\" xlink:href=\"#m2fbe127d91\" y=\"289.6701\"/>\r\n     <use style=\"fill:#0000ff;stroke:#0000ff;\" x=\"386.951203\" xlink:href=\"#m2fbe127d91\" y=\"264.75856\"/>\r\n     <use style=\"fill:#0000ff;stroke:#0000ff;\" x=\"135.179813\" xlink:href=\"#m2fbe127d91\" y=\"219.958964\"/>\r\n     <use style=\"fill:#0000ff;stroke:#0000ff;\" x=\"123.989973\" xlink:href=\"#m2fbe127d91\" y=\"140.818501\"/>\r\n     <use style=\"fill:#0000ff;stroke:#0000ff;\" x=\"107.205214\" xlink:href=\"#m2fbe127d91\" y=\"229.964756\"/>\r\n     <use style=\"fill:#0000ff;stroke:#0000ff;\" x=\"90.420455\" xlink:href=\"#m2fbe127d91\" y=\"234.494127\"/>\r\n     <use style=\"fill:#0000ff;stroke:#0000ff;\" x=\"526.824198\" xlink:href=\"#m2fbe127d91\" y=\"295.434754\"/>\r\n     <use style=\"fill:#0000ff;stroke:#0000ff;\" x=\"470.875\" xlink:href=\"#m2fbe127d91\" y=\"284.728968\"/>\r\n     <use style=\"fill:#0000ff;stroke:#0000ff;\" x=\"275.052807\" xlink:href=\"#m2fbe127d91\" y=\"298.728842\"/>\r\n     <use style=\"fill:#0000ff;stroke:#0000ff;\" x=\"627.532754\" xlink:href=\"#m2fbe127d91\" y=\"308.816986\"/>\r\n     <use style=\"fill:#0000ff;stroke:#0000ff;\" x=\"303.027406\" xlink:href=\"#m2fbe127d91\" y=\"235.111768\"/>\r\n     <use style=\"fill:#0000ff;stroke:#0000ff;\" x=\"571.583556\" xlink:href=\"#m2fbe127d91\" y=\"268.258528\"/>\r\n     <use style=\"fill:#0000ff;stroke:#0000ff;\" x=\"588.368316\" xlink:href=\"#m2fbe127d91\" y=\"286.787773\"/>\r\n     <use style=\"fill:#0000ff;stroke:#0000ff;\" x=\"482.06484\" xlink:href=\"#m2fbe127d91\" y=\"289.6701\"/>\r\n     <use style=\"fill:#0000ff;stroke:#0000ff;\" x=\"582.773396\" xlink:href=\"#m2fbe127d91\" y=\"281.229\"/>\r\n     <use style=\"fill:#0000ff;stroke:#0000ff;\" x=\"247.078209\" xlink:href=\"#m2fbe127d91\" y=\"229.964756\"/>\r\n     <use style=\"fill:#0000ff;stroke:#0000ff;\" x=\"599.558155\" xlink:href=\"#m2fbe127d91\" y=\"276.905509\"/>\r\n     <use style=\"fill:#0000ff;stroke:#0000ff;\" x=\"107.205214\" xlink:href=\"#m2fbe127d91\" y=\"177.465229\"/>\r\n     <use style=\"fill:#0000ff;stroke:#0000ff;\" x=\"459.68516\" xlink:href=\"#m2fbe127d91\" y=\"278.964314\"/>\r\n     <use style=\"fill:#0000ff;stroke:#0000ff;\" x=\"123.989973\" xlink:href=\"#m2fbe127d91\" y=\"236.141171\"/>\r\n     <use style=\"fill:#0000ff;stroke:#0000ff;\" x=\"325.407086\" xlink:href=\"#m2fbe127d91\" y=\"281.846641\"/>\r\n     <use style=\"fill:#0000ff;stroke:#0000ff;\" x=\"308.622326\" xlink:href=\"#m2fbe127d91\" y=\"282.258402\"/>\r\n     <use style=\"fill:#0000ff;stroke:#0000ff;\" x=\"666.697193\" xlink:href=\"#m2fbe127d91\" y=\"265.787962\"/>\r\n     <use style=\"fill:#0000ff;stroke:#0000ff;\" x=\"90.420455\" xlink:href=\"#m2fbe127d91\" y=\"231.373802\"/>\r\n     <use style=\"fill:#0000ff;stroke:#0000ff;\" x=\"101.610294\" xlink:href=\"#m2fbe127d91\" y=\"217.11246\"/>\r\n     <use style=\"fill:#0000ff;stroke:#0000ff;\" x=\"437.305481\" xlink:href=\"#m2fbe127d91\" y=\"267.023245\"/>\r\n     <use style=\"fill:#0000ff;stroke:#0000ff;\" x=\"577.178476\" xlink:href=\"#m2fbe127d91\" y=\"276.287868\"/>\r\n     <use style=\"fill:#0000ff;stroke:#0000ff;\" x=\"420.520722\" xlink:href=\"#m2fbe127d91\" y=\"276.081987\"/>\r\n     <use style=\"fill:#0000ff;stroke:#0000ff;\" x=\"560.393717\" xlink:href=\"#m2fbe127d91\" y=\"276.308456\"/>\r\n     <use style=\"fill:#0000ff;stroke:#0000ff;\" x=\"532.419118\" xlink:href=\"#m2fbe127d91\" y=\"283.493685\"/>\r\n     <use style=\"fill:#0000ff;stroke:#0000ff;\" x=\"112.800134\" xlink:href=\"#m2fbe127d91\" y=\"253.435132\"/>\r\n     <use style=\"fill:#0000ff;stroke:#0000ff;\" x=\"90.420455\" xlink:href=\"#m2fbe127d91\" y=\"253.073195\"/>\r\n     <use style=\"fill:#0000ff;stroke:#0000ff;\" x=\"90.420455\" xlink:href=\"#m2fbe127d91\" y=\"216.408761\"/>\r\n     <use style=\"fill:#0000ff;stroke:#0000ff;\" x=\"599.558155\" xlink:href=\"#m2fbe127d91\" y=\"289.6701\"/>\r\n     <use style=\"fill:#0000ff;stroke:#0000ff;\" x=\"112.800134\" xlink:href=\"#m2fbe127d91\" y=\"219.670731\"/>\r\n     <use style=\"fill:#0000ff;stroke:#0000ff;\" x=\"297.432487\" xlink:href=\"#m2fbe127d91\" y=\"278.140792\"/>\r\n     <use style=\"fill:#0000ff;stroke:#0000ff;\" x=\"224.698529\" xlink:href=\"#m2fbe127d91\" y=\"286.787773\"/>\r\n     <use style=\"fill:#0000ff;stroke:#0000ff;\" x=\"649.912433\" xlink:href=\"#m2fbe127d91\" y=\"281.229\"/>\r\n     <use style=\"fill:#0000ff;stroke:#0000ff;\" x=\"213.50869\" xlink:href=\"#m2fbe127d91\" y=\"244.376391\"/>\r\n     <use style=\"fill:#0000ff;stroke:#0000ff;\" x=\"135.179813\" xlink:href=\"#m2fbe127d91\" y=\"238.199976\"/>\r\n     <use style=\"fill:#0000ff;stroke:#0000ff;\" x=\"420.520722\" xlink:href=\"#m2fbe127d91\" y=\"275.258465\"/>\r\n     <use style=\"fill:#0000ff;stroke:#0000ff;\" x=\"426.115642\" xlink:href=\"#m2fbe127d91\" y=\"295.846515\"/>\r\n     <use style=\"fill:#0000ff;stroke:#0000ff;\" x=\"112.800134\" xlink:href=\"#m2fbe127d91\" y=\"227.082429\"/>\r\n     <use style=\"fill:#0000ff;stroke:#0000ff;\" x=\"565.988636\" xlink:href=\"#m2fbe127d91\" y=\"247.670479\"/>\r\n     <use style=\"fill:#0000ff;stroke:#0000ff;\" x=\"101.610294\" xlink:href=\"#m2fbe127d91\" y=\"260.476245\"/>\r\n     <use style=\"fill:#0000ff;stroke:#0000ff;\" x=\"789.785428\" xlink:href=\"#m2fbe127d91\" y=\"282.464282\"/>\r\n     <use style=\"fill:#0000ff;stroke:#0000ff;\" x=\"151.964572\" xlink:href=\"#m2fbe127d91\" y=\"192.906267\"/>\r\n     <use style=\"fill:#0000ff;stroke:#0000ff;\" x=\"342.191845\" xlink:href=\"#m2fbe127d91\" y=\"281.846641\"/>\r\n     <use style=\"fill:#0000ff;stroke:#0000ff;\" x=\"297.432487\" xlink:href=\"#m2fbe127d91\" y=\"241.082303\"/>\r\n     <use style=\"fill:#0000ff;stroke:#0000ff;\" x=\"303.027406\" xlink:href=\"#m2fbe127d91\" y=\"258.829201\"/>\r\n     <use style=\"fill:#0000ff;stroke:#0000ff;\" x=\"275.052807\" xlink:href=\"#m2fbe127d91\" y=\"280.405478\"/>\r\n     <use style=\"fill:#0000ff;stroke:#0000ff;\" x=\"118.395053\" xlink:href=\"#m2fbe127d91\" y=\"276.699629\"/>\r\n     <use style=\"fill:#0000ff;stroke:#0000ff;\" x=\"314.217246\" xlink:href=\"#m2fbe127d91\" y=\"219.683084\"/>\r\n     <use style=\"fill:#0000ff;stroke:#0000ff;\" x=\"364.571524\" xlink:href=\"#m2fbe127d91\" y=\"273.611421\"/>\r\n     <use style=\"fill:#0000ff;stroke:#0000ff;\" x=\"364.571524\" xlink:href=\"#m2fbe127d91\" y=\"274.434943\"/>\r\n     <use style=\"fill:#0000ff;stroke:#0000ff;\" x=\"168.749332\" xlink:href=\"#m2fbe127d91\" y=\"221.317775\"/>\r\n     <use style=\"fill:#0000ff;stroke:#0000ff;\" x=\"442.900401\" xlink:href=\"#m2fbe127d91\" y=\"275.258465\"/>\r\n     <use style=\"fill:#0000ff;stroke:#0000ff;\" x=\"482.06484\" xlink:href=\"#m2fbe127d91\" y=\"283.905446\"/>\r\n     <use style=\"fill:#0000ff;stroke:#0000ff;\" x=\"235.888369\" xlink:href=\"#m2fbe127d91\" y=\"257.593919\"/>\r\n     <use style=\"fill:#0000ff;stroke:#0000ff;\" x=\"96.015374\" xlink:href=\"#m2fbe127d91\" y=\"253.789247\"/>\r\n     <use style=\"fill:#0000ff;stroke:#0000ff;\" x=\"275.052807\" xlink:href=\"#m2fbe127d91\" y=\"273.714361\"/>\r\n     <use style=\"fill:#0000ff;stroke:#0000ff;\" x=\"538.014037\" xlink:href=\"#m2fbe127d91\" y=\"306.34642\"/>\r\n     <use style=\"fill:#0000ff;stroke:#0000ff;\" x=\"135.179813\" xlink:href=\"#m2fbe127d91\" y=\"256.111579\"/>\r\n     <use style=\"fill:#0000ff;stroke:#0000ff;\" x=\"252.673128\" xlink:href=\"#m2fbe127d91\" y=\"267.023245\"/>\r\n     <use style=\"fill:#0000ff;stroke:#0000ff;\" x=\"347.786765\" xlink:href=\"#m2fbe127d91\" y=\"261.258591\"/>\r\n     <use style=\"fill:#0000ff;stroke:#0000ff;\" x=\"291.837567\" xlink:href=\"#m2fbe127d91\" y=\"283.287804\"/>\r\n     <use style=\"fill:#0000ff;stroke:#0000ff;\" x=\"90.420455\" xlink:href=\"#m2fbe127d91\" y=\"170.417116\"/>\r\n     <use style=\"fill:#0000ff;stroke:#0000ff;\" x=\"386.951203\" xlink:href=\"#m2fbe127d91\" y=\"271.264383\"/>\r\n     <use style=\"fill:#0000ff;stroke:#0000ff;\" x=\"247.078209\" xlink:href=\"#m2fbe127d91\" y=\"251.788089\"/>\r\n     <use style=\"fill:#0000ff;stroke:#0000ff;\" x=\"571.583556\" xlink:href=\"#m2fbe127d91\" y=\"254.258654\"/>\r\n     <use style=\"fill:#0000ff;stroke:#0000ff;\" x=\"112.800134\" xlink:href=\"#m2fbe127d91\" y=\"271.429088\"/>\r\n     <use style=\"fill:#0000ff;stroke:#0000ff;\" x=\"96.015374\" xlink:href=\"#m2fbe127d91\" y=\"205.259096\"/>\r\n     <use style=\"fill:#0000ff;stroke:#0000ff;\" x=\"610.747995\" xlink:href=\"#m2fbe127d91\" y=\"283.081924\"/>\r\n     <use style=\"fill:#0000ff;stroke:#0000ff;\" x=\"107.205214\" xlink:href=\"#m2fbe127d91\" y=\"258.95273\"/>\r\n     <use style=\"fill:#0000ff;stroke:#0000ff;\" x=\"319.812166\" xlink:href=\"#m2fbe127d91\" y=\"279.787836\"/>\r\n     <use style=\"fill:#0000ff;stroke:#0000ff;\" x=\"358.976604\" xlink:href=\"#m2fbe127d91\" y=\"267.887943\"/>\r\n     <use style=\"fill:#0000ff;stroke:#0000ff;\" x=\"157.559492\" xlink:href=\"#m2fbe127d91\" y=\"234.082366\"/>\r\n     <use style=\"fill:#0000ff;stroke:#0000ff;\" x=\"633.127674\" xlink:href=\"#m2fbe127d91\" y=\"286.787773\"/>\r\n     <use style=\"fill:#0000ff;stroke:#0000ff;\" x=\"291.837567\" xlink:href=\"#m2fbe127d91\" y=\"295.022993\"/>\r\n     <use style=\"fill:#0000ff;stroke:#0000ff;\" x=\"286.242647\" xlink:href=\"#m2fbe127d91\" y=\"276.905509\"/>\r\n     <use style=\"fill:#0000ff;stroke:#0000ff;\" x=\"96.015374\" xlink:href=\"#m2fbe127d91\" y=\"214.692541\"/>\r\n     <use style=\"fill:#0000ff;stroke:#0000ff;\" x=\"96.015374\" xlink:href=\"#m2fbe127d91\" y=\"273.19966\"/>\r\n     <use style=\"fill:#0000ff;stroke:#0000ff;\" x=\"90.420455\" xlink:href=\"#m2fbe127d91\" y=\"298.1112\"/>\r\n     <use style=\"fill:#0000ff;stroke:#0000ff;\" x=\"118.395053\" xlink:href=\"#m2fbe127d91\" y=\"256.72922\"/>\r\n     <use style=\"fill:#0000ff;stroke:#0000ff;\" x=\"135.179813\" xlink:href=\"#m2fbe127d91\" y=\"260.84683\"/>\r\n     <use style=\"fill:#0000ff;stroke:#0000ff;\" x=\"269.457888\" xlink:href=\"#m2fbe127d91\" y=\"246.435196\"/>\r\n     <use style=\"fill:#0000ff;stroke:#0000ff;\" x=\"476.46992\" xlink:href=\"#m2fbe127d91\" y=\"223.1707\"/>\r\n     <use style=\"fill:#0000ff;stroke:#0000ff;\" x=\"426.115642\" xlink:href=\"#m2fbe127d91\" y=\"274.383473\"/>\r\n     <use style=\"fill:#0000ff;stroke:#0000ff;\" x=\"331.002005\" xlink:href=\"#m2fbe127d91\" y=\"272.170258\"/>\r\n    </g>\r\n   </g>\r\n   <g id=\"patch_3\">\r\n    <path d=\"M 52.375 333.36 \r\nL 52.375 7.2 \r\n\" style=\"fill:none;stroke:#000000;stroke-linecap:square;stroke-linejoin:miter;stroke-width:0.8;\"/>\r\n   </g>\r\n   <g id=\"patch_4\">\r\n    <path d=\"M 889.375 333.36 \r\nL 889.375 7.2 \r\n\" style=\"fill:none;stroke:#000000;stroke-linecap:square;stroke-linejoin:miter;stroke-width:0.8;\"/>\r\n   </g>\r\n   <g id=\"patch_5\">\r\n    <path d=\"M 52.375 333.36 \r\nL 889.375 333.36 \r\n\" style=\"fill:none;stroke:#000000;stroke-linecap:square;stroke-linejoin:miter;stroke-width:0.8;\"/>\r\n   </g>\r\n   <g id=\"patch_6\">\r\n    <path d=\"M 52.375 7.2 \r\nL 889.375 7.2 \r\n\" style=\"fill:none;stroke:#000000;stroke-linecap:square;stroke-linejoin:miter;stroke-width:0.8;\"/>\r\n   </g>\r\n  </g>\r\n </g>\r\n <defs>\r\n  <clipPath id=\"p4dd6e1537b\">\r\n   <rect height=\"326.16\" width=\"837\" x=\"52.375\" y=\"7.2\"/>\r\n  </clipPath>\r\n </defs>\r\n</svg>\r\n",
      "image/png": "[encoded data removed]"
     },
     "metadata": {
      "needs_background": "light"
     }
    }
   ],
   "metadata": {}
  },
  {
   "cell_type": "code",
   "execution_count": 31,
   "source": [
    "import seaborn as sns\r\n",
    "\r\n",
    "df_corr = df[['HouseAge','SalePrice']].corr()\r\n",
    "sns.heatmap(df_corr, annot = True)"
   ],
   "outputs": [
    {
     "output_type": "execute_result",
     "data": {
      "text/plain": [
       "<AxesSubplot:>"
      ]
     },
     "metadata": {},
     "execution_count": 31
    },
    {
     "output_type": "display_data",
     "data": {
      "text/plain": [
       "<Figure size 432x288 with 2 Axes>"
      ],
      "image/svg+xml": "<?xml version=\"1.0\" encoding=\"utf-8\" standalone=\"no\"?>\r\n<!DOCTYPE svg PUBLIC \"-//W3C//DTD SVG 1.1//EN\"\r\n  \"http://www.w3.org/Graphics/SVG/1.1/DTD/svg11.dtd\">\r\n<!-- Created with matplotlib (https://matplotlib.org/) -->\r\n<svg height=\"252.317344pt\" version=\"1.1\" viewBox=\"0 0 357.812937 252.317344\" width=\"357.812937pt\" xmlns=\"http://www.w3.org/2000/svg\" xmlns:xlink=\"http://www.w3.org/1999/xlink\">\r\n <metadata>\r\n  <rdf:RDF xmlns:cc=\"http://creativecommons.org/ns#\" xmlns:dc=\"http://purl.org/dc/elements/1.1/\" xmlns:rdf=\"http://www.w3.org/1999/02/22-rdf-syntax-ns#\">\r\n   <cc:Work>\r\n    <dc:type rdf:resource=\"http://purl.org/dc/dcmitype/StillImage\"/>\r\n    <dc:date>2021-08-30T23:08:11.308356</dc:date>\r\n    <dc:format>image/svg+xml</dc:format>\r\n    <dc:creator>\r\n     <cc:Agent>\r\n      <dc:title>Matplotlib v3.3.4, https://matplotlib.org/</dc:title>\r\n     </cc:Agent>\r\n    </dc:creator>\r\n   </cc:Work>\r\n  </rdf:RDF>\r\n </metadata>\r\n <defs>\r\n  <style type=\"text/css\">*{stroke-linecap:butt;stroke-linejoin:round;}</style>\r\n </defs>\r\n <g id=\"figure_1\">\r\n  <g id=\"patch_1\">\r\n   <path d=\"M 0 252.317344 \r\nL 357.812937 252.317344 \r\nL 357.812937 0 \r\nL 0 0 \r\nz\r\n\" style=\"fill:none;\"/>\r\n  </g>\r\n  <g id=\"axes_1\">\r\n   <g id=\"patch_2\">\r\n    <path d=\"M 23.878125 228.439219 \r\nL 291.718125 228.439219 \r\nL 291.718125 10.999219 \r\nL 23.878125 10.999219 \r\nz\r\n\" style=\"fill:#ffffff;\"/>\r\n   </g>\r\n   <g id=\"QuadMesh_1\">\r\n    <path clip-path=\"url(#pa52995c4ae)\" d=\"M 23.878125 10.999219 \r\nL 157.798125 10.999219 \r\nL 157.798125 119.719219 \r\nL 23.878125 119.719219 \r\nL 23.878125 10.999219 \r\n\" style=\"fill:#faebdd;\"/>\r\n    <path clip-path=\"url(#pa52995c4ae)\" d=\"M 157.798125 10.999219 \r\nL 291.718125 10.999219 \r\nL 291.718125 119.719219 \r\nL 157.798125 119.719219 \r\nL 157.798125 10.999219 \r\n\" style=\"fill:#03051a;\"/>\r\n    <path clip-path=\"url(#pa52995c4ae)\" d=\"M 23.878125 119.719219 \r\nL 157.798125 119.719219 \r\nL 157.798125 228.439219 \r\nL 23.878125 228.439219 \r\nL 23.878125 119.719219 \r\n\" style=\"fill:#03051a;\"/>\r\n    <path clip-path=\"url(#pa52995c4ae)\" d=\"M 157.798125 119.719219 \r\nL 291.718125 119.719219 \r\nL 291.718125 228.439219 \r\nL 157.798125 228.439219 \r\nL 157.798125 119.719219 \r\n\" style=\"fill:#faebdd;\"/>\r\n   </g>\r\n   <g id=\"matplotlib.axis_1\">\r\n    <g id=\"xtick_1\">\r\n     <g id=\"line2d_1\">\r\n      <defs>\r\n       <path d=\"M 0 0 \r\nL 0 3.5 \r\n\" id=\"m4257768904\" style=\"stroke:#000000;stroke-width:0.8;\"/>\r\n      </defs>\r\n      <g>\r\n       <use style=\"stroke:#000000;stroke-width:0.8;\" x=\"90.838125\" xlink:href=\"#m4257768904\" y=\"228.439219\"/>\r\n      </g>\r\n     </g>\r\n     <g id=\"text_1\">\r\n      <!-- HouseAge -->\r\n      <g transform=\"translate(65.4975 243.037656)scale(0.1 -0.1)\">\r\n       <defs>\r\n        <path d=\"M 9.8125 72.90625 \r\nL 19.671875 72.90625 \r\nL 19.671875 43.015625 \r\nL 55.515625 43.015625 \r\nL 55.515625 72.90625 \r\nL 65.375 72.90625 \r\nL 65.375 0 \r\nL 55.515625 0 \r\nL 55.515625 34.71875 \r\nL 19.671875 34.71875 \r\nL 19.671875 0 \r\nL 9.8125 0 \r\nz\r\n\" id=\"DejaVuSans-72\"/>\r\n        <path d=\"M 30.609375 48.390625 \r\nQ 23.390625 48.390625 19.1875 42.75 \r\nQ 14.984375 37.109375 14.984375 27.296875 \r\nQ 14.984375 17.484375 19.15625 11.84375 \r\nQ 23.34375 6.203125 30.609375 6.203125 \r\nQ 37.796875 6.203125 41.984375 11.859375 \r\nQ 46.1875 17.53125 46.1875 27.296875 \r\nQ 46.1875 37.015625 41.984375 42.703125 \r\nQ 37.796875 48.390625 30.609375 48.390625 \r\nz\r\nM 30.609375 56 \r\nQ 42.328125 56 49.015625 48.375 \r\nQ 55.71875 40.765625 55.71875 27.296875 \r\nQ 55.71875 13.875 49.015625 6.21875 \r\nQ 42.328125 -1.421875 30.609375 -1.421875 \r\nQ 18.84375 -1.421875 12.171875 6.21875 \r\nQ 5.515625 13.875 5.515625 27.296875 \r\nQ 5.515625 40.765625 12.171875 48.375 \r\nQ 18.84375 56 30.609375 56 \r\nz\r\n\" id=\"DejaVuSans-111\"/>\r\n        <path d=\"M 8.5 21.578125 \r\nL 8.5 54.6875 \r\nL 17.484375 54.6875 \r\nL 17.484375 21.921875 \r\nQ 17.484375 14.15625 20.5 10.265625 \r\nQ 23.53125 6.390625 29.59375 6.390625 \r\nQ 36.859375 6.390625 41.078125 11.03125 \r\nQ 45.3125 15.671875 45.3125 23.6875 \r\nL 45.3125 54.6875 \r\nL 54.296875 54.6875 \r\nL 54.296875 0 \r\nL 45.3125 0 \r\nL 45.3125 8.40625 \r\nQ 42.046875 3.421875 37.71875 1 \r\nQ 33.40625 -1.421875 27.6875 -1.421875 \r\nQ 18.265625 -1.421875 13.375 4.4375 \r\nQ 8.5 10.296875 8.5 21.578125 \r\nz\r\nM 31.109375 56 \r\nz\r\n\" id=\"DejaVuSans-117\"/>\r\n        <path d=\"M 44.28125 53.078125 \r\nL 44.28125 44.578125 \r\nQ 40.484375 46.53125 36.375 47.5 \r\nQ 32.28125 48.484375 27.875 48.484375 \r\nQ 21.1875 48.484375 17.84375 46.4375 \r\nQ 14.5 44.390625 14.5 40.28125 \r\nQ 14.5 37.15625 16.890625 35.375 \r\nQ 19.28125 33.59375 26.515625 31.984375 \r\nL 29.59375 31.296875 \r\nQ 39.15625 29.25 43.1875 25.515625 \r\nQ 47.21875 21.78125 47.21875 15.09375 \r\nQ 47.21875 7.46875 41.1875 3.015625 \r\nQ 35.15625 -1.421875 24.609375 -1.421875 \r\nQ 20.21875 -1.421875 15.453125 -0.5625 \r\nQ 10.6875 0.296875 5.421875 2 \r\nL 5.421875 11.28125 \r\nQ 10.40625 8.6875 15.234375 7.390625 \r\nQ 20.0625 6.109375 24.8125 6.109375 \r\nQ 31.15625 6.109375 34.5625 8.28125 \r\nQ 37.984375 10.453125 37.984375 14.40625 \r\nQ 37.984375 18.0625 35.515625 20.015625 \r\nQ 33.0625 21.96875 24.703125 23.78125 \r\nL 21.578125 24.515625 \r\nQ 13.234375 26.265625 9.515625 29.90625 \r\nQ 5.8125 33.546875 5.8125 39.890625 \r\nQ 5.8125 47.609375 11.28125 51.796875 \r\nQ 16.75 56 26.8125 56 \r\nQ 31.78125 56 36.171875 55.265625 \r\nQ 40.578125 54.546875 44.28125 53.078125 \r\nz\r\n\" id=\"DejaVuSans-115\"/>\r\n        <path d=\"M 56.203125 29.59375 \r\nL 56.203125 25.203125 \r\nL 14.890625 25.203125 \r\nQ 15.484375 15.921875 20.484375 11.0625 \r\nQ 25.484375 6.203125 34.421875 6.203125 \r\nQ 39.59375 6.203125 44.453125 7.46875 \r\nQ 49.3125 8.734375 54.109375 11.28125 \r\nL 54.109375 2.78125 \r\nQ 49.265625 0.734375 44.1875 -0.34375 \r\nQ 39.109375 -1.421875 33.890625 -1.421875 \r\nQ 20.796875 -1.421875 13.15625 6.1875 \r\nQ 5.515625 13.8125 5.515625 26.8125 \r\nQ 5.515625 40.234375 12.765625 48.109375 \r\nQ 20.015625 56 32.328125 56 \r\nQ 43.359375 56 49.78125 48.890625 \r\nQ 56.203125 41.796875 56.203125 29.59375 \r\nz\r\nM 47.21875 32.234375 \r\nQ 47.125 39.59375 43.09375 43.984375 \r\nQ 39.0625 48.390625 32.421875 48.390625 \r\nQ 24.90625 48.390625 20.390625 44.140625 \r\nQ 15.875 39.890625 15.1875 32.171875 \r\nz\r\n\" id=\"DejaVuSans-101\"/>\r\n        <path d=\"M 34.1875 63.1875 \r\nL 20.796875 26.90625 \r\nL 47.609375 26.90625 \r\nz\r\nM 28.609375 72.90625 \r\nL 39.796875 72.90625 \r\nL 67.578125 0 \r\nL 57.328125 0 \r\nL 50.6875 18.703125 \r\nL 17.828125 18.703125 \r\nL 11.1875 0 \r\nL 0.78125 0 \r\nz\r\n\" id=\"DejaVuSans-65\"/>\r\n        <path d=\"M 45.40625 27.984375 \r\nQ 45.40625 37.75 41.375 43.109375 \r\nQ 37.359375 48.484375 30.078125 48.484375 \r\nQ 22.859375 48.484375 18.828125 43.109375 \r\nQ 14.796875 37.75 14.796875 27.984375 \r\nQ 14.796875 18.265625 18.828125 12.890625 \r\nQ 22.859375 7.515625 30.078125 7.515625 \r\nQ 37.359375 7.515625 41.375 12.890625 \r\nQ 45.40625 18.265625 45.40625 27.984375 \r\nz\r\nM 54.390625 6.78125 \r\nQ 54.390625 -7.171875 48.1875 -13.984375 \r\nQ 42 -20.796875 29.203125 -20.796875 \r\nQ 24.46875 -20.796875 20.265625 -20.09375 \r\nQ 16.0625 -19.390625 12.109375 -17.921875 \r\nL 12.109375 -9.1875 \r\nQ 16.0625 -11.328125 19.921875 -12.34375 \r\nQ 23.78125 -13.375 27.78125 -13.375 \r\nQ 36.625 -13.375 41.015625 -8.765625 \r\nQ 45.40625 -4.15625 45.40625 5.171875 \r\nL 45.40625 9.625 \r\nQ 42.625 4.78125 38.28125 2.390625 \r\nQ 33.9375 0 27.875 0 \r\nQ 17.828125 0 11.671875 7.65625 \r\nQ 5.515625 15.328125 5.515625 27.984375 \r\nQ 5.515625 40.671875 11.671875 48.328125 \r\nQ 17.828125 56 27.875 56 \r\nQ 33.9375 56 38.28125 53.609375 \r\nQ 42.625 51.21875 45.40625 46.390625 \r\nL 45.40625 54.6875 \r\nL 54.390625 54.6875 \r\nz\r\n\" id=\"DejaVuSans-103\"/>\r\n       </defs>\r\n       <use xlink:href=\"#DejaVuSans-72\"/>\r\n       <use x=\"75.195312\" xlink:href=\"#DejaVuSans-111\"/>\r\n       <use x=\"136.376953\" xlink:href=\"#DejaVuSans-117\"/>\r\n       <use x=\"199.755859\" xlink:href=\"#DejaVuSans-115\"/>\r\n       <use x=\"251.855469\" xlink:href=\"#DejaVuSans-101\"/>\r\n       <use x=\"313.378906\" xlink:href=\"#DejaVuSans-65\"/>\r\n       <use x=\"381.787109\" xlink:href=\"#DejaVuSans-103\"/>\r\n       <use x=\"445.263672\" xlink:href=\"#DejaVuSans-101\"/>\r\n      </g>\r\n     </g>\r\n    </g>\r\n    <g id=\"xtick_2\">\r\n     <g id=\"line2d_2\">\r\n      <g>\r\n       <use style=\"stroke:#000000;stroke-width:0.8;\" x=\"224.758125\" xlink:href=\"#m4257768904\" y=\"228.439219\"/>\r\n      </g>\r\n     </g>\r\n     <g id=\"text_2\">\r\n      <!-- SalePrice -->\r\n      <g transform=\"translate(201.856563 243.037656)scale(0.1 -0.1)\">\r\n       <defs>\r\n        <path d=\"M 53.515625 70.515625 \r\nL 53.515625 60.890625 \r\nQ 47.90625 63.578125 42.921875 64.890625 \r\nQ 37.9375 66.21875 33.296875 66.21875 \r\nQ 25.25 66.21875 20.875 63.09375 \r\nQ 16.5 59.96875 16.5 54.203125 \r\nQ 16.5 49.359375 19.40625 46.890625 \r\nQ 22.3125 44.4375 30.421875 42.921875 \r\nL 36.375 41.703125 \r\nQ 47.40625 39.59375 52.65625 34.296875 \r\nQ 57.90625 29 57.90625 20.125 \r\nQ 57.90625 9.515625 50.796875 4.046875 \r\nQ 43.703125 -1.421875 29.984375 -1.421875 \r\nQ 24.8125 -1.421875 18.96875 -0.25 \r\nQ 13.140625 0.921875 6.890625 3.21875 \r\nL 6.890625 13.375 \r\nQ 12.890625 10.015625 18.65625 8.296875 \r\nQ 24.421875 6.59375 29.984375 6.59375 \r\nQ 38.421875 6.59375 43.015625 9.90625 \r\nQ 47.609375 13.234375 47.609375 19.390625 \r\nQ 47.609375 24.75 44.3125 27.78125 \r\nQ 41.015625 30.8125 33.5 32.328125 \r\nL 27.484375 33.5 \r\nQ 16.453125 35.6875 11.515625 40.375 \r\nQ 6.59375 45.0625 6.59375 53.421875 \r\nQ 6.59375 63.09375 13.40625 68.65625 \r\nQ 20.21875 74.21875 32.171875 74.21875 \r\nQ 37.3125 74.21875 42.625 73.28125 \r\nQ 47.953125 72.359375 53.515625 70.515625 \r\nz\r\n\" id=\"DejaVuSans-83\"/>\r\n        <path d=\"M 34.28125 27.484375 \r\nQ 23.390625 27.484375 19.1875 25 \r\nQ 14.984375 22.515625 14.984375 16.5 \r\nQ 14.984375 11.71875 18.140625 8.90625 \r\nQ 21.296875 6.109375 26.703125 6.109375 \r\nQ 34.1875 6.109375 38.703125 11.40625 \r\nQ 43.21875 16.703125 43.21875 25.484375 \r\nL 43.21875 27.484375 \r\nz\r\nM 52.203125 31.203125 \r\nL 52.203125 0 \r\nL 43.21875 0 \r\nL 43.21875 8.296875 \r\nQ 40.140625 3.328125 35.546875 0.953125 \r\nQ 30.953125 -1.421875 24.3125 -1.421875 \r\nQ 15.921875 -1.421875 10.953125 3.296875 \r\nQ 6 8.015625 6 15.921875 \r\nQ 6 25.140625 12.171875 29.828125 \r\nQ 18.359375 34.515625 30.609375 34.515625 \r\nL 43.21875 34.515625 \r\nL 43.21875 35.40625 \r\nQ 43.21875 41.609375 39.140625 45 \r\nQ 35.0625 48.390625 27.6875 48.390625 \r\nQ 23 48.390625 18.546875 47.265625 \r\nQ 14.109375 46.140625 10.015625 43.890625 \r\nL 10.015625 52.203125 \r\nQ 14.9375 54.109375 19.578125 55.046875 \r\nQ 24.21875 56 28.609375 56 \r\nQ 40.484375 56 46.34375 49.84375 \r\nQ 52.203125 43.703125 52.203125 31.203125 \r\nz\r\n\" id=\"DejaVuSans-97\"/>\r\n        <path d=\"M 9.421875 75.984375 \r\nL 18.40625 75.984375 \r\nL 18.40625 0 \r\nL 9.421875 0 \r\nz\r\n\" id=\"DejaVuSans-108\"/>\r\n        <path d=\"M 19.671875 64.796875 \r\nL 19.671875 37.40625 \r\nL 32.078125 37.40625 \r\nQ 38.96875 37.40625 42.71875 40.96875 \r\nQ 46.484375 44.53125 46.484375 51.125 \r\nQ 46.484375 57.671875 42.71875 61.234375 \r\nQ 38.96875 64.796875 32.078125 64.796875 \r\nz\r\nM 9.8125 72.90625 \r\nL 32.078125 72.90625 \r\nQ 44.34375 72.90625 50.609375 67.359375 \r\nQ 56.890625 61.8125 56.890625 51.125 \r\nQ 56.890625 40.328125 50.609375 34.8125 \r\nQ 44.34375 29.296875 32.078125 29.296875 \r\nL 19.671875 29.296875 \r\nL 19.671875 0 \r\nL 9.8125 0 \r\nz\r\n\" id=\"DejaVuSans-80\"/>\r\n        <path d=\"M 41.109375 46.296875 \r\nQ 39.59375 47.171875 37.8125 47.578125 \r\nQ 36.03125 48 33.890625 48 \r\nQ 26.265625 48 22.1875 43.046875 \r\nQ 18.109375 38.09375 18.109375 28.8125 \r\nL 18.109375 0 \r\nL 9.078125 0 \r\nL 9.078125 54.6875 \r\nL 18.109375 54.6875 \r\nL 18.109375 46.1875 \r\nQ 20.953125 51.171875 25.484375 53.578125 \r\nQ 30.03125 56 36.53125 56 \r\nQ 37.453125 56 38.578125 55.875 \r\nQ 39.703125 55.765625 41.0625 55.515625 \r\nz\r\n\" id=\"DejaVuSans-114\"/>\r\n        <path d=\"M 9.421875 54.6875 \r\nL 18.40625 54.6875 \r\nL 18.40625 0 \r\nL 9.421875 0 \r\nz\r\nM 9.421875 75.984375 \r\nL 18.40625 75.984375 \r\nL 18.40625 64.59375 \r\nL 9.421875 64.59375 \r\nz\r\n\" id=\"DejaVuSans-105\"/>\r\n        <path d=\"M 48.78125 52.59375 \r\nL 48.78125 44.1875 \r\nQ 44.96875 46.296875 41.140625 47.34375 \r\nQ 37.3125 48.390625 33.40625 48.390625 \r\nQ 24.65625 48.390625 19.8125 42.84375 \r\nQ 14.984375 37.3125 14.984375 27.296875 \r\nQ 14.984375 17.28125 19.8125 11.734375 \r\nQ 24.65625 6.203125 33.40625 6.203125 \r\nQ 37.3125 6.203125 41.140625 7.25 \r\nQ 44.96875 8.296875 48.78125 10.40625 \r\nL 48.78125 2.09375 \r\nQ 45.015625 0.34375 40.984375 -0.53125 \r\nQ 36.96875 -1.421875 32.421875 -1.421875 \r\nQ 20.0625 -1.421875 12.78125 6.34375 \r\nQ 5.515625 14.109375 5.515625 27.296875 \r\nQ 5.515625 40.671875 12.859375 48.328125 \r\nQ 20.21875 56 33.015625 56 \r\nQ 37.15625 56 41.109375 55.140625 \r\nQ 45.0625 54.296875 48.78125 52.59375 \r\nz\r\n\" id=\"DejaVuSans-99\"/>\r\n       </defs>\r\n       <use xlink:href=\"#DejaVuSans-83\"/>\r\n       <use x=\"63.476562\" xlink:href=\"#DejaVuSans-97\"/>\r\n       <use x=\"124.755859\" xlink:href=\"#DejaVuSans-108\"/>\r\n       <use x=\"152.539062\" xlink:href=\"#DejaVuSans-101\"/>\r\n       <use x=\"214.0625\" xlink:href=\"#DejaVuSans-80\"/>\r\n       <use x=\"272.615234\" xlink:href=\"#DejaVuSans-114\"/>\r\n       <use x=\"313.728516\" xlink:href=\"#DejaVuSans-105\"/>\r\n       <use x=\"341.511719\" xlink:href=\"#DejaVuSans-99\"/>\r\n       <use x=\"396.492188\" xlink:href=\"#DejaVuSans-101\"/>\r\n      </g>\r\n     </g>\r\n    </g>\r\n   </g>\r\n   <g id=\"matplotlib.axis_2\">\r\n    <g id=\"ytick_1\">\r\n     <g id=\"line2d_3\">\r\n      <defs>\r\n       <path d=\"M 0 0 \r\nL -3.5 0 \r\n\" id=\"m1610022ffd\" style=\"stroke:#000000;stroke-width:0.8;\"/>\r\n      </defs>\r\n      <g>\r\n       <use style=\"stroke:#000000;stroke-width:0.8;\" x=\"23.878125\" xlink:href=\"#m1610022ffd\" y=\"65.359219\"/>\r\n      </g>\r\n     </g>\r\n     <g id=\"text_3\">\r\n      <!-- HouseAge -->\r\n      <g transform=\"translate(14.798438 90.699844)rotate(-90)scale(0.1 -0.1)\">\r\n       <use xlink:href=\"#DejaVuSans-72\"/>\r\n       <use x=\"75.195312\" xlink:href=\"#DejaVuSans-111\"/>\r\n       <use x=\"136.376953\" xlink:href=\"#DejaVuSans-117\"/>\r\n       <use x=\"199.755859\" xlink:href=\"#DejaVuSans-115\"/>\r\n       <use x=\"251.855469\" xlink:href=\"#DejaVuSans-101\"/>\r\n       <use x=\"313.378906\" xlink:href=\"#DejaVuSans-65\"/>\r\n       <use x=\"381.787109\" xlink:href=\"#DejaVuSans-103\"/>\r\n       <use x=\"445.263672\" xlink:href=\"#DejaVuSans-101\"/>\r\n      </g>\r\n     </g>\r\n    </g>\r\n    <g id=\"ytick_2\">\r\n     <g id=\"line2d_4\">\r\n      <g>\r\n       <use style=\"stroke:#000000;stroke-width:0.8;\" x=\"23.878125\" xlink:href=\"#m1610022ffd\" y=\"174.079219\"/>\r\n      </g>\r\n     </g>\r\n     <g id=\"text_4\">\r\n      <!-- SalePrice -->\r\n      <g transform=\"translate(14.798438 196.980781)rotate(-90)scale(0.1 -0.1)\">\r\n       <use xlink:href=\"#DejaVuSans-83\"/>\r\n       <use x=\"63.476562\" xlink:href=\"#DejaVuSans-97\"/>\r\n       <use x=\"124.755859\" xlink:href=\"#DejaVuSans-108\"/>\r\n       <use x=\"152.539062\" xlink:href=\"#DejaVuSans-101\"/>\r\n       <use x=\"214.0625\" xlink:href=\"#DejaVuSans-80\"/>\r\n       <use x=\"272.615234\" xlink:href=\"#DejaVuSans-114\"/>\r\n       <use x=\"313.728516\" xlink:href=\"#DejaVuSans-105\"/>\r\n       <use x=\"341.511719\" xlink:href=\"#DejaVuSans-99\"/>\r\n       <use x=\"396.492188\" xlink:href=\"#DejaVuSans-101\"/>\r\n      </g>\r\n     </g>\r\n    </g>\r\n   </g>\r\n   <g id=\"text_5\">\r\n    <!-- 1 -->\r\n    <g style=\"fill:#262626;\" transform=\"translate(87.656875 68.118594)scale(0.1 -0.1)\">\r\n     <defs>\r\n      <path d=\"M 12.40625 8.296875 \r\nL 28.515625 8.296875 \r\nL 28.515625 63.921875 \r\nL 10.984375 60.40625 \r\nL 10.984375 69.390625 \r\nL 28.421875 72.90625 \r\nL 38.28125 72.90625 \r\nL 38.28125 8.296875 \r\nL 54.390625 8.296875 \r\nL 54.390625 0 \r\nL 12.40625 0 \r\nz\r\n\" id=\"DejaVuSans-49\"/>\r\n     </defs>\r\n     <use xlink:href=\"#DejaVuSans-49\"/>\r\n    </g>\r\n   </g>\r\n   <g id=\"text_6\">\r\n    <!-- -0.52 -->\r\n    <g style=\"fill:#ffffff;\" transform=\"translate(211.821406 68.118594)scale(0.1 -0.1)\">\r\n     <defs>\r\n      <path d=\"M 4.890625 31.390625 \r\nL 31.203125 31.390625 \r\nL 31.203125 23.390625 \r\nL 4.890625 23.390625 \r\nz\r\n\" id=\"DejaVuSans-45\"/>\r\n      <path d=\"M 31.78125 66.40625 \r\nQ 24.171875 66.40625 20.328125 58.90625 \r\nQ 16.5 51.421875 16.5 36.375 \r\nQ 16.5 21.390625 20.328125 13.890625 \r\nQ 24.171875 6.390625 31.78125 6.390625 \r\nQ 39.453125 6.390625 43.28125 13.890625 \r\nQ 47.125 21.390625 47.125 36.375 \r\nQ 47.125 51.421875 43.28125 58.90625 \r\nQ 39.453125 66.40625 31.78125 66.40625 \r\nz\r\nM 31.78125 74.21875 \r\nQ 44.046875 74.21875 50.515625 64.515625 \r\nQ 56.984375 54.828125 56.984375 36.375 \r\nQ 56.984375 17.96875 50.515625 8.265625 \r\nQ 44.046875 -1.421875 31.78125 -1.421875 \r\nQ 19.53125 -1.421875 13.0625 8.265625 \r\nQ 6.59375 17.96875 6.59375 36.375 \r\nQ 6.59375 54.828125 13.0625 64.515625 \r\nQ 19.53125 74.21875 31.78125 74.21875 \r\nz\r\n\" id=\"DejaVuSans-48\"/>\r\n      <path d=\"M 10.6875 12.40625 \r\nL 21 12.40625 \r\nL 21 0 \r\nL 10.6875 0 \r\nz\r\n\" id=\"DejaVuSans-46\"/>\r\n      <path d=\"M 10.796875 72.90625 \r\nL 49.515625 72.90625 \r\nL 49.515625 64.59375 \r\nL 19.828125 64.59375 \r\nL 19.828125 46.734375 \r\nQ 21.96875 47.46875 24.109375 47.828125 \r\nQ 26.265625 48.1875 28.421875 48.1875 \r\nQ 40.625 48.1875 47.75 41.5 \r\nQ 54.890625 34.8125 54.890625 23.390625 \r\nQ 54.890625 11.625 47.5625 5.09375 \r\nQ 40.234375 -1.421875 26.90625 -1.421875 \r\nQ 22.3125 -1.421875 17.546875 -0.640625 \r\nQ 12.796875 0.140625 7.71875 1.703125 \r\nL 7.71875 11.625 \r\nQ 12.109375 9.234375 16.796875 8.0625 \r\nQ 21.484375 6.890625 26.703125 6.890625 \r\nQ 35.15625 6.890625 40.078125 11.328125 \r\nQ 45.015625 15.765625 45.015625 23.390625 \r\nQ 45.015625 31 40.078125 35.4375 \r\nQ 35.15625 39.890625 26.703125 39.890625 \r\nQ 22.75 39.890625 18.8125 39.015625 \r\nQ 14.890625 38.140625 10.796875 36.28125 \r\nz\r\n\" id=\"DejaVuSans-53\"/>\r\n      <path d=\"M 19.1875 8.296875 \r\nL 53.609375 8.296875 \r\nL 53.609375 0 \r\nL 7.328125 0 \r\nL 7.328125 8.296875 \r\nQ 12.9375 14.109375 22.625 23.890625 \r\nQ 32.328125 33.6875 34.8125 36.53125 \r\nQ 39.546875 41.84375 41.421875 45.53125 \r\nQ 43.3125 49.21875 43.3125 52.78125 \r\nQ 43.3125 58.59375 39.234375 62.25 \r\nQ 35.15625 65.921875 28.609375 65.921875 \r\nQ 23.96875 65.921875 18.8125 64.3125 \r\nQ 13.671875 62.703125 7.8125 59.421875 \r\nL 7.8125 69.390625 \r\nQ 13.765625 71.78125 18.9375 73 \r\nQ 24.125 74.21875 28.421875 74.21875 \r\nQ 39.75 74.21875 46.484375 68.546875 \r\nQ 53.21875 62.890625 53.21875 53.421875 \r\nQ 53.21875 48.921875 51.53125 44.890625 \r\nQ 49.859375 40.875 45.40625 35.40625 \r\nQ 44.1875 33.984375 37.640625 27.21875 \r\nQ 31.109375 20.453125 19.1875 8.296875 \r\nz\r\n\" id=\"DejaVuSans-50\"/>\r\n     </defs>\r\n     <use xlink:href=\"#DejaVuSans-45\"/>\r\n     <use x=\"36.083984\" xlink:href=\"#DejaVuSans-48\"/>\r\n     <use x=\"99.707031\" xlink:href=\"#DejaVuSans-46\"/>\r\n     <use x=\"131.494141\" xlink:href=\"#DejaVuSans-53\"/>\r\n     <use x=\"195.117188\" xlink:href=\"#DejaVuSans-50\"/>\r\n    </g>\r\n   </g>\r\n   <g id=\"text_7\">\r\n    <!-- -0.52 -->\r\n    <g style=\"fill:#ffffff;\" transform=\"translate(77.901406 176.838594)scale(0.1 -0.1)\">\r\n     <use xlink:href=\"#DejaVuSans-45\"/>\r\n     <use x=\"36.083984\" xlink:href=\"#DejaVuSans-48\"/>\r\n     <use x=\"99.707031\" xlink:href=\"#DejaVuSans-46\"/>\r\n     <use x=\"131.494141\" xlink:href=\"#DejaVuSans-53\"/>\r\n     <use x=\"195.117188\" xlink:href=\"#DejaVuSans-50\"/>\r\n    </g>\r\n   </g>\r\n   <g id=\"text_8\">\r\n    <!-- 1 -->\r\n    <g style=\"fill:#262626;\" transform=\"translate(221.576875 176.838594)scale(0.1 -0.1)\">\r\n     <use xlink:href=\"#DejaVuSans-49\"/>\r\n    </g>\r\n   </g>\r\n  </g>\r\n  <g id=\"axes_2\">\r\n   <g id=\"patch_3\">\r\n    <path clip-path=\"url(#p7c796560e5)\" d=\"M 308.458125 228.439219 \r\nL 308.458125 227.589844 \r\nL 308.458125 11.848594 \r\nL 308.458125 10.999219 \r\nL 319.330125 10.999219 \r\nL 319.330125 11.848594 \r\nL 319.330125 227.589844 \r\nL 319.330125 228.439219 \r\nz\r\n\" style=\"fill:#ffffff;stroke:#ffffff;stroke-linejoin:miter;stroke-width:0.01;\"/>\r\n   </g>\r\n   <image height=\"217\" id=\"image2ef17d971f\" transform=\"scale(1 -1)translate(0 -217)\" width=\"11\" x=\"308\" xlink:href=\"data:image/png;base64,\r\niVBORw0KGgoAAAANSUhEUgAAAAsAAADZCAYAAAD2WsoCAAABX0lEQVR4nNWa2w0DMQjAeN0S3X/OXlfAH5ZovhEyhqS5qDnP543lmszcxtLgAMFdJWUurcAiGCgzsuFhHPHc6dk4MXWoQLEpNzKb7dZsaBgTaDb2y5wNrd0QY7/Mk58EjzZIzIbXbm9brUPp8HvqoA2AIarTmJGNI8wIg+1ukpkVuP48+FsbJJjY8DDmBgZrN2EehHHEhoYx7z61uAfrBgaykWExwwIBRjNmEgxEi+oSnAXTJLhIMMKAmdexMV1fKbNYIDjsGHM1sAGZAQZSJ9oYbTYQs6auwFWGYYQ3G14wuPeQxx6qjmUGN3OWGdwLJgiGx8wwwM8mzEyeLFBmGEze6zQbQZ4NPRtJbES3hIGa4nnO0QoU200yoz0IPnlVG6SDHgaywc461EFLHdzdGoZXIMrcaPhvMLN2o3nWNmzemDrRBinwxvBnP1Jmc/iJZ9Ju9C+LKwWydmtnnVXgD2R4KiPLLY7SAAAAAElFTkSuQmCC\" y=\"-11\"/>\r\n   <g id=\"matplotlib.axis_3\"/>\r\n   <g id=\"matplotlib.axis_4\">\r\n    <g id=\"ytick_3\">\r\n     <g id=\"line2d_5\">\r\n      <defs>\r\n       <path d=\"M 0 0 \r\nL 3.5 0 \r\n\" id=\"mf91ae187c1\" style=\"stroke:#000000;stroke-width:0.8;\"/>\r\n      </defs>\r\n      <g>\r\n       <use style=\"stroke:#000000;stroke-width:0.8;\" x=\"319.330125\" xlink:href=\"#mf91ae187c1\" y=\"210.82208\"/>\r\n      </g>\r\n     </g>\r\n     <g id=\"text_9\">\r\n      <!-- −0.4 -->\r\n      <g transform=\"translate(326.330125 214.621299)scale(0.1 -0.1)\">\r\n       <defs>\r\n        <path d=\"M 10.59375 35.5 \r\nL 73.1875 35.5 \r\nL 73.1875 27.203125 \r\nL 10.59375 27.203125 \r\nz\r\n\" id=\"DejaVuSans-8722\"/>\r\n        <path d=\"M 37.796875 64.3125 \r\nL 12.890625 25.390625 \r\nL 37.796875 25.390625 \r\nz\r\nM 35.203125 72.90625 \r\nL 47.609375 72.90625 \r\nL 47.609375 25.390625 \r\nL 58.015625 25.390625 \r\nL 58.015625 17.1875 \r\nL 47.609375 17.1875 \r\nL 47.609375 0 \r\nL 37.796875 0 \r\nL 37.796875 17.1875 \r\nL 4.890625 17.1875 \r\nL 4.890625 26.703125 \r\nz\r\n\" id=\"DejaVuSans-52\"/>\r\n       </defs>\r\n       <use xlink:href=\"#DejaVuSans-8722\"/>\r\n       <use x=\"83.789062\" xlink:href=\"#DejaVuSans-48\"/>\r\n       <use x=\"147.412109\" xlink:href=\"#DejaVuSans-46\"/>\r\n       <use x=\"179.199219\" xlink:href=\"#DejaVuSans-52\"/>\r\n      </g>\r\n     </g>\r\n    </g>\r\n    <g id=\"ytick_4\">\r\n     <g id=\"line2d_6\">\r\n      <g>\r\n       <use style=\"stroke:#000000;stroke-width:0.8;\" x=\"319.330125\" xlink:href=\"#mf91ae187c1\" y=\"182.275957\"/>\r\n      </g>\r\n     </g>\r\n     <g id=\"text_10\">\r\n      <!-- −0.2 -->\r\n      <g transform=\"translate(326.330125 186.075176)scale(0.1 -0.1)\">\r\n       <use xlink:href=\"#DejaVuSans-8722\"/>\r\n       <use x=\"83.789062\" xlink:href=\"#DejaVuSans-48\"/>\r\n       <use x=\"147.412109\" xlink:href=\"#DejaVuSans-46\"/>\r\n       <use x=\"179.199219\" xlink:href=\"#DejaVuSans-50\"/>\r\n      </g>\r\n     </g>\r\n    </g>\r\n    <g id=\"ytick_5\">\r\n     <g id=\"line2d_7\">\r\n      <g>\r\n       <use style=\"stroke:#000000;stroke-width:0.8;\" x=\"319.330125\" xlink:href=\"#mf91ae187c1\" y=\"153.729834\"/>\r\n      </g>\r\n     </g>\r\n     <g id=\"text_11\">\r\n      <!-- 0.0 -->\r\n      <g transform=\"translate(326.330125 157.529053)scale(0.1 -0.1)\">\r\n       <use xlink:href=\"#DejaVuSans-48\"/>\r\n       <use x=\"63.623047\" xlink:href=\"#DejaVuSans-46\"/>\r\n       <use x=\"95.410156\" xlink:href=\"#DejaVuSans-48\"/>\r\n      </g>\r\n     </g>\r\n    </g>\r\n    <g id=\"ytick_6\">\r\n     <g id=\"line2d_8\">\r\n      <g>\r\n       <use style=\"stroke:#000000;stroke-width:0.8;\" x=\"319.330125\" xlink:href=\"#mf91ae187c1\" y=\"125.183711\"/>\r\n      </g>\r\n     </g>\r\n     <g id=\"text_12\">\r\n      <!-- 0.2 -->\r\n      <g transform=\"translate(326.330125 128.98293)scale(0.1 -0.1)\">\r\n       <use xlink:href=\"#DejaVuSans-48\"/>\r\n       <use x=\"63.623047\" xlink:href=\"#DejaVuSans-46\"/>\r\n       <use x=\"95.410156\" xlink:href=\"#DejaVuSans-50\"/>\r\n      </g>\r\n     </g>\r\n    </g>\r\n    <g id=\"ytick_7\">\r\n     <g id=\"line2d_9\">\r\n      <g>\r\n       <use style=\"stroke:#000000;stroke-width:0.8;\" x=\"319.330125\" xlink:href=\"#mf91ae187c1\" y=\"96.637588\"/>\r\n      </g>\r\n     </g>\r\n     <g id=\"text_13\">\r\n      <!-- 0.4 -->\r\n      <g transform=\"translate(326.330125 100.436807)scale(0.1 -0.1)\">\r\n       <use xlink:href=\"#DejaVuSans-48\"/>\r\n       <use x=\"63.623047\" xlink:href=\"#DejaVuSans-46\"/>\r\n       <use x=\"95.410156\" xlink:href=\"#DejaVuSans-52\"/>\r\n      </g>\r\n     </g>\r\n    </g>\r\n    <g id=\"ytick_8\">\r\n     <g id=\"line2d_10\">\r\n      <g>\r\n       <use style=\"stroke:#000000;stroke-width:0.8;\" x=\"319.330125\" xlink:href=\"#mf91ae187c1\" y=\"68.091465\"/>\r\n      </g>\r\n     </g>\r\n     <g id=\"text_14\">\r\n      <!-- 0.6 -->\r\n      <g transform=\"translate(326.330125 71.890684)scale(0.1 -0.1)\">\r\n       <defs>\r\n        <path d=\"M 33.015625 40.375 \r\nQ 26.375 40.375 22.484375 35.828125 \r\nQ 18.609375 31.296875 18.609375 23.390625 \r\nQ 18.609375 15.53125 22.484375 10.953125 \r\nQ 26.375 6.390625 33.015625 6.390625 \r\nQ 39.65625 6.390625 43.53125 10.953125 \r\nQ 47.40625 15.53125 47.40625 23.390625 \r\nQ 47.40625 31.296875 43.53125 35.828125 \r\nQ 39.65625 40.375 33.015625 40.375 \r\nz\r\nM 52.59375 71.296875 \r\nL 52.59375 62.3125 \r\nQ 48.875 64.0625 45.09375 64.984375 \r\nQ 41.3125 65.921875 37.59375 65.921875 \r\nQ 27.828125 65.921875 22.671875 59.328125 \r\nQ 17.53125 52.734375 16.796875 39.40625 \r\nQ 19.671875 43.65625 24.015625 45.921875 \r\nQ 28.375 48.1875 33.59375 48.1875 \r\nQ 44.578125 48.1875 50.953125 41.515625 \r\nQ 57.328125 34.859375 57.328125 23.390625 \r\nQ 57.328125 12.15625 50.6875 5.359375 \r\nQ 44.046875 -1.421875 33.015625 -1.421875 \r\nQ 20.359375 -1.421875 13.671875 8.265625 \r\nQ 6.984375 17.96875 6.984375 36.375 \r\nQ 6.984375 53.65625 15.1875 63.9375 \r\nQ 23.390625 74.21875 37.203125 74.21875 \r\nQ 40.921875 74.21875 44.703125 73.484375 \r\nQ 48.484375 72.75 52.59375 71.296875 \r\nz\r\n\" id=\"DejaVuSans-54\"/>\r\n       </defs>\r\n       <use xlink:href=\"#DejaVuSans-48\"/>\r\n       <use x=\"63.623047\" xlink:href=\"#DejaVuSans-46\"/>\r\n       <use x=\"95.410156\" xlink:href=\"#DejaVuSans-54\"/>\r\n      </g>\r\n     </g>\r\n    </g>\r\n    <g id=\"ytick_9\">\r\n     <g id=\"line2d_11\">\r\n      <g>\r\n       <use style=\"stroke:#000000;stroke-width:0.8;\" x=\"319.330125\" xlink:href=\"#mf91ae187c1\" y=\"39.545342\"/>\r\n      </g>\r\n     </g>\r\n     <g id=\"text_15\">\r\n      <!-- 0.8 -->\r\n      <g transform=\"translate(326.330125 43.344561)scale(0.1 -0.1)\">\r\n       <defs>\r\n        <path d=\"M 31.78125 34.625 \r\nQ 24.75 34.625 20.71875 30.859375 \r\nQ 16.703125 27.09375 16.703125 20.515625 \r\nQ 16.703125 13.921875 20.71875 10.15625 \r\nQ 24.75 6.390625 31.78125 6.390625 \r\nQ 38.8125 6.390625 42.859375 10.171875 \r\nQ 46.921875 13.96875 46.921875 20.515625 \r\nQ 46.921875 27.09375 42.890625 30.859375 \r\nQ 38.875 34.625 31.78125 34.625 \r\nz\r\nM 21.921875 38.8125 \r\nQ 15.578125 40.375 12.03125 44.71875 \r\nQ 8.5 49.078125 8.5 55.328125 \r\nQ 8.5 64.0625 14.71875 69.140625 \r\nQ 20.953125 74.21875 31.78125 74.21875 \r\nQ 42.671875 74.21875 48.875 69.140625 \r\nQ 55.078125 64.0625 55.078125 55.328125 \r\nQ 55.078125 49.078125 51.53125 44.71875 \r\nQ 48 40.375 41.703125 38.8125 \r\nQ 48.828125 37.15625 52.796875 32.3125 \r\nQ 56.78125 27.484375 56.78125 20.515625 \r\nQ 56.78125 9.90625 50.3125 4.234375 \r\nQ 43.84375 -1.421875 31.78125 -1.421875 \r\nQ 19.734375 -1.421875 13.25 4.234375 \r\nQ 6.78125 9.90625 6.78125 20.515625 \r\nQ 6.78125 27.484375 10.78125 32.3125 \r\nQ 14.796875 37.15625 21.921875 38.8125 \r\nz\r\nM 18.3125 54.390625 \r\nQ 18.3125 48.734375 21.84375 45.5625 \r\nQ 25.390625 42.390625 31.78125 42.390625 \r\nQ 38.140625 42.390625 41.71875 45.5625 \r\nQ 45.3125 48.734375 45.3125 54.390625 \r\nQ 45.3125 60.0625 41.71875 63.234375 \r\nQ 38.140625 66.40625 31.78125 66.40625 \r\nQ 25.390625 66.40625 21.84375 63.234375 \r\nQ 18.3125 60.0625 18.3125 54.390625 \r\nz\r\n\" id=\"DejaVuSans-56\"/>\r\n       </defs>\r\n       <use xlink:href=\"#DejaVuSans-48\"/>\r\n       <use x=\"63.623047\" xlink:href=\"#DejaVuSans-46\"/>\r\n       <use x=\"95.410156\" xlink:href=\"#DejaVuSans-56\"/>\r\n      </g>\r\n     </g>\r\n    </g>\r\n    <g id=\"ytick_10\">\r\n     <g id=\"line2d_12\">\r\n      <g>\r\n       <use style=\"stroke:#000000;stroke-width:0.8;\" x=\"319.330125\" xlink:href=\"#mf91ae187c1\" y=\"10.999219\"/>\r\n      </g>\r\n     </g>\r\n     <g id=\"text_16\">\r\n      <!-- 1.0 -->\r\n      <g transform=\"translate(326.330125 14.798437)scale(0.1 -0.1)\">\r\n       <use xlink:href=\"#DejaVuSans-49\"/>\r\n       <use x=\"63.623047\" xlink:href=\"#DejaVuSans-46\"/>\r\n       <use x=\"95.410156\" xlink:href=\"#DejaVuSans-48\"/>\r\n      </g>\r\n     </g>\r\n    </g>\r\n   </g>\r\n   <g id=\"patch_4\">\r\n    <path d=\"M 308.458125 228.439219 \r\nL 308.458125 227.589844 \r\nL 308.458125 11.848594 \r\nL 308.458125 10.999219 \r\nL 319.330125 10.999219 \r\nL 319.330125 11.848594 \r\nL 319.330125 227.589844 \r\nL 319.330125 228.439219 \r\nz\r\n\" style=\"fill:none;\"/>\r\n   </g>\r\n  </g>\r\n </g>\r\n <defs>\r\n  <clipPath id=\"pa52995c4ae\">\r\n   <rect height=\"217.44\" width=\"267.84\" x=\"23.878125\" y=\"10.999219\"/>\r\n  </clipPath>\r\n  <clipPath id=\"p7c796560e5\">\r\n   <rect height=\"217.44\" width=\"10.872\" x=\"308.458125\" y=\"10.999219\"/>\r\n  </clipPath>\r\n </defs>\r\n</svg>\r\n",
      "image/png": "[encoded data removed]"
     },
     "metadata": {
      "needs_background": "light"
     }
    }
   ],
   "metadata": {}
  },
  {
   "cell_type": "markdown",
   "source": [
    "Se puede evidenciar que la relación entre el precio de la casa y la edad, es inversa, es decir entre más nueva es la casa tiende a tener un costo más elevado; aún así, se evidencia que para unos mismos rangos de edad de la casa, hay una concentración del precio muy simular, incluso hay unos puntos que salen de la distribución, indicando que hay otros factores determinantes para el precio."
   ],
   "metadata": {}
  },
  {
   "cell_type": "markdown",
   "source": [
    "**¿Cuál es el barrio más pobre?**"
   ],
   "metadata": {}
  },
  {
   "cell_type": "code",
   "execution_count": 40,
   "source": [
    "df[df['OverallQual']<4].count()"
   ],
   "outputs": [
    {
     "output_type": "execute_result",
     "data": {
      "text/plain": [
       "Id               25\n",
       "MSSubClass       25\n",
       "MSZoning         25\n",
       "LotFrontage      25\n",
       "LotArea          25\n",
       "                 ..\n",
       "YrSold           25\n",
       "SaleType         25\n",
       "SaleCondition    25\n",
       "SalePrice        25\n",
       "HouseAge         25\n",
       "Length: 82, dtype: int64"
      ]
     },
     "metadata": {},
     "execution_count": 40
    }
   ],
   "metadata": {}
  },
  {
   "cell_type": "markdown",
   "source": [
    "**¿Cuál es el barrio más cercano a vías férreas?**"
   ],
   "metadata": {}
  },
  {
   "cell_type": "code",
   "execution_count": null,
   "source": [],
   "outputs": [],
   "metadata": {}
  },
  {
   "cell_type": "markdown",
   "source": [
    "**¿Cuál es la cobertura más común en las casas que se encuentran el el top 10% en precio?**"
   ],
   "metadata": {}
  },
  {
   "cell_type": "code",
   "execution_count": null,
   "source": [],
   "outputs": [],
   "metadata": {}
  },
  {
   "cell_type": "markdown",
   "source": [
    "**¿En qué barrio hay mayor desigualdad?**"
   ],
   "metadata": {}
  },
  {
   "cell_type": "code",
   "execution_count": null,
   "source": [],
   "outputs": [],
   "metadata": {}
  },
  {
   "cell_type": "code",
   "execution_count": null,
   "source": [],
   "outputs": [],
   "metadata": {}
  },
  {
   "cell_type": "markdown",
   "source": [
    "**¿En qué año hubo más movimiento del mercado inmobiliario?**"
   ],
   "metadata": {}
  },
  {
   "cell_type": "code",
   "execution_count": null,
   "source": [],
   "outputs": [],
   "metadata": {}
  },
  {
   "cell_type": "markdown",
   "source": [
    "**¿Cuáles son los 2 barrios con mayor industria cerca?**"
   ],
   "metadata": {}
  },
  {
   "cell_type": "code",
   "execution_count": null,
   "source": [],
   "outputs": [],
   "metadata": {}
  },
  {
   "cell_type": "markdown",
   "source": [
    "**¿Cuáles son los 2 barrios con mayor comercio cerca?**"
   ],
   "metadata": {}
  },
  {
   "cell_type": "code",
   "execution_count": null,
   "source": [],
   "outputs": [],
   "metadata": {}
  }
 ],
 "metadata": {
  "colab": {
   "collapsed_sections": [],
   "name": "solution.ipynb",
   "provenance": []
  },
  "kernelspec": {
   "name": "python3",
   "display_name": "Python 3.6.13 64-bit ('ESP_ANALISIS_EXP': conda)"
  },
  "language_info": {
   "codemirror_mode": {
    "name": "ipython",
    "version": 3
   },
   "file_extension": ".py",
   "mimetype": "text/x-python",
   "name": "python",
   "nbconvert_exporter": "python",
   "pygments_lexer": "ipython3",
   "version": "3.6.13"
  },
  "interpreter": {
   "hash": "6a88f1fae40955b5412d5ef34ec77e26224f51259d910c819d20fdb15b028c10"
  }
 },
 "nbformat": 4,
 "nbformat_minor": 1
}